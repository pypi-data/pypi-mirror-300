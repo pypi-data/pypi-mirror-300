{
 "cells": [
  {
   "cell_type": "markdown",
   "id": "5e65b357-4db6-4e0d-9da8-10cb6d47366d",
   "metadata": {},
   "source": [
    "# Main Title"
   ]
  },
  {
   "cell_type": "markdown",
   "id": "8429bb76-8959-40ec-9b2d-f629c87cfa67",
   "metadata": {
    "CID": 666101
   },
   "source": [
    "A text cell"
   ]
  },
  {
   "cell_type": "code",
   "execution_count": null,
   "id": "9e57bf0c-5a78-49b0-bae3-8052f7654388",
   "metadata": {},
   "outputs": [],
   "source": []
  },
  {
   "cell_type": "markdown",
   "id": "8c108c2b-9b6f-43ce-9865-019f161a4e90",
   "metadata": {
    "editable": true,
    "slideshow": {
     "slide_type": ""
    },
    "tags": []
   },
   "source": [
    "no id"
   ]
  },
  {
   "cell_type": "code",
   "execution_count": null,
   "id": "d602b2a5-b672-4d0a-8a18-77f496ce4999",
   "metadata": {
    "CID": 666102,
    "editable": true,
    "slideshow": {
     "slide_type": ""
    },
    "tags": []
   },
   "outputs": [],
   "source": [
    "print('hello world')"
   ]
  },
  {
   "cell_type": "code",
   "execution_count": null,
   "id": "9a354328-bd6f-4a8e-97a5-aba886af650f",
   "metadata": {},
   "outputs": [],
   "source": []
  },
  {
   "cell_type": "code",
   "execution_count": null,
   "id": "f6796571-943b-4a85-accc-0d70aea72beb",
   "metadata": {},
   "outputs": [],
   "source": []
  },
  {
   "cell_type": "code",
   "execution_count": null,
   "id": "d3b8308a-24c3-452d-a696-1d20020d469b",
   "metadata": {},
   "outputs": [],
   "source": []
  }
 ],
 "metadata": {
  "kernelspec": {
   "display_name": "Python 3 (ipykernel)",
   "language": "python",
   "name": "python3"
  },
  "language_info": {
   "codemirror_mode": {
    "name": "ipython",
    "version": 3
   },
   "file_extension": ".py",
   "mimetype": "text/x-python",
   "name": "python",
   "nbconvert_exporter": "python",
   "pygments_lexer": "ipython3",
   "version": "3.12.4"
  }
 },
 "nbformat": 4,
 "nbformat_minor": 5
}
