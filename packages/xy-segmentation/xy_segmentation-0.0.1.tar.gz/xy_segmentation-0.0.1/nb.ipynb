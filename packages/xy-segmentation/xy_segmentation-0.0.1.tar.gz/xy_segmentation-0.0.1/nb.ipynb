{
 "cells": [
  {
   "cell_type": "code",
   "execution_count": 3,
   "metadata": {},
   "outputs": [
    {
     "name": "stdout",
     "output_type": "stream",
     "text": [
      "The autoreload extension is already loaded. To reload it, use:\n",
      "  %reload_ext autoreload\n"
     ]
    }
   ],
   "source": [
    "%load_ext autoreload\n",
    "%autoreload 2\n",
    "\n",
    "from segmentor.document.segment import segment_pdf_page, segment_pdf_image"
   ]
  },
  {
   "cell_type": "code",
   "execution_count": 25,
   "metadata": {},
   "outputs": [],
   "source": [
    "import pdfplumber\n",
    "\n",
    "page_idx = 15\n",
    "with pdfplumber.open(\"/Users/johnathanchiu/Downloads/21-11-1156.pdf\") as pdf:\n",
    "    crops = segment_pdf_page(pdf.pages[page_idx])\n",
    "\n",
    "    im = pdf.pages[page_idx].to_image()\n",
    "    for crop in crops:\n",
    "        im.draw_rect(crop.bbox)\n",
    "\n",
    "    im.show()"
   ]
  },
  {
   "cell_type": "code",
   "execution_count": 13,
   "metadata": {},
   "outputs": [],
   "source": [
    "from PIL import Image, ImageDraw\n",
    "\n",
    "# ifile = \"/Users/johnathanchiu/Downloads/PM209/images/Apple_iphone-13-pro-max-07300325A-repair/images/Apple_iphone-13-pro-max-07300325A-repair_00014.jpg\"\n",
    "# ifile = \"/Users/johnathanchiu/Downloads/PM209/images/Apple_iphone-13-pro-max-07300325A-repair/images/Apple_iphone-13-pro-max-07300325A-repair_00016.jpg\"\n",
    "# ifile = \"/Users/johnathanchiu/Downloads/PM209/images/Apple_iphone-13-pro-max-07300325A-repair/images/Apple_iphone-13-pro-max-07300325A-repair_00066.jpg\"\n",
    "# ifile = \"/Users/johnathanchiu/Downloads/PM209/images/Apple_iphone-13-pro-max-07300325A-repair/images/Apple_iphone-13-pro-max-07300325A-repair_00071.jpg\"\n",
    "ifile = \"/Users/johnathanchiu/Downloads/PM209/images/toshiba_air conditioner manuals_fa6db8bc-5435-4363-a3e2-e6b85ab5ad6e/images/toshiba_air conditioner manuals_fa6db8bc-5435-4363-a3e2-e6b85ab5ad6e_00008.jpg\"\n",
    "ifile = \"/Users/johnathanchiu/Downloads/PM209/images/toshiba_air conditioner manuals_fa6db8bc-5435-4363-a3e2-e6b85ab5ad6e/images/toshiba_air conditioner manuals_fa6db8bc-5435-4363-a3e2-e6b85ab5ad6e_00022.jpg\"\n",
    "ifile = \"/Users/johnathanchiu/Downloads/PM209/images/toshiba_air conditioner manuals_fa6db8bc-5435-4363-a3e2-e6b85ab5ad6e/images/toshiba_air conditioner manuals_fa6db8bc-5435-4363-a3e2-e6b85ab5ad6e_00024.jpg\"\n",
    "ifile = \"/Users/johnathanchiu/Downloads/PM209/images/sony_speaker_ca7086d3-effb-4230-8f16-26066834c1e3/images/sony_speaker_ca7086d3-effb-4230-8f16-26066834c1e3_00009.jpg\"\n",
    "img = Image.open(ifile)\n",
    "\n",
    "draw = ImageDraw.Draw(img,  \"RGBA\")\n",
    "for crop in segment_pdf_image(img):\n",
    "    draw.rectangle(crop.bounding_box, outline=(255, 0, 0), width=3, fill=(0, 127, 255, 80))\n",
    "\n",
    "img.show()"
   ]
  },
  {
   "cell_type": "markdown",
   "metadata": {},
   "source": []
  },
  {
   "cell_type": "code",
   "execution_count": null,
   "metadata": {},
   "outputs": [],
   "source": []
  }
 ],
 "metadata": {
  "kernelspec": {
   "display_name": "innovation",
   "language": "python",
   "name": "python3"
  },
  "language_info": {
   "codemirror_mode": {
    "name": "ipython",
    "version": 3
   },
   "file_extension": ".py",
   "mimetype": "text/x-python",
   "name": "python",
   "nbconvert_exporter": "python",
   "pygments_lexer": "ipython3",
   "version": "3.12.4"
  }
 },
 "nbformat": 4,
 "nbformat_minor": 2
}
