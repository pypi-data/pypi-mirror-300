{
 "cells": [
  {
   "cell_type": "markdown",
   "metadata": {},
   "source": [
    "# Reading and manipulating snapshots\n",
    "\n",
    "[![Binder](https://mybinder.org/badge_logo.svg)](https://binder.flatironinstitute.org/v2/user/sgenel/CAMELS_PUBLIC?filepath=/Tutorials/Reading_Manipulating_Snapshots.ipynb)"
   ]
  },
  {
   "cell_type": "markdown",
   "metadata": {},
   "source": [
    "Example of how to read and manipulate CAMELS snapshots"
   ]
  },
  {
   "cell_type": "code",
   "execution_count": 1,
   "metadata": {},
   "outputs": [],
   "source": [
    "import numpy as np\n",
    "import h5py\n",
    "import hdf5plugin"
   ]
  },
  {
   "cell_type": "markdown",
   "metadata": {},
   "source": [
    "Get the name of the snapshot"
   ]
  },
  {
   "cell_type": "code",
   "execution_count": 2,
   "metadata": {},
   "outputs": [],
   "source": [
    "f_snap = '/home/jovyan/Data/Sims/IllustrisTNG/CV/CV_0/snap_033.hdf5'"
   ]
  },
  {
   "cell_type": "markdown",
   "metadata": {},
   "source": [
    "Open the file"
   ]
  },
  {
   "cell_type": "code",
   "execution_count": 3,
   "metadata": {},
   "outputs": [],
   "source": [
    "data = h5py.File(f_snap, 'r')"
   ]
  },
  {
   "cell_type": "markdown",
   "metadata": {},
   "source": [
    "Read the header of the snapshot"
   ]
  },
  {
   "cell_type": "code",
   "execution_count": 4,
   "metadata": {},
   "outputs": [],
   "source": [
    "BoxSize      = data['Header'].attrs[u'BoxSize']/1e3    #size of the snapshot in comoving Mpc/h\n",
    "redshift     = data['Header'].attrs[u'Redshift']       #reshift of the snapshot\n",
    "scale_factor = data['Header'].attrs[u'Time']           #scale factor\n",
    "h            = data['Header'].attrs[u'HubbleParam']    #value of the hubble parameter in 100 km/s/(Mpc/h)\n",
    "Masses       = data['Header'].attrs[u'MassTable']*1e10 #masses of the particles in Msun/h\n",
    "Np           = data['Header'].attrs[u'NumPart_Total']  #total number of particles for specie\n",
    "Omega_m      = data['Header'].attrs[u'Omega0']         #Omega_matter\n",
    "Omega_L      = data['Header'].attrs[u'OmegaLambda']    #Omega_baryon\n",
    "Omega_b      = data['Header'].attrs[u'OmegaBaryon']    #Omega_Lambda"
   ]
  },
  {
   "cell_type": "code",
   "execution_count": 5,
   "metadata": {},
   "outputs": [
    {
     "name": "stdout",
     "output_type": "stream",
     "text": [
      "Box size:                 25.00 Mpc/h\n",
      "snapshot redshift:        0.00\n",
      "Number of gas  particles: 15695635\n",
      "Number of star particles: 636474\n",
      "Omega_m:                  0.300\n",
      "Omega_b:                  0.049\n",
      "Omega_L:                  0.700\n"
     ]
    }
   ],
   "source": [
    "print('Box size:                 %.2f Mpc/h'%BoxSize)\n",
    "print('snapshot redshift:        %.2f'%redshift)\n",
    "print('Number of gas  particles: %d'%Np[0])\n",
    "print('Number of star particles: %d'%Np[4])\n",
    "print('Omega_m:                  %.3f'%Omega_m)\n",
    "print('Omega_b:                  %.3f'%Omega_b)\n",
    "print('Omega_L:                  %.3f'%Omega_L)"
   ]
  },
  {
   "cell_type": "markdown",
   "metadata": {},
   "source": [
    "Read the positions of the gas, dark matter, stars, and black-holes particles"
   ]
  },
  {
   "cell_type": "code",
   "execution_count": 6,
   "metadata": {},
   "outputs": [],
   "source": [
    "pos_gas   = data['PartType0/Coordinates'][:]/1e3 #Mpc/h \n",
    "pos_dm    = data['PartType1/Coordinates'][:]/1e3 #Mpc/h\n",
    "pos_stars = data['PartType4/Coordinates'][:]/1e3 #Mpc/h\n",
    "pos_bh    = data['PartType5/Coordinates'][:]/1e3 #Mpc/h"
   ]
  },
  {
   "cell_type": "code",
   "execution_count": 7,
   "metadata": {},
   "outputs": [
    {
     "name": "stdout",
     "output_type": "stream",
     "text": [
      "0.00 < pos_gas_X < 25.00\n",
      "0.00 < pos_gas_Y < 25.00\n",
      "0.00 < pos_gas_Z < 25.00\n"
     ]
    }
   ],
   "source": [
    "print('%.2f < pos_gas_X < %.2f'%(np.min(pos_gas[:,0]), np.max(pos_gas[:,0])))\n",
    "print('%.2f < pos_gas_Y < %.2f'%(np.min(pos_gas[:,1]), np.max(pos_gas[:,1])))\n",
    "print('%.2f < pos_gas_Z < %.2f'%(np.min(pos_gas[:,2]), np.max(pos_gas[:,2])))"
   ]
  },
  {
   "cell_type": "code",
   "execution_count": 8,
   "metadata": {},
   "outputs": [
    {
     "name": "stdout",
     "output_type": "stream",
     "text": [
      "Number of star particles: 636474\n"
     ]
    }
   ],
   "source": [
    "print('Number of star particles: %d'%pos_stars.shape[0])"
   ]
  }
 ],
 "metadata": {
  "kernelspec": {
   "display_name": "Python 3",
   "language": "python",
   "name": "python3"
  },
  "language_info": {
   "codemirror_mode": {
    "name": "ipython",
    "version": 3
   },
   "file_extension": ".py",
   "mimetype": "text/x-python",
   "name": "python",
   "nbconvert_exporter": "python",
   "pygments_lexer": "ipython3",
   "version": "3.7.6"
  }
 },
 "nbformat": 4,
 "nbformat_minor": 5
}
