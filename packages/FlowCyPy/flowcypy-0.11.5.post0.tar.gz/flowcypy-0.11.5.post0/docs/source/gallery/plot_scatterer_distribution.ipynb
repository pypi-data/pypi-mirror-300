{
  "cells": [
    {
      "cell_type": "markdown",
      "metadata": {},
      "source": [
        "\n# Flow Cytometry Simulation and 2D Hexbin Plot of Scattering Intensities\n\nThis script simulates a flow cytometer using the FlowCyPy library. It models light scattering from particles\ndetected by two detectors (Forward Scatter and Side Scatter) and visualizes the scattering intensities in a 2D hexbin plot.\n\nFlow cytometry is used to analyze the physical and chemical properties of particles as they flow through a laser beam.\n\n## Steps in the Workflow:\n1. Define the flow parameters (e.g., speed, area, and total simulation time).\n2. Create particle size and refractive index distributions.\n3. Set up a laser source and detectors.\n4. Simulate the flow cytometry experiment.\n5. Visualize the scattering intensity in a 2D hexbin plot.\n"
      ]
    },
    {
      "cell_type": "code",
      "execution_count": null,
      "metadata": {
        "collapsed": false
      },
      "outputs": [],
      "source": [
        "# Import necessary libraries and modules\nfrom FlowCyPy import Scatterer, FlowCell\nfrom FlowCyPy import distribution\nfrom FlowCyPy.population import Population\nfrom FlowCyPy.units import second, nanometer, refractive_index_unit, particle, milliliter, meter, micrometer, millisecond\nimport numpy as np\n\n# Set random seed for reproducibility\nnp.random.seed(20)\n\n# Step 1: Define Flow Parameters\n# ------------------------------\n# The flow speed is set to 7.56 meters per second, with a flow area of 10 micrometers squared, and\n# the total simulation time is 0.1 milliseconds.\nflow = FlowCell(\n    flow_speed=7.56 * meter / second,      # Flow speed: 7.56 meters per second\n    flow_area=(10 * micrometer) ** 2,      # Flow area: 10 micrometers squared\n    total_time=0.1 * millisecond           # Total simulation time: 0.1 milliseconds\n)\n\n# Step 2: Define Particle Size and Refractive Index Distributions\n# ---------------------------------------------------------------\n# Two particle populations are defined with different sizes and refractive indices.\nlp_size = distribution.Normal(\n    mean=200 * nanometer,                  # Liposome particle mean size: 200 nanometers\n    std_dev=10 * nanometer                 # Liposome particle size standard deviation: 10 nanometers\n)\n\nev_size = distribution.Normal(\n    mean=50 * nanometer,                   # EV particle mean size: 50 nanometers\n    std_dev=5.0 * nanometer                # EV particle size standard deviation: 5 nanometers\n)\n\nlp_ri = distribution.Normal(\n    mean=1.45 * refractive_index_unit,     # Liposome refractive index mean: 1.45\n    std_dev=0.01 * refractive_index_unit   # Liposome refractive index standard deviation: 0.01\n)\n\nev_ri = distribution.Normal(\n    mean=1.39 * refractive_index_unit,     # EV refractive index mean: 1.39\n    std_dev=0.01 * refractive_index_unit   # EV refractive index standard deviation: 0.01\n)\n\n# Create populations of particles (liposomes and EVs) with defined sizes and refractive indices.\nev = Population(\n    size=ev_size,                          # EV size distribution\n    refractive_index=ev_ri,                # EV refractive index distribution\n    concentration=1.8e+9 * particle / milliliter / 3,  # EV concentration\n    name='EV'                              # Name of the EV population\n)\n\nlp = Population(\n    size=lp_size,                          # Liposome size distribution\n    refractive_index=lp_ri,                # Liposome refractive index distribution\n    concentration=1.8e+9 * particle / milliliter / 1,  # Liposome concentration\n    name='LP'                              # Name of the Liposome population\n)"
      ]
    },
    {
      "cell_type": "markdown",
      "metadata": {},
      "source": [
        "## Step 3: Create Scatterer Distribution\nCombine the particle populations (liposomes and EVs) into a scatterer distribution within the flow.\n\n"
      ]
    },
    {
      "cell_type": "code",
      "execution_count": null,
      "metadata": {
        "collapsed": false
      },
      "outputs": [],
      "source": [
        "scatterer = Scatterer(\n    flow_cell=flow,                             # Flow parameters\n    populations=[ev, lp]                   # List of populations: EVs and Liposomes\n)\n\n# Plot and visualize the scatterer distribution.\nscatterer.plot()\n\n# Display the properties of the scatterer distribution.\nscatterer.print_properties()\n\n\"\"\"\nSummary:\n--------\nThis script defines a flow cytometer simulation, sets up the particle size and refractive index distributions,\nand visualizes the scatterer distribution in a 2D density plot. It provides insight into the scattering properties\nof two different particle populations.\n\"\"\""
      ]
    }
  ],
  "metadata": {
    "kernelspec": {
      "display_name": "Python 3",
      "language": "python",
      "name": "python3"
    },
    "language_info": {
      "codemirror_mode": {
        "name": "ipython",
        "version": 3
      },
      "file_extension": ".py",
      "mimetype": "text/x-python",
      "name": "python",
      "nbconvert_exporter": "python",
      "pygments_lexer": "ipython3",
      "version": "3.11.0"
    }
  },
  "nbformat": 4,
  "nbformat_minor": 0
}