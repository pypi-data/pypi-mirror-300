{
 "cells": [
  {
   "cell_type": "code",
   "execution_count": null,
   "id": "3e0ef484-1135-444a-808f-52043f978c66",
   "metadata": {
    "execution": {},
    "libroFormatter": "formatter-string"
   },
   "outputs": [],
   "source": []
  },
  {
   "cell_type": "code",
   "execution_count": null,
   "id": "ab411070-7563-48e7-994a-e1979a4602cb",
   "metadata": {
    "execution": {},
    "libroCellType": "sql",
    "libroFormatter": "formatter-sql-magic"
   },
   "outputs": [],
   "source": [
    "%%sql \n",
    "{\"result_variable\":\"df_1\", \"sql_script\":\"select 1\"}"
   ]
  },
  {
   "cell_type": "code",
   "execution_count": 2,
   "id": "620f1ac5-894a-479d-b94b-78588834b21d",
   "metadata": {
    "execution": {
     "shell.execute_reply.end": "2024-10-09T18:46:32.697871Z",
     "shell.execute_reply.started": "2024-10-09T18:46:30.918030Z",
     "to_execute": "2024-10-09T18:46:30.912Z"
    },
    "libroCellType": "prompt"
   },
   "outputs": [
    {
     "name": "stdout",
     "output_type": "stream",
     "text": [
      "libro-ai:result text='你好吗？' content='你好，我是一名语言模型助手，很高兴能够帮助您。有什么可以为您做的吗？' response_metadata={'token_usage': {'completion_tokens': 42, 'prompt_tokens': 12, 'total_tokens': 54, 'prompt_tokens_details': {'cached_tokens': 0}, 'completion_tokens_details': {'reasoning_tokens': 0}}, 'model_name': 'gpt-3.5-turbo', 'system_fingerprint': None, 'finish_reason': 'stop', 'logprobs': None} id='run-040355d9-d4b9-48bc-8c24-8d56fb669602-0'\n",
      "libro-ai-res content='你好，我是一名语言模型助手，很高兴能够帮助您。有什么可以为您做的吗？' response_metadata={'token_usage': {'completion_tokens': 42, 'prompt_tokens': 12, 'total_tokens': 54, 'prompt_tokens_details': {'cached_tokens': 0}, 'completion_tokens_details': {'reasoning_tokens': 0}}, 'model_name': 'gpt-3.5-turbo', 'system_fingerprint': None, 'finish_reason': 'stop', 'logprobs': None} id='run-040355d9-d4b9-48bc-8c24-8d56fb669602-0'\n"
     ]
    },
    {
     "data": {
      "application/vnd.libro.prompt+json": "你好，我是一名语言模型助手，很高兴能够帮助您。有什么可以为您做的吗？"
     },
     "metadata": {},
     "output_type": "display_data"
    }
   ],
   "source": [
    "%%prompt \n",
    "{\"model_name\":\"LLM:chatgpt\",\"chat_key\":\"LLM:chatgpt\",\"prompt\":\"你好吗？\",\"cell_id\":\"620f1ac5-894a-479d-b94b-78588834b21d\"}"
   ]
  }
 ],
 "metadata": {},
 "nbformat": 4,
 "nbformat_minor": 5
}
