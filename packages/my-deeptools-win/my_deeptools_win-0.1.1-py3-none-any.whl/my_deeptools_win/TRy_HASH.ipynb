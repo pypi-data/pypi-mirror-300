{
 "cells": [
  {
   "cell_type": "code",
   "id": "initial_id",
   "metadata": {
    "collapsed": true,
    "ExecuteTime": {
     "end_time": "2024-09-24T11:19:37.608263Z",
     "start_time": "2024-09-24T11:19:37.568255Z"
    }
   },
   "source": [
    "# 示例：建立哈希表并比对DNA序列\n",
    "\n",
    "# 构建哈希表\n",
    "def build_hash_table(sequence, k):\n",
    "    hash_table = {}\n",
    "    for i in range(len(sequence) - k + 1):\n",
    "        k_mer = sequence[i:i+k]\n",
    "        if k_mer in hash_table:\n",
    "            hash_table[k_mer].append(i)\n",
    "        else:\n",
    "            hash_table[k_mer] = [i]\n",
    "    return hash_table\n",
    "\n",
    "# 比对新序列\n",
    "def match_sequence(hash_table, query_sequence, k):\n",
    "    matches = []\n",
    "    for i in range(len(query_sequence) - k + 1):\n",
    "        k_mer = query_sequence[i:i+k]\n",
    "        if k_mer in hash_table:\n",
    "            matches.append((k_mer, hash_table[k_mer]))\n",
    "    return matches\n",
    "\n",
    "# 示例序列\n",
    "seq1 = \"ACGTACGTGAC\"\n",
    "seq2 = \"GTGACACG\"\n",
    "\n",
    "# 设置k-mer长度\n",
    "k = 3\n",
    "\n",
    "# 构建seq1的哈希表\n",
    "hash_table = build_hash_table(seq1, k)\n",
    "\n",
    "# 比对seq2与seq1的哈希表\n",
    "matches = match_sequence(hash_table, seq2, k)\n",
    "\n",
    "print(\"匹配结果：\", matches)\n"
   ],
   "outputs": [
    {
     "name": "stdout",
     "output_type": "stream",
     "text": [
      "匹配结果： [('GTG', [6]), ('TGA', [7]), ('GAC', [8]), ('ACG', [0, 4])]\n"
     ]
    }
   ],
   "execution_count": 1
  },
  {
   "metadata": {
    "ExecuteTime": {
     "end_time": "2024-09-24T11:20:39.894496Z",
     "start_time": "2024-09-24T11:20:39.875348Z"
    }
   },
   "cell_type": "code",
   "source": "hash_table",
   "id": "e64e4214b957edd4",
   "outputs": [
    {
     "data": {
      "text/plain": [
       "{'ACG': [0, 4],\n",
       " 'CGT': [1, 5],\n",
       " 'GTA': [2],\n",
       " 'TAC': [3],\n",
       " 'GTG': [6],\n",
       " 'TGA': [7],\n",
       " 'GAC': [8]}"
      ]
     },
     "execution_count": 2,
     "metadata": {},
     "output_type": "execute_result"
    }
   ],
   "execution_count": 2
  },
  {
   "metadata": {
    "ExecuteTime": {
     "end_time": "2024-10-09T05:32:51.572283Z",
     "start_time": "2024-10-09T05:32:51.547023Z"
    }
   },
   "cell_type": "code",
   "source": "",
   "id": "fee4fbe020953ae0",
   "outputs": [
    {
     "name": "stdout",
     "output_type": "stream",
     "text": [
      "648515\n"
     ]
    }
   ],
   "execution_count": 2
  }
 ],
 "metadata": {
  "kernelspec": {
   "display_name": "Python 3",
   "language": "python",
   "name": "python3"
  },
  "language_info": {
   "codemirror_mode": {
    "name": "ipython",
    "version": 2
   },
   "file_extension": ".py",
   "mimetype": "text/x-python",
   "name": "python",
   "nbconvert_exporter": "python",
   "pygments_lexer": "ipython2",
   "version": "2.7.6"
  }
 },
 "nbformat": 4,
 "nbformat_minor": 5
}
