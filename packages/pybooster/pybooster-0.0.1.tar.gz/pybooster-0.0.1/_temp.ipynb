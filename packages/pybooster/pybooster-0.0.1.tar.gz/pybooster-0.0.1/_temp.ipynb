{
    "cells": [
        {
            "cell_type": "code",
            "execution_count": 1,
            "metadata": {},
            "outputs": [],
            "source": [
                "from pybooster import injector\n",
                "from pybooster import provider\n",
                "from pybooster import required\n",
                "from pybooster import current"
            ]
        },
        {
            "cell_type": "code",
            "execution_count": 2,
            "metadata": {},
            "outputs": [],
            "source": [
                "from typing import NewType\n",
                "\n",
                "from pybooster import current\n",
                "\n",
                "Message = NewType(\"Message\", str)\n",
                "\n",
                "\n",
                "with current(Message, provide=\"Hello, World!\"):\n",
                "    with current(Message) as message:\n",
                "        assert message == \"Hello, World!\""
            ]
        },
        {
            "cell_type": "code",
            "execution_count": 2,
            "metadata": {},
            "outputs": [],
            "source": [
                "@provider.function\n",
                "def hello() -> str:\n",
                "    \"hello\"\n",
                "    return \"Hello\"\n",
                "\n",
                "\n",
                "@provider.function\n",
                "def world(*, message: str = required) -> str:\n",
                "    return message + \", World!\""
            ]
        },
        {
            "cell_type": "code",
            "execution_count": 5,
            "metadata": {},
            "outputs": [],
            "source": [
                "@injector.function\n",
                "def main(*, message: str = required) -> str:\n",
                "    return message"
            ]
        },
        {
            "cell_type": "code",
            "execution_count": 4,
            "metadata": {},
            "outputs": [
                {
                    "ename": "TypeError",
                    "evalue": "'SyncProvider' object is not callable",
                    "output_type": "error",
                    "traceback": [
                        "\u001b[0;31m---------------------------------------------------------------------------\u001b[0m",
                        "\u001b[0;31mTypeError\u001b[0m                                 Traceback (most recent call last)",
                        "Cell \u001b[0;32mIn[4], line 1\u001b[0m\n\u001b[0;32m----> 1\u001b[0m \u001b[38;5;28;01mwith\u001b[39;00m \u001b[43mhello\u001b[49m\u001b[43m(\u001b[49m\u001b[43m)\u001b[49m \u001b[38;5;28;01mas\u001b[39;00m x:\n\u001b[1;32m      2\u001b[0m     \u001b[38;5;28mprint\u001b[39m(x)\n",
                        "\u001b[0;31mTypeError\u001b[0m: 'SyncProvider' object is not callable"
                    ]
                }
            ],
            "source": [
                "with hello() as x:\n",
                "    print(x)"
            ]
        },
        {
            "cell_type": "code",
            "execution_count": 4,
            "metadata": {},
            "outputs": [
                {
                    "name": "stdout",
                    "output_type": "stream",
                    "text": [
                        "Hello, World!\n"
                    ]
                }
            ],
            "source": [
                "with hello(), world():\n",
                "    print(main())"
            ]
        },
        {
            "cell_type": "code",
            "execution_count": 6,
            "metadata": {},
            "outputs": [],
            "source": [
                "from weakref import WeakValueDictionary"
            ]
        },
        {
            "cell_type": "code",
            "execution_count": 6,
            "metadata": {},
            "outputs": [],
            "source": [
                "from asyncio import open_connection, StreamReader\n",
                "from typing import AsyncIterator\n",
                "\n",
                "from pybooster import provider\n",
                "\n",
                "\n",
                "@provider.asynciterator\n",
                "async def example_reader() -> AsyncIterator[StreamReader]:\n",
                "    reader, writer = await open_connection('example.com', 80)\n",
                "    writer.write(b'GET / HTTP/1.1\\r\\nHost: example.com\\r\\n\\r\\n')\n",
                "    await writer.drain()\n",
                "    try:\n",
                "        yield reader\n",
                "    finally:\n",
                "        writer.close()\n",
                "        await writer.wait_closed()"
            ]
        },
        {
            "cell_type": "code",
            "execution_count": 7,
            "metadata": {},
            "outputs": [],
            "source": [
                "from typing import Iterator\n",
                "from pybooster import injector, required\n",
                "\n",
                "\n",
                "@injector.generator\n",
                "def main():\n",
                "    yield \"hello\""
            ]
        },
        {
            "cell_type": "code",
            "execution_count": 8,
            "metadata": {},
            "outputs": [
                {
                    "name": "stdout",
                    "output_type": "stream",
                    "text": [
                        "b'HTTP/1.1 200 OK\\r\\nAge: 467036\\r\\nCache-Control: max-age=604800\\r\\nContent-Type: text/html; charset=UTF-8\\r\\nDate: Mon, 07 Oct 2024 00:16:32 GMT\\r\\nEtag: \"3147526947+gzip+ident\"\\r\\nExpires: Mon, 14 Oct 2024 00:16:32 GMT\\r\\nLast-Modified: Thu, 17 Oct 2019 07:18:26 GMT\\r\\nServer: ECAcc (dna/6394)\\r\\nVary: Accept-Encoding\\r\\nX-Cache: HIT\\r\\nContent-Length: 1256\\r\\n\\r\\n<!doctype html>\\n<html>\\n<head>\\n    <title>Example Domain</title>\\n\\n    <meta charset=\"utf-8\" />\\n    <meta http-equiv=\"Content-type\" content=\"text/html; charset=utf-8\" />\\n    <meta name=\"viewport\" content=\"width=device-width, initial-scale=1\" />\\n    <style type=\"text/css\">\\n    body {\\n        background-color: #f0f0f2;\\n        margin: 0;\\n        padding: 0;\\n        font-family: -apple-system, system-ui, BlinkMacSystemFont, \"Segoe UI\", \"Open Sans\", \"Helvetica Neue\", Helvetica, Arial, sans-serif;\\n        \\n    }\\n    div {\\n        width: 600px;\\n        margin: 5em auto;\\n        padding: 2em;\\n        background-color: #fdfdff;\\n        border-radius: 0.5em;\\n        box-shadow: 2px 3p'\n"
                    ]
                }
            ],
            "source": [
                "main()"
            ]
        },
        {
            "cell_type": "code",
            "execution_count": null,
            "metadata": {},
            "outputs": [],
            "source": []
        },
        {
            "cell_type": "code",
            "execution_count": 1,
            "metadata": {},
            "outputs": [],
            "source": [
                "class X: ...\n",
                "class Y(X): ..."
            ]
        },
        {
            "cell_type": "code",
            "execution_count": 2,
            "metadata": {},
            "outputs": [
                {
                    "data": {
                        "text/plain": [
                            "[__main__.Y]"
                        ]
                    },
                    "execution_count": 2,
                    "metadata": {},
                    "output_type": "execute_result"
                }
            ],
            "source": [
                "X.__subclasses__()"
            ]
        },
        {
            "cell_type": "code",
            "execution_count": null,
            "metadata": {},
            "outputs": [],
            "source": []
        }
    ],
    "metadata": {
        "kernelspec": {
            "display_name": "pybooster",
            "language": "python",
            "name": "python3"
        },
        "language_info": {
            "codemirror_mode": {
                "name": "ipython",
                "version": 3
            },
            "file_extension": ".py",
            "mimetype": "text/x-python",
            "name": "python",
            "nbconvert_exporter": "python",
            "pygments_lexer": "ipython3",
            "version": "3.12.3"
        }
    },
    "nbformat": 4,
    "nbformat_minor": 2
}
