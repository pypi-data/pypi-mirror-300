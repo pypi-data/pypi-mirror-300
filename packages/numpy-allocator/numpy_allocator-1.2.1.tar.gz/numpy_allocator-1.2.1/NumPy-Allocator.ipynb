{
 "cells": [
  {
   "cell_type": "markdown",
   "metadata": {},
   "source": [
    "### Aligned Allocator [&#9997;](test/aligned_allocator.py)"
   ]
  },
  {
   "cell_type": "code",
   "execution_count": null,
   "metadata": {},
   "outputs": [],
   "source": [
    "%%python\n",
    "from test import aligned_allocator\n",
    "\n",
    "from mmap import PAGESIZE\n",
    "import numpy as np\n",
    "\n",
    "with aligned_allocator(PAGESIZE) as page_aligned_allocator:\n",
    "    print(page_aligned_allocator)\n",
    "\n",
    "    np.core.test()"
   ]
  },
  {
   "cell_type": "markdown",
   "metadata": {},
   "source": [
    "### Debug Allocator [&#9997;](test/debug_allocator.py)"
   ]
  },
  {
   "cell_type": "code",
   "execution_count": null,
   "metadata": {},
   "outputs": [],
   "source": [
    "%%python\n",
    "from test import debug_allocator\n",
    "\n",
    "import numpy as np\n",
    "\n",
    "with debug_allocator:\n",
    "    a = np.arange(15).reshape((3, 5))\n",
    "\n",
    "assert debug_allocator.handles(a)\n",
    "\n",
    "b = np.array([6, 7, 8])\n",
    "\n",
    "assert not debug_allocator.handles(b)"
   ]
  },
  {
   "cell_type": "markdown",
   "metadata": {},
   "source": [
    "### Default Allocator [&#9997;](test/default_allocator.py)"
   ]
  },
  {
   "cell_type": "code",
   "execution_count": null,
   "metadata": {},
   "outputs": [],
   "source": [
    "%%python\n",
    "from test import default_allocator\n",
    "\n",
    "import numpy as np\n",
    "\n",
    "with default_allocator:\n",
    "    print(np.core.multiarray.get_handler_name(),\n",
    "          np.core.multiarray.get_handler_version())"
   ]
  },
  {
   "cell_type": "markdown",
   "metadata": {},
   "source": [
    "### Null Allocator [&#9997;](test/null_allocator.py)"
   ]
  },
  {
   "cell_type": "code",
   "execution_count": null,
   "metadata": {},
   "outputs": [],
   "source": [
    "%%python\n",
    "from test import null_allocator\n",
    "\n",
    "import numpy as np\n",
    "\n",
    "with np.testing.assert_raises(MemoryError):\n",
    "    with null_allocator:\n",
    "        np.ndarray(())"
   ]
  },
  {
   "cell_type": "markdown",
   "metadata": {},
   "source": [
    "### Page Aligned Allocator [&#9997;](test/page_aligned_allocator.py)"
   ]
  },
  {
   "cell_type": "code",
   "execution_count": null,
   "metadata": {},
   "outputs": [],
   "source": [
    "%%python\n",
    "from test import page_aligned_allocator\n",
    "\n",
    "import numpy as np\n",
    "\n",
    "with page_aligned_allocator:\n",
    "    print(page_aligned_allocator)\n",
    "\n",
    "    np.core.test()"
   ]
  }
 ],
 "metadata": {
  "kernelspec": {
   "display_name": "Python 3",
   "language": "python",
   "name": "python3"
  }
 },
 "nbformat": 4,
 "nbformat_minor": 5
}
