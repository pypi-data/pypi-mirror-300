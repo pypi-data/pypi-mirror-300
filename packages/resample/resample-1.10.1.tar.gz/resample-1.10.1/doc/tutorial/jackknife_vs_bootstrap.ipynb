{
 "cells": [
  {
   "cell_type": "markdown",
   "metadata": {},
   "source": [
    "# Bootstrap and Jackknife comparison\n",
    "\n",
    "In this notebook we compare the bootstrap to the jackknife. Bootstrap resampling is superior to jackknifing, but the jackknife is deterministic, which may be helpful, and it can exactly remove biases of order 1/N from an estimator. The bootstrap does not have a simple bias estimator.\n",
    "\n",
    "We consider as estimators the arithmetic mean and the naive variance $\\hat V = \\langle x^2 \\rangle - \\langle x \\rangle^2$ from a sample of inputs. We use `resample` to compute the variances of these two estimators and their bias. This can be done elegantly by defining a single function `fn` which returns both estimates.\n",
    "\n",
    "The exact bias is known for both estimators. It is zero for the mean, because it is a linear function of the sample. For $\\hat V$, the bias-corrected estimate is $\\frac N{N-1} \\hat V$, and thus the bias is $\\frac{- 1}{N - 1} \\hat V$.\n"
   ]
  },
  {
   "cell_type": "code",
   "execution_count": 10,
   "metadata": {},
   "outputs": [
    {
     "name": "stdout",
     "output_type": "stream",
     "text": [
      "estimates            [0.22  0.636]\n",
      "std.dev. (jackknife) [0.399 0.539]\n",
      "std.dev. (bootstrap) [0.345 0.36 ]\n",
      "bias (jackknife)     [ 0.    -0.159]\n",
      "bias (exact)         [ 0.    -0.159]\n"
     ]
    }
   ],
   "source": [
    "from resample import jackknife as j, bootstrap as b\n",
    "import numpy as np\n",
    "from scipy import stats\n",
    "\n",
    "rng = np.random.default_rng(1)\n",
    "data = rng.normal(size=5)\n",
    "\n",
    "\n",
    "def fn(d):\n",
    "    return np.mean(d), np.var(d, ddof=0)  # we return the biased variance\n",
    "\n",
    "\n",
    "print(\"estimates           \", np.round(fn(data), 3))\n",
    "print(\"std.dev. (jackknife)\", np.round(j.variance(fn, data) ** 0.5, 3))\n",
    "print(\"std.dev. (bootstrap)\", np.round(b.variance(fn, data, random_state=1) ** 0.5, 3))\n",
    "print(\"bias (jackknife)    \", np.round(j.bias(fn, data), 3))\n",
    "print(\"bias (exact)        \", np.round((0, -1 / (len(data) - 1) * np.var(data, ddof=0)), 3))"
   ]
  },
  {
   "cell_type": "markdown",
   "metadata": {},
   "source": [
    "The standard deviations for the estimates computed by bootstrap and jackknife differ by about 10 %. This difference shrinks for larger data sets.\n",
    "\n",
    "The Jackknife find the correct bias for both estimators."
   ]
  }
 ],
 "metadata": {
  "kernelspec": {
   "display_name": "Python 3 (ipykernel)",
   "language": "python",
   "name": "python3"
  },
  "language_info": {
   "codemirror_mode": {
    "name": "ipython",
    "version": 3
   },
   "file_extension": ".py",
   "mimetype": "text/x-python",
   "name": "python",
   "nbconvert_exporter": "python",
   "pygments_lexer": "ipython3",
   "version": "3.11.9"
  }
 },
 "nbformat": 4,
 "nbformat_minor": 4
}
