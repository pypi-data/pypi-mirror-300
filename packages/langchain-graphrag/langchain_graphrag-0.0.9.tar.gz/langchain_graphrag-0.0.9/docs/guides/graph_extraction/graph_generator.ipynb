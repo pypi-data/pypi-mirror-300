{
 "cells": [
  {
   "cell_type": "markdown",
   "metadata": {},
   "source": [
    "# Graph generation"
   ]
  },
  {
   "cell_type": "code",
   "execution_count": 1,
   "metadata": {},
   "outputs": [
    {
     "data": {
      "text/plain": [
       "True"
      ]
     },
     "execution_count": 1,
     "metadata": {},
     "output_type": "execute_result"
    }
   ],
   "source": [
    "import os\n",
    "\n",
    "from dotenv import load_dotenv\n",
    "\n",
    "# Load environment variables from .env file\n",
    "load_dotenv()"
   ]
  },
  {
   "cell_type": "markdown",
   "metadata": {},
   "source": [
    "## Load (pre-created) text units"
   ]
  },
  {
   "cell_type": "code",
   "execution_count": 2,
   "metadata": {},
   "outputs": [
    {
     "name": "stdout",
     "output_type": "stream",
     "text": [
      "Number of rows: 39\n",
      "Displaying first 5 rows:\n"
     ]
    },
    {
     "data": {
      "text/html": [
       "<div>\n",
       "<style scoped>\n",
       "    .dataframe tbody tr th:only-of-type {\n",
       "        vertical-align: middle;\n",
       "    }\n",
       "\n",
       "    .dataframe tbody tr th {\n",
       "        vertical-align: top;\n",
       "    }\n",
       "\n",
       "    .dataframe thead th {\n",
       "        text-align: right;\n",
       "    }\n",
       "</style>\n",
       "<table border=\"1\" class=\"dataframe\">\n",
       "  <thead>\n",
       "    <tr style=\"text-align: right;\">\n",
       "      <th></th>\n",
       "      <th>id</th>\n",
       "      <th>document_id</th>\n",
       "      <th>text_unit</th>\n",
       "    </tr>\n",
       "  </thead>\n",
       "  <tbody>\n",
       "    <tr>\n",
       "      <th>0</th>\n",
       "      <td>f28e49bc-5b67-46b3-b971-6d6cb2832790</td>\n",
       "      <td>a0192baf-d76a-40d4-bcd3-437127eef568</td>\n",
       "      <td>﻿  A CHRISTMAS CAROL\\n\\n  [Illustration: _\"How...</td>\n",
       "    </tr>\n",
       "    <tr>\n",
       "      <th>1</th>\n",
       "      <td>6fae26d7-9b26-4f79-ac78-970e69fcab95</td>\n",
       "      <td>a0192baf-d76a-40d4-bcd3-437127eef568</td>\n",
       "      <td>at the grindstone, Scrooge! a\\nsqueezing, wre...</td>\n",
       "    </tr>\n",
       "    <tr>\n",
       "      <th>2</th>\n",
       "      <td>c93ae0c0-c8c3-49a9-beb0-a1e3b74efa0a</td>\n",
       "      <td>a0192baf-d76a-40d4-bcd3-437127eef568</td>\n",
       "      <td>dismal? What reason have you to be morose? You...</td>\n",
       "    </tr>\n",
       "    <tr>\n",
       "      <th>3</th>\n",
       "      <td>eef3623c-46d7-4c17-99e6-a4801a779a39</td>\n",
       "      <td>a0192baf-d76a-40d4-bcd3-437127eef568</td>\n",
       "      <td>in Scrooge's office. They had books and paper...</td>\n",
       "    </tr>\n",
       "    <tr>\n",
       "      <th>4</th>\n",
       "      <td>6e9a467e-3a92-45d3-acd4-2d1c6996ee28</td>\n",
       "      <td>a0192baf-d76a-40d4-bcd3-437127eef568</td>\n",
       "      <td>mighty Mansion House, gave orders to his\\nfif...</td>\n",
       "    </tr>\n",
       "  </tbody>\n",
       "</table>\n",
       "</div>"
      ],
      "text/plain": [
       "                                     id                           document_id  \\\n",
       "0  f28e49bc-5b67-46b3-b971-6d6cb2832790  a0192baf-d76a-40d4-bcd3-437127eef568   \n",
       "1  6fae26d7-9b26-4f79-ac78-970e69fcab95  a0192baf-d76a-40d4-bcd3-437127eef568   \n",
       "2  c93ae0c0-c8c3-49a9-beb0-a1e3b74efa0a  a0192baf-d76a-40d4-bcd3-437127eef568   \n",
       "3  eef3623c-46d7-4c17-99e6-a4801a779a39  a0192baf-d76a-40d4-bcd3-437127eef568   \n",
       "4  6e9a467e-3a92-45d3-acd4-2d1c6996ee28  a0192baf-d76a-40d4-bcd3-437127eef568   \n",
       "\n",
       "                                           text_unit  \n",
       "0  ﻿  A CHRISTMAS CAROL\\n\\n  [Illustration: _\"How...  \n",
       "1   at the grindstone, Scrooge! a\\nsqueezing, wre...  \n",
       "2  dismal? What reason have you to be morose? You...  \n",
       "3   in Scrooge's office. They had books and paper...  \n",
       "4   mighty Mansion House, gave orders to his\\nfif...  "
      ]
     },
     "execution_count": 2,
     "metadata": {},
     "output_type": "execute_result"
    }
   ],
   "source": [
    "import pandas as pd\n",
    "\n",
    "df_text_units = pd.read_parquet(\"sample-data/base_text_units.parquet\")\n",
    "\n",
    "print(f\"Number of rows: {len(df_text_units)}\")\n",
    "\n",
    "print(\"Displaying first 5 rows:\")\n",
    "df_text_units.head()"
   ]
  },
  {
   "cell_type": "markdown",
   "metadata": {},
   "source": [
    "## Create dependencies\n",
    "\n",
    "The `GraphExtractor` uses -\n",
    "\n",
    "- EntityRelationshipExtractor\n",
    "- GraphsMerger\n",
    "- EntityRelationshipDescriptionSummarizer"
   ]
  },
  {
   "cell_type": "markdown",
   "metadata": {},
   "source": [
    "### EntityRelationshipExtractor"
   ]
  },
  {
   "cell_type": "code",
   "execution_count": 3,
   "metadata": {},
   "outputs": [],
   "source": [
    "from langchain_openai import ChatOpenAI\n",
    "from langchain_community.cache import SQLiteCache\n",
    "from langchain_graphrag.indexing.graph_generation import EntityRelationshipExtractor\n",
    "\n",
    "openai_api_key = os.getenv(\"LANGCHAIN_GRAPHRAG_OPENAI_CHAT_API_KEY\", None)\n",
    "\n",
    "if openai_api_key is None:\n",
    "    raise ValueError(\"Please set the LANGCHAIN_GRAPHRAG_OPENAI_CHAT_API_KEY environment variable\")\n",
    "\n",
    "er_llm = ChatOpenAI(\n",
    "    model=\"gpt-4o-mini\",\n",
    "    temperature=0.0,\n",
    "    api_key=openai_api_key,\n",
    "    cache=SQLiteCache(\"openai_cache.db\"), # always a good idea to use Cache\n",
    ")\n",
    "\n",
    "# There is a static method provide to build the default extractor\n",
    "extractor = EntityRelationshipExtractor.build_default(llm=er_llm)"
   ]
  },
  {
   "cell_type": "markdown",
   "metadata": {},
   "source": [
    "### GraphsMerger"
   ]
  },
  {
   "cell_type": "code",
   "execution_count": 4,
   "metadata": {},
   "outputs": [],
   "source": [
    "from langchain_graphrag.indexing.graph_generation import GraphsMerger\n",
    "\n",
    "graphs_merger = GraphsMerger()"
   ]
  },
  {
   "cell_type": "markdown",
   "metadata": {},
   "source": [
    "### EntityRelationshipDescriptionSummarizer"
   ]
  },
  {
   "cell_type": "code",
   "execution_count": 5,
   "metadata": {},
   "outputs": [],
   "source": [
    "from langchain_graphrag.indexing.graph_generation import (\n",
    "    EntityRelationshipDescriptionSummarizer,\n",
    ")\n",
    "\n",
    "es_llm = ChatOpenAI(\n",
    "    model=\"gpt-4o-mini\",\n",
    "    temperature=0.0,\n",
    "    api_key=openai_api_key,\n",
    "    cache=SQLiteCache(\"openai_cache.db\"), # always a good idea to use Cache\n",
    ")\n",
    "\n",
    "summarizer = EntityRelationshipDescriptionSummarizer.build_default(llm=es_llm)"
   ]
  },
  {
   "cell_type": "markdown",
   "metadata": {},
   "source": [
    "## Finally generating the graph"
   ]
  },
  {
   "cell_type": "code",
   "execution_count": 6,
   "metadata": {},
   "outputs": [],
   "source": [
    "from langchain_graphrag.indexing.graph_generation import (\n",
    "    GraphGenerator,\n",
    ")\n",
    "\n",
    "graph_generator = GraphGenerator(\n",
    "    er_extractor=extractor,\n",
    "    graphs_merger=GraphsMerger(),\n",
    "    er_description_summarizer=summarizer,\n",
    ")"
   ]
  },
  {
   "cell_type": "code",
   "execution_count": 7,
   "metadata": {},
   "outputs": [
    {
     "name": "stderr",
     "output_type": "stream",
     "text": [
      "Extracting entities and relationships ...: 100%|██████████| 39/39 [00:00<00:00, 157.56it/s]\n",
      "Summarizing entities descriptions: 100%|██████████| 116/116 [00:00<00:00, 1075.01it/s]\n",
      "Summarizing relationship descriptions: 100%|██████████| 160/160 [00:02<00:00, 63.72it/s]\n"
     ]
    }
   ],
   "source": [
    "graph = graph_generator.run(df_text_units)"
   ]
  },
  {
   "cell_type": "code",
   "execution_count": 8,
   "metadata": {},
   "outputs": [
    {
     "name": "stdout",
     "output_type": "stream",
     "text": [
      "Number of nodes - 116\n",
      "Number of edges - 160\n"
     ]
    }
   ],
   "source": [
    "print(f\"Number of nodes - {len(graph.nodes)}\")\n",
    "print(f\"Number of edges - {len(graph.edges)}\")"
   ]
  }
 ],
 "metadata": {
  "kernelspec": {
   "display_name": ".venv",
   "language": "python",
   "name": "python3"
  },
  "language_info": {
   "codemirror_mode": {
    "name": "ipython",
    "version": 3
   },
   "file_extension": ".py",
   "mimetype": "text/x-python",
   "name": "python",
   "nbconvert_exporter": "python",
   "pygments_lexer": "ipython3",
   "version": "3.10.14"
  }
 },
 "nbformat": 4,
 "nbformat_minor": 2
}
