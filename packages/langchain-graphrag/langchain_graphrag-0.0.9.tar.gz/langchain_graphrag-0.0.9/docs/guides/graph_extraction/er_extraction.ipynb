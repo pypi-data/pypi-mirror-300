{
 "cells": [
  {
   "cell_type": "markdown",
   "metadata": {},
   "source": [
    "# Entity Relationship Extraction\n",
    "\n",
    "This guides explain the default implementation of the Entity Relationship Extraction.\n",
    "\n",
    "The component can be customized in multiple ways including full replacement by an\n",
    "implementation that follows the same protocol."
   ]
  },
  {
   "cell_type": "code",
   "execution_count": 1,
   "metadata": {},
   "outputs": [
    {
     "data": {
      "text/plain": [
       "True"
      ]
     },
     "execution_count": 1,
     "metadata": {},
     "output_type": "execute_result"
    }
   ],
   "source": [
    "import os\n",
    "\n",
    "from dotenv import load_dotenv\n",
    "\n",
    "# Load environment variables from .env file\n",
    "load_dotenv()"
   ]
  },
  {
   "cell_type": "markdown",
   "metadata": {},
   "source": [
    "## Load Sample TextUnits DataFrame"
   ]
  },
  {
   "cell_type": "code",
   "execution_count": 2,
   "metadata": {},
   "outputs": [
    {
     "data": {
      "text/html": [
       "<div>\n",
       "<style scoped>\n",
       "    .dataframe tbody tr th:only-of-type {\n",
       "        vertical-align: middle;\n",
       "    }\n",
       "\n",
       "    .dataframe tbody tr th {\n",
       "        vertical-align: top;\n",
       "    }\n",
       "\n",
       "    .dataframe thead th {\n",
       "        text-align: right;\n",
       "    }\n",
       "</style>\n",
       "<table border=\"1\" class=\"dataframe\">\n",
       "  <thead>\n",
       "    <tr style=\"text-align: right;\">\n",
       "      <th></th>\n",
       "      <th>id</th>\n",
       "      <th>document_id</th>\n",
       "      <th>text_unit</th>\n",
       "    </tr>\n",
       "  </thead>\n",
       "  <tbody>\n",
       "    <tr>\n",
       "      <th>0</th>\n",
       "      <td>f28e49bc-5b67-46b3-b971-6d6cb2832790</td>\n",
       "      <td>a0192baf-d76a-40d4-bcd3-437127eef568</td>\n",
       "      <td>﻿  A CHRISTMAS CAROL\\n\\n  [Illustration: _\"How...</td>\n",
       "    </tr>\n",
       "    <tr>\n",
       "      <th>1</th>\n",
       "      <td>6fae26d7-9b26-4f79-ac78-970e69fcab95</td>\n",
       "      <td>a0192baf-d76a-40d4-bcd3-437127eef568</td>\n",
       "      <td>at the grindstone, Scrooge! a\\nsqueezing, wre...</td>\n",
       "    </tr>\n",
       "    <tr>\n",
       "      <th>2</th>\n",
       "      <td>c93ae0c0-c8c3-49a9-beb0-a1e3b74efa0a</td>\n",
       "      <td>a0192baf-d76a-40d4-bcd3-437127eef568</td>\n",
       "      <td>dismal? What reason have you to be morose? You...</td>\n",
       "    </tr>\n",
       "  </tbody>\n",
       "</table>\n",
       "</div>"
      ],
      "text/plain": [
       "                                     id                           document_id  \\\n",
       "0  f28e49bc-5b67-46b3-b971-6d6cb2832790  a0192baf-d76a-40d4-bcd3-437127eef568   \n",
       "1  6fae26d7-9b26-4f79-ac78-970e69fcab95  a0192baf-d76a-40d4-bcd3-437127eef568   \n",
       "2  c93ae0c0-c8c3-49a9-beb0-a1e3b74efa0a  a0192baf-d76a-40d4-bcd3-437127eef568   \n",
       "\n",
       "                                           text_unit  \n",
       "0  ﻿  A CHRISTMAS CAROL\\n\\n  [Illustration: _\"How...  \n",
       "1   at the grindstone, Scrooge! a\\nsqueezing, wre...  \n",
       "2  dismal? What reason have you to be morose? You...  "
      ]
     },
     "execution_count": 2,
     "metadata": {},
     "output_type": "execute_result"
    }
   ],
   "source": [
    "import pandas as pd\n",
    "\n",
    "df_text_units = pd.read_parquet(\"sample-data/base_text_units.parquet\")\n",
    "\n",
    "# let's work only with a subset of the data\n",
    "# for this guide to avoid any unnecessary LLM cost\n",
    "\n",
    "df_text_units = df_text_units[0:3]\n",
    "\n",
    "df_text_units.head()"
   ]
  },
  {
   "cell_type": "markdown",
   "metadata": {},
   "source": [
    "## The default implementation"
   ]
  },
  {
   "cell_type": "code",
   "execution_count": 3,
   "metadata": {},
   "outputs": [],
   "source": [
    "from langchain_graphrag.indexing.graph_generation import EntityRelationshipExtractor"
   ]
  },
  {
   "cell_type": "markdown",
   "metadata": {},
   "source": [
    "We first need to create an LLM to pass to `EntityRelationshipExtractor`"
   ]
  },
  {
   "cell_type": "code",
   "execution_count": 4,
   "metadata": {},
   "outputs": [],
   "source": [
    "from langchain_openai import ChatOpenAI\n",
    "from langchain_community.cache import SQLiteCache\n",
    "\n",
    "openai_api_key = os.getenv(\"LANGCHAIN_GRAPHRAG_OPENAI_CHAT_API_KEY\", None)\n",
    "\n",
    "if openai_api_key is None:\n",
    "    raise ValueError(\"Please set the LANGCHAIN_GRAPHRAG_OPENAI_CHAT_API_KEY environment variable\")\n",
    "\n",
    "er_llm = ChatOpenAI(\n",
    "    model=\"gpt-4o-mini\",\n",
    "    temperature=0.0,\n",
    "    api_key=openai_api_key,\n",
    "    cache=SQLiteCache(\"openai_cache.db\"), # always a good idea to use Cache\n",
    ")\n",
    "\n",
    "# There is a static method provide to build the default extractor\n",
    "extractor = EntityRelationshipExtractor.build_default(llm=er_llm)"
   ]
  },
  {
   "cell_type": "markdown",
   "metadata": {},
   "source": [
    "We now run the extractor on the dataframe"
   ]
  },
  {
   "cell_type": "code",
   "execution_count": 5,
   "metadata": {},
   "outputs": [
    {
     "name": "stderr",
     "output_type": "stream",
     "text": [
      "Extracting entities and relationships ...: 100%|██████████| 3/3 [00:00<00:00, 20.16it/s]\n"
     ]
    }
   ],
   "source": [
    "text_unit_graphs = extractor.invoke(df_text_units)"
   ]
  },
  {
   "cell_type": "markdown",
   "metadata": {},
   "source": [
    "Let's see how many nodes and edges we got for each text unit."
   ]
  },
  {
   "cell_type": "code",
   "execution_count": 6,
   "metadata": {},
   "outputs": [
    {
     "name": "stdout",
     "output_type": "stream",
     "text": [
      "---------------------------------\n",
      "Graph: 0\n",
      "Number of nodes - 16\n",
      "Number of edges - 9\n",
      "['A CHRISTMAS CAROL', 'CHARLES DICKENS', 'EBENEZER SCROOGE', 'MARLEY', 'BOB CRATCHIT', 'TIM CRATCHIT', 'MR. FEZZIWIG', 'FRED', 'GHOST OF CHRISTMAS PAST', 'GHOST OF CHRISTMAS PRESENT', 'GHOST OF CHRISTMAS YET TO COME', 'JACOB MARLEY', 'MRS. CRATCHIT', 'BELLE', 'DICK WILKINS', 'MRS. FEZZIWIG']\n",
      "[('EBENEZER SCROOGE', 'MARLEY'), ('EBENEZER SCROOGE', 'FRED'), ('EBENEZER SCROOGE', 'BOB CRATCHIT'), ('EBENEZER SCROOGE', 'GHOST OF CHRISTMAS PAST'), ('EBENEZER SCROOGE', 'GHOST OF CHRISTMAS PRESENT'), ('EBENEZER SCROOGE', 'GHOST OF CHRISTMAS YET TO COME'), ('EBENEZER SCROOGE', 'MR. FEZZIWIG'), ('EBENEZER SCROOGE', 'BELLE'), ('BOB CRATCHIT', 'TIM CRATCHIT')]\n",
      "---------------------------------\n",
      "---------------------------------\n",
      "Graph: 1\n",
      "Number of nodes - 4\n",
      "Number of edges - 4\n",
      "['SCROOGE', \"SCROOGE'S NEPHEW\", 'CHRISTMAS', 'COUNTING-HOUSE']\n",
      "[('SCROOGE', \"SCROOGE'S NEPHEW\"), ('SCROOGE', 'CHRISTMAS'), ('SCROOGE', 'COUNTING-HOUSE'), (\"SCROOGE'S NEPHEW\", 'CHRISTMAS')]\n",
      "---------------------------------\n",
      "---------------------------------\n",
      "Graph: 2\n",
      "Number of nodes - 5\n",
      "Number of edges - 5\n",
      "['SCROOGE', \"SCROOGE'S NEPHEW\", 'CHRISTMAS', 'MARLEY', 'CLERK']\n",
      "[('SCROOGE', \"SCROOGE'S NEPHEW\"), ('SCROOGE', 'CHRISTMAS'), ('SCROOGE', 'MARLEY'), ('SCROOGE', 'CLERK'), (\"SCROOGE'S NEPHEW\", 'CHRISTMAS')]\n",
      "---------------------------------\n"
     ]
    }
   ],
   "source": [
    "for index, g in enumerate(text_unit_graphs):\n",
    "    print(\"---------------------------------\")\n",
    "    print(f\"Graph: {index}\")\n",
    "    print(f\"Number of nodes - {len(g.nodes)}\")\n",
    "    print(f\"Number of edges - {len(g.edges)}\")\n",
    "    print(g.nodes())\n",
    "    print(g.edges())\n",
    "    print(\"---------------------------------\")"
   ]
  },
  {
   "cell_type": "markdown",
   "metadata": {},
   "source": [
    "Let's see data for some nodes and edges "
   ]
  },
  {
   "cell_type": "code",
   "execution_count": 7,
   "metadata": {},
   "outputs": [
    {
     "data": {
      "text/plain": [
       "{'type': 'PERSON',\n",
       " 'description': ['Ebenezer Scrooge is the main character in A Christmas Carol, depicted as a miserly old man who undergoes a profound transformation.'],\n",
       " 'text_unit_ids': ['f28e49bc-5b67-46b3-b971-6d6cb2832790']}"
      ]
     },
     "execution_count": 7,
     "metadata": {},
     "output_type": "execute_result"
    }
   ],
   "source": [
    "# You will see that every node has `description` and `text_unit_ids` as attributes\n",
    "text_unit_graphs[0].nodes[\"EBENEZER SCROOGE\"]"
   ]
  },
  {
   "cell_type": "code",
   "execution_count": 8,
   "metadata": {},
   "outputs": [
    {
     "data": {
      "text/plain": [
       "{'weight': 2.0,\n",
       " 'description': [\"Marley is the ghost of Scrooge's former business partner, who warns him about his selfish ways and the consequences of his actions\",\n",
       "  'Marley warns Scrooge about the chains he will wear if he does not change his ways, establishing a direct connection between their fates'],\n",
       " 'text_unit_ids': ['f28e49bc-5b67-46b3-b971-6d6cb2832790']}"
      ]
     },
     "execution_count": 8,
     "metadata": {},
     "output_type": "execute_result"
    }
   ],
   "source": [
    "# You will see that every edge has `weight`, `description` and `text_unit_ids` as attributes\n",
    "text_unit_graphs[0].edges[('EBENEZER SCROOGE', 'MARLEY')]"
   ]
  }
 ],
 "metadata": {
  "kernelspec": {
   "display_name": ".venv",
   "language": "python",
   "name": "python3"
  },
  "language_info": {
   "codemirror_mode": {
    "name": "ipython",
    "version": 3
   },
   "file_extension": ".py",
   "mimetype": "text/x-python",
   "name": "python",
   "nbconvert_exporter": "python",
   "pygments_lexer": "ipython3",
   "version": "3.10.14"
  }
 },
 "nbformat": 4,
 "nbformat_minor": 2
}
