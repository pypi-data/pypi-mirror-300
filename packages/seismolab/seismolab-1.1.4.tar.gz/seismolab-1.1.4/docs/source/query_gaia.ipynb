{
 "cells": [
  {
   "cell_type": "markdown",
   "metadata": {},
   "source": [
    "<a href=\"https://colab.research.google.com/github/konkolyseismolab/seismolab/blob/master/docs/source/query_gaia.ipynb\" target=\"_parent\"><img src=\"https://colab.research.google.com/assets/colab-badge.svg\" alt=\"Open in Colab\"/></a>\n",
    "\n",
    "[Open this tutorial in Google Colab](https://colab.research.google.com/github/konkolyseismolab/seismolab/blob/master/docs/source/query_gaia.ipynb)"
   ]
  },
  {
   "cell_type": "markdown",
   "metadata": {},
   "source": [
    "# Query Gaia catalog\n",
    "\n",
    "The *Gaia* module combines Gaia data with the Bailer-Jones distance catalog, galactic extinction maps and magnitudes from the Simbad catalog. Simply passing the Gaia ID of one or more targets, the code automatically queries\n",
    "\n",
    "- the Gaia parallax,\n",
    "- the Gaia G, BP and RP brightness,\n",
    "- the Johnson B, V and 2MASS JHK brightness,\n",
    "\n",
    "and delivers\n",
    "\n",
    "- the extinction corrected apparent brightness,\n",
    "- the extinction corrected absolute brightness,\n",
    "- extinction values in each band,\n",
    "\n",
    "with the associated upper and lower errorbars.\n",
    "\n",
    "__Note:__\n",
    "Both Gaia DR2 and DR3 catalogs can be used. However, there is a subtle difference between them. In case of DR3, the distance are queried from the [Bailer-Jones catalog](https://ui.adsabs.harvard.edu/abs/2021AJ....161..147B/abstract). If DR2 is used, the distances are estimated from the Gaia parallaxes in a probabilistic way as defined by [Bailer-Jones+ (2018, AJ, 156, 58)](https://ui.adsabs.harvard.edu/abs/2018AJ....156...58B/abstract)."
   ]
  },
  {
   "cell_type": "markdown",
   "metadata": {},
   "source": [
    "## __How to use__"
   ]
  },
  {
   "cell_type": "code",
   "execution_count": 1,
   "metadata": {},
   "outputs": [],
   "source": [
    "from seismolab.gaia import query_gaia"
   ]
  },
  {
   "cell_type": "markdown",
   "metadata": {},
   "source": [
    "After importing the relevant module, we can pass a list of __Gaia DR3 IDs__ to perform the query and all the calculations."
   ]
  },
  {
   "cell_type": "code",
   "execution_count": 2,
   "metadata": {},
   "outputs": [
    {
     "name": "stdout",
     "output_type": "stream",
     "text": [
      "Using Combined19 map from mwdust\n",
      "Querying Gaia DR3 and BJ catalogs...\n",
      "Downloading Simbad data for all stars...\n",
      "Calculating distances, absolute magnitudes...\n"
     ]
    },
    {
     "data": {
      "application/vnd.jupyter.widget-view+json": {
       "model_id": "a67b9316fac64b3aa52983bf8caa02ea",
       "version_major": 2,
       "version_minor": 0
      },
      "text/plain": [
       "  0%|          | 0/2 [00:00<?, ?it/s]"
      ]
     },
     "metadata": {},
     "output_type": "display_data"
    }
   ],
   "source": [
    "targets = [1022096392749670016,3107142829863485952]\n",
    "\n",
    "result_table = query_gaia(targets)"
   ]
  },
  {
   "cell_type": "markdown",
   "metadata": {},
   "source": [
    "The result is an Astropy Table."
   ]
  },
  {
   "cell_type": "code",
   "execution_count": 3,
   "metadata": {},
   "outputs": [
    {
     "data": {
      "text/html": [
       "<div><i>Table length=2</i>\n",
       "<table id=\"table140695238301968\" class=\"table-striped table-bordered table-condensed\">\n",
       "<thead><tr><th>Source</th><th>ra</th><th>dec</th><th>parallax</th><th>sig_parallax</th><th>Gmag</th><th>sig_Gmag</th><th>BPmag</th><th>sig_BPmag</th><th>RPmag</th><th>sig_RPmag</th><th>Bmag</th><th>sig_Bmag</th><th>Vmag</th><th>sig_Vmag</th><th>Jmag</th><th>sig_Jmag</th><th>Hmag</th><th>sig_Hmag</th><th>Kmag</th><th>sig_Kmag</th><th>dist</th><th>distep</th><th>distem</th><th>lon_deg</th><th>lat_deg</th><th>aG</th><th>aGep</th><th>aGem</th><th>MG</th><th>MGep</th><th>MGem</th><th>mG</th><th>mGep</th><th>mGem</th><th>aBP</th><th>aBPep</th><th>aBPem</th><th>MBP</th><th>MBPep</th><th>MBPem</th><th>mBP</th><th>mBPep</th><th>mBPem</th><th>aRP</th><th>aRPep</th><th>aRPem</th><th>MRP</th><th>MRPep</th><th>MRPem</th><th>mRP</th><th>mRPep</th><th>mRPem</th><th>aB</th><th>aBep</th><th>aBem</th><th>MB</th><th>MBep</th><th>MBem</th><th>mB</th><th>mBep</th><th>mBem</th><th>aV</th><th>aVep</th><th>aVem</th><th>MV</th><th>MVep</th><th>MVem</th><th>mV</th><th>mVep</th><th>mVem</th><th>aJ</th><th>aJep</th><th>aJem</th><th>MJ</th><th>MJep</th><th>MJem</th><th>mJ</th><th>mJep</th><th>mJem</th><th>aH</th><th>aHep</th><th>aHem</th><th>MH</th><th>MHep</th><th>MHem</th><th>mH</th><th>mHep</th><th>mHem</th><th>aK</th><th>aKep</th><th>aKem</th><th>MK</th><th>MKep</th><th>MKem</th><th>mK</th><th>mKep</th><th>mKem</th></tr></thead>\n",
       "<thead><tr><th></th><th>deg</th><th>deg</th><th>mas</th><th>mas</th><th>mag</th><th></th><th>mag</th><th></th><th>mag</th><th></th><th>mag</th><th></th><th>mag</th><th></th><th>mag</th><th></th><th>mag</th><th></th><th>mag</th><th></th><th></th><th></th><th></th><th></th><th></th><th></th><th></th><th></th><th></th><th></th><th></th><th></th><th></th><th></th><th></th><th></th><th></th><th></th><th></th><th></th><th></th><th></th><th></th><th></th><th></th><th></th><th></th><th></th><th></th><th></th><th></th><th></th><th></th><th></th><th></th><th></th><th></th><th></th><th></th><th></th><th></th><th></th><th></th><th></th><th></th><th></th><th></th><th></th><th></th><th></th><th></th><th></th><th></th><th></th><th></th><th></th><th></th><th></th><th></th><th></th><th></th><th></th><th></th><th></th><th></th><th></th><th></th><th></th><th></th><th></th><th></th><th></th><th></th><th></th><th></th><th></th><th></th></tr></thead>\n",
       "<thead><tr><th>str21</th><th>float64</th><th>float64</th><th>float64</th><th>float32</th><th>float32</th><th>float64</th><th>float32</th><th>float64</th><th>float32</th><th>float64</th><th>float32</th><th>float32</th><th>float32</th><th>float32</th><th>float32</th><th>float32</th><th>float32</th><th>float32</th><th>float32</th><th>float32</th><th>float64</th><th>float64</th><th>float64</th><th>float64</th><th>float64</th><th>float64</th><th>float64</th><th>float64</th><th>float64</th><th>float64</th><th>float64</th><th>float64</th><th>float64</th><th>float64</th><th>float64</th><th>float64</th><th>float64</th><th>float64</th><th>float64</th><th>float64</th><th>float64</th><th>float64</th><th>float64</th><th>float64</th><th>float64</th><th>float64</th><th>float64</th><th>float64</th><th>float64</th><th>float64</th><th>float64</th><th>float64</th><th>float64</th><th>float64</th><th>float64</th><th>float64</th><th>float64</th><th>float64</th><th>float64</th><th>float64</th><th>float64</th><th>float64</th><th>float64</th><th>float64</th><th>float64</th><th>float64</th><th>float64</th><th>float64</th><th>float64</th><th>float64</th><th>float64</th><th>float64</th><th>float64</th><th>float64</th><th>float64</th><th>float64</th><th>float64</th><th>float64</th><th>float64</th><th>float64</th><th>float64</th><th>float64</th><th>float64</th><th>float64</th><th>float64</th><th>float64</th><th>float64</th><th>float64</th><th>float64</th><th>float64</th><th>float64</th><th>float64</th><th>float64</th><th>float64</th><th>float64</th><th>float64</th><th>float64</th></tr></thead>\n",
       "<tr><td>1022096392749670016</td><td>145.93959651092428</td><td>55.952388737534136</td><td>19.266700572347492</td><td>0.01887033</td><td>7.7452164</td><td>0.007181938969436053</td><td>8.088248</td><td>0.024051615865364074</td><td>7.2756886</td><td>0.02388009262163658</td><td>8.54</td><td>-99.000</td><td>7.75</td><td>-99.000</td><td>6.573</td><td>0.029</td><td>6.223</td><td>0.034</td><td>6.184</td><td>0.017</td><td>51.831443786621094</td><td>0.0460662841796875</td><td>0.050594329833984375</td><td>158.92257837077454</td><td>45.90248575416284</td><td>0.0</td><td>0.0</td><td>0.0</td><td>4.172249913215637</td><td>0.00930267223054404</td><td>0.009111341320815036</td><td>7.745216369628906</td><td>0.007181938969435642</td><td>0.007181938969435642</td><td>0.0</td><td>0.0</td><td>0.0</td><td>4.515281796455383</td><td>0.026172349126472483</td><td>0.02598101821674348</td><td>8.088248252868652</td><td>0.024051615865364084</td><td>0.024051615865364084</td><td>0.0</td><td>0.0</td><td>0.0</td><td>3.702722191810608</td><td>0.026000825882745104</td><td>0.0258094949730161</td><td>7.275688648223877</td><td>0.023880092621636706</td><td>0.023880092621636706</td><td>0.0</td><td>0.0</td><td>0.0</td><td>4.967033505439758</td><td>0.022120733261107972</td><td>0.021929402351378968</td><td>8.539999961853027</td><td>0.019999999999999574</td><td>0.019999999999999574</td><td>0.0</td><td>0.0</td><td>0.0</td><td>4.177033543586731</td><td>0.022120733261107972</td><td>0.021929402351378968</td><td>7.75</td><td>0.019999999999999574</td><td>0.019999999999999574</td><td>0.0</td><td>0.0</td><td>0.0</td><td>3.0000334978103638</td><td>0.03112053871154785</td><td>0.030929207801818848</td><td>6.572999954223633</td><td>0.028999805450439453</td><td>0.028999805450439453</td><td>0.0</td><td>0.0</td><td>0.0</td><td>2.6500335931777954</td><td>0.03612065315246582</td><td>0.035929322242736816</td><td>6.2230000495910645</td><td>0.03399991989135742</td><td>0.03399991989135742</td><td>0.0</td><td>0.0</td><td>0.0</td><td>2.61103355884552</td><td>0.01912093162536621</td><td>0.018929600715637207</td><td>6.184000015258789</td><td>0.017000198364257812</td><td>0.017000198364257812</td></tr>\n",
       "<tr><td>3107142829863485952</td><td>101.76822041702867</td><td>-1.2075151625364267</td><td>0.432227248321794</td><td>0.030997224</td><td>12.621653</td><td>0.0006344411880043353</td><td>12.802992</td><td>0.0020885144822050884</td><td>12.291391</td><td>0.0017593474516210648</td><td>13.01</td><td>0.020</td><td>12.72</td><td>0.020</td><td>11.903</td><td>0.023</td><td>11.838</td><td>0.023</td><td>11.8</td><td>0.024</td><td>2190.859619140625</td><td>197.47900390625</td><td>151.5408935546875</td><td>213.5092718420073</td><td>-1.5216790901099373</td><td>1.0972506348348021</td><td>0.2813463101744822</td><td>0.01746006095976571</td><td>-0.17867081801656326</td><td>0.17374130314264136</td><td>0.46938729127948164</td><td>11.524401968314612</td><td>0.018094502147770086</td><td>0.2819807513624877</td><td>1.3107321146267983</td><td>0.3360851498919084</td><td>0.020857096725901858</td><td>-0.21081303389254558</td><td>0.1785924122029794</td><td>0.5255802042911046</td><td>11.492259752438631</td><td>0.022945611208106342</td><td>0.33817366437411245</td><td>0.7576583159506094</td><td>0.19427135861061418</td><td>0.012056279543791626</td><td>-0.16933972960112342</td><td>0.1694624279902861</td><td>0.383437245979227</td><td>11.533733056730055</td><td>0.013815626995413055</td><td>0.1960307060622366</td><td>1.5085403078773538</td><td>0.3868051982805827</td><td>0.024004730459570967</td><td>-0.20161286532669465</td><td>0.19965198921811478</td><td>0.5942121959612479</td><td>11.501459921004482</td><td>0.04400518822324351</td><td>0.4068056560442539</td><td>1.1924453025900386</td><td>0.305755198782921</td><td>0.01897485133607879</td><td>-0.17551782189240583</td><td>0.19462211009462393</td><td>0.5131621964635862</td><td>11.527554964438771</td><td>0.03897530909974911</td><td>0.325755656546594</td><td>0.3091529886603355</td><td>0.07926999527513978</td><td>0.0049194139028371775</td><td>-0.10922589706182606</td><td>0.1835659783864827</td><td>0.2896762986808987</td><td>11.593846889269352</td><td>0.027919177391606098</td><td>0.10226975876391009</td><td>0.18290999329090118</td><td>0.04689999720454216</td><td>0.00291056530898276</td><td>-0.047982482075692445</td><td>0.18155712979262617</td><td>0.2573063006103027</td><td>11.655090304255486</td><td>0.025910328797751347</td><td>0.06989976069331227</td><td>0.11801399567127227</td><td>0.030259998196363436</td><td>0.001877904184431095</td><td>-0.021086591267586385</td><td>0.1815248730259853</td><td>0.2416667059600357</td><td>11.68198619506359</td><td>0.025878072031112254</td><td>0.054260166043041735</td></tr>\n",
       "</table></div>"
      ],
      "text/plain": [
       "<Table length=2>\n",
       "       Source               ra         ...         mKem        \n",
       "                           deg         ...                     \n",
       "       str21             float64       ...       float64       \n",
       "------------------- ------------------ ... --------------------\n",
       "1022096392749670016 145.93959651092428 ... 0.017000198364257812\n",
       "3107142829863485952 101.76822041702867 ... 0.054260166043041735"
      ]
     },
     "execution_count": 3,
     "metadata": {},
     "output_type": "execute_result"
    }
   ],
   "source": [
    "result_table"
   ]
  },
  {
   "cell_type": "markdown",
   "metadata": {},
   "source": [
    "The columns are named according to the followings:\n",
    "\n",
    "- __Source:__ Gaia DR3 (or DR2) ID \n",
    "- __ra, dec:__ equatorial coordinates in deg\n",
    "- __parallax, sig_parallax:__ parallax and its error in mas\n",
    "- __\\<filter\\>mag:__ observed magnitude in given filter\n",
    "- __sig_\\<filter\\>mag:__ observed magnitude error in given filter\n",
    "- __dist:__ distance in pc\n",
    "- __distep:__ upper distance errorbar in pc\n",
    "- __distem:__ lower distance errorbar in pc\n",
    "- __lon_deg, lat_deg:__ galactic coordinates in deg\n",
    "- __a\\<filter>:__ extinction in given filter\n",
    "- __a\\<filter>ep:__ upper extinction errorbar in given filter\n",
    "- __a\\<filter>em:__ lower extinction errorbar in given filter\n",
    "- __M\\<filter>:__ extinction corrected absolute magnitude in given filter\n",
    "- __M\\<filter>ep:__ upper absolute magnitude errorbar in given filter\n",
    "- __M\\<filter>em:__ lower absolute magnitude errorbar in given filter\n",
    "- __m\\<filter>:__ extinction corrected apparent magnitude in given filter\n",
    "- __m\\<filter>ep:__ upper apparent magnitude errorbar in given filter\n",
    "- __m\\<filter>em:__ lower apparent magnitude errorbar in given filter"
   ]
  },
  {
   "cell_type": "markdown",
   "metadata": {},
   "source": [
    "### Using photodistances\n",
    "\n",
    "The [Bailer-Jones catalog](https://ui.adsabs.harvard.edu/abs/2021AJ....161..147B/abstract) contains two kinds of distances. By default, the geometric ones are returned, but there is an option to use the __photodistances__ instead."
   ]
  },
  {
   "cell_type": "code",
   "execution_count": 4,
   "metadata": {},
   "outputs": [
    {
     "name": "stdout",
     "output_type": "stream",
     "text": [
      "Using Combined19 map from mwdust\n",
      "Querying Gaia DR3 and BJ catalogs...\n",
      "Downloading Simbad data for all stars...\n",
      "Calculating distances, absolute magnitudes...\n"
     ]
    },
    {
     "data": {
      "application/vnd.jupyter.widget-view+json": {
       "model_id": "2a2dff7707f1479db603ac94bdff4806",
       "version_major": 2,
       "version_minor": 0
      },
      "text/plain": [
       "  0%|          | 0/2 [00:00<?, ?it/s]"
      ]
     },
     "metadata": {},
     "output_type": "display_data"
    }
   ],
   "source": [
    "result_table = query_gaia(targets,use_photodist=True)"
   ]
  },
  {
   "cell_type": "code",
   "execution_count": 5,
   "metadata": {},
   "outputs": [
    {
     "data": {
      "text/html": [
       "<div><i>Table length=2</i>\n",
       "<table id=\"table140695251290640\" class=\"table-striped table-bordered table-condensed\">\n",
       "<thead><tr><th>Source</th><th>ra</th><th>dec</th><th>parallax</th><th>sig_parallax</th><th>Gmag</th><th>sig_Gmag</th><th>BPmag</th><th>sig_BPmag</th><th>RPmag</th><th>sig_RPmag</th><th>Bmag</th><th>sig_Bmag</th><th>Vmag</th><th>sig_Vmag</th><th>Jmag</th><th>sig_Jmag</th><th>Hmag</th><th>sig_Hmag</th><th>Kmag</th><th>sig_Kmag</th><th>dist</th><th>distep</th><th>distem</th><th>lon_deg</th><th>lat_deg</th><th>aG</th><th>aGep</th><th>aGem</th><th>MG</th><th>MGep</th><th>MGem</th><th>mG</th><th>mGep</th><th>mGem</th><th>aBP</th><th>aBPep</th><th>aBPem</th><th>MBP</th><th>MBPep</th><th>MBPem</th><th>mBP</th><th>mBPep</th><th>mBPem</th><th>aRP</th><th>aRPep</th><th>aRPem</th><th>MRP</th><th>MRPep</th><th>MRPem</th><th>mRP</th><th>mRPep</th><th>mRPem</th><th>aB</th><th>aBep</th><th>aBem</th><th>MB</th><th>MBep</th><th>MBem</th><th>mB</th><th>mBep</th><th>mBem</th><th>aV</th><th>aVep</th><th>aVem</th><th>MV</th><th>MVep</th><th>MVem</th><th>mV</th><th>mVep</th><th>mVem</th><th>aJ</th><th>aJep</th><th>aJem</th><th>MJ</th><th>MJep</th><th>MJem</th><th>mJ</th><th>mJep</th><th>mJem</th><th>aH</th><th>aHep</th><th>aHem</th><th>MH</th><th>MHep</th><th>MHem</th><th>mH</th><th>mHep</th><th>mHem</th><th>aK</th><th>aKep</th><th>aKem</th><th>MK</th><th>MKep</th><th>MKem</th><th>mK</th><th>mKep</th><th>mKem</th></tr></thead>\n",
       "<thead><tr><th></th><th>deg</th><th>deg</th><th>mas</th><th>mas</th><th>mag</th><th></th><th>mag</th><th></th><th>mag</th><th></th><th>mag</th><th></th><th>mag</th><th></th><th>mag</th><th></th><th>mag</th><th></th><th>mag</th><th></th><th></th><th></th><th></th><th></th><th></th><th></th><th></th><th></th><th></th><th></th><th></th><th></th><th></th><th></th><th></th><th></th><th></th><th></th><th></th><th></th><th></th><th></th><th></th><th></th><th></th><th></th><th></th><th></th><th></th><th></th><th></th><th></th><th></th><th></th><th></th><th></th><th></th><th></th><th></th><th></th><th></th><th></th><th></th><th></th><th></th><th></th><th></th><th></th><th></th><th></th><th></th><th></th><th></th><th></th><th></th><th></th><th></th><th></th><th></th><th></th><th></th><th></th><th></th><th></th><th></th><th></th><th></th><th></th><th></th><th></th><th></th><th></th><th></th><th></th><th></th><th></th><th></th></tr></thead>\n",
       "<thead><tr><th>str21</th><th>float64</th><th>float64</th><th>float64</th><th>float32</th><th>float32</th><th>float64</th><th>float32</th><th>float64</th><th>float32</th><th>float64</th><th>float32</th><th>float32</th><th>float32</th><th>float32</th><th>float32</th><th>float32</th><th>float32</th><th>float32</th><th>float32</th><th>float32</th><th>float64</th><th>float64</th><th>float64</th><th>float64</th><th>float64</th><th>float64</th><th>float64</th><th>float64</th><th>float64</th><th>float64</th><th>float64</th><th>float64</th><th>float64</th><th>float64</th><th>float64</th><th>float64</th><th>float64</th><th>float64</th><th>float64</th><th>float64</th><th>float64</th><th>float64</th><th>float64</th><th>float64</th><th>float64</th><th>float64</th><th>float64</th><th>float64</th><th>float64</th><th>float64</th><th>float64</th><th>float64</th><th>float64</th><th>float64</th><th>float64</th><th>float64</th><th>float64</th><th>float64</th><th>float64</th><th>float64</th><th>float64</th><th>float64</th><th>float64</th><th>float64</th><th>float64</th><th>float64</th><th>float64</th><th>float64</th><th>float64</th><th>float64</th><th>float64</th><th>float64</th><th>float64</th><th>float64</th><th>float64</th><th>float64</th><th>float64</th><th>float64</th><th>float64</th><th>float64</th><th>float64</th><th>float64</th><th>float64</th><th>float64</th><th>float64</th><th>float64</th><th>float64</th><th>float64</th><th>float64</th><th>float64</th><th>float64</th><th>float64</th><th>float64</th><th>float64</th><th>float64</th><th>float64</th><th>float64</th></tr></thead>\n",
       "<tr><td>1022096392749670016</td><td>145.93959651092428</td><td>55.952388737534136</td><td>19.266700572347492</td><td>0.01887033</td><td>7.7452164</td><td>0.007181938969436053</td><td>8.088248</td><td>0.024051615865364074</td><td>7.2756886</td><td>0.02388009262163658</td><td>8.54</td><td>-99.000</td><td>7.75</td><td>-99.000</td><td>6.573</td><td>0.029</td><td>6.223</td><td>0.034</td><td>6.184</td><td>0.017</td><td>51.826133728027344</td><td>0.040660858154296875</td><td>0.044971466064453125</td><td>158.92257837077454</td><td>45.90248575416284</td><td>0.0</td><td>0.0</td><td>0.0</td><td>4.172472238540649</td><td>0.009067233883681247</td><td>0.008884843670668552</td><td>7.745216369628906</td><td>0.007181938969435642</td><td>0.007181938969435642</td><td>0.0</td><td>0.0</td><td>0.0</td><td>4.5155041217803955</td><td>0.02593691077960969</td><td>0.025754520566596995</td><td>8.088248252868652</td><td>0.024051615865364084</td><td>0.024051615865364084</td><td>0.0</td><td>0.0</td><td>0.0</td><td>3.70294451713562</td><td>0.02576538753588231</td><td>0.025582997322869616</td><td>7.275688648223877</td><td>0.023880092621636706</td><td>0.023880092621636706</td><td>0.0</td><td>0.0</td><td>0.0</td><td>4.9672558307647705</td><td>0.02188529491424518</td><td>0.021702904701232484</td><td>8.539999961853027</td><td>0.019999999999999574</td><td>0.019999999999999574</td><td>0.0</td><td>0.0</td><td>0.0</td><td>4.177255868911743</td><td>0.02188529491424518</td><td>0.021702904701232484</td><td>7.75</td><td>0.019999999999999574</td><td>0.019999999999999574</td><td>0.0</td><td>0.0</td><td>0.0</td><td>3.000255823135376</td><td>0.03088510036468506</td><td>0.030702710151672363</td><td>6.572999954223633</td><td>0.028999805450439453</td><td>0.028999805450439453</td><td>0.0</td><td>0.0</td><td>0.0</td><td>2.6502559185028076</td><td>0.03588521480560303</td><td>0.03570282459259033</td><td>6.2230000495910645</td><td>0.03399991989135742</td><td>0.03399991989135742</td><td>0.0</td><td>0.0</td><td>0.0</td><td>2.6112558841705322</td><td>0.018885493278503418</td><td>0.018703103065490723</td><td>6.184000015258789</td><td>0.017000198364257812</td><td>0.017000198364257812</td></tr>\n",
       "<tr><td>3107142829863485952</td><td>101.76822041702867</td><td>-1.2075151625364267</td><td>0.432227248321794</td><td>0.030997224</td><td>12.621653</td><td>0.0006344411880043353</td><td>12.802992</td><td>0.0020885144822050884</td><td>12.291391</td><td>0.0017593474516210648</td><td>13.01</td><td>0.020</td><td>12.72</td><td>0.020</td><td>11.903</td><td>0.023</td><td>11.838</td><td>0.023</td><td>11.8</td><td>0.024</td><td>2193.359375</td><td>145.941162109375</td><td>138.426025390625</td><td>213.5092718420073</td><td>-1.5216790901099373</td><td>1.0972506348348021</td><td>0.2147918691552715</td><td>0.01373223426890191</td><td>-0.181146794960533</td><td>0.15592651470556262</td><td>0.3553076827950612</td><td>11.524401968314612</td><td>0.014366675456907174</td><td>0.2154263103432772</td><td>1.3107321146267983</td><td>0.25658185279147117</td><td>0.01640398272773691</td><td>-0.2132890108365153</td><td>0.16005233645859995</td><td>0.3985517397254572</td><td>11.492259752438631</td><td>0.018492497209942726</td><td>0.25867036727367676</td><td>0.7576583159506094</td><td>0.14831510750373622</td><td>0.009482192272307954</td><td>-0.17181570654509315</td><td>0.15280137897258683</td><td>0.28995582740713743</td><td>11.533733056730055</td><td>0.01124153972392783</td><td>0.15007445495535698</td><td>1.5085403078773538</td><td>0.2953037183467466</td><td>0.018879577968958783</td><td>-0.20408884227066437</td><td>0.180439874981289</td><td>0.45518554856220206</td><td>11.501459921004482</td><td>0.03888003573262999</td><td>0.31530417611041806</td><td>1.1924453025900386</td><td>0.23342666413430613</td><td>0.014923607905210634</td><td>-0.17799379883637556</td><td>0.1764839049175393</td><td>0.39330849434976045</td><td>11.527554964438771</td><td>0.034924065668882065</td><td>0.2534271218979782</td><td>0.3091529886603355</td><td>0.06051812246095384</td><td>0.0038690898236336535</td><td>-0.11170187400579579</td><td>0.1684286925610614</td><td>0.22339925840150343</td><td>11.593846889269352</td><td>0.026868853312402408</td><td>0.08351788594972298</td><td>0.18290999329090118</td><td>0.03580547424522185</td><td>0.002289142332892874</td><td>-0.05045845901966217</td><td>0.16684874507032177</td><td>0.19868661018577072</td><td>11.655090304255486</td><td>0.02528890582166099</td><td>0.058805237733992044</td><td>0.11801399567127227</td><td>0.02310178359617085</td><td>0.0014769604902630795</td><td>-0.023562568211556112</td><td>0.16703696758560227</td><td>0.18698332389463346</td><td>11.68198619506359</td><td>0.025477128336943267</td><td>0.047101951442849455</td></tr>\n",
       "</table></div>"
      ],
      "text/plain": [
       "<Table length=2>\n",
       "       Source               ra         ...         mKem        \n",
       "                           deg         ...                     \n",
       "       str21             float64       ...       float64       \n",
       "------------------- ------------------ ... --------------------\n",
       "1022096392749670016 145.93959651092428 ... 0.017000198364257812\n",
       "3107142829863485952 101.76822041702867 ... 0.047101951442849455"
      ]
     },
     "execution_count": 5,
     "metadata": {},
     "output_type": "execute_result"
    }
   ],
   "source": [
    "result_table"
   ]
  },
  {
   "cell_type": "markdown",
   "metadata": {},
   "source": [
    "### Querying DR2 catalog\n",
    "\n",
    "If DR2 catalog is queried, then __Gaia DR2 IDs__ must be passed."
   ]
  },
  {
   "cell_type": "code",
   "execution_count": 6,
   "metadata": {},
   "outputs": [
    {
     "name": "stdout",
     "output_type": "stream",
     "text": [
      "Using Combined19 map from mwdust\n",
      "Querying Gaia DR2 catalog...\n",
      "Downloading Simbad data for all stars...\n",
      "Calculating distances, absolute magnitudes...\n"
     ]
    },
    {
     "data": {
      "application/vnd.jupyter.widget-view+json": {
       "model_id": "1763b9a8622948ebb4f0d45a53e83ae9",
       "version_major": 2,
       "version_minor": 0
      },
      "text/plain": [
       "  0%|          | 0/2 [00:00<?, ?it/s]"
      ]
     },
     "metadata": {},
     "output_type": "display_data"
    }
   ],
   "source": [
    "result_table_dr2 = query_gaia(targets,gaiaDR=2)"
   ]
  },
  {
   "cell_type": "markdown",
   "metadata": {},
   "source": [
    "The result is an Astropy Table with distance probabilistically estimated from parallaxes."
   ]
  },
  {
   "cell_type": "code",
   "execution_count": 7,
   "metadata": {},
   "outputs": [
    {
     "data": {
      "text/html": [
       "<div><i>Table length=2</i>\n",
       "<table id=\"table140695233831184\" class=\"table-striped table-bordered table-condensed\">\n",
       "<thead><tr><th>Source</th><th>ra</th><th>dec</th><th>parallax</th><th>sig_parallax</th><th>Gmag</th><th>sig_Gmag</th><th>BPmag</th><th>sig_BPmag</th><th>RPmag</th><th>sig_RPmag</th><th>Bmag</th><th>sig_Bmag</th><th>Vmag</th><th>sig_Vmag</th><th>Jmag</th><th>sig_Jmag</th><th>Hmag</th><th>sig_Hmag</th><th>Kmag</th><th>sig_Kmag</th><th>dist</th><th>distep</th><th>distem</th><th>lon_deg</th><th>lat_deg</th><th>aG</th><th>aGep</th><th>aGem</th><th>MG</th><th>MGep</th><th>MGem</th><th>mG</th><th>mGep</th><th>mGem</th><th>aBP</th><th>aBPep</th><th>aBPem</th><th>MBP</th><th>MBPep</th><th>MBPem</th><th>mBP</th><th>mBPep</th><th>mBPem</th><th>aRP</th><th>aRPep</th><th>aRPem</th><th>MRP</th><th>MRPep</th><th>MRPem</th><th>mRP</th><th>mRPep</th><th>mRPem</th><th>aB</th><th>aBep</th><th>aBem</th><th>MB</th><th>MBep</th><th>MBem</th><th>mB</th><th>mBep</th><th>mBem</th><th>aV</th><th>aVep</th><th>aVem</th><th>MV</th><th>MVep</th><th>MVem</th><th>mV</th><th>mVep</th><th>mVem</th><th>aJ</th><th>aJep</th><th>aJem</th><th>MJ</th><th>MJep</th><th>MJem</th><th>mJ</th><th>mJep</th><th>mJem</th><th>aH</th><th>aHep</th><th>aHem</th><th>MH</th><th>MHep</th><th>MHem</th><th>mH</th><th>mHep</th><th>mHem</th><th>aK</th><th>aKep</th><th>aKem</th><th>MK</th><th>MKep</th><th>MKem</th><th>mK</th><th>mKep</th><th>mKem</th></tr></thead>\n",
       "<thead><tr><th></th><th>deg</th><th>deg</th><th>mas</th><th>mas</th><th>mag</th><th></th><th>mag</th><th></th><th>mag</th><th></th><th>mag</th><th></th><th>mag</th><th></th><th>mag</th><th></th><th>mag</th><th></th><th>mag</th><th></th><th></th><th></th><th></th><th></th><th></th><th></th><th></th><th></th><th></th><th></th><th></th><th></th><th></th><th></th><th></th><th></th><th></th><th></th><th></th><th></th><th></th><th></th><th></th><th></th><th></th><th></th><th></th><th></th><th></th><th></th><th></th><th></th><th></th><th></th><th></th><th></th><th></th><th></th><th></th><th></th><th></th><th></th><th></th><th></th><th></th><th></th><th></th><th></th><th></th><th></th><th></th><th></th><th></th><th></th><th></th><th></th><th></th><th></th><th></th><th></th><th></th><th></th><th></th><th></th><th></th><th></th><th></th><th></th><th></th><th></th><th></th><th></th><th></th><th></th><th></th><th></th><th></th></tr></thead>\n",
       "<thead><tr><th>str21</th><th>float64</th><th>float64</th><th>float64</th><th>float64</th><th>float32</th><th>float64</th><th>float32</th><th>float64</th><th>float32</th><th>float64</th><th>float32</th><th>float32</th><th>float32</th><th>float32</th><th>float32</th><th>float32</th><th>float32</th><th>float32</th><th>float32</th><th>float32</th><th>float64</th><th>float64</th><th>float64</th><th>float64</th><th>float64</th><th>float64</th><th>float64</th><th>float64</th><th>float64</th><th>float64</th><th>float64</th><th>float64</th><th>float64</th><th>float64</th><th>float64</th><th>float64</th><th>float64</th><th>float64</th><th>float64</th><th>float64</th><th>float64</th><th>float64</th><th>float64</th><th>float64</th><th>float64</th><th>float64</th><th>float64</th><th>float64</th><th>float64</th><th>float64</th><th>float64</th><th>float64</th><th>float64</th><th>float64</th><th>float64</th><th>float64</th><th>float64</th><th>float64</th><th>float64</th><th>float64</th><th>float64</th><th>float64</th><th>float64</th><th>float64</th><th>float64</th><th>float64</th><th>float64</th><th>float64</th><th>float64</th><th>float64</th><th>float64</th><th>float64</th><th>float64</th><th>float64</th><th>float64</th><th>float64</th><th>float64</th><th>float64</th><th>float64</th><th>float64</th><th>float64</th><th>float64</th><th>float64</th><th>float64</th><th>float64</th><th>float64</th><th>float64</th><th>float64</th><th>float64</th><th>float64</th><th>float64</th><th>float64</th><th>float64</th><th>float64</th><th>float64</th><th>float64</th><th>float64</th></tr></thead>\n",
       "<tr><td>1022096392749670016</td><td>145.93959226288555</td><td>55.95239269960827</td><td>19.277532306604552</td><td>0.03343194611367065</td><td>7.7937016</td><td>0.012570032498626791</td><td>8.1552515</td><td>0.038804118205489575</td><td>7.367436</td><td>0.03560460850334358</td><td>8.54</td><td>-99.000</td><td>7.75</td><td>-99.000</td><td>6.573</td><td>0.029</td><td>6.223</td><td>0.034</td><td>6.184</td><td>0.017</td><td>51.87414874148742</td><td>0.0891440914409074</td><td>0.08908409084090607</td><td>158.9225742720827</td><td>45.902482118266626</td><td>0.0</td><td>0.0</td><td>0.0</td><td>4.2188973476900475</td><td>0.013046969776703499</td><td>0.013010926166682424</td><td>7.793674517138414</td><td>0.012492582713060862</td><td>0.012492948098652867</td><td>0.0</td><td>0.0</td><td>0.0</td><td>4.580228054832856</td><td>0.03885830393406131</td><td>0.03852396343961306</td><td>8.155167746899021</td><td>0.038565028081066544</td><td>0.03856615603882929</td><td>0.0</td><td>0.0</td><td>0.0</td><td>3.79242611742484</td><td>0.035703094077422115</td><td>0.035385582689146045</td><td>7.367359081995247</td><td>0.03538523203840338</td><td>0.03538626699284464</td><td>0.0</td><td>0.0</td><td>0.0</td><td>4.965118069467221</td><td>0.020282138388814985</td><td>0.02018711115041416</td><td>8.539956793191774</td><td>0.019876770747291772</td><td>0.019877352107114277</td><td>0.0</td><td>0.0</td><td>0.0</td><td>4.175118107614193</td><td>0.020282138388814985</td><td>0.02018711115041416</td><td>7.749956831338746</td><td>0.01987677074729266</td><td>0.01987735210711339</td><td>0.0</td><td>0.0</td><td>0.0</td><td>2.998025292249327</td><td>0.0291551561762855</td><td>0.028906115384708997</td><td>6.572937359666616</td><td>0.028821316754251036</td><td>0.02882215972596658</td><td>0.0</td><td>0.0</td><td>0.0</td><td>2.648006946167431</td><td>0.03411431133917109</td><td>0.03382855899612647</td><td>6.222926662862945</td><td>0.033790512106756765</td><td>0.03379150041850654</td><td>0.0</td><td>0.0</td><td>0.0</td><td>2.609154383087451</td><td>0.017350237770220378</td><td>0.017266900610069413</td><td>6.18396332189473</td><td>0.016895256053377494</td><td>0.016895750209253713</td></tr>\n",
       "<tr><td>3107142829863485952</td><td>101.76822078135328</td><td>-1.207515192087555</td><td>0.2784408581785764</td><td>0.07150647466161306</td><td>12.631575</td><td>0.0009382113738554969</td><td>12.801229</td><td>0.0038396854144956893</td><td>12.298964</td><td>0.002020975902707495</td><td>13.01</td><td>0.020</td><td>12.72</td><td>0.020</td><td>11.903</td><td>0.023</td><td>11.838</td><td>0.023</td><td>11.8</td><td>0.024</td><td>3832.632796327963</td><td>1205.1134011340114</td><td>781.2820460204603</td><td>213.50927203436055</td><td>-1.521678779347881</td><td>1.7696987325866222</td><td>0.4122728676707361</td><td>0.2407382729227452</td><td>-2.0556418277891266</td><td>0.7348429400105714</td><td>1.005430029894729</td><td>10.861819577586186</td><td>0.2396506499506046</td><td>0.4117372038317537</td><td>2.1140119571358085</td><td>0.49248482569953156</td><td>0.2875763982466415</td><td>-2.2304442769199397</td><td>0.7812866080966312</td><td>1.0848303808647772</td><td>10.687120093832506</td><td>0.28631905727537976</td><td>0.49173506812071466</td><td>1.221987865765398</td><td>0.2846769522977459</td><td>0.1662312589821069</td><td>-1.8407000304353147</td><td>0.660724716880748</td><td>0.8775676772207697</td><td>11.07694807645693</td><td>0.16551958658712707</td><td>0.28428683795836207</td><td>2.4330465493950886</td><td>0.5668078185428684</td><td>0.3309757833108171</td><td>-2.341223028975283</td><td>0.8260060572224985</td><td>1.1580442280453713</td><td>10.57684229168457</td><td>0.3304529423714726</td><td>0.5664240439997599</td><td>1.923233282968368</td><td>0.44804061062430733</td><td>0.2616241117450673</td><td>-2.1210607288462935</td><td>0.7566343652693712</td><td>1.0398941209468324</td><td>10.796809821669349</td><td>0.2612950590289671</td><td>0.4473505455900977</td><td>0.4986168472711183</td><td>0.11615886574826562</td><td>0.06782858373119044</td><td>-1.5138191409378114</td><td>0.5639251848339407</td><td>0.7078604952534233</td><td>11.404163447704212</td><td>0.07020757389433818</td><td>0.11018300235435596</td><td>0.2950060569826599</td><td>0.0687252529783482</td><td>0.04013069984852824</td><td>-1.3751904042616552</td><td>0.5365573045018889</td><td>0.6604500211164646</td><td>11.541188201068914</td><td>0.0460037103824984</td><td>0.06204263123418663</td><td>0.19033866277815115</td><td>0.044341709064495</td><td>0.025892430222099444</td><td>-1.3084410644785818</td><td>0.5224782172061465</td><td>0.636526800950777</td><td>11.607118544052254</td><td>0.03606880692052172</td><td>0.04095751794617364</td></tr>\n",
       "</table></div>"
      ],
      "text/plain": [
       "<Table length=2>\n",
       "       Source               ra         ...         mKem        \n",
       "                           deg         ...                     \n",
       "       str21             float64       ...       float64       \n",
       "------------------- ------------------ ... --------------------\n",
       "1022096392749670016 145.93959226288555 ... 0.016895750209253713\n",
       "3107142829863485952 101.76822078135328 ...  0.04095751794617364"
      ]
     },
     "execution_count": 7,
     "metadata": {},
     "output_type": "execute_result"
    }
   ],
   "source": [
    "result_table_dr2"
   ]
  },
  {
   "cell_type": "markdown",
   "metadata": {},
   "source": [
    "### Extinction correction\n",
    "\n",
    "The extinction correction is done using the [mwdust](https://github.com/jobovy/mwdust) galactic dust maps. Given the coordinates and the distance of a target, `mwdust` returns the $E(B-V)$ color excess. From this, the $A_{\\lambda}$ extinction coefficient can be calculated using the extinction vector $R_{\\lambda}$:\n",
    "$$ A_{\\lambda} = R_{\\lambda} \\times E(B-V) ,$$\n",
    "where $\\lambda$ denotes the passband.\n",
    "\n",
    "The values of the extinction vector are from [Green+ (2019)](https://ui.adsabs.harvard.edu/abs/2019ApJ...887...93G/abstract), whose results are based on [Schlafly+ (2016)](https://ui.adsabs.harvard.edu/abs/2016ApJ...821...78S/abstract). Since not all filters are available, [Huber+ (2017)](https://ui.adsabs.harvard.edu/abs/2017ApJ...844..102H/abstract) interpolated [Cardelli+ (1989)](https://ui.adsabs.harvard.edu/abs/1989ApJ...345..245C/abstract) extinction law to get extinction in e.g., the Gaia passbands, too.\n",
    "\n",
    "| Passband | $R_{\\lambda}$ |\n",
    "| --- | --- |\n",
    "| Johnson-Cousins B | 3.8681 |\n",
    "| Johnson-Cousins V | 3.0576 |\n",
    "| Tycho B$_{\\rm T}$ | 3.9958 |\n",
    "| Tycho V$_{\\rm T}$  | 3.1870 |\n",
    "| SDSS u | 4.5890 |\n",
    "| SDSS g | 3.6134 |\n",
    "| SDSS r | 2.6198 |\n",
    "| SDSS i | 1.9872 |\n",
    "| SDSS z | 1.4617 |\n",
    "| 2MASS J | 0.7927 |\n",
    "| 2MASS H | 0.4690 |\n",
    "| 2MASS K | 0.3026 |\n",
    "| Gaia G | 2.8135 |\n",
    "| Gaia BP | 3.3609 |\n",
    "| Gaia RP | 1.9427 |"
   ]
  },
  {
   "cell_type": "markdown",
   "metadata": {},
   "source": [
    "#### Selecting the dust map\n",
    "\n",
    "There are several dust maps implemented in `mwdust` (see [here](https://github.com/jobovy/mwdust?tab=readme-ov-file#dust-data)). By default the _Combined19_ map is used, however any other available map can also be selected. E.g. changing the map to Green19 can be done by passing the name of the map to `dustmodel`.\n",
    "\n",
    "__Note:__ the desired dust map _might_ be downloaded beforehand.\n",
    "\n",
    "__Note:__ if the distance of the star is too large and the color excess falls outside the reliable range of the given dust map, no warning is given!"
   ]
  },
  {
   "cell_type": "code",
   "execution_count": 8,
   "metadata": {},
   "outputs": [
    {
     "name": "stdout",
     "output_type": "stream",
     "text": [
      "Using Green19 map from mwdust\n",
      "Querying Gaia DR3 and BJ catalogs...\n",
      "Downloading Simbad data for all stars...\n",
      "Calculating distances, absolute magnitudes...\n"
     ]
    },
    {
     "data": {
      "application/vnd.jupyter.widget-view+json": {
       "model_id": "c7d609ea273d4eb1bcbd1922ec61d7ad",
       "version_major": 2,
       "version_minor": 0
      },
      "text/plain": [
       "  0%|          | 0/2 [00:00<?, ?it/s]"
      ]
     },
     "metadata": {},
     "output_type": "display_data"
    }
   ],
   "source": [
    "result_table = query_gaia(targets,dustmodel='Green19')"
   ]
  },
  {
   "cell_type": "code",
   "execution_count": 9,
   "metadata": {},
   "outputs": [
    {
     "data": {
      "text/html": [
       "<div><i>Table length=2</i>\n",
       "<table id=\"table140695233846608\" class=\"table-striped table-bordered table-condensed\">\n",
       "<thead><tr><th>Source</th><th>ra</th><th>dec</th><th>parallax</th><th>sig_parallax</th><th>Gmag</th><th>sig_Gmag</th><th>BPmag</th><th>sig_BPmag</th><th>RPmag</th><th>sig_RPmag</th><th>Bmag</th><th>sig_Bmag</th><th>Vmag</th><th>sig_Vmag</th><th>Jmag</th><th>sig_Jmag</th><th>Hmag</th><th>sig_Hmag</th><th>Kmag</th><th>sig_Kmag</th><th>dist</th><th>distep</th><th>distem</th><th>lon_deg</th><th>lat_deg</th><th>aG</th><th>aGep</th><th>aGem</th><th>MG</th><th>MGep</th><th>MGem</th><th>mG</th><th>mGep</th><th>mGem</th><th>aBP</th><th>aBPep</th><th>aBPem</th><th>MBP</th><th>MBPep</th><th>MBPem</th><th>mBP</th><th>mBPep</th><th>mBPem</th><th>aRP</th><th>aRPep</th><th>aRPem</th><th>MRP</th><th>MRPep</th><th>MRPem</th><th>mRP</th><th>mRPep</th><th>mRPem</th><th>aB</th><th>aBep</th><th>aBem</th><th>MB</th><th>MBep</th><th>MBem</th><th>mB</th><th>mBep</th><th>mBem</th><th>aV</th><th>aVep</th><th>aVem</th><th>MV</th><th>MVep</th><th>MVem</th><th>mV</th><th>mVep</th><th>mVem</th><th>aJ</th><th>aJep</th><th>aJem</th><th>MJ</th><th>MJep</th><th>MJem</th><th>mJ</th><th>mJep</th><th>mJem</th><th>aH</th><th>aHep</th><th>aHem</th><th>MH</th><th>MHep</th><th>MHem</th><th>mH</th><th>mHep</th><th>mHem</th><th>aK</th><th>aKep</th><th>aKem</th><th>MK</th><th>MKep</th><th>MKem</th><th>mK</th><th>mKep</th><th>mKem</th></tr></thead>\n",
       "<thead><tr><th></th><th>deg</th><th>deg</th><th>mas</th><th>mas</th><th>mag</th><th></th><th>mag</th><th></th><th>mag</th><th></th><th>mag</th><th></th><th>mag</th><th></th><th>mag</th><th></th><th>mag</th><th></th><th>mag</th><th></th><th></th><th></th><th></th><th></th><th></th><th></th><th></th><th></th><th></th><th></th><th></th><th></th><th></th><th></th><th></th><th></th><th></th><th></th><th></th><th></th><th></th><th></th><th></th><th></th><th></th><th></th><th></th><th></th><th></th><th></th><th></th><th></th><th></th><th></th><th></th><th></th><th></th><th></th><th></th><th></th><th></th><th></th><th></th><th></th><th></th><th></th><th></th><th></th><th></th><th></th><th></th><th></th><th></th><th></th><th></th><th></th><th></th><th></th><th></th><th></th><th></th><th></th><th></th><th></th><th></th><th></th><th></th><th></th><th></th><th></th><th></th><th></th><th></th><th></th><th></th><th></th><th></th></tr></thead>\n",
       "<thead><tr><th>str21</th><th>float64</th><th>float64</th><th>float64</th><th>float32</th><th>float32</th><th>float64</th><th>float32</th><th>float64</th><th>float32</th><th>float64</th><th>float32</th><th>float32</th><th>float32</th><th>float32</th><th>float32</th><th>float32</th><th>float32</th><th>float32</th><th>float32</th><th>float32</th><th>float64</th><th>float64</th><th>float64</th><th>float64</th><th>float64</th><th>float64</th><th>float64</th><th>float64</th><th>float64</th><th>float64</th><th>float64</th><th>float64</th><th>float64</th><th>float64</th><th>float64</th><th>float64</th><th>float64</th><th>float64</th><th>float64</th><th>float64</th><th>float64</th><th>float64</th><th>float64</th><th>float64</th><th>float64</th><th>float64</th><th>float64</th><th>float64</th><th>float64</th><th>float64</th><th>float64</th><th>float64</th><th>float64</th><th>float64</th><th>float64</th><th>float64</th><th>float64</th><th>float64</th><th>float64</th><th>float64</th><th>float64</th><th>float64</th><th>float64</th><th>float64</th><th>float64</th><th>float64</th><th>float64</th><th>float64</th><th>float64</th><th>float64</th><th>float64</th><th>float64</th><th>float64</th><th>float64</th><th>float64</th><th>float64</th><th>float64</th><th>float64</th><th>float64</th><th>float64</th><th>float64</th><th>float64</th><th>float64</th><th>float64</th><th>float64</th><th>float64</th><th>float64</th><th>float64</th><th>float64</th><th>float64</th><th>float64</th><th>float64</th><th>float64</th><th>float64</th><th>float64</th><th>float64</th><th>float64</th></tr></thead>\n",
       "<tr><td>1022096392749670016</td><td>145.93959651092428</td><td>55.952388737534136</td><td>19.266700572347492</td><td>0.01887033</td><td>7.7452164</td><td>0.007181938969436053</td><td>8.088248</td><td>0.024051615865364074</td><td>7.2756886</td><td>0.02388009262163658</td><td>8.54</td><td>-99.000</td><td>7.75</td><td>-99.000</td><td>6.573</td><td>0.029</td><td>6.223</td><td>0.034</td><td>6.184</td><td>0.017</td><td>51.831443786621094</td><td>0.0460662841796875</td><td>0.050594329833984375</td><td>158.92257837077454</td><td>45.90248575416284</td><td>0.0</td><td>0.0</td><td>0.0</td><td>4.172249913215637</td><td>0.00930267223054404</td><td>0.009111341320815036</td><td>7.745216369628906</td><td>0.007181938969435642</td><td>0.007181938969435642</td><td>0.0</td><td>0.0</td><td>0.0</td><td>4.515281796455383</td><td>0.026172349126472483</td><td>0.02598101821674348</td><td>8.088248252868652</td><td>0.024051615865364084</td><td>0.024051615865364084</td><td>0.0</td><td>0.0</td><td>0.0</td><td>3.702722191810608</td><td>0.026000825882745104</td><td>0.0258094949730161</td><td>7.275688648223877</td><td>0.023880092621636706</td><td>0.023880092621636706</td><td>0.0</td><td>0.0</td><td>0.0</td><td>4.967033505439758</td><td>0.022120733261107972</td><td>0.021929402351378968</td><td>8.539999961853027</td><td>0.019999999999999574</td><td>0.019999999999999574</td><td>0.0</td><td>0.0</td><td>0.0</td><td>4.177033543586731</td><td>0.022120733261107972</td><td>0.021929402351378968</td><td>7.75</td><td>0.019999999999999574</td><td>0.019999999999999574</td><td>0.0</td><td>0.0</td><td>0.0</td><td>3.0000334978103638</td><td>0.03112053871154785</td><td>0.030929207801818848</td><td>6.572999954223633</td><td>0.028999805450439453</td><td>0.028999805450439453</td><td>0.0</td><td>0.0</td><td>0.0</td><td>2.6500335931777954</td><td>0.03612065315246582</td><td>0.035929322242736816</td><td>6.2230000495910645</td><td>0.03399991989135742</td><td>0.03399991989135742</td><td>0.0</td><td>0.0</td><td>0.0</td><td>2.61103355884552</td><td>0.01912093162536621</td><td>0.018929600715637207</td><td>6.184000015258789</td><td>0.017000198364257812</td><td>0.017000198364257812</td></tr>\n",
       "<tr><td>3107142829863485952</td><td>101.76822041702867</td><td>-1.2075151625364267</td><td>0.432227248321794</td><td>0.030997224</td><td>12.621653</td><td>0.0006344411880043353</td><td>12.802992</td><td>0.0020885144822050884</td><td>12.291391</td><td>0.0017593474516210648</td><td>13.01</td><td>0.020</td><td>12.72</td><td>0.020</td><td>11.903</td><td>0.023</td><td>11.838</td><td>0.023</td><td>11.8</td><td>0.024</td><td>2190.859619140625</td><td>197.47900390625</td><td>151.5408935546875</td><td>213.5092718420073</td><td>-1.5216790901099373</td><td>1.0972506348348021</td><td>0.2813463101744822</td><td>0.01746006095976571</td><td>-0.17867081801656326</td><td>0.17374130314264136</td><td>0.46938729127948164</td><td>11.524401968314612</td><td>0.018094502147770086</td><td>0.2819807513624877</td><td>1.3107321146267983</td><td>0.3360851498919084</td><td>0.020857096725901858</td><td>-0.21081303389254558</td><td>0.1785924122029794</td><td>0.5255802042911046</td><td>11.492259752438631</td><td>0.022945611208106342</td><td>0.33817366437411245</td><td>0.7576583159506094</td><td>0.19427135861061418</td><td>0.012056279543791626</td><td>-0.16933972960112342</td><td>0.1694624279902861</td><td>0.383437245979227</td><td>11.533733056730055</td><td>0.013815626995413055</td><td>0.1960307060622366</td><td>1.5085403078773538</td><td>0.3868051982805827</td><td>0.024004730459570967</td><td>-0.20161286532669465</td><td>0.19965198921811478</td><td>0.5942121959612479</td><td>11.501459921004482</td><td>0.04400518822324351</td><td>0.4068056560442539</td><td>1.1924453025900386</td><td>0.305755198782921</td><td>0.01897485133607879</td><td>-0.17551782189240583</td><td>0.19462211009462393</td><td>0.5131621964635862</td><td>11.527554964438771</td><td>0.03897530909974911</td><td>0.325755656546594</td><td>0.3091529886603355</td><td>0.07926999527513978</td><td>0.0049194139028371775</td><td>-0.10922589706182606</td><td>0.1835659783864827</td><td>0.2896762986808987</td><td>11.593846889269352</td><td>0.027919177391606098</td><td>0.10226975876391009</td><td>0.18290999329090118</td><td>0.04689999720454216</td><td>0.00291056530898276</td><td>-0.047982482075692445</td><td>0.18155712979262617</td><td>0.2573063006103027</td><td>11.655090304255486</td><td>0.025910328797751347</td><td>0.06989976069331227</td><td>0.11801399567127227</td><td>0.030259998196363436</td><td>0.001877904184431095</td><td>-0.021086591267586385</td><td>0.1815248730259853</td><td>0.2416667059600357</td><td>11.68198619506359</td><td>0.025878072031112254</td><td>0.054260166043041735</td></tr>\n",
       "</table></div>"
      ],
      "text/plain": [
       "<Table length=2>\n",
       "       Source               ra         ...         mKem        \n",
       "                           deg         ...                     \n",
       "       str21             float64       ...       float64       \n",
       "------------------- ------------------ ... --------------------\n",
       "1022096392749670016 145.93959651092428 ... 0.017000198364257812\n",
       "3107142829863485952 101.76822041702867 ... 0.054260166043041735"
      ]
     },
     "execution_count": 9,
     "metadata": {},
     "output_type": "execute_result"
    }
   ],
   "source": [
    "result_table"
   ]
  },
  {
   "cell_type": "markdown",
   "metadata": {},
   "source": [
    "### Setting the parallax offset in Gaia DR2\n",
    "\n",
    "A parallax offset can be given if the Gaia DR2 catalog is used. There are four predefined options, which can be selected:\n",
    "\n",
    "- __Stassun__ : +0.08 mas (Stassun et al. 2018)\n",
    "- __Riess__ : +0.046  mas (Riess et al. 2018)\n",
    "- __BJ__ : +0.029  mas (Bailer-Jones et al. 2018)\n",
    "- __Zinn__ : +0.0528 mas (Zinn et al 2019)\n",
    "        \n",
    "or simply an offset in _mas_ can be passed."
   ]
  },
  {
   "cell_type": "code",
   "execution_count": 10,
   "metadata": {},
   "outputs": [
    {
     "name": "stdout",
     "output_type": "stream",
     "text": [
      "Using Combined19 map from mwdust\n",
      "Querying Gaia DR2 catalog...\n",
      "Downloading Simbad data for all stars...\n",
      "Calculating distances, absolute magnitudes...\n"
     ]
    },
    {
     "data": {
      "application/vnd.jupyter.widget-view+json": {
       "model_id": "1b1eac67dbdb4975bc3a6d7f18fd81e0",
       "version_major": 2,
       "version_minor": 0
      },
      "text/plain": [
       "  0%|          | 0/2 [00:00<?, ?it/s]"
      ]
     },
     "metadata": {},
     "output_type": "display_data"
    }
   ],
   "source": [
    "result_table = query_gaia(targets,gaiaDR=2,plx_offset='Stassun')"
   ]
  },
  {
   "cell_type": "code",
   "execution_count": 11,
   "metadata": {},
   "outputs": [
    {
     "data": {
      "text/html": [
       "<div><i>Table length=2</i>\n",
       "<table id=\"table140695252795088\" class=\"table-striped table-bordered table-condensed\">\n",
       "<thead><tr><th>Source</th><th>ra</th><th>dec</th><th>parallax</th><th>sig_parallax</th><th>Gmag</th><th>sig_Gmag</th><th>BPmag</th><th>sig_BPmag</th><th>RPmag</th><th>sig_RPmag</th><th>Bmag</th><th>sig_Bmag</th><th>Vmag</th><th>sig_Vmag</th><th>Jmag</th><th>sig_Jmag</th><th>Hmag</th><th>sig_Hmag</th><th>Kmag</th><th>sig_Kmag</th><th>dist</th><th>distep</th><th>distem</th><th>lon_deg</th><th>lat_deg</th><th>aG</th><th>aGep</th><th>aGem</th><th>MG</th><th>MGep</th><th>MGem</th><th>mG</th><th>mGep</th><th>mGem</th><th>aBP</th><th>aBPep</th><th>aBPem</th><th>MBP</th><th>MBPep</th><th>MBPem</th><th>mBP</th><th>mBPep</th><th>mBPem</th><th>aRP</th><th>aRPep</th><th>aRPem</th><th>MRP</th><th>MRPep</th><th>MRPem</th><th>mRP</th><th>mRPep</th><th>mRPem</th><th>aB</th><th>aBep</th><th>aBem</th><th>MB</th><th>MBep</th><th>MBem</th><th>mB</th><th>mBep</th><th>mBem</th><th>aV</th><th>aVep</th><th>aVem</th><th>MV</th><th>MVep</th><th>MVem</th><th>mV</th><th>mVep</th><th>mVem</th><th>aJ</th><th>aJep</th><th>aJem</th><th>MJ</th><th>MJep</th><th>MJem</th><th>mJ</th><th>mJep</th><th>mJem</th><th>aH</th><th>aHep</th><th>aHem</th><th>MH</th><th>MHep</th><th>MHem</th><th>mH</th><th>mHep</th><th>mHem</th><th>aK</th><th>aKep</th><th>aKem</th><th>MK</th><th>MKep</th><th>MKem</th><th>mK</th><th>mKep</th><th>mKem</th></tr></thead>\n",
       "<thead><tr><th></th><th>deg</th><th>deg</th><th>mas</th><th>mas</th><th>mag</th><th></th><th>mag</th><th></th><th>mag</th><th></th><th>mag</th><th></th><th>mag</th><th></th><th>mag</th><th></th><th>mag</th><th></th><th>mag</th><th></th><th></th><th></th><th></th><th></th><th></th><th></th><th></th><th></th><th></th><th></th><th></th><th></th><th></th><th></th><th></th><th></th><th></th><th></th><th></th><th></th><th></th><th></th><th></th><th></th><th></th><th></th><th></th><th></th><th></th><th></th><th></th><th></th><th></th><th></th><th></th><th></th><th></th><th></th><th></th><th></th><th></th><th></th><th></th><th></th><th></th><th></th><th></th><th></th><th></th><th></th><th></th><th></th><th></th><th></th><th></th><th></th><th></th><th></th><th></th><th></th><th></th><th></th><th></th><th></th><th></th><th></th><th></th><th></th><th></th><th></th><th></th><th></th><th></th><th></th><th></th><th></th><th></th></tr></thead>\n",
       "<thead><tr><th>str21</th><th>float64</th><th>float64</th><th>float64</th><th>float64</th><th>float32</th><th>float64</th><th>float32</th><th>float64</th><th>float32</th><th>float64</th><th>float32</th><th>float32</th><th>float32</th><th>float32</th><th>float32</th><th>float32</th><th>float32</th><th>float32</th><th>float32</th><th>float32</th><th>float64</th><th>float64</th><th>float64</th><th>float64</th><th>float64</th><th>float64</th><th>float64</th><th>float64</th><th>float64</th><th>float64</th><th>float64</th><th>float64</th><th>float64</th><th>float64</th><th>float64</th><th>float64</th><th>float64</th><th>float64</th><th>float64</th><th>float64</th><th>float64</th><th>float64</th><th>float64</th><th>float64</th><th>float64</th><th>float64</th><th>float64</th><th>float64</th><th>float64</th><th>float64</th><th>float64</th><th>float64</th><th>float64</th><th>float64</th><th>float64</th><th>float64</th><th>float64</th><th>float64</th><th>float64</th><th>float64</th><th>float64</th><th>float64</th><th>float64</th><th>float64</th><th>float64</th><th>float64</th><th>float64</th><th>float64</th><th>float64</th><th>float64</th><th>float64</th><th>float64</th><th>float64</th><th>float64</th><th>float64</th><th>float64</th><th>float64</th><th>float64</th><th>float64</th><th>float64</th><th>float64</th><th>float64</th><th>float64</th><th>float64</th><th>float64</th><th>float64</th><th>float64</th><th>float64</th><th>float64</th><th>float64</th><th>float64</th><th>float64</th><th>float64</th><th>float64</th><th>float64</th><th>float64</th><th>float64</th></tr></thead>\n",
       "<tr><td>1022096392749670016</td><td>145.93959226288555</td><td>55.95239269960827</td><td>19.277532306604552</td><td>0.03343194611367065</td><td>7.7937016</td><td>0.012570032498626791</td><td>8.1552515</td><td>0.038804118205489575</td><td>7.367436</td><td>0.03560460850334358</td><td>8.54</td><td>-99.000</td><td>7.75</td><td>-99.000</td><td>6.573</td><td>0.029</td><td>6.223</td><td>0.034</td><td>6.184</td><td>0.017</td><td>51.65976659766598</td><td>0.08840408404083888</td><td>0.08836088360883565</td><td>158.9225742720827</td><td>45.902482118266626</td><td>0.0</td><td>0.0</td><td>0.0</td><td>4.227894182210269</td><td>0.013030806596175282</td><td>0.013012296249788946</td><td>7.793674517138414</td><td>0.012492582713060862</td><td>0.012492948098652867</td><td>0.0</td><td>0.0</td><td>0.0</td><td>4.589225743008126</td><td>0.03885348450892767</td><td>0.038518885345538934</td><td>8.155167746899021</td><td>0.038565028081066544</td><td>0.03856615603882929</td><td>0.0</td><td>0.0</td><td>0.0</td><td>3.8014235319409115</td><td>0.0356994466157885</td><td>0.035379920733777936</td><td>7.367359081995247</td><td>0.03538523203840338</td><td>0.03538626699284464</td><td>0.0</td><td>0.0</td><td>0.0</td><td>4.974106774584016</td><td>0.020284509688115904</td><td>0.02017683465475084</td><td>8.539956793191774</td><td>0.019876770747291772</td><td>0.019877352107114277</td><td>0.0</td><td>0.0</td><td>0.0</td><td>4.184106812730989</td><td>0.020284509688115904</td><td>0.020176834654749953</td><td>7.749956831338746</td><td>0.01987677074729266</td><td>0.01987735210711339</td><td>0.0</td><td>0.0</td><td>0.0</td><td>3.0070175491396705</td><td>0.029152333025087795</td><td>0.028905708755822435</td><td>6.572937359666616</td><td>0.028821316754251036</td><td>0.02882215972596658</td><td>0.0</td><td>0.0</td><td>0.0</td><td>2.657003097080757</td><td>0.03411146917043251</td><td>0.033822337191342644</td><td>6.222926662862945</td><td>0.033790512106756765</td><td>0.03379150041850654</td><td>0.0</td><td>0.0</td><td>0.0</td><td>2.618143657011534</td><td>0.017349068044365534</td><td>0.017264308333109213</td><td>6.18396332189473</td><td>0.016895256053377494</td><td>0.016895750209253713</td></tr>\n",
       "<tr><td>3107142829863485952</td><td>101.76822078135328</td><td>-1.207515192087555</td><td>0.2784408581785764</td><td>0.07150647466161306</td><td>12.631575</td><td>0.0009382113738554969</td><td>12.801229</td><td>0.0038396854144956893</td><td>12.298964</td><td>0.002020975902707495</td><td>13.01</td><td>0.020</td><td>12.72</td><td>0.020</td><td>11.903</td><td>0.023</td><td>11.838</td><td>0.023</td><td>11.8</td><td>0.024</td><td>3002.1165711657113</td><td>774.5859362593628</td><td>522.2633730337302</td><td>213.50927203436055</td><td>-1.521678779347881</td><td>1.5100084833778324</td><td>0.25507143021589407</td><td>0.12459642264064508</td><td>-1.2656104946923428</td><td>0.5395534174390507</td><td>0.7529658084015112</td><td>11.121501819021775</td><td>0.12454852596685662</td><td>0.2545465746165796</td><td>1.8037962792522915</td><td>0.3046982197992494</td><td>0.1488379476283419</td><td>-1.3899511901198425</td><td>0.5640108325645211</td><td>0.8018706177346147</td><td>10.997197477331621</td><td>0.14910453299335913</td><td>0.30397998389938685</td><td>1.0426701505252982</td><td>0.17612839230080168</td><td>0.08603459661301027</td><td>-1.1310405663542102</td><td>0.501124140111731</td><td>0.6737948142508945</td><td>11.256183914643884</td><td>0.08614492686314534</td><td>0.1756999121809386</td><td>2.0760148958630262</td><td>0.3506815322340038</td><td>0.17129971931985621</td><td>-1.4539404226702475</td><td>0.5876219169390448</td><td>0.846843200061425</td><td>10.933519197228057</td><td>0.1787145637530454</td><td>0.3499675195094909</td><td>1.6410129697907134</td><td>0.2772007772241196</td><td>0.13540609062370623</td><td>-1.3088457606127673</td><td>0.5518162109318188</td><td>0.7734214697422517</td><td>11.078628340896056</td><td>0.14390704523226105</td><td>0.27653484999551914</td><td>0.4254484989284154</td><td>0.07186698505303862</td><td>0.03510533984930536</td><td>-0.9102087710381221</td><td>0.4520845836516781</td><td>0.569190509840144</td><td>11.474485679809568</td><td>0.051401608033915025</td><td>0.0713974068981944</td><td>0.2517160918347759</td><td>0.04252001512536285</td><td>0.02077003202891914</td><td>-0.801418271485054</td><td>0.43770573970390164</td><td>0.540009223337885</td><td>11.582862594722375</td><td>0.03807573774171402</td><td>0.04519717967328418</td><td>0.1624078665014993</td><td>0.027434022552099785</td><td>0.01340087780799773</td><td>-0.7499423187758572</td><td>0.4302515050169671</td><td>0.5254692066140176</td><td>11.634510862371974</td><td>0.03170678733197008</td><td>0.03456370625147187</td></tr>\n",
       "</table></div>"
      ],
      "text/plain": [
       "<Table length=2>\n",
       "       Source               ra         ...         mKem        \n",
       "                           deg         ...                     \n",
       "       str21             float64       ...       float64       \n",
       "------------------- ------------------ ... --------------------\n",
       "1022096392749670016 145.93959226288555 ... 0.016895750209253713\n",
       "3107142829863485952 101.76822078135328 ...  0.03456370625147187"
      ]
     },
     "execution_count": 11,
     "metadata": {},
     "output_type": "execute_result"
    }
   ],
   "source": [
    "result_table"
   ]
  }
 ],
 "metadata": {
  "kernelspec": {
   "display_name": "seismolab",
   "language": "python",
   "name": "seismolab"
  },
  "language_info": {
   "codemirror_mode": {
    "name": "ipython",
    "version": 3
   },
   "file_extension": ".py",
   "mimetype": "text/x-python",
   "name": "python",
   "nbconvert_exporter": "python",
   "pygments_lexer": "ipython3",
   "version": "3.7.13"
  }
 },
 "nbformat": 4,
 "nbformat_minor": 4
}
