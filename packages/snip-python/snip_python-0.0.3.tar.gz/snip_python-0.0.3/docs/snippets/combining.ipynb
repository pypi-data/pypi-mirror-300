{
 "cells": [
  {
   "cell_type": "code",
   "execution_count": 1,
   "metadata": {
    "tags": [
     "hide-cell"
    ]
   },
   "outputs": [],
   "source": [
    "# Hidden using cell tags!\n",
    "# Normally, you dont need to set this variable if you are using\n",
    "# the default deployment of the backend\n",
    "import os\n",
    "\n",
    "os.environ[\"SNIP_DEPLOYMENT_URL\"] = \"https://snip:4000\"\n",
    "os.environ[\"SNIP_ADDITIONAL_REQUEST_ARGS\"] = '{\"verify\": false}'"
   ]
  },
  {
   "cell_type": "markdown",
   "metadata": {},
   "source": [
    "# Combining different snippets\n",
    "\n",
    "\n",
    "To combine different snippets, we provide array snippets which can hold any number of snippets. The output of the array snippet is the concatenation of the outputs of the snippets in the array.\n",
    "\n",
    "Array Snippets can have their own coordinate system but they can also share the coordinate system with the page. "
   ]
  },
  {
   "cell_type": "markdown",
   "metadata": {},
   "source": []
  }
 ],
 "metadata": {
  "kernelspec": {
   "display_name": "snip",
   "language": "python",
   "name": "python3"
  },
  "language_info": {
   "codemirror_mode": {
    "name": "ipython",
    "version": 3
   },
   "file_extension": ".py",
   "mimetype": "text/x-python",
   "name": "python",
   "nbconvert_exporter": "python",
   "pygments_lexer": "ipython3",
   "version": "3.11.10"
  }
 },
 "nbformat": 4,
 "nbformat_minor": 2
}
