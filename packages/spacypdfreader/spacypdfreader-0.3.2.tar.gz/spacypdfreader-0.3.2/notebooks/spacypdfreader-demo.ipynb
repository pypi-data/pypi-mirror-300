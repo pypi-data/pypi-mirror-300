{
 "cells": [
  {
   "cell_type": "code",
   "execution_count": 1,
   "id": "c0e930be-4840-40f1-b031-34ddcc8bb933",
   "metadata": {},
   "outputs": [],
   "source": [
    "import spacy\n",
    "\n",
    "from spacypdfreader import pdf_reader\n",
    "from spacypdfreader.parsers.pdfminer import PdfminerParser\n",
    "from spacypdfreader.parsers.pytesseract import PytesseractParser"
   ]
  },
  {
   "cell_type": "code",
   "execution_count": 2,
   "id": "b35fe7f7-80e4-401f-8346-348acd29138a",
   "metadata": {},
   "outputs": [],
   "source": [
    "nlp = spacy.load(\"en_core_web_sm\")\n",
    "doc = pdf_reader(\"../tests/data/test_pdf_01.pdf\", nlp)"
   ]
  },
  {
   "cell_type": "code",
   "execution_count": 3,
   "id": "b35fe7f7-80e4-401f-8346-348acd29138a",
   "metadata": {},
   "outputs": [
    {
     "data": {
      "text/html": [
       "<pre style=\"white-space:pre;overflow-x:auto;line-height:normal;font-family:Menlo,'DejaVu Sans Mono',consolas,'Courier New',monospace\">PDF to text engine: <span style=\"color: #000080; text-decoration-color: #000080; font-weight: bold\">pdfminer</span><span style=\"color: #808000; text-decoration-color: #808000\">...</span>\n",
       "</pre>\n"
      ],
      "text/plain": [
       "PDF to text engine: \u001b[1;34mpdfminer\u001b[0m\u001b[33m...\u001b[0m\n"
      ]
     },
     "metadata": {},
     "output_type": "display_data"
    },
    {
     "data": {
      "text/html": [
       "<pre style=\"white-space:pre;overflow-x:auto;line-height:normal;font-family:Menlo,'DejaVu Sans Mono',consolas,'Courier New',monospace\">Extracting text from <span style=\"color: #008080; text-decoration-color: #008080; font-weight: bold\">4</span> pdf pages<span style=\"color: #808000; text-decoration-color: #808000\">...</span>\n",
       "</pre>\n"
      ],
      "text/plain": [
       "Extracting text from \u001b[1;36m4\u001b[0m pdf pages\u001b[33m...\u001b[0m\n"
      ]
     },
     "metadata": {},
     "output_type": "display_data"
    },
    {
     "data": {
      "text/html": [
       "<pre style=\"white-space:pre;overflow-x:auto;line-height:normal;font-family:Menlo,'DejaVu Sans Mono',consolas,'Courier New',monospace\">Converting text to <span style=\"color: #000080; text-decoration-color: #000080; font-weight: bold\">spaCy</span> Doc<span style=\"color: #808000; text-decoration-color: #808000\">...</span>\n",
       "</pre>\n"
      ],
      "text/plain": [
       "Converting text to \u001b[1;34mspaCy\u001b[0m Doc\u001b[33m...\u001b[0m\n"
      ]
     },
     "metadata": {},
     "output_type": "display_data"
    },
    {
     "data": {
      "text/html": [
       "<pre style=\"white-space:pre;overflow-x:auto;line-height:normal;font-family:Menlo,'DejaVu Sans Mono',consolas,'Courier New',monospace\">✅ <span style=\"color: #008000; text-decoration-color: #008000\">Complete!</span>\n",
       "</pre>\n"
      ],
      "text/plain": [
       "✅ \u001b[32mComplete!\u001b[0m\n"
      ]
     },
     "metadata": {},
     "output_type": "display_data"
    }
   ],
   "source": [
    "nlp = spacy.load(\"en_core_web_sm\")\n",
    "doc = pdf_reader(\"../tests/data/test_pdf_01.pdf\", nlp, verbose=True)"
   ]
  },
  {
   "cell_type": "code",
   "execution_count": 4,
   "id": "b35fe7f7-80e4-401f-8346-348acd29138a",
   "metadata": {},
   "outputs": [
    {
     "data": {
      "text/html": [
       "<pre style=\"white-space:pre;overflow-x:auto;line-height:normal;font-family:Menlo,'DejaVu Sans Mono',consolas,'Courier New',monospace\">PDF to text engine: <span style=\"color: #000080; text-decoration-color: #000080; font-weight: bold\">pytesseract</span><span style=\"color: #808000; text-decoration-color: #808000\">...</span>\n",
       "</pre>\n"
      ],
      "text/plain": [
       "PDF to text engine: \u001b[1;34mpytesseract\u001b[0m\u001b[33m...\u001b[0m\n"
      ]
     },
     "metadata": {},
     "output_type": "display_data"
    },
    {
     "data": {
      "text/html": [
       "<pre style=\"white-space:pre;overflow-x:auto;line-height:normal;font-family:Menlo,'DejaVu Sans Mono',consolas,'Courier New',monospace\">Extracting text from <span style=\"color: #008080; text-decoration-color: #008080; font-weight: bold\">4</span> pdf pages<span style=\"color: #808000; text-decoration-color: #808000\">...</span>\n",
       "</pre>\n"
      ],
      "text/plain": [
       "Extracting text from \u001b[1;36m4\u001b[0m pdf pages\u001b[33m...\u001b[0m\n"
      ]
     },
     "metadata": {},
     "output_type": "display_data"
    },
    {
     "data": {
      "text/html": [
       "<pre style=\"white-space:pre;overflow-x:auto;line-height:normal;font-family:Menlo,'DejaVu Sans Mono',consolas,'Courier New',monospace\">Converting text to <span style=\"color: #000080; text-decoration-color: #000080; font-weight: bold\">spaCy</span> Doc<span style=\"color: #808000; text-decoration-color: #808000\">...</span>\n",
       "</pre>\n"
      ],
      "text/plain": [
       "Converting text to \u001b[1;34mspaCy\u001b[0m Doc\u001b[33m...\u001b[0m\n"
      ]
     },
     "metadata": {},
     "output_type": "display_data"
    },
    {
     "data": {
      "text/html": [
       "<pre style=\"white-space:pre;overflow-x:auto;line-height:normal;font-family:Menlo,'DejaVu Sans Mono',consolas,'Courier New',monospace\">✅ <span style=\"color: #008000; text-decoration-color: #008000\">Complete!</span>\n",
       "</pre>\n"
      ],
      "text/plain": [
       "✅ \u001b[32mComplete!\u001b[0m\n"
      ]
     },
     "metadata": {},
     "output_type": "display_data"
    }
   ],
   "source": [
    "nlp = spacy.load(\"en_core_web_sm\")\n",
    "doc = pdf_reader(\"../tests/data/test_pdf_01.pdf\", nlp, PytesseractParser, verbose=True)"
   ]
  },
  {
   "cell_type": "code",
   "execution_count": 5,
   "id": "97e47383",
   "metadata": {},
   "outputs": [
    {
     "data": {
      "text/plain": [
       "(1, 4)"
      ]
     },
     "execution_count": 5,
     "metadata": {},
     "output_type": "execute_result"
    }
   ],
   "source": [
    "doc._.page_range"
   ]
  },
  {
   "cell_type": "code",
   "execution_count": 5,
   "id": "69e682f0-1b2d-447c-ac59-1edad3050127",
   "metadata": {},
   "outputs": [
    {
     "data": {
      "text/plain": [
       "This is page 3\n",
       "\n",
       "A PDF file is often a combination of vector graphics, text, and bitmap graphics. The basic types\n",
       "of content in a PDF are:\n",
       "\n",
       "Text stored as content streams (i.e., not encoded in plain text);\n",
       "Vector graphics for illustrations and designs that consist of shapes and lines;\n",
       "Raster graphics for photographs and other types of images\n",
       "Multimedia objects in the document.\n",
       "In later PDF revisions, a PDF document can also support links (inside document or web page),\n",
       "forms, JavaScript (initially available as a plugin for Acrobat 3.0), or any other types of embedded\n",
       "contents that can be handled using plug-ins.\n",
       "\n",
       "PDF combines three technologies:\n",
       "\n",
       "A subset of the PostScript page description programming language, for generating the layout\n",
       "and graphics.\n",
       "A font-embedding/replacement system to allow fonts to travel with the documents.\n",
       "A structured storage system to bundle these elements and any associated content into a single\n",
       "file, with data compression where appropriate.\n",
       "PostScript is a page description language run in an interpreter to generate an image, a process\n",
       "requiring many resources. It can handle graphics and standard features of programming\n",
       "languages such as if statements and loop commands. PDF is largely based on PostScript but\n",
       "simplified to remove flow control features like these, while graphics commands such as lineto\n",
       "remain.\n",
       "\n",
       "Often, the PostScript-like PDF code is generated from a source PostScript file. The graphics\n",
       "commands that are output by the PostScript code are collected and tokenized. Any files,\n",
       "graphics, or fonts to which the document refers also are collected. Then, everything is\n",
       "compressed to a single file. Therefore, the entire PostScript world (fonts, layout, measurements)\n",
       "remains intact.\n",
       "\n",
       "As a document format, PDF has several advantages over PostScript:\n",
       "\n",
       "PDF contains tokenized and interpreted results of the PostScript source code, for direct\n",
       "correspondence between changes to items in the PDF page description and changes to the\n",
       "resulting page appearance.\n",
       "PDF (from version 1.4) supports transparent graphics; PostScript does not.\n",
       "PostScript is an interpreted programming language with an implicit global state, so instructions\n",
       "accompanying the description of one page can affect the appearance of any following page.\n",
       "Therefore, all preceding pages in a PostScript document must be processed to determine the\n",
       "correct appearance of a given page, whereas each page in a PDF document is unaffected by\n",
       "the others. As a result, PDF viewers allow the user to quickly jump to the final pages of a long\n",
       "document, whereas a PostScript viewer needs to process all pages sequentially before being\n",
       "\n"
      ]
     },
     "execution_count": 5,
     "metadata": {},
     "output_type": "execute_result"
    }
   ],
   "source": [
    "doc._.page(3)"
   ]
  },
  {
   "cell_type": "code",
   "execution_count": null,
   "id": "d124e6c1",
   "metadata": {},
   "outputs": [],
   "source": []
  }
 ],
 "metadata": {
  "kernelspec": {
   "display_name": "Python 3",
   "language": "python",
   "name": "python3"
  },
  "language_info": {
   "codemirror_mode": {
    "name": "ipython",
    "version": 3
   },
   "file_extension": ".py",
   "mimetype": "text/x-python",
   "name": "python",
   "nbconvert_exporter": "python",
   "pygments_lexer": "ipython3",
   "version": "3.9.4"
  }
 },
 "nbformat": 4,
 "nbformat_minor": 5
}
