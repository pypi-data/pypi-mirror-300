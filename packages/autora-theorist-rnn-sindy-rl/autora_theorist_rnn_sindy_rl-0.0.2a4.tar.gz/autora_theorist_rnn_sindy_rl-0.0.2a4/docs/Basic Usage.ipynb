{
 "cells": [
  {
   "attachments": {},
   "cell_type": "markdown",
   "metadata": {
    "collapsed": false
   },
   "source": [
    "# Basic Usage\n",
    "\n",
    "## Imports"
   ]
  },
  {
   "cell_type": "code",
   "execution_count": 1,
   "outputs": [],
   "source": [
    "from autora.theorist.rnn_sindy_rl import RNNSindy\n",
    "from autora.state import StandardState, on_state, Delta\n",
    "from autora.variable import VariableCollection, Variable\n",
    "\n",
    "import numpy as np\n",
    "import pandas as pd"
   ],
   "metadata": {
    "collapsed": false
   }
  },
  {
   "cell_type": "markdown",
   "source": [
    "## Constants"
   ],
   "metadata": {
    "collapsed": false
   }
  },
  {
   "cell_type": "code",
   "execution_count": 2,
   "outputs": [],
   "source": [
    "TRIALS_PER_PARTICIPANT = 30"
   ],
   "metadata": {
    "collapsed": false
   }
  },
  {
   "cell_type": "markdown",
   "source": [
    "## Set up variables\n",
    "independent variable is \"reward-trajectory\": A 2 x n_trials Vector with entries between 0 and 1\n",
    "dependent variable is \"choice-trajectory\": A 2 x n_trials Vector with boolean entries (one hot encoded)"
   ],
   "metadata": {
    "collapsed": false
   }
  },
  {
   "cell_type": "code",
   "execution_count": 3,
   "outputs": [],
   "source": [
    "variables = VariableCollection(\n",
    "    independent_variables=[Variable(name=\"reward-trajectory\")],\n",
    "    dependent_variables=[Variable(name=\"choice-trajectory\")]\n",
    ")"
   ],
   "metadata": {
    "collapsed": false
   }
  },
  {
   "cell_type": "markdown",
   "source": [
    "# State\n",
    "We use the StandardState"
   ],
   "metadata": {
    "collapsed": false
   }
  },
  {
   "cell_type": "code",
   "execution_count": 4,
   "outputs": [],
   "source": [
    "state = StandardState(variables=variables)"
   ],
   "metadata": {
    "collapsed": false
   }
  },
  {
   "cell_type": "markdown",
   "source": [
    "## Components\n",
    "### Experimentalist\n",
    "Our experimentalist creates n random reward-trajectories"
   ],
   "metadata": {
    "collapsed": false
   }
  },
  {
   "cell_type": "code",
   "execution_count": 5,
   "outputs": [],
   "source": [
    "@on_state()\n",
    "def experimentalist_random_trajectory_on_state(num_samples, n_trials=TRIALS_PER_PARTICIPANT):\n",
    "    \"\"\"\n",
    "    This is creates `num_samples` randomized reward trajectories of length `n_trials`\n",
    "    \"\"\"\n",
    "    trajectories = np.random.randint(0, 2, (num_samples, n_trials, 2))\n",
    "    trajectories_list = [trajectory for trajectory in trajectories]\n",
    "    conditions = pd.DataFrame({'reward-trajectory': trajectories_list})\n",
    "\n",
    "    return Delta(conditions=conditions)"
   ],
   "metadata": {
    "collapsed": false
   }
  },
  {
   "attachments": {},
   "cell_type": "markdown",
   "metadata": {},
   "source": [
    "For example, let's create 3 conditions:"
   ]
  },
  {
   "cell_type": "code",
   "execution_count": 6,
   "outputs": [
    {
     "data": {
      "text/plain": "                                   reward-trajectory\n0  [[1, 1], [1, 1], [1, 1], [0, 0], [0, 0], [0, 0...\n1  [[1, 0], [0, 1], [0, 0], [1, 1], [1, 1], [1, 0...\n2  [[0, 0], [1, 0], [1, 1], [0, 0], [0, 0], [0, 1...",
      "text/html": "<div>\n<style scoped>\n    .dataframe tbody tr th:only-of-type {\n        vertical-align: middle;\n    }\n\n    .dataframe tbody tr th {\n        vertical-align: top;\n    }\n\n    .dataframe thead th {\n        text-align: right;\n    }\n</style>\n<table border=\"1\" class=\"dataframe\">\n  <thead>\n    <tr style=\"text-align: right;\">\n      <th></th>\n      <th>reward-trajectory</th>\n    </tr>\n  </thead>\n  <tbody>\n    <tr>\n      <th>0</th>\n      <td>[[1, 1], [1, 1], [1, 1], [0, 0], [0, 0], [0, 0...</td>\n    </tr>\n    <tr>\n      <th>1</th>\n      <td>[[1, 0], [0, 1], [0, 0], [1, 1], [1, 1], [1, 0...</td>\n    </tr>\n    <tr>\n      <th>2</th>\n      <td>[[0, 0], [1, 0], [1, 1], [0, 0], [0, 0], [0, 1...</td>\n    </tr>\n  </tbody>\n</table>\n</div>"
     },
     "execution_count": 6,
     "metadata": {},
     "output_type": "execute_result"
    }
   ],
   "source": [
    "state = experimentalist_random_trajectory_on_state(state, num_samples=3)\n",
    "state.conditions"
   ],
   "metadata": {
    "collapsed": false
   }
  },
  {
   "cell_type": "markdown",
   "source": [
    "## Experiment Runner\n",
    "Here, we create a rando choice trajectory"
   ],
   "metadata": {
    "collapsed": false
   }
  },
  {
   "cell_type": "code",
   "execution_count": 7,
   "outputs": [],
   "source": [
    "@on_state()\n",
    "def runner_on_state(conditions):\n",
    "    def generate_choice():\n",
    "        return [0, 1] if np.random.rand() > 0.5 else [1, 0]\n",
    "    trajectories_list = [\n",
    "        np.array([generate_choice() for _ in range(len(reward_trajectory))])\n",
    "        for reward_trajectory in conditions['reward-trajectory']\n",
    "    ]\n",
    "    experiment_data = pd.DataFrame({'reward-trajectory': list(conditions['reward-trajectory']),\n",
    "                                    'choice-trajectory': trajectories_list}, dtype=object)\n",
    "    return Delta(experiment_data=experiment_data)"
   ],
   "metadata": {
    "collapsed": false
   }
  },
  {
   "cell_type": "code",
   "execution_count": 8,
   "outputs": [
    {
     "data": {
      "text/plain": "                                   reward-trajectory  \\\n0  [[1, 1], [1, 1], [1, 1], [0, 0], [0, 0], [0, 0...   \n1  [[1, 0], [0, 1], [0, 0], [1, 1], [1, 1], [1, 0...   \n2  [[0, 0], [1, 0], [1, 1], [0, 0], [0, 0], [0, 1...   \n\n                                   choice-trajectory  \n0  [[1, 0], [0, 1], [1, 0], [1, 0], [1, 0], [1, 0...  \n1  [[0, 1], [1, 0], [1, 0], [0, 1], [0, 1], [1, 0...  \n2  [[0, 1], [0, 1], [0, 1], [1, 0], [1, 0], [1, 0...  ",
      "text/html": "<div>\n<style scoped>\n    .dataframe tbody tr th:only-of-type {\n        vertical-align: middle;\n    }\n\n    .dataframe tbody tr th {\n        vertical-align: top;\n    }\n\n    .dataframe thead th {\n        text-align: right;\n    }\n</style>\n<table border=\"1\" class=\"dataframe\">\n  <thead>\n    <tr style=\"text-align: right;\">\n      <th></th>\n      <th>reward-trajectory</th>\n      <th>choice-trajectory</th>\n    </tr>\n  </thead>\n  <tbody>\n    <tr>\n      <th>0</th>\n      <td>[[1, 1], [1, 1], [1, 1], [0, 0], [0, 0], [0, 0...</td>\n      <td>[[1, 0], [0, 1], [1, 0], [1, 0], [1, 0], [1, 0...</td>\n    </tr>\n    <tr>\n      <th>1</th>\n      <td>[[1, 0], [0, 1], [0, 0], [1, 1], [1, 1], [1, 0...</td>\n      <td>[[0, 1], [1, 0], [1, 0], [0, 1], [0, 1], [1, 0...</td>\n    </tr>\n    <tr>\n      <th>2</th>\n      <td>[[0, 0], [1, 0], [1, 1], [0, 0], [0, 0], [0, 1...</td>\n      <td>[[0, 1], [0, 1], [0, 1], [1, 0], [1, 0], [1, 0...</td>\n    </tr>\n  </tbody>\n</table>\n</div>"
     },
     "execution_count": 8,
     "metadata": {},
     "output_type": "execute_result"
    }
   ],
   "source": [
    "state = runner_on_state(state)\n",
    "state.experiment_data"
   ],
   "metadata": {
    "collapsed": false
   }
  },
  {
   "cell_type": "markdown",
   "source": [
    "## Theorist\n",
    "We use the ExampleRegressor to fit:\n",
    "\n",
    "@on_state()\n",
    "def theorist_on_state(experiment_data):\n",
    "    x, y = _get_x_y(experiment_data)\n",
    "\n",
    "    return Delta(models=[theorist.fit(x, y)])\n"
   ],
   "metadata": {
    "collapsed": false
   }
  },
  {
   "cell_type": "code",
   "execution_count": 9,
   "outputs": [],
   "source": [
    "regressor = RNNSindy(2)\n",
    "@on_state()\n",
    "def theorist_on_state(experiment_data):\n",
    "\n",
    "    x = experiment_data['reward-trajectory']\n",
    "    y = experiment_data['choice-trajectory']\n",
    "\n",
    "    return Delta(models=[regressor.fit(x, y)])"
   ],
   "metadata": {
    "collapsed": false
   }
  },
  {
   "cell_type": "code",
   "execution_count": 11,
   "outputs": [
    {
     "name": "stdout",
     "output_type": "stream",
     "text": [
      "Training the RNN...\n",
      "Epoch 1/100 --- Loss: 0.4490971; Time: 0.1421s; Convergence value: 5.51e-01\n",
      "Epoch 2/100 --- Loss: 0.2854415; Time: 0.1356s; Convergence value: 3.55e-01\n",
      "Epoch 3/100 --- Loss: 0.4515755; Time: 0.1584s; Convergence value: 2.90e-01\n",
      "Epoch 4/100 --- Loss: 0.3536690; Time: 0.1438s; Convergence value: 2.40e-01\n",
      "Epoch 5/100 --- Loss: 0.3526500; Time: 0.1400s; Convergence value: 1.89e-01\n",
      "Epoch 6/100 --- Loss: 0.4983991; Time: 0.1324s; Convergence value: 1.81e-01\n",
      "Epoch 7/100 --- Loss: 0.4088033; Time: 0.1293s; Convergence value: 1.67e-01\n",
      "Epoch 8/100 --- Loss: 0.4070661; Time: 0.1389s; Convergence value: 1.44e-01\n",
      "Epoch 9/100 --- Loss: 0.4171735; Time: 0.1271s; Convergence value: 1.27e-01\n",
      "Epoch 10/100 --- Loss: 0.3878347; Time: 0.1261s; Convergence value: 1.15e-01\n",
      "Epoch 11/100 --- Loss: 0.3339262; Time: 0.1288s; Convergence value: 1.09e-01\n",
      "Epoch 12/100 --- Loss: 0.3889047; Time: 0.1326s; Convergence value: 1.03e-01\n",
      "Epoch 13/100 --- Loss: 0.3775082; Time: 0.1351s; Convergence value: 9.42e-02\n",
      "Epoch 14/100 --- Loss: 0.4998332; Time: 0.1319s; Convergence value: 9.63e-02\n",
      "Epoch 15/100 --- Loss: 0.4497130; Time: 0.1280s; Convergence value: 9.21e-02\n",
      "Epoch 16/100 --- Loss: 0.5088676; Time: 0.1287s; Convergence value: 8.91e-02\n",
      "Epoch 17/100 --- Loss: 0.3691347; Time: 0.1270s; Convergence value: 9.26e-02\n",
      "Epoch 18/100 --- Loss: 0.4556326; Time: 0.1274s; Convergence value: 9.18e-02\n",
      "Epoch 19/100 --- Loss: 0.3109796; Time: 0.1313s; Convergence value: 9.51e-02\n",
      "Epoch 20/100 --- Loss: 0.3549346; Time: 0.1393s; Convergence value: 7.61e-02\n",
      "Epoch 21/100 --- Loss: 0.2080001; Time: 0.1240s; Convergence value: 7.81e-02\n",
      "Epoch 22/100 --- Loss: 0.6264086; Time: 0.1269s; Convergence value: 9.92e-02\n",
      "Epoch 23/100 --- Loss: 0.5228307; Time: 0.1257s; Convergence value: 9.98e-02\n",
      "Epoch 24/100 --- Loss: 0.4776033; Time: 0.1280s; Convergence value: 9.96e-02\n",
      "Epoch 25/100 --- Loss: 0.3777668; Time: 0.1245s; Convergence value: 9.84e-02\n",
      "Epoch 26/100 --- Loss: 0.3270231; Time: 0.1287s; Convergence value: 9.57e-02\n",
      "Epoch 27/100 --- Loss: 0.3768211; Time: 0.1239s; Convergence value: 9.58e-02\n",
      "Epoch 28/100 --- Loss: 0.3538153; Time: 0.1411s; Convergence value: 9.38e-02\n",
      "Epoch 29/100 --- Loss: 0.3788804; Time: 0.1245s; Convergence value: 9.12e-02\n",
      "Epoch 30/100 --- Loss: 0.4800947; Time: 0.1272s; Convergence value: 9.31e-02\n",
      "Epoch 31/100 --- Loss: 0.2942581; Time: 0.1238s; Convergence value: 1.01e-01\n",
      "Epoch 32/100 --- Loss: 0.3736974; Time: 0.1266s; Convergence value: 1.02e-01\n",
      "Epoch 33/100 --- Loss: 0.4177469; Time: 0.1252s; Convergence value: 9.75e-02\n",
      "Epoch 34/100 --- Loss: 0.3821245; Time: 0.1243s; Convergence value: 9.47e-02\n",
      "Epoch 35/100 --- Loss: 0.4871376; Time: 0.1250s; Convergence value: 9.64e-02\n",
      "Epoch 36/100 --- Loss: 0.3566929; Time: 0.1275s; Convergence value: 9.72e-02\n",
      "Epoch 37/100 --- Loss: 0.3556077; Time: 0.1335s; Convergence value: 9.06e-02\n",
      "Epoch 38/100 --- Loss: 0.4106605; Time: 0.1241s; Convergence value: 8.61e-02\n",
      "Epoch 39/100 --- Loss: 0.3468750; Time: 0.1244s; Convergence value: 8.58e-02\n",
      "Epoch 40/100 --- Loss: 0.3389551; Time: 0.1272s; Convergence value: 7.80e-02\n",
      "Epoch 41/100 --- Loss: 0.3987007; Time: 0.1244s; Convergence value: 6.52e-02\n",
      "Epoch 42/100 --- Loss: 0.2644516; Time: 0.1294s; Convergence value: 6.87e-02\n",
      "Epoch 43/100 --- Loss: 0.4901745; Time: 0.1256s; Convergence value: 8.05e-02\n",
      "Epoch 44/100 --- Loss: 0.2884302; Time: 0.1360s; Convergence value: 8.85e-02\n",
      "Epoch 45/100 --- Loss: 0.4370034; Time: 0.1340s; Convergence value: 9.41e-02\n",
      "Epoch 46/100 --- Loss: 0.4039002; Time: 0.1248s; Convergence value: 9.15e-02\n",
      "Epoch 47/100 --- Loss: 0.4727893; Time: 0.1236s; Convergence value: 9.24e-02\n",
      "Epoch 48/100 --- Loss: 0.3961755; Time: 0.1282s; Convergence value: 9.36e-02\n",
      "Epoch 49/100 --- Loss: 0.4158375; Time: 0.1255s; Convergence value: 8.82e-02\n",
      "Epoch 50/100 --- Loss: 0.3467693; Time: 0.1260s; Convergence value: 8.36e-02\n",
      "Epoch 51/100 --- Loss: 0.4774196; Time: 0.1279s; Convergence value: 8.71e-02\n",
      "Epoch 52/100 --- Loss: 0.4525103; Time: 0.1448s; Convergence value: 8.42e-02\n",
      "Epoch 53/100 --- Loss: 0.3205205; Time: 0.1278s; Convergence value: 8.92e-02\n",
      "Epoch 54/100 --- Loss: 0.2901228; Time: 0.1295s; Convergence value: 8.46e-02\n",
      "Epoch 55/100 --- Loss: 0.4522305; Time: 0.1262s; Convergence value: 8.85e-02\n",
      "Epoch 56/100 --- Loss: 0.3043870; Time: 0.1256s; Convergence value: 9.56e-02\n",
      "Epoch 57/100 --- Loss: 0.4606142; Time: 0.1252s; Convergence value: 1.01e-01\n",
      "Epoch 58/100 --- Loss: 0.3158634; Time: 0.1274s; Convergence value: 1.06e-01\n",
      "Epoch 59/100 --- Loss: 0.4367528; Time: 0.1285s; Convergence value: 1.10e-01\n",
      "Epoch 60/100 --- Loss: 0.3875347; Time: 0.1265s; Convergence value: 1.07e-01\n",
      "Epoch 61/100 --- Loss: 0.4252481; Time: 0.1481s; Convergence value: 1.02e-01\n",
      "Epoch 62/100 --- Loss: 0.4171509; Time: 0.1260s; Convergence value: 9.08e-02\n",
      "Epoch 63/100 --- Loss: 0.3697727; Time: 0.1283s; Convergence value: 8.40e-02\n",
      "Epoch 64/100 --- Loss: 0.2757393; Time: 0.1273s; Convergence value: 8.25e-02\n",
      "Epoch 65/100 --- Loss: 0.4233426; Time: 0.1228s; Convergence value: 8.88e-02\n",
      "Epoch 66/100 --- Loss: 0.3645113; Time: 0.1282s; Convergence value: 8.74e-02\n",
      "Epoch 67/100 --- Loss: 0.3563672; Time: 0.1254s; Convergence value: 8.22e-02\n",
      "Epoch 68/100 --- Loss: 0.4802738; Time: 0.1263s; Convergence value: 8.71e-02\n",
      "Epoch 69/100 --- Loss: 0.3890799; Time: 0.1270s; Convergence value: 8.79e-02\n",
      "Epoch 70/100 --- Loss: 0.3585745; Time: 0.1314s; Convergence value: 8.24e-02\n",
      "Epoch 71/100 --- Loss: 0.4053650; Time: 0.1263s; Convergence value: 8.17e-02\n",
      "Epoch 72/100 --- Loss: 0.2404901; Time: 0.1280s; Convergence value: 8.57e-02\n",
      "Epoch 73/100 --- Loss: 0.4263204; Time: 0.1269s; Convergence value: 9.45e-02\n",
      "Epoch 74/100 --- Loss: 0.3765789; Time: 0.1281s; Convergence value: 8.90e-02\n",
      "Epoch 75/100 --- Loss: 0.3646607; Time: 0.1261s; Convergence value: 8.16e-02\n",
      "Epoch 76/100 --- Loss: 0.3180505; Time: 0.1287s; Convergence value: 7.66e-02\n",
      "Epoch 77/100 --- Loss: 0.4582990; Time: 0.1240s; Convergence value: 7.88e-02\n",
      "Epoch 78/100 --- Loss: 0.3385565; Time: 0.1320s; Convergence value: 8.04e-02\n",
      "Epoch 79/100 --- Loss: 0.3097752; Time: 0.1321s; Convergence value: 7.79e-02\n",
      "Epoch 80/100 --- Loss: 0.4751750; Time: 0.1270s; Convergence value: 8.55e-02\n",
      "Epoch 81/100 --- Loss: 0.3456664; Time: 0.1290s; Convergence value: 9.12e-02\n",
      "Epoch 82/100 --- Loss: 0.3406957; Time: 0.1242s; Convergence value: 8.67e-02\n",
      "Epoch 83/100 --- Loss: 0.3771705; Time: 0.1275s; Convergence value: 8.29e-02\n",
      "Epoch 84/100 --- Loss: 0.3759244; Time: 0.1260s; Convergence value: 7.50e-02\n",
      "Epoch 85/100 --- Loss: 0.4404135; Time: 0.1238s; Convergence value: 7.48e-02\n",
      "Epoch 86/100 --- Loss: 0.2831865; Time: 0.1402s; Convergence value: 8.27e-02\n",
      "Epoch 87/100 --- Loss: 0.2746861; Time: 0.1314s; Convergence value: 7.61e-02\n",
      "Epoch 88/100 --- Loss: 0.5684149; Time: 0.1268s; Convergence value: 9.08e-02\n",
      "Epoch 89/100 --- Loss: 0.3307965; Time: 0.1253s; Convergence value: 1.03e-01\n",
      "Epoch 90/100 --- Loss: 0.3262700; Time: 0.1263s; Convergence value: 9.82e-02\n",
      "Epoch 91/100 --- Loss: 0.4372805; Time: 0.1290s; Convergence value: 9.70e-02\n",
      "Epoch 92/100 --- Loss: 0.3275346; Time: 0.1272s; Convergence value: 9.50e-02\n",
      "Epoch 93/100 --- Loss: 0.2935568; Time: 0.1244s; Convergence value: 9.24e-02\n",
      "Epoch 94/100 --- Loss: 0.3984312; Time: 0.1356s; Convergence value: 9.60e-02\n",
      "Epoch 95/100 --- Loss: 0.4113526; Time: 0.1256s; Convergence value: 9.19e-02\n",
      "Epoch 96/100 --- Loss: 0.3738820; Time: 0.1246s; Convergence value: 8.64e-02\n",
      "Epoch 97/100 --- Loss: 0.6595633; Time: 0.1257s; Convergence value: 9.93e-02\n",
      "Epoch 98/100 --- Loss: 0.3223886; Time: 0.1262s; Convergence value: 1.18e-01\n",
      "Epoch 99/100 --- Loss: 0.4769548; Time: 0.1280s; Convergence value: 1.20e-01\n",
      "Epoch 100/100 --- Loss: 0.4184984; Time: 0.1265s; Convergence value: 1.15e-01\n",
      "Maximum number of training epochs reached.\n",
      "Model did not converge yet.\n",
      "Test the trained RNN on a test dataset...\n",
      "Epoch 1/1 --- Loss: 0.3730121; Time: 0.0118s; Convergence value: nan\n",
      "Maximum number of training epochs reached.\n",
      "Model did not converge yet.\n",
      "RNN training took 12.93 seconds.\n",
      "Saved RNN parameters to file trained_models/rnn_params.pth.\n",
      "\n",
      "SINDy model for xQf:\n",
      " Iteration ... |y - Xw|^2 ...  a * |w|_2 ...      |w|_0 ... Total error: |y - Xw|^2 + a * |w|_2\n",
      "         0 ... 2.4002e-03 ... 7.3819e-02 ...          2 ... 7.6219e-02\n",
      "(xQf)[k+1] = 0.065 1 + 0.884 xQf[k]\n",
      "\n",
      "SINDy model for xQr:\n",
      " Iteration ... |y - Xw|^2 ...  a * |w|_2 ...      |w|_0 ... Total error: |y - Xw|^2 + a * |w|_2\n",
      "         0 ... 2.7001e-03 ... 9.1070e-02 ...          3 ... 9.3770e-02\n",
      "(xQr)[k+1] = 0.200 1 + 0.899 xQr[k] + -0.326 cr[k]\n",
      "\n",
      "SINDy model for xQc:\n",
      " Iteration ... |y - Xw|^2 ...  a * |w|_2 ...      |w|_0 ... Total error: |y - Xw|^2 + a * |w|_2\n",
      "         0 ... 2.9933e-03 ... 6.8050e-02 ...          2 ... 7.1043e-02\n",
      "         1 ... 3.2505e-03 ... 6.7780e-02 ...          2 ... 7.1031e-02\n",
      "(xQc)[k+1] = 0.079 1 + 0.852 xQc[k]\n",
      "Beta for SINDy: 1.5001235008239746\n"
     ]
    },
    {
     "data": {
      "text/plain": "RNNSindy(n_actions=2)",
      "text/html": "<style>#sk-container-id-1 {\n  /* Definition of color scheme common for light and dark mode */\n  --sklearn-color-text: black;\n  --sklearn-color-line: gray;\n  /* Definition of color scheme for unfitted estimators */\n  --sklearn-color-unfitted-level-0: #fff5e6;\n  --sklearn-color-unfitted-level-1: #f6e4d2;\n  --sklearn-color-unfitted-level-2: #ffe0b3;\n  --sklearn-color-unfitted-level-3: chocolate;\n  /* Definition of color scheme for fitted estimators */\n  --sklearn-color-fitted-level-0: #f0f8ff;\n  --sklearn-color-fitted-level-1: #d4ebff;\n  --sklearn-color-fitted-level-2: #b3dbfd;\n  --sklearn-color-fitted-level-3: cornflowerblue;\n\n  /* Specific color for light theme */\n  --sklearn-color-text-on-default-background: var(--sg-text-color, var(--theme-code-foreground, var(--jp-content-font-color1, black)));\n  --sklearn-color-background: var(--sg-background-color, var(--theme-background, var(--jp-layout-color0, white)));\n  --sklearn-color-border-box: var(--sg-text-color, var(--theme-code-foreground, var(--jp-content-font-color1, black)));\n  --sklearn-color-icon: #696969;\n\n  @media (prefers-color-scheme: dark) {\n    /* Redefinition of color scheme for dark theme */\n    --sklearn-color-text-on-default-background: var(--sg-text-color, var(--theme-code-foreground, var(--jp-content-font-color1, white)));\n    --sklearn-color-background: var(--sg-background-color, var(--theme-background, var(--jp-layout-color0, #111)));\n    --sklearn-color-border-box: var(--sg-text-color, var(--theme-code-foreground, var(--jp-content-font-color1, white)));\n    --sklearn-color-icon: #878787;\n  }\n}\n\n#sk-container-id-1 {\n  color: var(--sklearn-color-text);\n}\n\n#sk-container-id-1 pre {\n  padding: 0;\n}\n\n#sk-container-id-1 input.sk-hidden--visually {\n  border: 0;\n  clip: rect(1px 1px 1px 1px);\n  clip: rect(1px, 1px, 1px, 1px);\n  height: 1px;\n  margin: -1px;\n  overflow: hidden;\n  padding: 0;\n  position: absolute;\n  width: 1px;\n}\n\n#sk-container-id-1 div.sk-dashed-wrapped {\n  border: 1px dashed var(--sklearn-color-line);\n  margin: 0 0.4em 0.5em 0.4em;\n  box-sizing: border-box;\n  padding-bottom: 0.4em;\n  background-color: var(--sklearn-color-background);\n}\n\n#sk-container-id-1 div.sk-container {\n  /* jupyter's `normalize.less` sets `[hidden] { display: none; }`\n     but bootstrap.min.css set `[hidden] { display: none !important; }`\n     so we also need the `!important` here to be able to override the\n     default hidden behavior on the sphinx rendered scikit-learn.org.\n     See: https://github.com/scikit-learn/scikit-learn/issues/21755 */\n  display: inline-block !important;\n  position: relative;\n}\n\n#sk-container-id-1 div.sk-text-repr-fallback {\n  display: none;\n}\n\ndiv.sk-parallel-item,\ndiv.sk-serial,\ndiv.sk-item {\n  /* draw centered vertical line to link estimators */\n  background-image: linear-gradient(var(--sklearn-color-text-on-default-background), var(--sklearn-color-text-on-default-background));\n  background-size: 2px 100%;\n  background-repeat: no-repeat;\n  background-position: center center;\n}\n\n/* Parallel-specific style estimator block */\n\n#sk-container-id-1 div.sk-parallel-item::after {\n  content: \"\";\n  width: 100%;\n  border-bottom: 2px solid var(--sklearn-color-text-on-default-background);\n  flex-grow: 1;\n}\n\n#sk-container-id-1 div.sk-parallel {\n  display: flex;\n  align-items: stretch;\n  justify-content: center;\n  background-color: var(--sklearn-color-background);\n  position: relative;\n}\n\n#sk-container-id-1 div.sk-parallel-item {\n  display: flex;\n  flex-direction: column;\n}\n\n#sk-container-id-1 div.sk-parallel-item:first-child::after {\n  align-self: flex-end;\n  width: 50%;\n}\n\n#sk-container-id-1 div.sk-parallel-item:last-child::after {\n  align-self: flex-start;\n  width: 50%;\n}\n\n#sk-container-id-1 div.sk-parallel-item:only-child::after {\n  width: 0;\n}\n\n/* Serial-specific style estimator block */\n\n#sk-container-id-1 div.sk-serial {\n  display: flex;\n  flex-direction: column;\n  align-items: center;\n  background-color: var(--sklearn-color-background);\n  padding-right: 1em;\n  padding-left: 1em;\n}\n\n\n/* Toggleable style: style used for estimator/Pipeline/ColumnTransformer box that is\nclickable and can be expanded/collapsed.\n- Pipeline and ColumnTransformer use this feature and define the default style\n- Estimators will overwrite some part of the style using the `sk-estimator` class\n*/\n\n/* Pipeline and ColumnTransformer style (default) */\n\n#sk-container-id-1 div.sk-toggleable {\n  /* Default theme specific background. It is overwritten whether we have a\n  specific estimator or a Pipeline/ColumnTransformer */\n  background-color: var(--sklearn-color-background);\n}\n\n/* Toggleable label */\n#sk-container-id-1 label.sk-toggleable__label {\n  cursor: pointer;\n  display: block;\n  width: 100%;\n  margin-bottom: 0;\n  padding: 0.5em;\n  box-sizing: border-box;\n  text-align: center;\n}\n\n#sk-container-id-1 label.sk-toggleable__label-arrow:before {\n  /* Arrow on the left of the label */\n  content: \"▸\";\n  float: left;\n  margin-right: 0.25em;\n  color: var(--sklearn-color-icon);\n}\n\n#sk-container-id-1 label.sk-toggleable__label-arrow:hover:before {\n  color: var(--sklearn-color-text);\n}\n\n/* Toggleable content - dropdown */\n\n#sk-container-id-1 div.sk-toggleable__content {\n  max-height: 0;\n  max-width: 0;\n  overflow: hidden;\n  text-align: left;\n  /* unfitted */\n  background-color: var(--sklearn-color-unfitted-level-0);\n}\n\n#sk-container-id-1 div.sk-toggleable__content.fitted {\n  /* fitted */\n  background-color: var(--sklearn-color-fitted-level-0);\n}\n\n#sk-container-id-1 div.sk-toggleable__content pre {\n  margin: 0.2em;\n  border-radius: 0.25em;\n  color: var(--sklearn-color-text);\n  /* unfitted */\n  background-color: var(--sklearn-color-unfitted-level-0);\n}\n\n#sk-container-id-1 div.sk-toggleable__content.fitted pre {\n  /* unfitted */\n  background-color: var(--sklearn-color-fitted-level-0);\n}\n\n#sk-container-id-1 input.sk-toggleable__control:checked~div.sk-toggleable__content {\n  /* Expand drop-down */\n  max-height: 200px;\n  max-width: 100%;\n  overflow: auto;\n}\n\n#sk-container-id-1 input.sk-toggleable__control:checked~label.sk-toggleable__label-arrow:before {\n  content: \"▾\";\n}\n\n/* Pipeline/ColumnTransformer-specific style */\n\n#sk-container-id-1 div.sk-label input.sk-toggleable__control:checked~label.sk-toggleable__label {\n  color: var(--sklearn-color-text);\n  background-color: var(--sklearn-color-unfitted-level-2);\n}\n\n#sk-container-id-1 div.sk-label.fitted input.sk-toggleable__control:checked~label.sk-toggleable__label {\n  background-color: var(--sklearn-color-fitted-level-2);\n}\n\n/* Estimator-specific style */\n\n/* Colorize estimator box */\n#sk-container-id-1 div.sk-estimator input.sk-toggleable__control:checked~label.sk-toggleable__label {\n  /* unfitted */\n  background-color: var(--sklearn-color-unfitted-level-2);\n}\n\n#sk-container-id-1 div.sk-estimator.fitted input.sk-toggleable__control:checked~label.sk-toggleable__label {\n  /* fitted */\n  background-color: var(--sklearn-color-fitted-level-2);\n}\n\n#sk-container-id-1 div.sk-label label.sk-toggleable__label,\n#sk-container-id-1 div.sk-label label {\n  /* The background is the default theme color */\n  color: var(--sklearn-color-text-on-default-background);\n}\n\n/* On hover, darken the color of the background */\n#sk-container-id-1 div.sk-label:hover label.sk-toggleable__label {\n  color: var(--sklearn-color-text);\n  background-color: var(--sklearn-color-unfitted-level-2);\n}\n\n/* Label box, darken color on hover, fitted */\n#sk-container-id-1 div.sk-label.fitted:hover label.sk-toggleable__label.fitted {\n  color: var(--sklearn-color-text);\n  background-color: var(--sklearn-color-fitted-level-2);\n}\n\n/* Estimator label */\n\n#sk-container-id-1 div.sk-label label {\n  font-family: monospace;\n  font-weight: bold;\n  display: inline-block;\n  line-height: 1.2em;\n}\n\n#sk-container-id-1 div.sk-label-container {\n  text-align: center;\n}\n\n/* Estimator-specific */\n#sk-container-id-1 div.sk-estimator {\n  font-family: monospace;\n  border: 1px dotted var(--sklearn-color-border-box);\n  border-radius: 0.25em;\n  box-sizing: border-box;\n  margin-bottom: 0.5em;\n  /* unfitted */\n  background-color: var(--sklearn-color-unfitted-level-0);\n}\n\n#sk-container-id-1 div.sk-estimator.fitted {\n  /* fitted */\n  background-color: var(--sklearn-color-fitted-level-0);\n}\n\n/* on hover */\n#sk-container-id-1 div.sk-estimator:hover {\n  /* unfitted */\n  background-color: var(--sklearn-color-unfitted-level-2);\n}\n\n#sk-container-id-1 div.sk-estimator.fitted:hover {\n  /* fitted */\n  background-color: var(--sklearn-color-fitted-level-2);\n}\n\n/* Specification for estimator info (e.g. \"i\" and \"?\") */\n\n/* Common style for \"i\" and \"?\" */\n\n.sk-estimator-doc-link,\na:link.sk-estimator-doc-link,\na:visited.sk-estimator-doc-link {\n  float: right;\n  font-size: smaller;\n  line-height: 1em;\n  font-family: monospace;\n  background-color: var(--sklearn-color-background);\n  border-radius: 1em;\n  height: 1em;\n  width: 1em;\n  text-decoration: none !important;\n  margin-left: 1ex;\n  /* unfitted */\n  border: var(--sklearn-color-unfitted-level-1) 1pt solid;\n  color: var(--sklearn-color-unfitted-level-1);\n}\n\n.sk-estimator-doc-link.fitted,\na:link.sk-estimator-doc-link.fitted,\na:visited.sk-estimator-doc-link.fitted {\n  /* fitted */\n  border: var(--sklearn-color-fitted-level-1) 1pt solid;\n  color: var(--sklearn-color-fitted-level-1);\n}\n\n/* On hover */\ndiv.sk-estimator:hover .sk-estimator-doc-link:hover,\n.sk-estimator-doc-link:hover,\ndiv.sk-label-container:hover .sk-estimator-doc-link:hover,\n.sk-estimator-doc-link:hover {\n  /* unfitted */\n  background-color: var(--sklearn-color-unfitted-level-3);\n  color: var(--sklearn-color-background);\n  text-decoration: none;\n}\n\ndiv.sk-estimator.fitted:hover .sk-estimator-doc-link.fitted:hover,\n.sk-estimator-doc-link.fitted:hover,\ndiv.sk-label-container:hover .sk-estimator-doc-link.fitted:hover,\n.sk-estimator-doc-link.fitted:hover {\n  /* fitted */\n  background-color: var(--sklearn-color-fitted-level-3);\n  color: var(--sklearn-color-background);\n  text-decoration: none;\n}\n\n/* Span, style for the box shown on hovering the info icon */\n.sk-estimator-doc-link span {\n  display: none;\n  z-index: 9999;\n  position: relative;\n  font-weight: normal;\n  right: .2ex;\n  padding: .5ex;\n  margin: .5ex;\n  width: min-content;\n  min-width: 20ex;\n  max-width: 50ex;\n  color: var(--sklearn-color-text);\n  box-shadow: 2pt 2pt 4pt #999;\n  /* unfitted */\n  background: var(--sklearn-color-unfitted-level-0);\n  border: .5pt solid var(--sklearn-color-unfitted-level-3);\n}\n\n.sk-estimator-doc-link.fitted span {\n  /* fitted */\n  background: var(--sklearn-color-fitted-level-0);\n  border: var(--sklearn-color-fitted-level-3);\n}\n\n.sk-estimator-doc-link:hover span {\n  display: block;\n}\n\n/* \"?\"-specific style due to the `<a>` HTML tag */\n\n#sk-container-id-1 a.estimator_doc_link {\n  float: right;\n  font-size: 1rem;\n  line-height: 1em;\n  font-family: monospace;\n  background-color: var(--sklearn-color-background);\n  border-radius: 1rem;\n  height: 1rem;\n  width: 1rem;\n  text-decoration: none;\n  /* unfitted */\n  color: var(--sklearn-color-unfitted-level-1);\n  border: var(--sklearn-color-unfitted-level-1) 1pt solid;\n}\n\n#sk-container-id-1 a.estimator_doc_link.fitted {\n  /* fitted */\n  border: var(--sklearn-color-fitted-level-1) 1pt solid;\n  color: var(--sklearn-color-fitted-level-1);\n}\n\n/* On hover */\n#sk-container-id-1 a.estimator_doc_link:hover {\n  /* unfitted */\n  background-color: var(--sklearn-color-unfitted-level-3);\n  color: var(--sklearn-color-background);\n  text-decoration: none;\n}\n\n#sk-container-id-1 a.estimator_doc_link.fitted:hover {\n  /* fitted */\n  background-color: var(--sklearn-color-fitted-level-3);\n}\n</style><div id=\"sk-container-id-1\" class=\"sk-top-container\"><div class=\"sk-text-repr-fallback\"><pre>RNNSindy(n_actions=2)</pre><b>In a Jupyter environment, please rerun this cell to show the HTML representation or trust the notebook. <br />On GitHub, the HTML representation is unable to render, please try loading this page with nbviewer.org.</b></div><div class=\"sk-container\" hidden><div class=\"sk-item\"><div class=\"sk-estimator  sk-toggleable\"><input class=\"sk-toggleable__control sk-hidden--visually\" id=\"sk-estimator-id-1\" type=\"checkbox\" checked><label for=\"sk-estimator-id-1\" class=\"sk-toggleable__label  sk-toggleable__label-arrow \">&nbsp;RNNSindy<span class=\"sk-estimator-doc-link \">i<span>Not fitted</span></span></label><div class=\"sk-toggleable__content \"><pre>RNNSindy(n_actions=2)</pre></div> </div></div></div></div>"
     },
     "execution_count": 11,
     "metadata": {},
     "output_type": "execute_result"
    }
   ],
   "source": [
    "state = theorist_on_state(state)\n",
    "state.models[-1]"
   ],
   "metadata": {
    "collapsed": false
   }
  },
  {
   "cell_type": "code",
   "execution_count": null,
   "outputs": [],
   "source": [],
   "metadata": {
    "collapsed": false
   }
  }
 ],
 "metadata": {
  "kernelspec": {
   "display_name": "Python 3",
   "language": "python",
   "name": "python3"
  },
  "language_info": {
   "codemirror_mode": {
    "name": "ipython",
    "version": 2
   },
   "file_extension": ".py",
   "mimetype": "text/x-python",
   "name": "python",
   "nbconvert_exporter": "python",
   "pygments_lexer": "ipython2",
   "version": "2.7.6"
  }
 },
 "nbformat": 4,
 "nbformat_minor": 0
}
