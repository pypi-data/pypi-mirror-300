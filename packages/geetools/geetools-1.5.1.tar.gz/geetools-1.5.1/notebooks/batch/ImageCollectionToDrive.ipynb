{
 "cells": [
  {
   "cell_type": "markdown",
   "metadata": {},
   "source": [
    "# Export an ImageCollection to Google Drive"
   ]
  },
  {
   "cell_type": "code",
   "execution_count": null,
   "metadata": {},
   "outputs": [],
   "source": [
    "import ee\n",
    "ee.Initialize()"
   ]
  },
  {
   "cell_type": "code",
   "execution_count": null,
   "metadata": {},
   "outputs": [],
   "source": [
    "import geetools"
   ]
  },
  {
   "cell_type": "code",
   "execution_count": null,
   "metadata": {},
   "outputs": [],
   "source": [
    "import ipygee as ui"
   ]
  },
  {
   "cell_type": "markdown",
   "metadata": {},
   "source": [
    "## Define an ImageCollection"
   ]
  },
  {
   "cell_type": "code",
   "execution_count": null,
   "metadata": {},
   "outputs": [],
   "source": [
    "site = ee.Geometry.Point([-72, -42]).buffer(1000)"
   ]
  },
  {
   "cell_type": "code",
   "execution_count": null,
   "metadata": {},
   "outputs": [],
   "source": [
    "collection = ee.ImageCollection(\"LANDSAT/LC08/C01/T1_SR\").filterBounds(site).limit(5)"
   ]
  },
  {
   "cell_type": "markdown",
   "metadata": {},
   "source": [
    "## Set parameters"
   ]
  },
  {
   "cell_type": "code",
   "execution_count": null,
   "metadata": {},
   "outputs": [],
   "source": [
    "help(geetools.batch.Export.imagecollection.toDrive)"
   ]
  },
  {
   "cell_type": "code",
   "execution_count": null,
   "metadata": {},
   "outputs": [],
   "source": [
    "bands = ['B2', 'B3', 'B4']\n",
    "scale = 30\n",
    "name_pattern = '{sat}_{system_date}_{WRS_PATH:%d}-{WRS_ROW:%d}'\n",
    "date_pattern = 'ddMMMy' # dd: day, MMM: month (JAN), y: year\n",
    "folder = 'MYFOLDER'\n",
    "data_type = 'uint32'\n",
    "extra = dict(sat='L8SR')\n",
    "region = site"
   ]
  },
  {
   "cell_type": "markdown",
   "metadata": {},
   "source": [
    "## Export"
   ]
  },
  {
   "cell_type": "code",
   "execution_count": null,
   "metadata": {},
   "outputs": [],
   "source": [
    "tasks = geetools.batch.Export.imagecollection.toDrive(\n",
    "            collection=collection,\n",
    "            folder=folder,\n",
    "            region=site,\n",
    "            namePattern=name_pattern,\n",
    "            scale=scale,\n",
    "            dataType=data_type,\n",
    "            datePattern=date_pattern,\n",
    "            extra=extra,\n",
    "            verbose=True,\n",
    "            maxPixels=int(1e13)\n",
    "        )"
   ]
  },
  {
   "cell_type": "code",
   "execution_count": null,
   "metadata": {},
   "outputs": [],
   "source": []
  }
 ],
 "metadata": {
  "kernelspec": {
   "display_name": "Python 3",
   "language": "python",
   "name": "python3"
  },
  "language_info": {
   "codemirror_mode": {
    "name": "ipython",
    "version": 3
   },
   "file_extension": ".py",
   "mimetype": "text/x-python",
   "name": "python",
   "nbconvert_exporter": "python",
   "pygments_lexer": "ipython3",
   "version": "3.7.6"
  }
 },
 "nbformat": 4,
 "nbformat_minor": 4
}
