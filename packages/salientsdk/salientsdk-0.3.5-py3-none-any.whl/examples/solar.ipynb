{
 "cells": [
  {
   "cell_type": "markdown",
   "metadata": {},
   "source": [
    "# Solar Energy\n"
   ]
  },
  {
   "cell_type": "markdown",
   "metadata": {},
   "source": [
    "Salient's historical and downscale data include the components necessary to calculate solar energy output. This notebook will show you how to obtain the source meteorological data and then convert it to energy based on array characteristics.\n"
   ]
  },
  {
   "cell_type": "code",
   "execution_count": null,
   "metadata": {},
   "outputs": [
    {
     "data": {
      "text/plain": [
       "<requests.sessions.Session at 0x7fde02bd9750>"
      ]
     },
     "execution_count": null,
     "metadata": {},
     "output_type": "execute_result"
    }
   ],
   "source": [
    "import sys\n",
    "import os\n",
    "\n",
    "try:\n",
    "    import salientsdk as sk\n",
    "except ModuleNotFoundError as e:\n",
    "    if os.path.exists(\"../salientsdk\"):\n",
    "        sys.path.append(os.path.abspath(\"..\"))\n",
    "        import salientsdk as sk\n",
    "    else:\n",
    "        raise ModuleNotFoundError(\"Install salient SDK with: pip install salientsdk\")\n",
    "\n",
    "# Analyze one year of data:\n",
    "(start_date, end_date) = (\"2022-01-01\", \"2022-12-31\")\n",
    "# When we want to plot a timeseries, focus on a specific month:\n",
    "plt_time = slice(\"2022-07-02\", \"2022-07-05\")\n",
    "# When we want to plot a single location, choose this one\n",
    "plt_loc = \"Roadrunner TX\"\n",
    "\n",
    "sk.set_file_destination(\"solar_example\")\n",
    "sk.login(\"username\", \"password\")"
   ]
  },
  {
   "cell_type": "markdown",
   "metadata": {},
   "source": [
    "## Get Solar Meteorological Data\n"
   ]
  },
  {
   "cell_type": "markdown",
   "metadata": {},
   "source": [
    "### Set geographic bounds\n",
    "\n",
    "The Salient SDK uses a `Location` object to specify the geographic bounds of a request. Let's analyze solar energy at 3 sites in Maine, Texas, and California. We can also predict solar energy over a gridded area defined by a polygon shapefile.\n"
   ]
  },
  {
   "cell_type": "code",
   "execution_count": null,
   "metadata": {},
   "outputs": [],
   "source": [
    "if False:  # Analyze solar at a single location\n",
    "    loc = sk.Location(lat=31.2194, lon=-102.1922)\n",
    "elif True:  # Analyze solar at 3 locations with a location_file\n",
    "    loc_file = sk.upload_location_file(\n",
    "        lats=[44.3327, 31.2194, 34.830556],\n",
    "        lons=[-69.781, -102.1922, -118.398056],\n",
    "        names=[\"3 Corners ME\", \"Roadrunner TX\", \"Solar Star CA\"],\n",
    "        rated_capacity=[109, 400, 579],  # MW\n",
    "        geoname=\"solar_example\",\n",
    "        force=False,\n",
    "    )\n",
    "    loc = sk.Location(location_file=loc_file)\n",
    "\n",
    "else:  # Analyze solar over the Western ERCOT region with a shapefile\n",
    "    coords = [\n",
    "        (-103.25, 32.00),\n",
    "        (-105.50, 32.00),\n",
    "        (-105.50, 31.00),\n",
    "        (-104.50, 29.50),\n",
    "        (-103.25, 29.00),\n",
    "        (-102.50, 29.75),\n",
    "        (-101.25, 29.50),\n",
    "        (-100.50, 29.00),\n",
    "        (-98.000, 34.00),\n",
    "        (-100.00, 34.50),\n",
    "        (-100.00, 35.75),\n",
    "        (-103.25, 35.75),\n",
    "    ]\n",
    "\n",
    "    shape_file = sk.upload_shapefile(coords, \"ercot_west\", force=False)\n",
    "    loc = sk.Location(shapefile=shape_file)"
   ]
  },
  {
   "cell_type": "markdown",
   "metadata": {},
   "source": [
    "### Get Historical Observed Data\n"
   ]
  },
  {
   "cell_type": "markdown",
   "metadata": {},
   "source": [
    "The `data_timeseries_solar` function is a convenience function that calls `data_timeseries` to generate an hourly historical timeseries with the appropriate weather inputs for solar analysis.\n"
   ]
  },
  {
   "cell_type": "code",
   "execution_count": null,
   "metadata": {},
   "outputs": [
    {
     "name": "stdout",
     "output_type": "stream",
     "text": [
      "<xarray.Dataset> Size: 1MB\n",
      "Dimensions:    (time: 8737, location: 3)\n",
      "Coordinates:\n",
      "  * time       (time) datetime64[ns] 70kB 2022-01-01 ... 2022-12-31\n",
      "  * location   (location) object 24B '3 Corners ME' ... 'Solar Star CA'\n",
      "    lat        (location) float64 24B 44.33 31.22 34.83\n",
      "    lon        (location) float64 24B -69.78 -102.2 -118.4\n",
      "Data variables:\n",
      "    temp       (time, location) float64 210kB 1.2 12.66 6.364 ... 11.02 11.96\n",
      "    wspd       (time, location) float64 210kB 2.016 5.742 4.568 ... 1.688 3.549\n",
      "    tsi        (time, location) float64 210kB 0.0 17.94 160.3 ... 30.51 114.4\n",
      "    dhi        (time, location) float64 210kB 0.0 17.63 60.63 ... 14.85 68.77\n",
      "    dni        (time, location) float64 210kB 0.0 4.494 443.3 ... 232.1 204.7\n",
      "    elevation  (location) float32 12B 92.69 780.5 975.8\n"
     ]
    }
   ],
   "source": [
    "hist = sk.solar.data_timeseries_solar(loc=loc, start=start_date, end=end_date)\n",
    "print(hist)\n",
    "hist[\"tsi\"].sel(time=plt_time).plot.line(x=\"time\");"
   ]
  },
  {
   "cell_type": "markdown",
   "metadata": {},
   "source": [
    "### Get Forecast Ensembles\n",
    "\n",
    "`downscale_solar` is a specialized version of `downscale` that fetches all the hourly data variables needed to calculate solar energy. Hourly downscale is a compute- and data-intensive process so the call may take a few minutes.\n"
   ]
  },
  {
   "cell_type": "code",
   "execution_count": null,
   "metadata": {},
   "outputs": [
    {
     "name": "stdout",
     "output_type": "stream",
     "text": [
      "<xarray.Dataset> Size: 6MB\n",
      "Dimensions:        (time: 8448, ensemble: 11, location: 3)\n",
      "Coordinates:\n",
      "    analog         (time, ensemble) datetime64[ns] 743kB 2011-01-13 ... 2013-...\n",
      "  * time           (time) datetime64[ns] 68kB 2022-01-15 ... 2023-01-01T23:00:00\n",
      "  * ensemble       (ensemble) int32 44B 0 1 2 3 4 5 6 7 8 9 10\n",
      "  * location       (location) object 24B '3 Corners ME' ... 'Solar Star CA'\n",
      "    lat            (location) float64 24B 44.33 31.22 34.83\n",
      "    lon            (location) float64 24B -69.78 -102.2 -118.4\n",
      "    forecast_date  datetime64[ns] 8B 2022-01-01\n",
      "Data variables:\n",
      "    dni            (time, ensemble, location) float32 1MB 0.0 309.1 ... 871.7\n",
      "    temp           (time, ensemble, location) float32 1MB -1.421 3.227 ... 10.94\n",
      "    wspd           (time, ensemble, location) float32 1MB 8.086 4.132 ... 3.084\n",
      "    tsi            (time, ensemble, location) float32 1MB 0.0 65.67 ... 389.8\n",
      "    dhi            (time, ensemble, location) float32 1MB 0.0 34.78 ... 65.34\n",
      "    elevation      (location) float32 12B 92.69 780.5 975.8\n"
     ]
    }
   ],
   "source": [
    "fcst = sk.solar.downscale_solar(loc=loc, date=start_date, members=11)\n",
    "print(fcst)\n",
    "fcst[\"tsi\"].sel(time=plt_time, location=plt_loc).plot.line(\n",
    "    x=\"time\", color=(0.7, 0.7, 0.7, 0.2), add_legend=False\n",
    ")\n",
    "hist[\"tsi\"].sel(time=plt_time, location=plt_loc).plot.line(\n",
    "    x=\"time\", color=\"orange\", add_legend=False\n",
    ");"
   ]
  },
  {
   "cell_type": "markdown",
   "metadata": {},
   "source": [
    "## Sun to Power\n"
   ]
  },
  {
   "cell_type": "markdown",
   "metadata": {},
   "source": [
    "`run_pvlib_dataset` uses NREL's `pvlib` to convert the meteorological dataset into a timeseries with `ac` and `dc` watts.\n"
   ]
  },
  {
   "cell_type": "code",
   "execution_count": null,
   "metadata": {},
   "outputs": [
    {
     "name": "stdout",
     "output_type": "stream",
     "text": [
      "<xarray.Dataset> Size: 699kB\n",
      "Dimensions:               (time: 8737, location: 3)\n",
      "Coordinates:\n",
      "  * time                  (time) datetime64[ns] 70kB 2022-01-01 ... 2022-12-31\n",
      "  * location              (location) object 24B '3 Corners ME' ... 'Solar Sta...\n",
      "    lat                   (location) float64 24B 44.33 31.22 34.83\n",
      "    lon                   (location) float64 24B -69.78 -102.2 -118.4\n",
      "Data variables:\n",
      "    ac                    (location, time) float64 210kB 0.0 0.0 ... 0.1569\n",
      "    dc                    (location, time) float64 210kB 0.0 0.0 ... 0.1779\n",
      "    effective_irradiance  (location, time) float64 210kB 0.0 0.0 ... 131.0 172.0\n"
     ]
    }
   ],
   "source": [
    "# mc is a pvlib model chain, which specifies panels, inverters, etc.\n",
    "pwr_hist = sk.solar.run_pvlib_dataset(hist, mc=None)\n",
    "print(pwr_hist)\n",
    "pwr_hist[\"ac\"].sel(time=plt_time).plot.line(x=\"time\");"
   ]
  },
  {
   "cell_type": "markdown",
   "metadata": {},
   "source": [
    "`run_pvlib_dataset` accepts also a data input with ensemble `members` of the style returned by `downscale_solar`. This helps you calculate multiple potential future power outputs.\n"
   ]
  },
  {
   "cell_type": "code",
   "execution_count": null,
   "metadata": {},
   "outputs": [
    {
     "name": "stdout",
     "output_type": "stream",
     "text": [
      "<xarray.Dataset> Size: 8MB\n",
      "Dimensions:               (time: 8448, ensemble: 11, location: 3)\n",
      "Coordinates:\n",
      "  * time                  (time) datetime64[ns] 68kB 2022-01-15 ... 2023-01-0...\n",
      "    forecast_date         datetime64[ns] 8B 2022-01-01\n",
      "    analog                (time, ensemble) datetime64[ns] 743kB 2011-01-13 .....\n",
      "  * ensemble              (ensemble) int32 44B 0 1 2 3 4 5 6 7 8 9 10\n",
      "  * location              (location) object 24B '3 Corners ME' ... 'Solar Sta...\n",
      "    lat                   (location) float64 24B 44.33 31.22 34.83\n",
      "    lon                   (location) float64 24B -69.78 -102.2 -118.4\n",
      "Data variables:\n",
      "    ac                    (ensemble, location, time) float64 2MB 0.0 ... 0.6257\n",
      "    dc                    (ensemble, location, time) float64 2MB 0.0 ... 0.6575\n",
      "    effective_irradiance  (ensemble, location, time) float64 2MB 0.0 ... 666.2\n"
     ]
    }
   ],
   "source": [
    "# mc is a pvlib model chain, which specifies panels, inverters, etc.\n",
    "pwr_fcst = sk.solar.run_pvlib_dataset(fcst, mc=None)\n",
    "\n",
    "print(pwr_fcst)\n",
    "pwr_fcst[\"ac\"].sel(time=plt_time, location=plt_loc).plot.line(\n",
    "    x=\"time\", color=(0.7, 0.7, 0.7, 0.5), add_legend=False\n",
    ")\n",
    "pwr_hist[\"ac\"].sel(time=plt_time, location=plt_loc).plot.line(\n",
    "    x=\"time\", color=\"orange\", add_legend=False\n",
    ");"
   ]
  },
  {
   "cell_type": "markdown",
   "metadata": {},
   "source": [
    "## Validate\n",
    "\n",
    "Because we have historical observed and forecast meteorology and have run both through the same sun-to-power function, we can evaluate the forecast in the power domain.\n"
   ]
  },
  {
   "cell_type": "code",
   "execution_count": null,
   "metadata": {},
   "outputs": [],
   "source": [
    "diff = (pwr_fcst[\"ac\"] - pwr_hist[\"ac\"]).cumsum(\"time\") / pwr_hist[\"ac\"].cumsum(\"time\")\n",
    "diff.attrs[\"long_name\"] = \"Cumulative \" + pwr_hist[\"ac\"].attrs[\"long_name\"] + \" Error\"\n",
    "diff.attrs[\"units\"] = \"%\"\n",
    "\n",
    "diff_avg = diff.mean(\"ensemble\", keep_attrs=True)\n",
    "\n",
    "diff.sel(location=plt_loc, time=slice(\"2022-11-01\", \"2022-12-31\")).plot.line(\n",
    "    x=\"time\", color=(0.7, 0.7, 0.7, 0.5), add_legend=False\n",
    ")\n",
    "diff_avg.sel(location=plt_loc, time=slice(\"2022-11-01\", \"2022-12-31\")).plot.line(\n",
    "    x=\"time\", color=\"black\", add_legend=False\n",
    ");"
   ]
  }
 ],
 "metadata": {
  "kernelspec": {
   "display_name": "salient",
   "language": "python",
   "name": "python3"
  },
  "language_info": {
   "codemirror_mode": {
    "name": "ipython",
    "version": 3
   },
   "file_extension": ".py",
   "mimetype": "text/x-python",
   "name": "python",
   "nbconvert_exporter": "python",
   "pygments_lexer": "ipython3",
   "version": "3.11.5"
  }
 },
 "nbformat": 4,
 "nbformat_minor": 2
}
