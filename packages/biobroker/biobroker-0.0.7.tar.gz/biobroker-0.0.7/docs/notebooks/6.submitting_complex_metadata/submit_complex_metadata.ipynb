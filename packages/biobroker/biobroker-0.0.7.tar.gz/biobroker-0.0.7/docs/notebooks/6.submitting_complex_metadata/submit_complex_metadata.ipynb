{
 "cells": [
  {
   "cell_type": "markdown",
   "id": "51eef4c2-f75e-4330-b72f-fd5b69ed2111",
   "metadata": {},
   "source": [
    "# Submitting complex metadata\n",
    "\n",
    "So far, in the previous notebooks, we have learned how to submit and perform operations on simple samples, that is; samples that are isolated in the submission, and all its metadata is just a bunch of simple values.\n",
    "\n",
    "However, life is not as simple; sometimes, you will want to (and will have to, as seen in the notebook about sample validation) attach some extra metadata to your samples, that being how it relates to other samples (is it a replicate? is it derived from another sample that you are submitting or has been submitted?) or that extra bit of metadata that makes your fields very demure (e.g. specifying a unit, or ❤️referencing an ontology value❤️)\n",
    "\n",
    "On this notebook, we will focus on exactly that, with the following TOC:\n",
    "\n",
    "1. Before you start\n",
    "2. Submitting samples with relationships\n",
    "    1. All samples are being submitted for the first time\n",
    "    2. Some samples are already accessioned; some are not\n",
    "    3. All samples are accessioned but need to update relationships\n",
    "3. How to improve your metadata via units and ontologies\n",
    "4. Structured data\n",
    "    1. WTH is structured data\n",
    "    2. Structured data format and posting to sample\n",
    "5. Posting a external URL (reference) to a sample"
   ]
  },
  {
   "cell_type": "markdown",
   "id": "132218fe-6f91-4ea8-8136-707675c1bfe8",
   "metadata": {},
   "source": [
    "## Before you start\n",
    "\n",
    "### Make sure you have biobroker >= 0.0.5\n",
    "Before we start, we're going to do the same we always do; however, a lot of features for this notebook need `biobroker>=0.0.5` so... let's start with that!"
   ]
  },
  {
   "cell_type": "code",
   "execution_count": 1,
   "id": "eed3731f-585f-4442-9a19-fce10c1a8967",
   "metadata": {},
   "outputs": [
    {
     "name": "stdout",
     "output_type": "stream",
     "text": [
      "Collecting biobroker==0.0.6\n",
      "  Downloading biobroker-0.0.6-py3-none-any.whl.metadata (42 kB)\n",
      "Requirement already satisfied: numpy~=1.23.1 in /Library/Frameworks/Python.framework/Versions/3.10/lib/python3.10/site-packages (from biobroker==0.0.6) (1.23.1)\n",
      "Requirement already satisfied: openpyxl==3.1.2 in /Library/Frameworks/Python.framework/Versions/3.10/lib/python3.10/site-packages (from biobroker==0.0.6) (3.1.2)\n",
      "Requirement already satisfied: pandas~=2.0.3 in /Library/Frameworks/Python.framework/Versions/3.10/lib/python3.10/site-packages (from biobroker==0.0.6) (2.0.3)\n",
      "Requirement already satisfied: progressbar2~=4.4.2 in /Library/Frameworks/Python.framework/Versions/3.10/lib/python3.10/site-packages (from biobroker==0.0.6) (4.4.2)\n",
      "Requirement already satisfied: requests>=2.31.0 in /Library/Frameworks/Python.framework/Versions/3.10/lib/python3.10/site-packages (from biobroker==0.0.6) (2.31.0)\n",
      "Requirement already satisfied: et-xmlfile in /Library/Frameworks/Python.framework/Versions/3.10/lib/python3.10/site-packages (from openpyxl==3.1.2->biobroker==0.0.6) (1.1.0)\n",
      "Requirement already satisfied: python-dateutil>=2.8.2 in /Library/Frameworks/Python.framework/Versions/3.10/lib/python3.10/site-packages (from pandas~=2.0.3->biobroker==0.0.6) (2.9.0.post0)\n",
      "Requirement already satisfied: pytz>=2020.1 in /Library/Frameworks/Python.framework/Versions/3.10/lib/python3.10/site-packages (from pandas~=2.0.3->biobroker==0.0.6) (2024.2)\n",
      "Requirement already satisfied: tzdata>=2022.1 in /Library/Frameworks/Python.framework/Versions/3.10/lib/python3.10/site-packages (from pandas~=2.0.3->biobroker==0.0.6) (2024.2)\n",
      "Requirement already satisfied: python-utils>=3.8.1 in /Library/Frameworks/Python.framework/Versions/3.10/lib/python3.10/site-packages (from progressbar2~=4.4.2->biobroker==0.0.6) (3.9.0)\n",
      "Requirement already satisfied: charset-normalizer<4,>=2 in /Library/Frameworks/Python.framework/Versions/3.10/lib/python3.10/site-packages (from requests>=2.31.0->biobroker==0.0.6) (3.3.2)\n",
      "Requirement already satisfied: idna<4,>=2.5 in /Library/Frameworks/Python.framework/Versions/3.10/lib/python3.10/site-packages (from requests>=2.31.0->biobroker==0.0.6) (3.10)\n",
      "Requirement already satisfied: urllib3<3,>=1.21.1 in /Library/Frameworks/Python.framework/Versions/3.10/lib/python3.10/site-packages (from requests>=2.31.0->biobroker==0.0.6) (2.2.3)\n",
      "Requirement already satisfied: certifi>=2017.4.17 in /Library/Frameworks/Python.framework/Versions/3.10/lib/python3.10/site-packages (from requests>=2.31.0->biobroker==0.0.6) (2024.8.30)\n",
      "Requirement already satisfied: six>=1.5 in /Library/Frameworks/Python.framework/Versions/3.10/lib/python3.10/site-packages (from python-dateutil>=2.8.2->pandas~=2.0.3->biobroker==0.0.6) (1.16.0)\n",
      "Requirement already satisfied: typing-extensions>3.10.0.2 in /Library/Frameworks/Python.framework/Versions/3.10/lib/python3.10/site-packages (from python-utils>=3.8.1->progressbar2~=4.4.2->biobroker==0.0.6) (4.12.2)\n",
      "Downloading biobroker-0.0.6-py3-none-any.whl (56 kB)\n",
      "Installing collected packages: biobroker\n",
      "  Attempting uninstall: biobroker\n",
      "    Found existing installation: biobroker 0.0.5\n",
      "    Uninstalling biobroker-0.0.5:\n",
      "      Successfully uninstalled biobroker-0.0.5\n",
      "Successfully installed biobroker-0.0.6\n",
      "Note: you may need to restart the kernel to use updated packages.\n"
     ]
    }
   ],
   "source": [
    "%pip install biobroker==0.0.6 --upgrade"
   ]
  },
  {
   "cell_type": "markdown",
   "id": "a1adbceb-7841-47e5-9e91-b308d70a1b9b",
   "metadata": {},
   "source": [
    "(Please make sure you re-start the kernel if you upgraded your version!)\n",
    "\n",
    "### Set-up and create samples\n",
    "Once that's set-up, we're going to import everything and set up the basic metadata for 4 samples; the reason for setting up 4 samples this time will become apparent in the next sections"
   ]
  },
  {
   "cell_type": "code",
   "execution_count": 1,
   "id": "19527188-a658-41d7-8cce-3aa0841f09ac",
   "metadata": {},
   "outputs": [
    {
     "name": "stderr",
     "output_type": "stream",
     "text": [
      "2024-10-06 19:21:53,481 - BsdApi - INFO - Set up BSD API successfully: using base uri 'https://wwwdev.ebi.ac.uk/biosamples/samples'\n",
      "2024-10-06 19:23:38,349 - Biosample - WARNING - Sample Sample 1: release date was not set. Setting it to right now.\n",
      "2024-10-06 19:23:38,351 - Biosample - WARNING - Sample Sample 2: release date was not set. Setting it to right now.\n",
      "2024-10-06 19:23:38,352 - Biosample - WARNING - Sample Sample 3: release date was not set. Setting it to right now.\n",
      "2024-10-06 19:23:38,352 - Biosample - WARNING - Sample Sample 4: release date was not set. Setting it to right now.\n",
      "2024-10-06 19:24:02,614 - Biosample - WARNING - Sample Sample 1: release date was not set. Setting it to right now.\n",
      "2024-10-06 19:24:02,616 - Biosample - WARNING - Sample Sample 2: release date was not set. Setting it to right now.\n",
      "2024-10-06 19:24:02,616 - Biosample - WARNING - Sample Sample 3: release date was not set. Setting it to right now.\n",
      "2024-10-06 19:24:02,617 - Biosample - WARNING - Sample Sample 4: release date was not set. Setting it to right now.\n",
      "2024-10-06 19:52:07,903 - Biosample - WARNING - Sample Sample 1: release date was not set. Setting it to right now.\n",
      "2024-10-06 19:52:07,904 - Biosample - WARNING - Sample Sample 2: release date was not set. Setting it to right now.\n",
      "2024-10-06 19:52:07,905 - Biosample - WARNING - Sample Sample 3: release date was not set. Setting it to right now.\n",
      "2024-10-06 19:52:07,906 - Biosample - WARNING - Sample Sample 4: release date was not set. Setting it to right now.\n",
      "2024-10-06 19:52:47,884 - Biosample - WARNING - Sample Sample 1: release date was not set. Setting it to right now.\n",
      "2024-10-06 19:52:47,886 - Biosample - WARNING - Sample Sample 2: release date was not set. Setting it to right now.\n",
      "2024-10-06 19:52:47,887 - Biosample - WARNING - Sample Sample 3: release date was not set. Setting it to right now.\n",
      "2024-10-06 19:52:47,887 - Biosample - WARNING - Sample Sample 4: release date was not set. Setting it to right now.\n",
      "2024-10-06 20:17:36,165 - BsdApi - ERROR - Structured data submission failed due to the following error(s):\n",
      "\t- Data entry number 0: `content` values MUST be specified with key `value`\n",
      "\t- Data entry number 0: `content` values MUST be specified with key `value`\n",
      " Please see https://www.ebi.ac.uk/biosamples/docs/references/api/submit#_submit_structured_data for more information\n",
      "2024-10-06 20:18:12,158 - Biosample - ERROR - Property 'name' needs to be set-up for the sample ''\n"
     ]
    }
   ],
   "source": [
    "## Import everything we need\n",
    "from biobroker.authenticator import WebinAuthenticator # Biosamples uses the WebinAuthenticator\n",
    "from biobroker.api import BsdApi # BioSamples Database (BSD) API\n",
    "from biobroker.metadata_entity import Biosample # The metadata entity\n",
    "from biobroker.input_processor import TsvInputProcessor # An input processor\n",
    "from biobroker.output_processor import XlsxOutputProcessor # An output processor\n",
    "import os\n",
    "\n",
    "## Generate sample\n",
    "sample_tsv = [\n",
    "    [\"name\", \"collected_at\", \"organism\"],\n",
    "    [\"Sample 1\", \"noon\", \"homo sapiens\"],\n",
    "    [\"Sample 2\", \"noon\", \"homo sapiens\"],\n",
    "    [\"Sample 3\", \"noon\", \"homo sapiens\"],\n",
    "    [\"Sample 4\", \"noon\", \"homo sapiens\"]\n",
    "]\n",
    "\n",
    "writable_sample = \"\\n\".join([\"\\t\".join(row) for row in sample_tsv])\n",
    "with open(\"complex_sample_metadata.tsv\", \"w\") as f:\n",
    "    f.write(writable_sample)\n",
    "\n",
    "path = \"complex_sample_metadata.tsv\" # This is the file we created previously\n",
    "\n",
    "## Set up the required entities\n",
    "\n",
    "input_processor = TsvInputProcessor(input_data=path)\n",
    "\n",
    "os.environ['API_ENVIRONMENT'] = \"dev\" # There are multiple ways to set up environment variables\n",
    "\n",
    "username = \"\" # Your username goes here\n",
    "password = \"\" # Your password goes here\n",
    "authenticator = WebinAuthenticator(username=username, password=password)\n",
    "\n",
    "api = BsdApi(authenticator=authenticator)"
   ]
  },
  {
   "cell_type": "markdown",
   "id": "8db0628c-8dbd-46cc-91f7-e5e1c92cb77b",
   "metadata": {},
   "source": [
    "## Submitting samples with relationships\n",
    "\n",
    "Depending on your metadata model, you may want to create entries in BioSamples that are related to each other; Maybe instead of repeating the important metadata from a parent sample (e.g. a cell line), you want to capture that metadata in its own entry and link the library preparations as samples derived from that one. \n",
    "\n",
    "Biosamples has got you covered! (And `biobroker` too). In BioSamples, you can link different samples that you have submitted using the attributes `derived_from`, `same_as`, `has_member` and `child_of`. You can find more information on these relationship types in https://www.ebi.ac.uk/biosamples/docs/guides/relationships. An important thing to remember about relationships is that they are **bi-directional**: That means, if you specify a type of relationship on sample A towards sample B, the inverse (or equal, in the case of `same_as`) will automatically apply on the sample\n",
    "\n",
    "`biobroker` processes these relationships by reserving the name of the relationships as keywords for the metadata entry. What that means, in practice, is: to indicate that samples are related to each on the input metadata, you just need to add a column/field with the name of the keyword.\n",
    "\n",
    "Let's go through a set of use cases so it becomes *clearer*:\n",
    "\n",
    "### All samples are being submitted for the first time\n",
    "\n",
    "Alright! So, let's say we have the four samples we have defined before. We know they are related in the following way:\n",
    "\n",
    "```mermaid\n",
    "graph LR;\n",
    "\n",
    "A[Sample 1]\n",
    "B[Sample 2]\n",
    "C[Sample 3]\n",
    "D[Sample 4]\n",
    "\n",
    "B-->|derived_from|A\n",
    "C-->|derived_from|A\n",
    "D-->|derived_from|A\n",
    "B-->|same_as|C\n",
    "B-->|same_as|D\n",
    "C-->|same_as|D\n",
    "```\n",
    "\n",
    "Looks complicated, but all I want to represent is: All samples are derived from `Sample 1`, and the derived samples are all replicates.\n",
    "\n",
    "In this specific case, we have 4 samples that have not yet been submitted; and biosamples only accepts sample accessions as an input for the relationships. How are we going to do it?\n",
    "\n",
    "The short and sad answer is: You need to submit the samples and then update them with the relationships. \n",
    "\n",
    "The cooler answer is that I got this covered in `biobroker`! On the `BsdApi` object there is a keyword argument you can pass to the `submit` function, `process_relationships`, that when set to True, will do the trick for you so you just need to worry.\n",
    "\n",
    "But forget about all this theory and let's go into practice. The first thing we need to do is to define this relationships. You may have noticed we didn't `process` the samples before; that is because I want a clean slate for each of the examples, so we will start each example by loading the samples."
   ]
  },
  {
   "cell_type": "code",
   "execution_count": 9,
   "id": "7152e33e-13ad-45ad-b354-c47e37da376b",
   "metadata": {},
   "outputs": [],
   "source": [
    "samples_relationships_non_accessioned = input_processor.process(Biosample)"
   ]
  },
  {
   "cell_type": "markdown",
   "id": "42709c19-cb9a-4fc7-bb0f-83a1799f3da7",
   "metadata": {},
   "source": [
    "Now that we have the samples loaded in, let's add the relationships. Since they are not accessioned, we are going to add the relationships using the name of the samples and the reserved keywords we talked about before. \n",
    "\n",
    "**Please note**: This is much easier and intuitive to do on the input metadata (excel, tsv etc) directly and load it with an input processor rather doing it here, but I am not going to create a file just for these samples. Just rembember that, index-wise, sample correspond to their index + 1 (e.g. index 0 of the samples is Sample 1)"
   ]
  },
  {
   "cell_type": "code",
   "execution_count": 10,
   "id": "000692db-2669-4c72-900f-5a28180ff940",
   "metadata": {},
   "outputs": [],
   "source": [
    "## All samples are derived from Sample 1\n",
    "samples_relationships_non_accessioned[1]['derived_from'] = \"Sample 1\"\n",
    "samples_relationships_non_accessioned[2]['derived_from'] = \"Sample 1\"\n",
    "samples_relationships_non_accessioned[3]['derived_from'] = \"Sample 1\"\n",
    "\n",
    "## Samples 2, 3 and 4 are replicates.\n",
    "samples_relationships_non_accessioned[1]['same_as'] = \"Sample 3||Sample 4\"\n",
    "samples_relationships_non_accessioned[2]['same_as'] = \"Sample 4\""
   ]
  },
  {
   "cell_type": "markdown",
   "id": "e113f8de-fe46-45e3-9954-ace6f15adbcc",
   "metadata": {},
   "source": [
    "Now we have the metadata in order to start submitting and processing those relationships!\n",
    "\n",
    "One very important thing to notice is how I used the double pipes to indicate more than one relationship. You may need to adjust the delimiter for the different entities, depending on how you set the `Biosample`. The default delimiter for the entity is a double pipe (`||`). We will use this for multiple relationships, multiple urls, etc. It's not a perfect solution but it's a much easier to handle solution rather than starting to create columns with programmatic names and parsing that as arrays!\n",
    "\n",
    "We will now submit the samples, as usual, with a slight change: we are going to provide with the `process_relationships` keyword. What this will do, in short, is to submit the samples as is, process the relationships afterwards, and update them."
   ]
  },
  {
   "cell_type": "code",
   "execution_count": 11,
   "id": "eeb79281-6444-4b9b-930a-bb478d949fd3",
   "metadata": {},
   "outputs": [],
   "source": [
    "submitted_samples = api.submit(samples_relationships_non_accessioned, process_relationships=True)"
   ]
  },
  {
   "cell_type": "markdown",
   "id": "43ff7a6a-b23b-45fe-9d21-4b18c76abde3",
   "metadata": {},
   "source": [
    "Let's see what our submitted samples look like!"
   ]
  },
  {
   "cell_type": "code",
   "execution_count": 13,
   "id": "83321447-3f3e-4835-ba0a-a160f23a48a2",
   "metadata": {},
   "outputs": [
    {
     "name": "stdout",
     "output_type": "stream",
     "text": [
      "https://wwwdev.ebi.ac.uk/biosamples/samples/SAMEA131399004\n"
     ]
    }
   ],
   "source": [
    "print(f\"https://wwwdev.ebi.ac.uk/biosamples/samples/{submitted_samples[0].accession}\")"
   ]
  },
  {
   "cell_type": "markdown",
   "id": "f49bdb02-2df1-4932-a03d-3912b6382d42",
   "metadata": {},
   "source": [
    "![Parent sample](samples_relationship_parent.png)\n",
    "\n",
    "As we can see... The relationships have gone through! Wooho! Now we have all of our samples linked together. This is just the example for the parent sample, but if you go to the link, you will see that the relationships are also defined for the child samples."
   ]
  },
  {
   "cell_type": "markdown",
   "id": "ba4f3807-3111-48c3-81c0-ccbccc18e823",
   "metadata": {},
   "source": [
    "### Mixing accessioned and non-accessioned samples\n",
    "\n",
    "The previous example was very simple; in that case, all of our samples were not submitted, so we could define all the relationships in our input and let `BsdApi.submit()` handle the process. However, that is not going to be always the case; sometimes you will have a parent sample that you have already registered, and child samples that you produced (replicates) that need to be now registered after you've finished your experiments.\n",
    "\n",
    "For that, we are going to use the same set of samples as before, with the new relationships; just this time, we are going to submit the parent sample first."
   ]
  },
  {
   "cell_type": "code",
   "execution_count": 2,
   "id": "adf49626-47a8-4307-a36c-ac7a1f52619b",
   "metadata": {},
   "outputs": [],
   "source": [
    "samples_relationships_mixed_accessioned = input_processor.process(Biosample)\n",
    "parent_sample = [samples_relationships_mixed_accessioned[0]]\n",
    "child_samples = samples_relationships_mixed_accessioned[1:]\n",
    "\n",
    "parent_sample_submitted = api.submit(parent_sample)"
   ]
  },
  {
   "cell_type": "markdown",
   "id": "5078ab7a-5dc2-4016-a912-7f22034a5583",
   "metadata": {},
   "source": [
    "Once the parent sample is submitted, we are going to indicate the relationship in the child samples by **using the accession**"
   ]
  },
  {
   "cell_type": "code",
   "execution_count": 3,
   "id": "34ad5239-a1be-40f8-b936-68f442fe343c",
   "metadata": {},
   "outputs": [],
   "source": [
    "## All samples are derived from Sample 1\n",
    "child_samples[0]['derived_from'] = parent_sample_submitted[0].accession\n",
    "child_samples[1]['derived_from'] = parent_sample_submitted[0].accession\n",
    "child_samples[2]['derived_from'] = parent_sample_submitted[0].accession\n",
    "\n",
    "## Samples 2, 3 and 4 are replicates.\n",
    "child_samples[0]['same_as'] = \"Sample 3||Sample 4\"\n",
    "child_samples[1]['same_as'] = \"Sample 4\""
   ]
  },
  {
   "cell_type": "markdown",
   "id": "d96d4596-f39b-4476-9eaf-dd6f986433ad",
   "metadata": {},
   "source": [
    "Now that we have our child samples set up, let's try to submit them!"
   ]
  },
  {
   "cell_type": "code",
   "execution_count": 4,
   "id": "0db9ae60-b98b-4aa4-bc3f-0079a24bedaa",
   "metadata": {},
   "outputs": [],
   "source": [
    "submitted_samples_mixed_accessioning = api.submit(child_samples, process_relationships=True)"
   ]
  },
  {
   "cell_type": "code",
   "execution_count": 5,
   "id": "c9cf1c51-88c2-4c0c-8589-979325586ab4",
   "metadata": {},
   "outputs": [
    {
     "name": "stdout",
     "output_type": "stream",
     "text": [
      "https://wwwdev.ebi.ac.uk/biosamples/samples/SAMEA131399017\n"
     ]
    }
   ],
   "source": [
    "print(f\"https://wwwdev.ebi.ac.uk/biosamples/samples/{submitted_samples_mixed_accessioning[0].accession}\")"
   ]
  },
  {
   "cell_type": "markdown",
   "id": "7d661b17-a25c-461b-8448-c40c598e9bd9",
   "metadata": {},
   "source": [
    "And, as we can see, the samples are submitted with the relationships attached! Isn't that neat?"
   ]
  },
  {
   "cell_type": "markdown",
   "id": "c5fdc95f-f82a-41eb-9c08-14115f3ccaaf",
   "metadata": {},
   "source": [
    "### Updating relationships\n",
    "\n",
    "Updating the relationships for already accesioned samples is pretty straight-forward; for this, you just need to retrieve the samples (You can use multiple methods for that - You can refer to notebook 4 for more information).\n",
    "\n",
    "Once you've got the samples, you just need to update the metadata to include the relationship; for this, you can either:\n",
    "* Add the value for each of the samples retrieved in your script and update them using `BsdApi.update()`\n",
    "* Output the samples to a more user-friendly format (Xlsx, tsv) modify them, load them back and update them using `BsdApi.update()`\n",
    "\n",
    "The metadata entities automatically recognise that the origin sample is accessioned, so when you add the relationship, it will be added to the proper metadata and you don't need to use the `process_relationships` function.\n",
    "\n",
    "There is a third, more complicated option, which is to specify them somewhat manually; there is a function, [`add_relationship`](https://biobroker.readthedocs.io/en/latest/biobroker.metadata_entity.html#biobroker.metadata_entity.Biosample.add_relationship) for which you can specify the relationship manually, but... I don't really think it's worth it. I made it really simple for the user!"
   ]
  },
  {
   "cell_type": "markdown",
   "id": "87774037-e3da-4cf3-b64d-fdbbf74af873",
   "metadata": {},
   "source": [
    "## Adding ontology and unit tags to your values"
   ]
  },
  {
   "cell_type": "markdown",
   "id": "4b9350f3-aaa8-45f2-9647-df246dafcaf4",
   "metadata": {},
   "source": [
    "Another cool thing that BSD has, is that for each property, you can specify a `unit` or an `ontology term`, so that the term contains a bit more extra implicit metadata without tampering with the field name (**tip**: A field name should not contain the unit of measurement! That's usually bad practice!!)\n",
    "\n",
    "Let's imagine that you have measured the depth of some soil samples that you have taken. This depth was measured in meters, and you made sure your samples got taken at 1 meter, since it's the best depth ever for these samples (Please don't hate me I know nothing about soil)\n",
    "\n",
    "You want to use the GSC MIxS soil checklist (ERC000020), and you see the `depth` field to collect this information. There is a slight problem; you don't see where to input the units. You see in other submitted samples that it is indeed specified, but there is a parenthesis encasing the unit. What is going on here?\n",
    "\n",
    "BSD has defined its own way to deal with units and ontology terms; instead of having 2 fields and linking them, they have the information defined within the field. For context, a field in BSD usually looks like this:\n",
    "```json\n",
    "...\n",
    "<field_name>: [\n",
    "    {\n",
    "        \"text\": <value_of_field>\n",
    "    }\n",
    "]\n",
    "...\n",
    "```\n",
    "\n",
    "(Now you're happy you don't have to deal with that when using this library, eh?)\n",
    "\n",
    "Adding a unit is as simple as this:\n",
    "\n",
    "```json\n",
    "...\n",
    "<field_name>: [\n",
    "    {\n",
    "        \"text\": <value_of_field>,\n",
    "        \"unit\": <unit_name>\n",
    "    }\n",
    "]\n",
    "...\n",
    "```\n",
    "\n",
    "And it's even simpler with the library. For the BioSample metadata entity, a delimiter is defined; that delimiter, aside from allowing to specify more than one relationship in the same field, it also allows you to define the unit in the metadata. Let's use the `depth` example so that it is clearer!"
   ]
  },
  {
   "cell_type": "code",
   "execution_count": 3,
   "id": "afbc380d-396d-4c40-8ac8-39a537e5b202",
   "metadata": {},
   "outputs": [
    {
     "name": "stdout",
     "output_type": "stream",
     "text": [
      "{'name': 'Sample 1', 'characteristics': {'collected_at': [{'text': 'noon'}], 'organism': [{'text': 'homo sapiens'}], 'depth': [{'text': 1}]}, 'release': '2024-10-06T18:24:02.616045Z'}\n"
     ]
    }
   ],
   "source": [
    "samples_units = input_processor.process(Biosample)\n",
    "\n",
    "# Let's define the depth in the first sample and see what it looks like\n",
    "\n",
    "samples_units[0]['depth'] = 1\n",
    "\n",
    "print(samples_units[0].entity)"
   ]
  },
  {
   "cell_type": "code",
   "execution_count": 4,
   "id": "8785a535-eef9-41b0-96cb-b764ea2ead28",
   "metadata": {},
   "outputs": [
    {
     "name": "stdout",
     "output_type": "stream",
     "text": [
      "{'name': 'Sample 1', 'characteristics': {'collected_at': [{'text': 'noon'}], 'organism': [{'text': 'homo sapiens'}], 'depth': [{'text': 1, 'unit': 'meter'}]}, 'release': '2024-10-06T18:24:02.616045Z'}\n"
     ]
    }
   ],
   "source": [
    "# Now, let's add the unit! This also works for the headers of the user-friendly inputs (Like excel and tsv)\n",
    "samples_units[0]['depth||unit'] = 'meter'\n",
    "\n",
    "print(samples_units[0].entity)"
   ]
  },
  {
   "cell_type": "markdown",
   "id": "cf13f747-ff02-4312-9705-4e7693d30877",
   "metadata": {},
   "source": [
    "And Ta-da! we've got our sample with the `unit` attached! At this point, you can submit it to BSD and it will appear properly. As I mention in the code, you can do this in a programmatic way or you can add your units and/or ontology terms (For more information on the tags, you can read the [BSD documentation on submitting a sample](https://www.ebi.ac.uk/biosamples/docs/references/api/submit) (However, on the tags, you'll see there's only 3: 'unit', 'text' and 'ontologytTerms')"
   ]
  },
  {
   "cell_type": "markdown",
   "id": "749a7b87-ca97-4aba-9f17-fa024493715e",
   "metadata": {},
   "source": [
    "## Structured data\n",
    "\n",
    "### What in the world is structured data\n",
    "\n",
    "There is another layer of information that you can add to a sample; when you're recording metadata for a sample, you can sometimes generate a table of information (e.g. an Antibiogram). You could attach this information to the sample in a very weird and complicated way; however, biosamples provides with the ability to provide tables with tagged information and a `title`, and they call it `structured data`. For a couple examples of structured data, you can look at this sample in production: https://www.ebi.ac.uk/biosamples/samples/SAMEA112948612 or look at the [documentation examples](https://www.ebi.ac.uk/biosamples/docs/references/api/submit#_submit_structured_data)\n",
    "\n",
    "### Structured data format\n",
    "\n",
    "Let's do a simple task of creating some very simple structured data. Let's say that, for our case, we have realised an assay on the sample, that returns a very complex 2x2 table (scary)\n",
    "\n",
    "For this, let's start by loading up the samples and getting just the first one for this task and define the table!"
   ]
  },
  {
   "cell_type": "code",
   "execution_count": 6,
   "id": "1084ecd7-b491-4240-8f37-094abf27adba",
   "metadata": {},
   "outputs": [],
   "source": [
    "# Get the samples\n",
    "samples_st = input_processor.process(Biosample)\n",
    "\n",
    "# Choose just the first sample and submit it\n",
    "sample_example = [samples_st[0]]\n",
    "\n",
    "sample_example_submitted = api.submit(sample_example)\n",
    "\n",
    "data_table = [[1, 34.5],\n",
    "              [2, 33.7]]"
   ]
  },
  {
   "cell_type": "markdown",
   "id": "f0c6704c-251f-4d45-9ae8-fcdb712273b9",
   "metadata": {},
   "source": [
    "Now that we have all the necessary things set up, let's start structuring the table in the necessary format. In the code, this will all be one step, but take a look at the comments! I will be commenting each line that needs clarification."
   ]
  },
  {
   "cell_type": "code",
   "execution_count": 11,
   "id": "73224746-2f47-4cf3-9819-1ed4e15cd799",
   "metadata": {},
   "outputs": [
    {
     "name": "stdout",
     "output_type": "stream",
     "text": [
      "{'accession': 'SAMEA131399379', 'data': [{'webinSubmissionAccountId': 'Webin-64342', 'type': 'MYAWESOMEASSAY', 'content': [{'timepoint': {'value': 1, 'unit': 'hour'}, 'luminosity': {'value': 34.5}}, {'timepoint': {'value': 2, 'unit': 'hour'}, 'luminosity': {'value': 33.7}}]}]}\n"
     ]
    }
   ],
   "source": [
    "structured_data = {  # Please note, the structured data is submitted as a dictionary!\n",
    "    'accession': sample_example_submitted[0].accession,  # Accession must be provided with the structured data\n",
    "    'data': [ # This array is for all the different, unrelated tables you want to submit. Here, we only have one table, so the array will have lenght 1\n",
    "        {\n",
    "            'webinSubmissionAccountId': 'Webin-64342',  # For some goddam reason they need your webin account there\n",
    "            'type': 'MYAWESOMEASSAY', # This is the name of the table; usually, the name of the assay\n",
    "            # Note here: You can specify a `schema` property to validate the content of your table. Not going to do it\n",
    "            'content': [ # This is the actual data table! wooho! each of the elements of the aray is a dictionary with the values associated to a field name\n",
    "                { # We have 2 rows, so we expect 2 dictionaries\n",
    "                    'time point': { # Each field-value is defined as in the usual for BSD: 'value' is needed (instead of 'text'), and you can add tags\n",
    "                        'value': 1,\n",
    "                        'unit': 'hour'\n",
    "                    },\n",
    "                    'luminosity': {\n",
    "                        'value': 34.5\n",
    "                    }\n",
    "                },\n",
    "                { \n",
    "                    'time point': { \n",
    "                        'value': 2,\n",
    "                        'unit': 'hour'\n",
    "                    },\n",
    "                    'luminosity': {\n",
    "                        'value': 33.7\n",
    "                    }\n",
    "                }\n",
    "            ]\n",
    "        }\n",
    "    ]\n",
    "}\n",
    "\n",
    "# You could also generate the content automatically by iterating the data table. Feel free to use your preferred method!\n",
    "content = [{'timepoint': {'value': row[0], 'unit': 'hour'}, 'luminosity': {'value': row[1]}} for row in data_table] \n",
    "structured_data['data'][0]['content'] = content\n",
    "\n",
    "# Let's take a look at the structured data!\n",
    "\n",
    "print(structured_data)"
   ]
  },
  {
   "cell_type": "code",
   "execution_count": 15,
   "id": "5e47c9cb-744f-4dd1-bcfb-c19154ceceec",
   "metadata": {},
   "outputs": [
    {
     "name": "stdout",
     "output_type": "stream",
     "text": [
      "{\n",
      "  \"accession\" : \"SAMEA131399379\",\n",
      "  \"create\" : \"2024-10-06T19:18:11.785Z\",\n",
      "  \"update\" : \"2024-10-06T19:18:11.786Z\",\n",
      "  \"data\" : [ {\n",
      "    \"domain\" : null,\n",
      "    \"webinSubmissionAccountId\" : \"Webin-64342\",\n",
      "    \"type\" : \"MYAWESOMEASSAY\",\n",
      "    \"schema\" : null,\n",
      "    \"content\" : [ {\n",
      "      \"timepoint\" : {\n",
      "        \"value\" : \"1\",\n",
      "        \"iri\" : null\n",
      "      },\n",
      "      \"luminosity\" : {\n",
      "        \"value\" : \"34.5\",\n",
      "        \"iri\" : null\n",
      "      }\n",
      "    }, {\n",
      "      \"timepoint\" : {\n",
      "        \"value\" : \"2\",\n",
      "        \"iri\" : null\n",
      "      },\n",
      "      \"luminosity\" : {\n",
      "        \"value\" : \"33.7\",\n",
      "        \"iri\" : null\n",
      "      }\n",
      "    } ]\n",
      "  } ]\n",
      "}\n"
     ]
    }
   ],
   "source": [
    "response = api.authenticator.post(url=f\"{api.structured_data_endpoint}/{structured_data['accession']}\", payload=structured_data)\n",
    "print(response.text)"
   ]
  },
  {
   "cell_type": "markdown",
   "id": "1602cb6c-abf2-4482-992a-932164ca68d3",
   "metadata": {},
   "source": [
    "(Another error I found while writing these examples - The returned response is the structured data, not the sample - will fix in 0.0.7 and use the proper function to do this)\n",
    "\n",
    "As you can see, it has returned the data created. Let's take a look at the BioSamples entry!\n",
    "\n",
    "https://wwwdev.ebi.ac.uk/biosamples/samples/SAMEA131399379\n",
    "\n",
    "![BSD Structured data](bsd_data_entry_sd.png)"
   ]
  },
  {
   "cell_type": "markdown",
   "id": "b31b2547-6070-4918-940c-33de950dcb92",
   "metadata": {},
   "source": [
    "## Posting an external reference (URI)\n",
    "\n",
    "The last, and probably easiest, is adding external references. In BSD, external references are used to link data that could not be hosted in BSD to the entry, to have a single `source of truth` for all the data related to a sample.\n",
    "\n",
    "One example of this are the ENA links to the Genomics/Transcriptomics data - But in any case, these links are generated automatically by BioSamples if you remember to use your sample accession in your ENA submission :)\n",
    "\n",
    "Here I will only say that, similarly to the relationships, URLs can be added with the function `add_external_reference()` on the samples."
   ]
  },
  {
   "cell_type": "code",
   "execution_count": null,
   "id": "f45f7f00-768c-437d-91a2-c5d3dfc80ca4",
   "metadata": {},
   "outputs": [],
   "source": []
  }
 ],
 "metadata": {
  "kernelspec": {
   "display_name": "Python 3 (ipykernel)",
   "language": "python",
   "name": "python3"
  },
  "language_info": {
   "codemirror_mode": {
    "name": "ipython",
    "version": 3
   },
   "file_extension": ".py",
   "mimetype": "text/x-python",
   "name": "python",
   "nbconvert_exporter": "python",
   "pygments_lexer": "ipython3",
   "version": "3.10.11"
  }
 },
 "nbformat": 4,
 "nbformat_minor": 5
}
