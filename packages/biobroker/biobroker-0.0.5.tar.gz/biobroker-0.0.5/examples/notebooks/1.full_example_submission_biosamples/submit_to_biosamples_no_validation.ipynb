{
 "cells": [
  {
   "cell_type": "markdown",
   "id": "a569fb6a",
   "metadata": {},
   "source": [
    "# Submit to biosamples\n",
    "\n",
    "This notebook will serve to show how to use this library, in the simplest way:\n",
    "\n",
    "- Before you start\n",
    "    - Generate a valid input file with metadata about 1 sample (A very, very simple TSV)\n",
    "- What components do we need\n",
    "- What do we need to input to each component\n",
    "- How to correct our samples before submission\n",
    "- How to submit\n",
    "- See the results in Excel (or TSV, your decision)\n",
    "\n",
    "This is the simplest example; in other notebooks, we will explore how to submit multiple samples, with relationships defined amongst them, how to validate our samples against ENA checklists, and how to transform input data.\n",
    "\n",
    "## Before you start\n",
    "\n",
    "- Please make sure you have `python 3.10` or higher\n",
    "- Please make sure you have a webin acount set up in [webin-dev](https://wwwdev.ebi.ac.uk/ena/submit/webin/login)\n",
    "- Please make sure you have the latest biobroker library installed: `pip install biobroker`"
   ]
  },
  {
   "cell_type": "code",
   "execution_count": 1,
   "id": "d0c20907",
   "metadata": {},
   "outputs": [
    {
     "name": "stdout",
     "output_type": "stream",
     "text": [
      "Collecting biobroker==0.0.4\n",
      "  Downloading biobroker-0.0.4-py3-none-any.whl.metadata (42 kB)\n",
      "Requirement already satisfied: numpy~=1.23.1 in /Library/Frameworks/Python.framework/Versions/3.10/lib/python3.10/site-packages (from biobroker==0.0.4) (1.23.1)\n",
      "Requirement already satisfied: openpyxl==3.1.2 in /Library/Frameworks/Python.framework/Versions/3.10/lib/python3.10/site-packages (from biobroker==0.0.4) (3.1.2)\n",
      "Requirement already satisfied: pandas~=2.0.3 in /Library/Frameworks/Python.framework/Versions/3.10/lib/python3.10/site-packages (from biobroker==0.0.4) (2.0.3)\n",
      "Requirement already satisfied: progressbar2~=4.4.2 in /Library/Frameworks/Python.framework/Versions/3.10/lib/python3.10/site-packages (from biobroker==0.0.4) (4.4.2)\n",
      "Requirement already satisfied: requests>=2.31.0 in /Library/Frameworks/Python.framework/Versions/3.10/lib/python3.10/site-packages (from biobroker==0.0.4) (2.31.0)\n",
      "Requirement already satisfied: et-xmlfile in /Library/Frameworks/Python.framework/Versions/3.10/lib/python3.10/site-packages (from openpyxl==3.1.2->biobroker==0.0.4) (1.1.0)\n",
      "Requirement already satisfied: python-dateutil>=2.8.2 in /Library/Frameworks/Python.framework/Versions/3.10/lib/python3.10/site-packages (from pandas~=2.0.3->biobroker==0.0.4) (2.9.0.post0)\n",
      "Requirement already satisfied: pytz>=2020.1 in /Library/Frameworks/Python.framework/Versions/3.10/lib/python3.10/site-packages (from pandas~=2.0.3->biobroker==0.0.4) (2024.2)\n",
      "Requirement already satisfied: tzdata>=2022.1 in /Library/Frameworks/Python.framework/Versions/3.10/lib/python3.10/site-packages (from pandas~=2.0.3->biobroker==0.0.4) (2024.2)\n",
      "Requirement already satisfied: python-utils>=3.8.1 in /Library/Frameworks/Python.framework/Versions/3.10/lib/python3.10/site-packages (from progressbar2~=4.4.2->biobroker==0.0.4) (3.9.0)\n",
      "Requirement already satisfied: charset-normalizer<4,>=2 in /Library/Frameworks/Python.framework/Versions/3.10/lib/python3.10/site-packages (from requests>=2.31.0->biobroker==0.0.4) (3.3.2)\n",
      "Requirement already satisfied: idna<4,>=2.5 in /Library/Frameworks/Python.framework/Versions/3.10/lib/python3.10/site-packages (from requests>=2.31.0->biobroker==0.0.4) (3.10)\n",
      "Requirement already satisfied: urllib3<3,>=1.21.1 in /Library/Frameworks/Python.framework/Versions/3.10/lib/python3.10/site-packages (from requests>=2.31.0->biobroker==0.0.4) (2.2.3)\n",
      "Requirement already satisfied: certifi>=2017.4.17 in /Library/Frameworks/Python.framework/Versions/3.10/lib/python3.10/site-packages (from requests>=2.31.0->biobroker==0.0.4) (2024.8.30)\n",
      "Requirement already satisfied: six>=1.5 in /Library/Frameworks/Python.framework/Versions/3.10/lib/python3.10/site-packages (from python-dateutil>=2.8.2->pandas~=2.0.3->biobroker==0.0.4) (1.16.0)\n",
      "Requirement already satisfied: typing-extensions>3.10.0.2 in /Library/Frameworks/Python.framework/Versions/3.10/lib/python3.10/site-packages (from python-utils>=3.8.1->progressbar2~=4.4.2->biobroker==0.0.4) (4.12.2)\n",
      "Downloading biobroker-0.0.4-py3-none-any.whl (55 kB)\n",
      "Installing collected packages: biobroker\n",
      "Successfully installed biobroker-0.0.4\n",
      "Note: you may need to restart the kernel to use updated packages.\n"
     ]
    }
   ],
   "source": [
    "%pip install --upgrade biobroker==0.0.4"
   ]
  },
  {
   "cell_type": "markdown",
   "id": "5c5df12c",
   "metadata": {},
   "source": [
    "### Generate input file\n",
    "\n",
    "I don't want to have an example file of this kind in the examples, so, let's generate it ourselves! Let's do a simple example with 2 attributes: \"name\" and \"collected_at\""
   ]
  },
  {
   "cell_type": "code",
   "execution_count": 1,
   "id": "c4803020",
   "metadata": {},
   "outputs": [],
   "source": [
    "sample_tsv = [\n",
    "    [\"name\", \"collected_at\"],\n",
    "    [\"sumple\", \"noon\"]         \n",
    "]\n",
    "\n",
    "writable_sample = \"\\n\".join([\"\\t\".join(row) for row in sample_tsv])\n",
    "with open(\"simple_sample_sumple.tsv\", \"w\") as f:\n",
    "    f.write(writable_sample)"
   ]
  },
  {
   "cell_type": "markdown",
   "id": "e4dd82cd",
   "metadata": {},
   "source": [
    "\"name\" is a especial property in biosamples. We'll talk about it later; for now, just remember that this property has to always be set up.\n",
    "\n",
    "## What components do we need\n",
    "\n",
    "Given that you've read the documentation in the main page (I know you've done it, I wrote it with lots of love) you will know by now that, in order to submit, we need:\n",
    "- An authenticator: To authenticate ourselves to the archive\n",
    "- An api: To store/execute the instructions to submit to the archive\n",
    "- At least 1 metadata entity: To store the metadata about our samples\n",
    "- An input processor: To process the input file with the metadata\n",
    "\n",
    "Additionally, I will also import an output processor; Not needed, but we will be able to save our brokering results to a very nice, very demure and readable excel file.\n",
    "\n",
    "Additionally number 2: Metadata entities have a very nice thing, they have a `static method` (That just means you can call the method without creating an instance) that gives you guidelines on how to fill out the metadata. Lovely, eh?"
   ]
  },
  {
   "cell_type": "code",
   "execution_count": 2,
   "id": "cc118db6",
   "metadata": {},
   "outputs": [
    {
     "name": "stdout",
     "output_type": "stream",
     "text": [
      "A Biosamples entity MUST have the following properties set:\n",
      "\t- name: a descriptive title for the sample\n",
      "\t- taxId or organism: either the integer code for a taxon ID (taxId), according to https://www.ncbi.nlm.nih.gov/taxonomy, or a string that validates against those records (organism)\n",
      "A Biosamples entity SHOULD have the following properties set:\n",
      "\t- release: date of release for the metadata of the entity. DEFAULTS TO MOMENT OF CREATION.\n",
      "For more information, please see https://www.ebi.ac.uk/biosamples/docs/references/api/submit#_submission_minimal_fields.\n",
      "\n",
      "To indicate relationships in the samples, please use a field named after the relationshipitself: namely, 'derived_from', 'same_as', 'has_member' or 'child_of'.\n",
      "Please seehttps://www.ebi.ac.uk/biosamples/docs/guides/relationships\n"
     ]
    },
    {
     "name": "stderr",
     "output_type": "stream",
     "text": [
      "2024-09-26 08:52:45,405 - Biosample - WARNING - Sample sumple: release date was not set. Setting it to right now.\n",
      "2024-09-26 09:00:36,723 - BsdApi - INFO - Set up BSD API successfully: using base uri 'https://wwwdev.ebi.ac.uk/biosamples/samples'\n",
      "2024-09-26 09:01:59,291 - BsdApi - ERROR - Found following errors in sample validation:\n",
      "\t- /characteristics.organism: should have required property 'organism'\n",
      "\t- /characteristics.Organism: should have required property 'Organism'\n",
      "\t- /characteristics.species: should have required property 'species'\n",
      "\t- /characteristics.Species: should have required property 'Species'\n",
      "\t- /characteristics: should match some schema in anyOf)\n"
     ]
    }
   ],
   "source": [
    "from biobroker.authenticator import WebinAuthenticator # Biosamples uses the WebinAuthenticator\n",
    "from biobroker.api import BsdApi # BioSamples Database (BSD) API\n",
    "from biobroker.metadata_entity import Biosample # The metadata entity\n",
    "from biobroker.input_processor import TsvInputProcessor # An input processor\n",
    "from biobroker.output_processor import XlsxOutputProcessor # An output processor\n",
    "\n",
    "print(Biosample.guidelines())"
   ]
  },
  {
   "cell_type": "markdown",
   "id": "bc0b4d25",
   "metadata": {},
   "source": [
    "Now we have imported everything! See how easy it is?\n",
    "\n",
    "You may have noticed that, aside from the `name`, there are 2 other mandatory fields:\n",
    "- taxId/organism: Biosamples requires for the samples to identify which is the taxonomic classification for the organism the sample comes from. This is not important now - It will throw an error later and we will correct it.\n",
    "- release: As with any archive, the [meta]data can be stored as private for an amount of time. This sets the release date. We can set it up, but for this example we won't; it will be released as soon as we submit it. The BioSample metadata entity has a built-in behaviour to add the release date to the timestamp of creation of the object if not provided.\n",
    "\n",
    "## How to set up each component\n",
    "\n",
    "Alrighty! Let's start setting up the components:\n",
    "\n",
    "### 1. Set up the input processor\n",
    "\n",
    "For the input processor, we just need to give the path to the input file :)"
   ]
  },
  {
   "cell_type": "code",
   "execution_count": 3,
   "id": "76f31163",
   "metadata": {},
   "outputs": [],
   "source": [
    "path = \"simple_sample_sumple.tsv\" # This is the file we created previously\n",
    "\n",
    "input_processor = TsvInputProcessor(input_data=path)"
   ]
  },
  {
   "cell_type": "markdown",
   "id": "a72980fb",
   "metadata": {},
   "source": [
    "Let's check it out!"
   ]
  },
  {
   "cell_type": "code",
   "execution_count": 4,
   "id": "f57e97eb",
   "metadata": {},
   "outputs": [
    {
     "data": {
      "text/plain": [
       "[{'name': 'sumple', 'collected_at': 'noon'}]"
      ]
     },
     "execution_count": 4,
     "metadata": {},
     "output_type": "execute_result"
    }
   ],
   "source": [
    "input_processor.input_data"
   ]
  },
  {
   "cell_type": "markdown",
   "id": "649f18e5",
   "metadata": {},
   "source": [
    "There's another functionality of the input processors: the `transform` function. I will discuss it in further notebooks!\n",
    "\n",
    "For now, we have the input processor set up. Cool!\n",
    "\n",
    "### 2. Set up the samples\n",
    "\n",
    "Now that we have the data in an object... where does that go?\n",
    "\n",
    "Well, it's as simple as: the input processors have a method called `process`. You give, as an input to this function, the class of `metadata_entity`s that you want to create, and it returns a list of those entities created from the `.input_data`. If you want to see more documentation on that, refer to [ReadTheDocs](https://biobroker.readthedocs.io/en/latest/biobroker.input_processor.html#biobroker.input_processor.input_processor.GenericInputProcessor.process)"
   ]
  },
  {
   "cell_type": "code",
   "execution_count": 5,
   "id": "01fa6a9e",
   "metadata": {},
   "outputs": [
    {
     "name": "stdout",
     "output_type": "stream",
     "text": [
      "[<biobroker.metadata_entity.metadata_entity.Biosample object at 0x10f9fead0>]\n"
     ]
    }
   ],
   "source": [
    "my_sample = input_processor.process(Biosample) # We're giving it a Biosample class to process\n",
    "print(my_sample)"
   ]
  },
  {
   "cell_type": "markdown",
   "id": "968305c3",
   "metadata": {},
   "source": [
    "It's... a list of objects?\n",
    "\n",
    "Yup! The `process` function always returns a list of objects (`Biosample` entities in this case). This makes writing against the output much easier, as you don't need to handle methods to work against a list or a single entity. Don't be lazy - Write against the list!\n",
    "\n",
    "(Also, let's see how the metadata inside has been transformed)"
   ]
  },
  {
   "cell_type": "code",
   "execution_count": 6,
   "id": "44aa1d6a",
   "metadata": {},
   "outputs": [
    {
     "name": "stdout",
     "output_type": "stream",
     "text": [
      "{'name': 'sumple', 'characteristics': {'collected_at': [{'text': 'noon'}]}, 'release': '2024-09-26T07:52:45.407206Z'}\n"
     ]
    }
   ],
   "source": [
    "print(my_sample[0].entity)"
   ]
  },
  {
   "cell_type": "markdown",
   "id": "6025d8f4",
   "metadata": {},
   "source": [
    "Now the sample is set up! See how it has re-structured the metadata?\n",
    "\n",
    "This is the format that biosamples expects their metadata to be. You don't need to understand everything - Just know, there are certain keywords (e.g. name) that get treated differently, and everything else is stored under `characteristics`. You can review the list of properties in the RTD docs: [ROOT PROPERTIES](https://biobroker.readthedocs.io/en/latest/biobroker.metadata_entity.html#biobroker.metadata_entity.metadata_entity.ROOT_PROPERTIES)\n",
    "\n",
    "### 3. Setting up the authenticator + API\n",
    "\n",
    "Now, we need to set up the authenticator and the API. For this example, we're going to use BioSamples dev - the testing environment.\n",
    "\n",
    "For that, we will set up an environment variable, `API_ENVIRONMENT`, and we will provide the authenticator with our webin-dev username and password."
   ]
  },
  {
   "cell_type": "code",
   "execution_count": 7,
   "id": "92f3d5f6",
   "metadata": {},
   "outputs": [],
   "source": [
    "import os\n",
    "os.environ['API_ENVIRONMENT'] = \"dev\" # There are multiple ways to set up environment variables\n",
    "\n",
    "username = \"\" # Your username goes here\n",
    "password = \"\" # Your password goes here\n",
    "authenticator = WebinAuthenticator(username=username, password=password)\n",
    "\n",
    "api = BsdApi(authenticator=authenticator)"
   ]
  },
  {
   "cell_type": "markdown",
   "id": "49e70db7",
   "metadata": {},
   "source": [
    "For your password and username in a workflow environment, I would recommend either to set them up as environment variables and load them in your script, or use a config file that you're sure it's not going to be pushed to the repository. Be mindful!\n",
    "\n",
    "Now that we have everything set up, let's try to submit!\n",
    "\n",
    "### 4. Submitting your sample\n",
    "\n",
    "This step is very easy - Since we've done everything, we just need to hit submit on the API object and pass the samples we generated!"
   ]
  },
  {
   "cell_type": "code",
   "execution_count": 10,
   "id": "6775d9e4",
   "metadata": {},
   "outputs": [
    {
     "ename": "BiosamplesValidationError",
     "evalue": "Found following errors in sample validation:\n\t- /characteristics.organism: should have required property 'organism'\n\t- /characteristics.Organism: should have required property 'Organism'\n\t- /characteristics.species: should have required property 'species'\n\t- /characteristics.Species: should have required property 'Species'\n\t- /characteristics: should match some schema in anyOf)",
     "output_type": "error",
     "traceback": [
      "\u001b[0;31m---------------------------------------------------------------------------\u001b[0m",
      "\u001b[0;31mBiosamplesValidationError\u001b[0m                 Traceback (most recent call last)",
      "Cell \u001b[0;32mIn[10], line 1\u001b[0m\n\u001b[0;32m----> 1\u001b[0m results \u001b[38;5;241m=\u001b[39m \u001b[43mapi\u001b[49m\u001b[38;5;241;43m.\u001b[39;49m\u001b[43msubmit\u001b[49m\u001b[43m(\u001b[49m\u001b[43mmy_sample\u001b[49m\u001b[43m)\u001b[49m\n",
      "File \u001b[0;32m/Library/Frameworks/Python.framework/Versions/3.10/lib/python3.10/site-packages/biobroker/api/api.py:46\u001b[0m, in \u001b[0;36mGenericApi.submit\u001b[0;34m(self, entities, **kwargs)\u001b[0m\n\u001b[1;32m     44\u001b[0m     \u001b[38;5;28;01mreturn\u001b[39;00m \u001b[38;5;28mself\u001b[39m\u001b[38;5;241m.\u001b[39m_submit_multiple(entities, kwargs)\n\u001b[1;32m     45\u001b[0m \u001b[38;5;28;01melse\u001b[39;00m:\n\u001b[0;32m---> 46\u001b[0m     \u001b[38;5;28;01mreturn\u001b[39;00m [\u001b[38;5;28;43mself\u001b[39;49m\u001b[38;5;241;43m.\u001b[39;49m\u001b[43m_submit\u001b[49m\u001b[43m(\u001b[49m\u001b[43mentities\u001b[49m\u001b[43m[\u001b[49m\u001b[38;5;241;43m0\u001b[39;49m\u001b[43m]\u001b[49m\u001b[43m,\u001b[49m\u001b[43m \u001b[49m\u001b[43mkwargs\u001b[49m\u001b[43m)\u001b[49m]\n",
      "File \u001b[0;32m/Library/Frameworks/Python.framework/Versions/3.10/lib/python3.10/site-packages/biobroker/api/api.py:163\u001b[0m, in \u001b[0;36mBsdApi._submit\u001b[0;34m(self, entity, kwargs)\u001b[0m\n\u001b[1;32m    161\u001b[0m r \u001b[38;5;241m=\u001b[39m \u001b[38;5;28mself\u001b[39m\u001b[38;5;241m.\u001b[39mauthenticator\u001b[38;5;241m.\u001b[39mpost(submit_url, payload\u001b[38;5;241m=\u001b[39mentity\u001b[38;5;241m.\u001b[39mentity)\n\u001b[1;32m    162\u001b[0m \u001b[38;5;28;01mif\u001b[39;00m r\u001b[38;5;241m.\u001b[39mstatus_code \u001b[38;5;241m>\u001b[39m \u001b[38;5;241m300\u001b[39m:\n\u001b[0;32m--> 163\u001b[0m     \u001b[38;5;28;43mself\u001b[39;49m\u001b[38;5;241;43m.\u001b[39;49m\u001b[43m_submit_errors\u001b[49m\u001b[43m(\u001b[49m\u001b[43mr\u001b[49m\u001b[43m)\u001b[49m\n\u001b[1;32m    164\u001b[0m \u001b[38;5;28;01mreturn\u001b[39;00m Biosample(r\u001b[38;5;241m.\u001b[39mjson())\n",
      "File \u001b[0;32m/Library/Frameworks/Python.framework/Versions/3.10/lib/python3.10/site-packages/biobroker/api/api.py:346\u001b[0m, in \u001b[0;36mBsdApi._submit_errors\u001b[0;34m(self, response)\u001b[0m\n\u001b[1;32m    343\u001b[0m     \u001b[38;5;28;01mraise\u001b[39;00m ChecklistValidationError(response\u001b[38;5;241m.\u001b[39mtext, \u001b[38;5;28mself\u001b[39m\u001b[38;5;241m.\u001b[39mlogger)\n\u001b[1;32m    345\u001b[0m \u001b[38;5;28;01mif\u001b[39;00m response\u001b[38;5;241m.\u001b[39mstatus_code \u001b[38;5;241m==\u001b[39m \u001b[38;5;241m400\u001b[39m \u001b[38;5;129;01mand\u001b[39;00m \u001b[38;5;124m\"\u001b[39m\u001b[38;5;124mdataPath\u001b[39m\u001b[38;5;124m\"\u001b[39m \u001b[38;5;129;01min\u001b[39;00m response\u001b[38;5;241m.\u001b[39mtext:\n\u001b[0;32m--> 346\u001b[0m     \u001b[38;5;28;01mraise\u001b[39;00m BiosamplesValidationError(response\u001b[38;5;241m.\u001b[39mtext, \u001b[38;5;28mself\u001b[39m\u001b[38;5;241m.\u001b[39mlogger)\n\u001b[1;32m    348\u001b[0m \u001b[38;5;28;01mreturn\u001b[39;00m \u001b[38;5;28;01mNone\u001b[39;00m\n",
      "\u001b[0;31mBiosamplesValidationError\u001b[0m: Found following errors in sample validation:\n\t- /characteristics.organism: should have required property 'organism'\n\t- /characteristics.Organism: should have required property 'Organism'\n\t- /characteristics.species: should have required property 'species'\n\t- /characteristics.Species: should have required property 'Species'\n\t- /characteristics: should match some schema in anyOf)"
     ]
    }
   ],
   "source": [
    "results = api.submit(my_sample)"
   ]
  },
  {
   "cell_type": "markdown",
   "id": "ad007009",
   "metadata": {},
   "source": [
    "As we can see, Biosamples is complaining; it's telling us our sample is missing a certain set of characteristics. This specific case, the error comes from a `anyOf` schema error - That meaning, in plain english, you should only worry to set one of the characteristics.\n",
    "\n",
    "Since we mentioned it before, let's correct our sample and add the `organism` field. `organism` takes a string, but this should match the label in the NCBI taxonomy service. Let's choose human!"
   ]
  },
  {
   "cell_type": "code",
   "execution_count": 11,
   "id": "00ac15e6",
   "metadata": {},
   "outputs": [],
   "source": [
    "my_sample[0]['organism'] = \"Homo sapiens\""
   ]
  },
  {
   "cell_type": "markdown",
   "id": "b97ed239",
   "metadata": {},
   "source": [
    "One very cool thing is that `metadata_entity` objects are set up as dictionaries. The same way you would add a key:value pair to a dictionary, you can do the same with a metadata entity - And the entity will handle where and how to write it.\n",
    "\n",
    "(Tip: For multiple correction, I'd advise to correct the source of the metadata (the tsv) rather than working directly on the objects.)\n",
    "\n",
    "Let's try again!"
   ]
  },
  {
   "cell_type": "code",
   "execution_count": 12,
   "id": "0e3df0bc",
   "metadata": {},
   "outputs": [],
   "source": [
    "submitted_samples = api.submit(entities=my_sample)"
   ]
  },
  {
   "cell_type": "code",
   "execution_count": 13,
   "id": "aa8e2693",
   "metadata": {},
   "outputs": [
    {
     "name": "stdout",
     "output_type": "stream",
     "text": [
      "{'name': 'sumple', 'characteristics': {'SRA accession': [{'text': 'ERS30993787'}], 'collected_at': [{'text': 'noon'}], 'organism': [{'text': 'Homo sapiens'}]}, 'accession': 'SAMEA131394580', 'sraAccession': 'ERS30993787', 'webinSubmissionAccountId': 'Webin-64342', 'taxId': 9606, 'status': 'PUBLIC', 'release': '2024-09-26T07:52:45.407Z', 'update': '2024-09-26T08:03:34.403Z', 'submitted': '2024-09-26T08:03:34.403Z', 'submittedVia': 'JSON_API', 'create': '2024-09-26T08:03:34.403Z', '_links': {'self': {'href': 'https://wwwdev.ebi.ac.uk/biosamples/samples'}, 'curationDomain': {'href': 'https://wwwdev.ebi.ac.uk/biosamples/samples{?curationdomain}', 'templated': True}, 'curationLinks': {'href': 'https://wwwdev.ebi.ac.uk/biosamples/samples/SAMEA131394580/curationlinks'}, 'curationLink': {'href': 'https://wwwdev.ebi.ac.uk/biosamples/samples/SAMEA131394580/curationlinks/{hash}', 'templated': True}, 'structuredData': {'href': 'https://wwwdev.ebi.ac.uk/biosamples/structureddata/SAMEA131394580'}}}\n"
     ]
    }
   ],
   "source": [
    "print(submitted_samples[0].entity)"
   ]
  },
  {
   "cell_type": "markdown",
   "id": "1b46b4b9",
   "metadata": {},
   "source": [
    "And it's submitted! if you want to see it, it's already available in biosamples dev:"
   ]
  },
  {
   "cell_type": "code",
   "execution_count": 14,
   "id": "e6a8ebe2",
   "metadata": {
    "scrolled": true
   },
   "outputs": [
    {
     "name": "stdout",
     "output_type": "stream",
     "text": [
      "https://wwwdev.ebi.ac.uk/biosamples/samples/SAMEA131394580\n"
     ]
    }
   ],
   "source": [
    "print(f\"https://wwwdev.ebi.ac.uk/biosamples/samples/{submitted_samples[0]['accession']}\")"
   ]
  },
  {
   "cell_type": "markdown",
   "id": "a6956141",
   "metadata": {},
   "source": [
    "(You may need to wait a bit - Biosamples dev operates a bit slower, as it's normal for testing grounds. It may take a while to make the sample public)\n",
    "\n",
    "Let's create an output file so you can be happy with your local version of the metadata!"
   ]
  },
  {
   "cell_type": "code",
   "execution_count": 15,
   "id": "bf18c202-0aee-4d73-b1ee-e67e908ba513",
   "metadata": {},
   "outputs": [],
   "source": [
    "from biobroker.output_processor import XlsxOutputProcessor\n",
    "output_processor = XlsxOutputProcessor(output_path=\"simple_sample_submitted.xlsx\", sheet_name=\"Awesome submission\")\n",
    "output_processor.save(submitted_samples)"
   ]
  },
  {
   "cell_type": "markdown",
   "id": "bbfb7719",
   "metadata": {},
   "source": [
    "And you should see something like this! Isn't this demure?\n"
   ]
  },
  {
   "cell_type": "markdown",
   "id": "d6598626-8c43-45f2-ad9c-c1f71992b1a6",
   "metadata": {},
   "source": [
    "<img src=\"simple_sample_submitted.png\">"
   ]
  },
  {
   "cell_type": "markdown",
   "id": "7d1a23ad-2099-4937-9810-c2e1002b39eb",
   "metadata": {},
   "source": [
    "### 5. Enjoy!"
   ]
  }
 ],
 "metadata": {
  "kernelspec": {
   "display_name": "Python 3 (ipykernel)",
   "language": "python",
   "name": "python3"
  },
  "language_info": {
   "codemirror_mode": {
    "name": "ipython",
    "version": 3
   },
   "file_extension": ".py",
   "mimetype": "text/x-python",
   "name": "python",
   "nbconvert_exporter": "python",
   "pygments_lexer": "ipython3",
   "version": "3.10.11"
  }
 },
 "nbformat": 4,
 "nbformat_minor": 5
}
