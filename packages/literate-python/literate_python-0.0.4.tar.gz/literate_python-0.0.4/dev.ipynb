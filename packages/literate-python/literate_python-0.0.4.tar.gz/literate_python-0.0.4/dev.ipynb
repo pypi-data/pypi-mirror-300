{
 "cells": [
  {
   "cell_type": "markdown",
   "id": "11329466-c42d-452c-a6be-429b1a38388c",
   "metadata": {},
   "source": [
    "# Prepation\n",
    "## literate server"
   ]
  },
  {
   "cell_type": "code",
   "execution_count": 1,
   "id": "2b28fcb5-e9fe-4685-86a0-136e2e78a87f",
   "metadata": {
    "execution": {
     "iopub.execute_input": "2024-09-02T12:50:21.887471Z",
     "iopub.status.busy": "2024-09-02T12:50:21.887072Z",
     "iopub.status.idle": "2024-09-02T12:50:21.896491Z",
     "shell.execute_reply": "2024-09-02T12:50:21.894476Z",
     "shell.execute_reply.started": "2024-09-02T12:50:21.887442Z"
    },
    "scrolled": true
   },
   "outputs": [
    {
     "name": "stdout",
     "output_type": "stream",
     "text": [
      "Register literate importer.\n",
      "\n",
      " * Serving Flask app 'lpy.server'\n",
      " * Debug mode: on\n"
     ]
    },
    {
     "name": "stderr",
     "output_type": "stream",
     "text": [
      "INFO:werkzeug:\u001b[31m\u001b[1mWARNING: This is a development server. Do not use it in a production deployment. Use a production WSGI server instead.\u001b[0m\n",
      " * Running on http://127.0.0.1:7332\n",
      "INFO:werkzeug:\u001b[33mPress CTRL+C to quit\u001b[0m\n",
      "DEBUG:lpy.server:/register Received:[{'name': None, 'content': 'import os\\nimport django\\nfrom django.core.management import...\n",
      "Traceback (most recent call last):\n",
      "  File \"/Users/jingtao/projects/literate-python/lpy/server.py\", line 117, in _register\n",
      "    register_literate_module_finder(data)\n",
      "TypeError: register_literate_module_finder() takes 0 positional arguments but 1 was given\n",
      "DEBUG:lpy.server:/register Returning:{'type': 'error', 'stderr': 'register_literate_module_finder() takes 0 positional arguments but 1 was given'}\n",
      "INFO:werkzeug:127.0.0.1 - - [02/Sep/2024 21:09:43] \"POST /register HTTP/1.1\" 200 -\n",
      "DEBUG:lpy.server:/register Received:[{'name': None, 'content': 'import os\\nimport django\\nfrom django.core.management import...\n",
      "Traceback (most recent call last):\n",
      "  File \"/Users/jingtao/projects/literate-python/lpy/server.py\", line 117, in _register\n",
      "    register_literate_module_finder(data)\n",
      "TypeError: register_literate_module_finder() takes 0 positional arguments but 1 was given\n",
      "DEBUG:lpy.server:/register Returning:{'type': 'error', 'stderr': 'register_literate_module_finder() takes 0 positional arguments but 1 was given'}\n",
      "INFO:werkzeug:127.0.0.1 - - [02/Sep/2024 21:09:53] \"POST /register HTTP/1.1\" 200 -\n",
      "DEBUG:lpy.server:/execute Received:{'type': 'exec', 'module': 'lpy.server', 'module-create-method': 'import_or_create', 'code': 'def...\n",
      "DEBUG:lpy.server:Executed code: def _register(request):\n",
      "    # Get JSON data\n",
      "    data = request.get_json()\n",
      "\n",
      "    # Process the data (example)\n",
      "    logger.debug(\n",
      "        \"/register Received:%s\", shorten(str(data), width=100, placeholder=\"...\")\n",
      "    )\n",
      "    try:\n",
      "        register_literate_modules(data)\n",
      "        return_value = {\"type\": \"done\"}\n",
      "    except Exception as e:\n",
      "        # printing stack trace\n",
      "        return_value = {\"type\": \"error\", \"stderr\": str(e)}\n",
      "        traceback.print_exc()\n",
      "\n",
      "    # Return a response\n",
      "    logger.debug(\"/register Returning:%s\", return_value)\n",
      "    return jsonify(return_value)\n",
      "\n",
      ",result:None\n",
      "DEBUG:lpy.server:/execute Returning:{'result': None, 'type': 'result', 'stdout': '', 'stderr': ''}\n",
      "INFO:werkzeug:127.0.0.1 - - [02/Sep/2024 21:11:29] \"POST /execute HTTP/1.1\" 200 -\n",
      "DEBUG:lpy.server:/execute Received:{'type': 'exec', 'module': 'lpy.server', 'module-create-method': 'import_or_create', 'code': 'def...\n",
      "DEBUG:lpy.server:Executed code: def _register(request):\n",
      "    # Get JSON data\n",
      "    data = request.get_json()\n",
      "\n",
      "    # Process the data (example)\n",
      "    logger.debug(\n",
      "        \"/register Received:%s\", shorten(str(data), width=100, placeholder=\"...\")\n",
      "    )\n",
      "    try:\n",
      "        register_literate_modules(data)\n",
      "        return_value = {\"type\": \"done\"}\n",
      "    except Exception as e:\n",
      "        # printing stack trace\n",
      "        return_value = {\"type\": \"error\", \"stderr\": str(e)}\n",
      "        traceback.print_exc()\n",
      "\n",
      "    # Return a response\n",
      "    logger.debug(\"/register Returning:%s\", return_value)\n",
      "    return jsonify(return_value)\n",
      "\n",
      ",result:None\n",
      "DEBUG:lpy.server:/execute Returning:{'result': None, 'type': 'result', 'stdout': '', 'stderr': ''}\n",
      "INFO:werkzeug:127.0.0.1 - - [02/Sep/2024 21:11:30] \"POST /execute HTTP/1.1\" 200 -\n",
      "DEBUG:lpy.server:/execute Received:{'type': 'exec', 'module': 'lpy.server', 'module-create-method': 'import_or_create', 'code': 'def...\n",
      "DEBUG:lpy.server:Executed code: def _register(request):\n",
      "    # Get JSON data\n",
      "    data = request.get_json()\n",
      "\n",
      "    # Process the data (example)\n",
      "    logger.debug(\n",
      "        \"/register Received:%s\", shorten(str(data), width=100, placeholder=\"...\")\n",
      "    )\n",
      "    try:\n",
      "        register_literate_modules(data)\n",
      "        return_value = {\"type\": \"done\"}\n",
      "    except Exception as e:\n",
      "        # printing stack trace\n",
      "        return_value = {\"type\": \"error\", \"stderr\": str(e)}\n",
      "        traceback.print_exc()\n",
      "\n",
      "    # Return a response\n",
      "    logger.debug(\"/register Returning:%s\", return_value)\n",
      "    return jsonify(return_value)\n",
      "\n",
      ",result:None\n",
      "DEBUG:lpy.server:/execute Returning:{'result': None, 'type': 'result', 'stdout': '', 'stderr': ''}\n",
      "INFO:werkzeug:127.0.0.1 - - [02/Sep/2024 21:11:31] \"POST /execute HTTP/1.1\" 200 -\n",
      "DEBUG:lpy.server:/register Received:[{'name': None, 'content': 'import os\\nimport django\\nfrom django.core.management import...\n",
      "Traceback (most recent call last):\n",
      "  File \"code\", line 10, in _register\n",
      "NameError: name 'register_literate_modules' is not defined. Did you mean: 'register_literate_module_finder'?\n",
      "DEBUG:lpy.server:/register Returning:{'type': 'error', 'stderr': \"name 'register_literate_modules' is not defined\"}\n",
      "INFO:werkzeug:127.0.0.1 - - [02/Sep/2024 21:11:37] \"POST /register HTTP/1.1\" 200 -\n",
      "DEBUG:lpy.server:/execute Received:{'type': 'exec', 'module': 'lpy.server', 'module-create-method': 'import_or_create', 'code':...\n",
      "DEBUG:lpy.server:Executed code: import importlib\n",
      "import os\n",
      "import sys\n",
      "import time\n",
      "import json\n",
      "from flask import Flask, request, jsonify\n",
      "\n",
      "import traceback\n",
      "import builtins\n",
      "\n",
      "# To convert lisp ratio to python\n",
      "import fractions\n",
      "from contextlib import redirect_stdout\n",
      "from contextlib import redirect_stderr\n",
      "from io import StringIO\n",
      "from io import StringIO\n",
      "\n",
      "import logging\n",
      "\n",
      "from textwrap import shorten\n",
      "from lpy.loader import register_literate_modules, register_literate_module_finder\n",
      "\n",
      ",result:None\n",
      "DEBUG:lpy.server:/execute Returning:{'result': None, 'type': 'result', 'stdout': '', 'stderr': ''}\n",
      "INFO:werkzeug:127.0.0.1 - - [02/Sep/2024 21:12:00] \"POST /execute HTTP/1.1\" 200 -\n",
      "DEBUG:lpy.server:/register Received:[{'name': None, 'content': 'import os\\nimport django\\nfrom django.core.management import...\n",
      "DEBUG:lpy.server:/register Returning:{'type': 'done'}\n",
      "INFO:werkzeug:127.0.0.1 - - [02/Sep/2024 21:12:19] \"POST /register HTTP/1.1\" 200 -\n",
      "DEBUG:lpy.server:/register Received:[{'name': None, 'content': 'import os\\nimport django\\nfrom django.core.management import...\n",
      "DEBUG:lpy.server:/register Returning:{'type': 'done'}\n",
      "INFO:werkzeug:127.0.0.1 - - [02/Sep/2024 21:12:49] \"POST /register HTTP/1.1\" 200 -\n",
      "DEBUG:lpy.server:/register Received:[{'name': None, 'content': 'import sys\\nimport importlib\\n\\nspec_module_a =...\n",
      "DEBUG:lpy.server:/register Returning:{'type': 'done'}\n",
      "INFO:werkzeug:127.0.0.1 - - [02/Sep/2024 21:14:13] \"POST /register HTTP/1.1\" 200 -\n"
     ]
    }
   ],
   "source": [
    "from lpy.server import run_server as run_lpy_server\n",
    "from threading import Thread\n",
    "os.environ['LITERATE_PYTHON_HOST'] = '127.0.0.1'\n",
    "os.environ['LITERATE_PYTHON_PORT'] = '7332'\n",
    "lpy_server_thread = Thread(target=run_lpy_server)\n",
    "lpy_server_thread.start()\n"
   ]
  },
  {
   "cell_type": "markdown",
   "id": "ca6e0c36-e9f1-4d1b-b5ff-c2925b1e334d",
   "metadata": {},
   "source": [
    "## setup logging"
   ]
  },
  {
   "cell_type": "code",
   "execution_count": 2,
   "id": "c775dd38-87e2-45e3-872d-38df29ad3b5d",
   "metadata": {
    "execution": {
     "iopub.execute_input": "2024-09-02T12:50:25.408089Z",
     "iopub.status.busy": "2024-09-02T12:50:25.407768Z",
     "iopub.status.idle": "2024-09-02T12:50:25.411542Z",
     "shell.execute_reply": "2024-09-02T12:50:25.410920Z",
     "shell.execute_reply.started": "2024-09-02T12:50:25.408067Z"
    }
   },
   "outputs": [],
   "source": [
    "import logging\n",
    "FORMAT = (\n",
    "    \"[%(asctime)s %(filename)s->%(funcName)s():%(lineno)s]%(levelname)s: %(message)s\"\n",
    ")\n",
    "logging.basicConfig(encoding=\"utf-8\", level=logging.DEBUG, format=FORMAT)\n"
   ]
  },
  {
   "cell_type": "markdown",
   "id": "278544ff-4c2d-4136-b357-10a59969b712",
   "metadata": {},
   "source": [
    "## register literate loader"
   ]
  },
  {
   "cell_type": "code",
   "execution_count": 16,
   "id": "77e7a0d7-8e3e-47cf-8c21-2f4e1d127368",
   "metadata": {
    "execution": {
     "iopub.execute_input": "2024-09-02T12:28:12.555848Z",
     "iopub.status.busy": "2024-09-02T12:28:12.555457Z",
     "iopub.status.idle": "2024-09-02T12:28:12.559714Z",
     "shell.execute_reply": "2024-09-02T12:28:12.558962Z",
     "shell.execute_reply.started": "2024-09-02T12:28:12.555823Z"
    }
   },
   "outputs": [
    {
     "name": "stdout",
     "output_type": "stream",
     "text": [
      "Register literate importer.\n",
      "\n"
     ]
    }
   ],
   "source": [
    "from lpy.loader import register_literate_module_finder\n",
    "register_literate_module_finder()"
   ]
  },
  {
   "cell_type": "code",
   "execution_count": 5,
   "id": "16ba689b-fa69-4b89-a989-01a9ceb18bb1",
   "metadata": {
    "execution": {
     "iopub.execute_input": "2024-09-02T12:23:03.847155Z",
     "iopub.status.busy": "2024-09-02T12:23:03.845587Z",
     "iopub.status.idle": "2024-09-02T12:23:03.853916Z",
     "shell.execute_reply": "2024-09-02T12:23:03.853101Z",
     "shell.execute_reply.started": "2024-09-02T12:23:03.847072Z"
    }
   },
   "outputs": [],
   "source": [
    "# Test literate loader\n",
    "## Prepare example modules"
   ]
  },
  {
   "cell_type": "code",
   "execution_count": 3,
   "id": "d3c1e9ea-d1f0-4d8d-b50a-3ebafa62a018",
   "metadata": {
    "execution": {
     "iopub.execute_input": "2024-09-02T12:50:32.015385Z",
     "iopub.status.busy": "2024-09-02T12:50:32.014980Z",
     "iopub.status.idle": "2024-09-02T12:50:32.027821Z",
     "shell.execute_reply": "2024-09-02T12:50:32.027196Z",
     "shell.execute_reply.started": "2024-09-02T12:50:32.015361Z"
    }
   },
   "outputs": [
    {
     "data": {
      "text/plain": [
       "{'example3': {'content': '\\ndef hello():\\n    print(\"Hello from the in-memory module!\")\\n'},\n",
       " 'example4.__init__': {'content': '\\n'},\n",
       " 'example4.test': {'content': '\\ndef test():\\n    print(\"test from the in-memory module!\")\\n'}}"
      ]
     },
     "execution_count": 3,
     "metadata": {},
     "output_type": "execute_result"
    }
   ],
   "source": [
    "from lpy.loader import inMemoryModules\n",
    "inMemoryModules['example3'] = {'content': '''\n",
    "def hello():\n",
    "    print(\"Hello from the in-memory module!\")\n",
    "'''}\n",
    "inMemoryModules['example4.__init__'] = {'content': '''\n",
    "'''}\n",
    "inMemoryModules['example4.test'] = {'content': '''\n",
    "def test():\n",
    "    print(\"test from the in-memory module!\")\n",
    "'''}\n",
    "inMemoryModules\n"
   ]
  },
  {
   "cell_type": "markdown",
   "id": "f4ba8fbb-7533-44f4-b403-124f677e712a",
   "metadata": {},
   "source": [
    "## Test"
   ]
  },
  {
   "cell_type": "code",
   "execution_count": 11,
   "id": "604d2244-25f4-4e40-a03b-6e4ccf496295",
   "metadata": {
    "execution": {
     "iopub.execute_input": "2024-09-02T13:14:34.738370Z",
     "iopub.status.busy": "2024-09-02T13:14:34.735308Z",
     "iopub.status.idle": "2024-09-02T13:14:34.754121Z",
     "shell.execute_reply": "2024-09-02T13:14:34.753248Z",
     "shell.execute_reply.started": "2024-09-02T13:14:34.738221Z"
    }
   },
   "outputs": [
    {
     "data": {
      "text/plain": [
       "{'name': 'lpy.server',\n",
       " 'content': 'import importlib\\nimport os\\nimport sys\\nimport time\\nimport json\\nfrom flask import Flask, request, jsonify\\n\\nimport traceback\\nimport builtins\\n\\n# To convert lisp ratio to python\\nimport fractions\\nfrom contextlib import redirect_stdout\\nfrom contextlib import redirect_stderr\\nfrom io import StringIO\\nfrom io import StringIO\\n\\nimport logging\\n\\nfrom textwrap import shorten\\nfrom lpy.loader import register_literate_modules, register_literate_module_finder\\n\\n\\nlogger = logging.getLogger(__name__)\\n\\n\\napp = Flask(__name__)\\n\\n\\ndef ensure_module(module_name, module_create_method):\\n    \"\"\"Ensure a module is loaded and return it.\"\"\"\\n    if module_name in sys.modules:\\n        return sys.modules[module_name]\\n\\n    match module_create_method:\\n        case \"create\":\\n            spec_module = importlib.util.spec_from_loader(module_name, loader=None)\\n            module = importlib.util.module_from_spec(spec_module)\\n            sys.modules[module_name] = module\\n            return module\\n        case \"import\":\\n            importlib.import_module(module_name)\\n            return sys.modules[module_name]\\n        case \"import_or_create\":\\n            if importlib.util.find_spec(module_name):\\n                importlib.import_module(module_name)\\n                return sys.modules[module_name]\\n            else:\\n                spec_module = importlib.util.spec_from_loader(module_name, loader=None)\\n                module = importlib.util.module_from_spec(spec_module)\\n                sys.modules[module_name] = module\\n                return module\\n        case _:\\n            msg = f\"Module {module_create_method} doesn\\'t exist\"\\n            raise ValueError(msg)\\n\\n\\ndef process_a_message(message):\\n    stdout_stream = StringIO()\\n    stderr_stream = StringIO()\\n    error = None\\n    result = None\\n    with redirect_stdout(stdout_stream):\\n        with redirect_stderr(stderr_stream):\\n            try:\\n                type = message[\"type\"]\\n                code = message[\"code\"]\\n                dict = globals()\\n                module_name = message[\"module\"] if \"module\" in message else None\\n                if module_name:\\n                    module_create_method = message.get(\"module-create-method\", \"import\")\\n                    module = ensure_module(module_name, module_create_method)\\n                    dict = module.__dict__\\n\\n                if error is None:\\n                    if type == \"eval\":\\n                        result = eval(code, dict)\\n                    elif type == \"exec\":\\n                        result = exec(compile(code, \"code\", \"exec\"), dict)\\n                        logger.debug(\"Executed code: %s,result:%s\", code, result)\\n                    elif type == \"status\":\\n                        result = {\"alive\": True}\\n                    elif type == \"quit\":\\n                        result = None\\n                    else:\\n                        error = \"Unknown type: {}\".format(type)\\n                        raise ValueError(error)\\n            except Exception as e:\\n                # printing stack trace\\n                traceback.print_exc()\\n                error = str(e)\\n    if error is None:\\n        return_value = {\\n            \"result\": result,\\n            \"type\": \"result\",\\n            \"stdout\": stdout_stream.getvalue(),\\n            \"stderr\": stderr_stream.getvalue(),\\n        }\\n    else:\\n        return_value = {\\n            \"error\": error,\\n            \"type\": \"error\",\\n            \"stdout\": stdout_stream.getvalue(),\\n            \"stderr\": stderr_stream.getvalue(),\\n        }\\n\\n    if type == \"quit\":\\n        sys.exit(0)\\n    else:\\n        return return_value\\n\\n\\ndef _register(request):\\n    # Get JSON data\\n    data = request.get_json()\\n\\n    # Process the data (example)\\n    logger.debug(\\n        \"/register Received:%s\", shorten(str(data), width=100, placeholder=\"...\")\\n    )\\n    try:\\n        register_literate_modules(data)\\n        return_value = {\"type\": \"done\"}\\n    except Exception as e:\\n        # printing stack trace\\n        return_value = {\"type\": \"error\", \"stderr\": str(e)}\\n        traceback.print_exc()\\n\\n    # Return a response\\n    logger.debug(\"/register Returning:%s\", return_value)\\n    return jsonify(return_value)\\n\\n\\n@app.route(\"/register\", methods=[\"POST\"])\\ndef register():\\n    return _register(request)\\n\\n\\ndef _execute(request):\\n    # Get JSON data\\n    data = request.get_json()\\n\\n    # Process the data (example)\\n    logger.debug(\\n        \"/execute Received:%s\", shorten(str(data), width=100, placeholder=\"...\")\\n    )\\n    return_value = process_a_message(data)\\n\\n    # Return a response\\n    logger.debug(\"/execute Returning:%s\", return_value)\\n    return jsonify(return_value)\\n\\n\\n@app.route(\"/execute\", methods=[\"POST\"])\\ndef execute():\\n    return _execute(request)\\n\\n\\ndef run_server():\\n    host = \"127.0.0.1\"\\n    port = 7330\\n    if \"LITERATE_PYTHON_HOST\" in os.environ:\\n        host = os.environ[\"LITERATE_PYTHON_HOST\"]\\n    if \"LITERATE_PYTHON_PORT\" in os.environ:\\n        port = int(os.environ[\"LITERATE_PYTHON_PORT\"])\\n    register_literate_module_finder()\\n    app.run(debug=True, port=port, host=host, use_reloader=False)\\n\\n'}"
      ]
     },
     "execution_count": 11,
     "metadata": {},
     "output_type": "execute_result"
    }
   ],
   "source": [
    "inMemoryModules['lpy.server']"
   ]
  },
  {
   "cell_type": "code",
   "execution_count": 4,
   "id": "47ffa232-6d8f-4ad0-ab4f-6f4349b84bdc",
   "metadata": {
    "execution": {
     "iopub.execute_input": "2024-09-02T12:50:40.170574Z",
     "iopub.status.busy": "2024-09-02T12:50:40.170223Z",
     "iopub.status.idle": "2024-09-02T12:50:40.180933Z",
     "shell.execute_reply": "2024-09-02T12:50:40.180211Z",
     "shell.execute_reply.started": "2024-09-02T12:50:40.170551Z"
    }
   },
   "outputs": [
    {
     "name": "stderr",
     "output_type": "stream",
     "text": [
      "DEBUG:lpy.loader:Found literate module example4\n",
      "DEBUG:lpy.loader:Load literate module example4\n"
     ]
    }
   ],
   "source": [
    "import example4"
   ]
  },
  {
   "cell_type": "code",
   "execution_count": 5,
   "id": "312e0251-7347-4e87-8e34-8c4e15ee92bc",
   "metadata": {
    "execution": {
     "iopub.execute_input": "2024-09-02T12:50:44.832763Z",
     "iopub.status.busy": "2024-09-02T12:50:44.832035Z",
     "iopub.status.idle": "2024-09-02T12:50:44.848583Z",
     "shell.execute_reply": "2024-09-02T12:50:44.846161Z",
     "shell.execute_reply.started": "2024-09-02T12:50:44.832731Z"
    }
   },
   "outputs": [
    {
     "name": "stderr",
     "output_type": "stream",
     "text": [
      "DEBUG:lpy.loader:Found literate module example4.test\n",
      "DEBUG:lpy.loader:Load literate module example4.test\n"
     ]
    }
   ],
   "source": [
    "from example4 import test"
   ]
  },
  {
   "cell_type": "code",
   "execution_count": 6,
   "id": "6b34e310-eabc-4902-8591-c4a7f4355510",
   "metadata": {
    "execution": {
     "iopub.execute_input": "2024-09-02T12:50:46.233686Z",
     "iopub.status.busy": "2024-09-02T12:50:46.233338Z",
     "iopub.status.idle": "2024-09-02T12:50:46.238428Z",
     "shell.execute_reply": "2024-09-02T12:50:46.237784Z",
     "shell.execute_reply.started": "2024-09-02T12:50:46.233654Z"
    }
   },
   "outputs": [
    {
     "name": "stdout",
     "output_type": "stream",
     "text": [
      "test from the in-memory module!\n"
     ]
    }
   ],
   "source": [
    "example4.test.test()"
   ]
  },
  {
   "cell_type": "code",
   "execution_count": null,
   "id": "73cafbe6-9cae-4a03-942d-cedd693ed5b6",
   "metadata": {},
   "outputs": [],
   "source": []
  }
 ],
 "metadata": {
  "kernelspec": {
   "display_name": "literate-python",
   "language": "python",
   "name": "literate-python"
  },
  "language_info": {
   "codemirror_mode": {
    "name": "ipython",
    "version": 3
   },
   "file_extension": ".py",
   "mimetype": "text/x-python",
   "name": "python",
   "nbconvert_exporter": "python",
   "pygments_lexer": "ipython3",
   "version": "3.12.5"
  }
 },
 "nbformat": 4,
 "nbformat_minor": 5
}
