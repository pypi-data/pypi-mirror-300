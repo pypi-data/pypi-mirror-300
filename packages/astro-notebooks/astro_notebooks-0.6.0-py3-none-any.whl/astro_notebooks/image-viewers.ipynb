{
 "cells": [
  {
   "cell_type": "markdown",
   "metadata": {},
   "source": [
    "# Image viewing notebook"
   ]
  },
  {
   "cell_type": "code",
   "execution_count": 14,
   "metadata": {},
   "outputs": [],
   "source": [
    "import ipywidgets as widgets\n",
    "\n",
    "from astropy.table import Table\n",
    "from astrowidgets import ImageWidget\n",
    "from ccdproc import ImageFileCollection\n",
    "from reducer.image_browser import ImageBrowser\n",
    "from stellarphot.settings.fits_opener import FitsOpener"
   ]
  },
  {
   "cell_type": "markdown",
   "metadata": {},
   "source": [
    "## View all images in the current folder"
   ]
  },
  {
   "cell_type": "code",
   "execution_count": null,
   "metadata": {},
   "outputs": [],
   "source": [
    "ifc = ImageFileCollection('.')\n",
    "ib = ImageBrowser(ifc, keys=['imagetyp', 'object'])\n",
    "ib"
   ]
  },
  {
   "cell_type": "markdown",
   "metadata": {},
   "source": [
    "## Interactive view of a single image"
   ]
  },
  {
   "cell_type": "markdown",
   "metadata": {},
   "source": [
    "### Make the viewer"
   ]
  },
  {
   "cell_type": "code",
   "execution_count": null,
   "metadata": {},
   "outputs": [],
   "source": [
    "iw = ImageWidget()\n",
    "fo = FitsOpener()\n",
    "\n",
    "def load_it(change):\n",
    "    fo.load_in_image_widget(iw)\n",
    "\n",
    "fo.file_chooser.observe(load_it, names='_value')\n",
    "\n",
    "hb = widgets.HBox([iw, fo.file_chooser])\n",
    "hb"
   ]
  },
  {
   "cell_type": "markdown",
   "metadata": {},
   "source": [
    "### Choose an image to view"
   ]
  },
  {
   "cell_type": "code",
   "execution_count": null,
   "metadata": {},
   "outputs": [],
   "source": []
  }
 ],
 "metadata": {
  "kernelspec": {
   "display_name": "Python 3",
   "language": "python",
   "name": "python3"
  },
  "language_info": {
   "codemirror_mode": {
    "name": "ipython",
    "version": 3
   },
   "file_extension": ".py",
   "mimetype": "text/x-python",
   "name": "python",
   "nbconvert_exporter": "python",
   "pygments_lexer": "ipython3",
   "version": "3.11.9"
  }
 },
 "nbformat": 4,
 "nbformat_minor": 4
}
