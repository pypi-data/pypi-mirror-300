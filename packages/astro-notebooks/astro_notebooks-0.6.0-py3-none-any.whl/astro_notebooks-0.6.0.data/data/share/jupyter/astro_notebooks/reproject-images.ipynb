{
 "cells": [
  {
   "cell_type": "markdown",
   "metadata": {},
   "source": [
    "# Reprojection template\n",
    "\n",
    "Use this when you want to change a series of images so that they are aligned with one of the imags."
   ]
  },
  {
   "cell_type": "code",
   "execution_count": 3,
   "metadata": {},
   "outputs": [],
   "source": [
    "from pathlib import Path\n",
    "\n",
    "import numpy as np\n",
    "\n",
    "from astropy.nddata import CCDData\n",
    "from ccdproc import ImageFileCollection\n",
    "from reproject import reproject_interp\n",
    "from stellarphot.settings.fits_opener import FitsOpener"
   ]
  },
  {
   "cell_type": "markdown",
   "metadata": {},
   "source": [
    "## Change the values here"
   ]
  },
  {
   "cell_type": "code",
   "execution_count": 8,
   "metadata": {},
   "outputs": [],
   "source": [
    "image_folder = '.'  # '.' means the same folder as the notebook.\n",
    "\n",
    "ipath = Path(image_folder)\n",
    "\n",
    "# You can call this anything you want.\n",
    "folder_for_shifted_images = 'shifted'\n",
    "\n",
    "# Subract median background value?\n",
    "subtract_median = True"
   ]
  },
  {
   "cell_type": "markdown",
   "metadata": {},
   "source": [
    "### Choose your \"reference\" image"
   ]
  },
  {
   "cell_type": "code",
   "execution_count": null,
   "metadata": {},
   "outputs": [],
   "source": [
    "fo = FitsOpener()\n",
    "fo.file_chooser"
   ]
  },
  {
   "cell_type": "code",
   "execution_count": null,
   "metadata": {},
   "outputs": [],
   "source": [
    "# This can be any one of the images. If one image is offset from all\n",
    "# of the others do not choose that image.\n",
    "reference_image = fo.file_chooser.value #'kelt-16-b-S001-R001-C004-r.fit'\n",
    "print(reference_image)"
   ]
  },
  {
   "cell_type": "markdown",
   "metadata": {},
   "source": [
    "### Run the rest but you should not need to modify anything"
   ]
  },
  {
   "cell_type": "code",
   "execution_count": null,
   "metadata": {},
   "outputs": [],
   "source": [
    "p = Path(folder_for_shifted_images)\n",
    "p.mkdir(exist_ok=True)\n",
    "ccd_ref = CCDData.read(ipath / Path(reference_image).name)\n",
    "wcs_ref = ccd_ref.wcs"
   ]
  },
  {
   "cell_type": "markdown",
   "metadata": {},
   "source": [
    "### This cell does this shifting. It will update as it completes images."
   ]
  },
  {
   "cell_type": "code",
   "execution_count": null,
   "metadata": {},
   "outputs": [],
   "source": [
    "ifc = ImageFileCollection(image_folder)\n",
    "\n",
    "n_images = len(ifc.summary) + 1\n",
    "i = 0\n",
    "\n",
    "for ccd, fname in ifc.ccds(return_fname=True):\n",
    "    print(f'\\n{i} done 🎉, {n_images - i - 1} left\\n')\n",
    "    i = i + 1\n",
    "    print(f'\\tStarting to shift image {fname}...')\n",
    "    outfile = p / fname\n",
    "    if outfile.exists():\n",
    "        print(f'\\t\\t...skipping because it is already shifted')\n",
    "        continue\n",
    "\n",
    "    if subtract_median:\n",
    "        median = np.nanmedian(ccd.data)\n",
    "    else:\n",
    "        median = 0\n",
    "\n",
    "    new_data, footprint = reproject_interp(ccd, wcs_ref,\n",
    "                                           shape_out=ccd_ref.shape, order=1)\n",
    "    ccd.data = new_data - median\n",
    "    ccd.wcs = wcs_ref\n",
    "    ccd.write(p / fname)\n",
    "    print(f'\\t\\t...Finished shifting image')\n",
    "\n",
    "print('\\n🎉 All done ✨')"
   ]
  },
  {
   "cell_type": "code",
   "execution_count": null,
   "metadata": {},
   "outputs": [],
   "source": []
  }
 ],
 "metadata": {
  "kernelspec": {
   "display_name": "Python 3 (ipykernel)",
   "language": "python",
   "name": "python3"
  },
  "language_info": {
   "codemirror_mode": {
    "name": "ipython",
    "version": 3
   },
   "file_extension": ".py",
   "mimetype": "text/x-python",
   "name": "python",
   "nbconvert_exporter": "python",
   "pygments_lexer": "ipython3",
   "version": "3.11.9"
  }
 },
 "nbformat": 4,
 "nbformat_minor": 4
}
