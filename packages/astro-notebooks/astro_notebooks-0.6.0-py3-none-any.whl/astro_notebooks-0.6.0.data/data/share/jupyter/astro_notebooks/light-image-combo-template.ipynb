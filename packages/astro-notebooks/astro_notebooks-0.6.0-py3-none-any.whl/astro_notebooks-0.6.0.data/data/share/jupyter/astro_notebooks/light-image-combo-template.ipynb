{
 "cells": [
  {
   "cell_type": "markdown",
   "metadata": {},
   "source": [
    "# Light image combination template"
   ]
  },
  {
   "cell_type": "markdown",
   "metadata": {},
   "source": [
    "Click on a code cell (has grey background) then press Shift-Enter (at the same time) to run a code cell. That will add the controls (buttons, etc) you use to do the reduction one-by-one; then use them for reduction."
   ]
  },
  {
   "cell_type": "code",
   "execution_count": null,
   "metadata": {},
   "outputs": [],
   "source": [
    "from pathlib import Path\n",
    "\n",
    "import reducer.gui\n",
    "import reducer.astro_gui as astro_gui\n",
    "from reducer.image_browser import ImageBrowser\n",
    "\n",
    "from ccdproc import ImageFileCollection\n",
    "\n",
    "from astro_notebooks.image_selector import ImageSelect\n",
    "\n",
    "from reducer import __version__\n",
    "print(__version__)"
   ]
  },
  {
   "cell_type": "markdown",
   "metadata": {},
   "source": [
    "# Enter name of directory that contains your data in the cell below "
   ]
  },
  {
   "cell_type": "code",
   "execution_count": null,
   "metadata": {},
   "outputs": [],
   "source": [
    "data_dir = 'shifted'\n",
    "destination_dir = 'combined'\n",
    "\n",
    "path = Path(\".\") / destination_dir\n",
    "path.mkdir(exist_ok=True)"
   ]
  },
  {
   "cell_type": "markdown",
   "metadata": {},
   "source": [
    "# Load your data set and review images to include"
   ]
  },
  {
   "cell_type": "code",
   "execution_count": null,
   "metadata": {},
   "outputs": [],
   "source": [
    "isel = ImageSelect(directory=data_dir)\n",
    "isel"
   ]
  },
  {
   "cell_type": "markdown",
   "metadata": {},
   "source": [
    "## Combine light images"
   ]
  },
  {
   "cell_type": "code",
   "execution_count": null,
   "metadata": {},
   "outputs": [],
   "source": [
    "reduced_collection = ImageFileCollection(location=destination_dir, keywords='*')\n",
    "images = ImageFileCollection(location=data_dir)\n",
    "\n",
    "lcom = astro_gui.Combiner(description=\"Combine light images\",\n",
    "                          toggle_type='button',\n",
    "                          file_name_base='combined_light',\n",
    "                          group_by='filter',\n",
    "                          image_source=images,\n",
    "                          apply_to={'imagetyp': 'light'},\n",
    "                          destination=destination_dir)\n",
    "lcom.display()"
   ]
  },
  {
   "cell_type": "code",
   "execution_count": null,
   "metadata": {},
   "outputs": [],
   "source": [
    "print(lcom)"
   ]
  },
  {
   "cell_type": "markdown",
   "metadata": {},
   "source": [
    "## Look at the result: do the combined images look different?"
   ]
  },
  {
   "cell_type": "code",
   "execution_count": null,
   "metadata": {},
   "outputs": [],
   "source": [
    "reduced_collection = ImageFileCollection(location=destination_dir, keywords='*')"
   ]
  },
  {
   "cell_type": "code",
   "execution_count": null,
   "metadata": {},
   "outputs": [],
   "source": [
    "reduced_browser = ImageBrowser(reduced_collection, keys=['imagetyp', 'exposure'])\n",
    "reduced_browser.display()"
   ]
  },
  {
   "cell_type": "code",
   "execution_count": null,
   "metadata": {},
   "outputs": [],
   "source": []
  }
 ],
 "metadata": {
  "kernelspec": {
   "display_name": "Python 3 (ipykernel)",
   "language": "python",
   "name": "python3"
  },
  "language_info": {
   "codemirror_mode": {
    "name": "ipython",
    "version": 3
   },
   "file_extension": ".py",
   "mimetype": "text/x-python",
   "name": "python",
   "nbconvert_exporter": "python",
   "pygments_lexer": "ipython3",
   "version": "3.12.6"
  }
 },
 "nbformat": 4,
 "nbformat_minor": 4
}
