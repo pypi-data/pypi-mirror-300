{
 "cells": [
  {
   "cell_type": "code",
   "execution_count": null,
   "id": "f96a32d6-562f-42e9-b990-8c9bf742be4a",
   "metadata": {},
   "outputs": [],
   "source": [
    "from matplotlib import pyplot as plt\n",
    "import matplotlib.image as mimg\n",
    "\n",
    "import ipywidgets as ipw\n",
    "import numpy as np\n",
    "\n",
    "from astropy.nddata import CCDData, block_reduce\n",
    "from astropy.visualization import AsymmetricPercentileInterval, LogStretch, ManualInterval\n",
    "\n",
    "from astrowidgets.bqplot import ImageWidget"
   ]
  },
  {
   "cell_type": "markdown",
   "id": "e7eab765-6264-4e78-b5ff-5c283aa6eb21",
   "metadata": {},
   "source": [
    "# Another color image maker"
   ]
  },
  {
   "cell_type": "code",
   "execution_count": null,
   "id": "ecb25d48-34c8-42cd-a329-4a9d182223ca",
   "metadata": {},
   "outputs": [],
   "source": [
    "image_widgets = dict(\n",
    "    red=ImageWidget(),\n",
    "    green=ImageWidget(),\n",
    "    blue=ImageWidget()\n",
    ")"
   ]
  },
  {
   "cell_type": "code",
   "execution_count": null,
   "id": "4f0a1283-3099-4025-9738-c2f8e5b02982",
   "metadata": {},
   "outputs": [],
   "source": [
    "data_sm = {}\n",
    "data = {}\n",
    "sc_raw = {}\n",
    "sc_raw_f = {}\n",
    "\n",
    "def get_scaled_image_data(viewer, data):\n",
    "    return viewer._get_stretch()(viewer.cuts(data))\n"
   ]
  },
  {
   "cell_type": "code",
   "execution_count": null,
   "id": "976aa35e-db9a-4a7c-9a22-32f6669ec97b",
   "metadata": {},
   "outputs": [],
   "source": [
    "def make_image_load_observer(stretches):\n",
    "    def load_image_data(change):\n",
    "        global object_name\n",
    "        obj = change[\"new\"]\n",
    "        red = CCDData.read(f'combined/combined_light_filter_rp.fit')\n",
    "        greenish = CCDData.read(f'combined/combined_light_filter_V.fit')\n",
    "        blue = CCDData.read(f'combined/combined_light_filter_B.fit')\n",
    "\n",
    "        reduce_fac = 8\n",
    "        reduce_func = np.mean\n",
    "        red_sm = block_reduce(red.data, reduce_fac, func=reduce_func)\n",
    "        green_sm = block_reduce(greenish.data, reduce_fac, func=reduce_func)\n",
    "        blue_sm = block_reduce(blue.data, reduce_fac, func=reduce_func)\n",
    "\n",
    "        image_widgets['red'].load_array(red_sm)\n",
    "        image_widgets['green'].load_array(green_sm)\n",
    "        image_widgets['blue'].load_array(blue_sm)\n",
    "        for color in ['red', 'green', 'blue']:\n",
    "            image_widgets[color].stretch = stretches[color].value\n",
    "        data_sm['red'] = red_sm\n",
    "        data_sm['green'] = green_sm\n",
    "        data_sm['blue'] = blue_sm\n",
    "        data['red'] = red.data\n",
    "        data['green'] = greenish.data\n",
    "        data['blue'] = blue.data\n",
    "        \n",
    "        #object_name = obj\n",
    "    return load_image_data"
   ]
  },
  {
   "cell_type": "code",
   "execution_count": null,
   "id": "2da65382-e5e7-4ba7-aa91-180f2b12f8de",
   "metadata": {},
   "outputs": [],
   "source": [
    "def make_slider():\n",
    "\n",
    "    slider = ipw.FloatRangeSlider(min=0, max=100000/64, step=100/64, \n",
    "                                  description='Set black and white',\n",
    "                                  style={'description_width': 'initial'},\n",
    "                                  continuous_update=False,\n",
    "                                  layout={'width': '100%'}\n",
    "                                 )\n",
    "    return slider"
   ]
  },
  {
   "cell_type": "code",
   "execution_count": null,
   "id": "afbe9fea-ae42-4afb-a566-9a547f89a7bd",
   "metadata": {},
   "outputs": [],
   "source": [
    "def make_strech_chooser():\n",
    "    chooser = ipw.Dropdown(options=[\"linear\", \"log\"], description=\"Stretch\")\n",
    "    return chooser"
   ]
  },
  {
   "cell_type": "code",
   "execution_count": null,
   "id": "e6f38c83-2953-4590-b5a2-d917873e49b0",
   "metadata": {},
   "outputs": [],
   "source": [
    "level_sliders = dict(\n",
    "    red=make_slider(),\n",
    "    green=make_slider(),\n",
    "    blue=make_slider()\n",
    ")\n",
    "\n",
    "stretch_choosers = dict(\n",
    "    red=make_strech_chooser(),\n",
    "    green=make_strech_chooser(),\n",
    "    blue=make_strech_chooser(),\n",
    ")"
   ]
  },
  {
   "cell_type": "code",
   "execution_count": null,
   "id": "2bd4b3a3-99f5-4ca2-8ad0-22da797de458",
   "metadata": {},
   "outputs": [],
   "source": [
    "def make_observer(color):\n",
    "    def observer(change):\n",
    "        minval, maxval = change['new']\n",
    "        image_widgets[color].cuts = ManualInterval(minval, maxval)\n",
    "        sc_raw[color] = get_scaled_image_data(image_widgets[color], data_sm[color])\n",
    "        sc_raw_f[color] = get_scaled_image_data(image_widgets[color], data[color])\n",
    "        \n",
    "    return observer\n",
    "\n",
    "def make_stretch_observer(color):\n",
    "    def observer(change):\n",
    "        image_widgets[color].stretch = change['new']\n",
    "        sc_raw[color] = get_scaled_image_data(image_widgets[color], data_sm[color])\n",
    "        sc_raw_f[color] = get_scaled_image_data(image_widgets[color], data[color])\n",
    "    return observer\n",
    "\n",
    "load_obs = make_image_load_observer(stretch_choosers)\n",
    "\n",
    "load_obs({\"new\": \"dummy\"})"
   ]
  },
  {
   "cell_type": "markdown",
   "id": "1b6d6815-6edd-4246-9e80-57fbbb314c7b",
   "metadata": {},
   "source": [
    "## 1. Adjust each of the combined image (red, green, blue) so that the background is black and you can see the detail you want"
   ]
  },
  {
   "cell_type": "code",
   "execution_count": null,
   "id": "add69fe3-0270-4d82-9767-201218fe6320",
   "metadata": {},
   "outputs": [],
   "source": [
    "tab_set = ipw.Tab()\n",
    "kids = []\n",
    "boxes = {}\n",
    "colors = ['red', 'green', 'blue']\n",
    "object_label = ipw.HTML(\"<h3>Object name:</h3>\")\n",
    "object_name = ipw.Text(description=\"\")\n",
    "\n",
    "obbie = ipw.HBox()\n",
    "obbie.children = [object_label, object_name]\n",
    "\n",
    "vb = ipw.VBox()\n",
    "\n",
    "for idx, color in enumerate(colors):\n",
    "    boxes[color] = ipw.VBox(children=[level_sliders[color], stretch_choosers[color], image_widgets[color]])\n",
    "    this_observer = make_observer(color)\n",
    "    level_sliders[color].observe(this_observer, names='value')\n",
    "    this_observer(dict(new=level_sliders[color].value))\n",
    "    this_stretch_observer = make_stretch_observer(color)\n",
    "    this_stretch_observer(dict(new=stretch_choosers[color].value))\n",
    "    stretch_choosers[color].observe(this_stretch_observer, names='value')\n",
    "    kids.append(boxes[color])\n",
    "\n",
    "\n",
    "tab_set.children = kids\n",
    "tab_set.titles = colors\n",
    "vb.children = [obbie, tab_set]\n",
    "vb"
   ]
  },
  {
   "cell_type": "code",
   "execution_count": null,
   "id": "8786abfc-15a1-428f-8ed7-2640b55266df",
   "metadata": {},
   "outputs": [],
   "source": [
    "comb = np.zeros(list(data_sm['red'].shape) + [3])\n",
    "\n",
    "# red_sc_raw = get_scaled_image_data(image_widgets[\"red\"], data_sm['red'])\n",
    "# green_sc_raw = get_scaled_image_data(image_widgets[\"green\"], data_sm['green'])\n",
    "# blue_sc_raw = get_scaled_image_data(image_widgets[\"blue\"], data_sm['blue'])\n",
    "\n",
    "\n",
    "\n",
    "def quick_color_rgb(r=0.5, g=0.5, b=0.5):\n",
    "    global comb\n",
    "    red_sc = r * sc_raw[\"red\"]\n",
    "    green_sc = g * sc_raw[\"green\"]\n",
    "    blue_sc = b * sc_raw[\"blue\"]\n",
    "    comb[:, :, 0] = red_sc\n",
    "    comb[:, :, 1] = green_sc\n",
    "    comb[:, :, 2] = blue_sc\n",
    "    maxes = [np.nanmax(red_sc), np.nanmax(green_sc), np.nanmax(blue_sc)]\n",
    "    plt.figure(figsize=(8, 8))\n",
    "    max_img = np.nanmax(comb.flatten())\n",
    "    plt.title(f'{max_img=:.3f} {r=:.2f} {g=:.2f} {b=:.2f}\\n{maxes=}')\n",
    "    plt.tick_params(labelbottom=False, labelleft=False, labelright=False, labeltop=False)\n",
    "    comb = 4 * comb\n",
    "    comb[comb > 1] = 1.0\n",
    "    plt.imshow(comb, vmin=.5, vmax=1)\n",
    "    #plt.savefig('color.png')"
   ]
  },
  {
   "cell_type": "markdown",
   "id": "313acf99-a290-42e2-af35-2eec5b9ef855",
   "metadata": {
    "tags": []
   },
   "source": [
    "## Adjust the contribution of the red, green and blue images to the final image"
   ]
  },
  {
   "cell_type": "code",
   "execution_count": null,
   "id": "c83aec13-923f-4d54-b4d3-0d21aec27271",
   "metadata": {},
   "outputs": [],
   "source": [
    "ranges = (0, 1, 0.01)\n",
    "iv = ipw.interact(quick_color_rgb, r=ranges, g=ranges, b=ranges)\n",
    "iv"
   ]
  },
  {
   "cell_type": "code",
   "execution_count": null,
   "id": "c6a7dca4-2c9c-4480-a419-13e198135184",
   "metadata": {},
   "outputs": [],
   "source": [
    "comb_f = np.zeros(list(data['red'].shape) + [3])\n",
    "def full_res_color_rgb(r=0.5, g=0.5, b=0.5):\n",
    "    \n",
    "    red_sc = r * sc_raw_f[\"red\"]\n",
    "    green_sc = g * sc_raw_f[\"green\"]\n",
    "    blue_sc = b * sc_raw_f[\"blue\"]\n",
    "    comb_f[:, :, 0] = red_sc\n",
    "    comb_f[:, :, 1] = green_sc\n",
    "    comb_f[:, :, 2] = blue_sc\n",
    "    maxes = [np.nanmax(red_sc), np.nanmax(green_sc), np.nanmax(blue_sc)]\n",
    "    plt.figure(figsize=(20, 20))\n",
    "    max_img = np.nanmax(comb_f.flatten())\n",
    "    min_img = np.nanmin(comb_f.flatten())\n",
    "    plt.title(f'{max_img=:.3f} {min_img=:.3f} {r=:.2f} {g=:.2f} {b=:.2f}\\n{maxes=}')\n",
    "    plt.tick_params(labelbottom=False, labelleft=False, labelright=False, labeltop=False)\n",
    "    plt.imshow(2 * comb_f) # , vmin=10) # , vmax=1)\n",
    "    plt.savefig('full_res_color_' + object_name.value + '.png')"
   ]
  },
  {
   "cell_type": "code",
   "execution_count": null,
   "id": "b64038d0-02ab-43cc-b95f-9eadd1d50646",
   "metadata": {},
   "outputs": [],
   "source": [
    "ivw = iv.widget\n",
    "full_res_color_rgb(ivw.children[0].value, ivw.children[1].value, ivw.children[2].value)"
   ]
  },
  {
   "cell_type": "code",
   "execution_count": null,
   "id": "e81ea45f-e02f-4c05-b00a-0ab9ab5ab50e",
   "metadata": {},
   "outputs": [],
   "source": []
  }
 ],
 "metadata": {
  "kernelspec": {
   "display_name": "Python 3 (ipykernel)",
   "language": "python",
   "name": "python3"
  },
  "language_info": {
   "codemirror_mode": {
    "name": "ipython",
    "version": 3
   },
   "file_extension": ".py",
   "mimetype": "text/x-python",
   "name": "python",
   "nbconvert_exporter": "python",
   "pygments_lexer": "ipython3",
   "version": "3.12.6"
  }
 },
 "nbformat": 4,
 "nbformat_minor": 5
}
