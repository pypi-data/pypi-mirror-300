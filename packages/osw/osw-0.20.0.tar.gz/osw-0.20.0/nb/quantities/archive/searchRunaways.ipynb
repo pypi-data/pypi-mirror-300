{
 "cells": [
  {
   "cell_type": "markdown",
   "id": "5ba88034-d39e-4aba-9ebf-f5961165385c",
   "metadata": {},
   "source": [
    "# Functions "
   ]
  },
  {
   "cell_type": "markdown",
   "id": "a0ac2449-4253-4c7e-a9f8-03aa888379ca",
   "metadata": {},
   "source": [
    "## Get applicable units per quantity"
   ]
  },
  {
   "cell_type": "code",
   "execution_count": 92,
   "id": "136d91aa-0800-467d-8fe6-41bfe2db05df",
   "metadata": {},
   "outputs": [],
   "source": [
    "def GetApplicableUnits(quantitiyURI):\n",
    "    from SPARQLWrapper import SPARQLWrapper, POST, BASIC, JSON\n",
    "    sparql = SPARQLWrapper(\"http://www.qudt.org/fuseki/qudt/sparql\")\n",
    "    sparql.setMethod(POST)\n",
    "    sparql.setQuery(f\"\"\"\n",
    "        PREFIX qudt: <http://qudt.org/schema/qudt/>\n",
    "        PREFIX rdf: <http://www.w3.org/1999/02/22-rdf-syntax-ns#>\n",
    "\n",
    "        SELECT ?applicableUnit\n",
    "        WHERE {{\n",
    "          <{quantitiyURI}> qudt:applicableUnit ?applicableUnit.\n",
    "        }} \n",
    "        LIMIT 999\n",
    "    \"\"\")\n",
    "    sparql.setReturnFormat(JSON)\n",
    "    applicableUnitsRaw = sparql.query().convert()\n",
    "    #return applicableUnitsRaw\n",
    "    ApplicableUnitsDictionary = {}\n",
    "    for unit in applicableUnitsRaw[\"results\"][\"bindings\"]:\n",
    "        ApplicableUnitsDictionary[unit[\"applicableUnit\"][\"value\"]] = {}\n",
    "    \n",
    "    return ApplicableUnitsDictionary\n"
   ]
  },
  {
   "cell_type": "code",
   "execution_count": 2,
   "id": "cf7a6161-a1d4-4729-a88a-bfbb7c0a1c6d",
   "metadata": {},
   "outputs": [],
   "source": [
    "def GetRunaways(inDict, notInDict, printCount, printKeys, printValues):\n",
    "    runawayDict = {}\n",
    "    for key,value in inDict.items():\n",
    "        if key not in notInDict.keys():\n",
    "            runawayDict[key] = value\n",
    "\n",
    "    if printCount==True:\n",
    "        print(len(runawayDict.keys()))\n",
    "    \n",
    "    if printKeys==True:\n",
    "        for idx in runawayDict.keys():\n",
    "            print(idx)\n",
    "        \n",
    "    \n",
    "    if printValues==True:\n",
    "        for idx in runawayDict.values():\n",
    "            print(idx)\n",
    "        \n",
    "    return runawayDict\n",
    "\n"
   ]
  },
  {
   "cell_type": "code",
   "execution_count": 3,
   "id": "ae5edd56-5660-41c1-8fa9-1d0b6836a23e",
   "metadata": {},
   "outputs": [],
   "source": [
    "def MergeRunaways(Dict1, Dict2, printCount, printKeys, printValues):\n",
    "    runawayDict = Dict1\n",
    "    for key,value in Dict2.items():\n",
    "        if key not in runawayDict.keys():\n",
    "            runawayDict[key] = value\n",
    "\n",
    "    if printCount==True:\n",
    "        print(len(runawayDict.keys()))\n",
    "    \n",
    "    if printKeys==True:\n",
    "        for idx in runawayDict.keys():\n",
    "            print(idx)\n",
    "        \n",
    "    \n",
    "    if printValues==True:\n",
    "        for idx in runawayDict.values():\n",
    "            print(idx)\n",
    "        \n",
    "    return runawayDict"
   ]
  },
  {
   "cell_type": "markdown",
   "id": "64cf3c72-eb44-4479-b523-d5cf12d3bd37",
   "metadata": {},
   "source": [
    "# Variables"
   ]
  },
  {
   "cell_type": "markdown",
   "id": "2dfec6d3-5104-41e1-97ea-173b3fbbce1a",
   "metadata": {},
   "source": [
    "## read from dictionaries"
   ]
  },
  {
   "cell_type": "code",
   "execution_count": 4,
   "id": "84b01338-bb2a-40d9-8941-a5c414c39a63",
   "metadata": {
    "tags": []
   },
   "outputs": [],
   "source": [
    "# set value to compare results\n",
    "setKey = 'quantityKind'\n",
    "setValue = 'hasDimensionVector'\n",
    "\n",
    "# function runaways print settings\n",
    "printCount= True\n",
    "printKeys= False\n",
    "printValues= False"
   ]
  },
  {
   "cell_type": "markdown",
   "id": "736b62d0-2ea9-4775-a5b6-9b9e762687cd",
   "metadata": {},
   "source": [
    "# Queries"
   ]
  },
  {
   "cell_type": "markdown",
   "id": "0cb0b97c-672e-439e-bb5b-27e8be9b9339",
   "metadata": {},
   "source": [
    "## Query 1 quantities + dimension vectors, key: quantities"
   ]
  },
  {
   "cell_type": "code",
   "execution_count": 5,
   "id": "e39faded-1fe5-404f-84b0-623361b530d3",
   "metadata": {},
   "outputs": [],
   "source": [
    "from SPARQLWrapper import SPARQLWrapper, POST, BASIC, JSON\n",
    "\n",
    "sparql = SPARQLWrapper(\"http://www.qudt.org/fuseki/qudt/sparql\")\n",
    "sparql.setMethod(POST)\n",
    "\n",
    "sparql.setQuery(\"\"\"\n",
    "PREFIX qudt: <http://qudt.org/schema/qudt/>\n",
    "PREFIX rdf: <http://www.w3.org/1999/02/22-rdf-syntax-ns#>\n",
    "\n",
    "SELECT ?quantityKind ?hasDimensionVector\n",
    "WHERE {\n",
    "\t?quantityKind  rdf:type qudt:QuantityKind ;\n",
    "\t\tqudt:hasDimensionVector ?hasDimensionVector ;\n",
    "} \n",
    "ORDER BY ASC (?quantityKind)\n",
    "LIMIT 999\n",
    "\"\"\")\n",
    "sparql.setReturnFormat(JSON)\n",
    "quantityKindDim = sparql.query().convert()\n"
   ]
  },
  {
   "cell_type": "code",
   "execution_count": 6,
   "id": "6c432c1a-864f-49b9-9814-e41669ec202a",
   "metadata": {},
   "outputs": [
    {
     "name": "stdout",
     "output_type": "stream",
     "text": [
      "686\n"
     ]
    }
   ],
   "source": [
    "quantityKindDimDict = {}\n",
    "for idx in quantityKindDim['results']['bindings']:\n",
    "    if idx[setKey]['value'] not in quantityKindDimDict.keys():\n",
    "        quantityKindDimDict[idx[setKey]['value']] = {idx[setValue]['value']: {'Query 1 quantityKind'}}\n",
    "\n",
    "print(len(quantityKindDimDict.keys()))\n",
    "#print(quantityKindDimDict.values())"
   ]
  },
  {
   "cell_type": "markdown",
   "id": "8c4c65db-f11d-46e3-913d-89a1885806f1",
   "metadata": {},
   "source": [
    "## Query 2 Units + additional information including quantity kind and dimension vector, key: units"
   ]
  },
  {
   "cell_type": "code",
   "execution_count": 7,
   "id": "7bd21d7b-cdd9-47b2-a279-985fa552a032",
   "metadata": {},
   "outputs": [],
   "source": [
    "from SPARQLWrapper import SPARQLWrapper, POST, BASIC, JSON\n",
    "\n",
    "sparql = SPARQLWrapper(\"http://www.qudt.org/fuseki/qudt/sparql\")\n",
    "sparql.setMethod(POST)\n",
    "\n",
    "sparql.setQuery(\"\"\"\n",
    "PREFIX rdf: <http://www.w3.org/1999/02/22-rdf-syntax-ns#>\n",
    "PREFIX rdfs: <http://www.w3.org/2000/01/rdf-schema#>\n",
    "PREFIX owl: <http://www.w3.org/2002/07/owl#>\n",
    "PREFIX qudt: <http://qudt.org/schema/qudt/>\n",
    "\n",
    "SELECT ?quantityKind ?quantityName ?isBaseUnit ?hasDimensionVector ?unitIRI ?unitName ?conversionMultiplier \n",
    "WHERE {\n",
    "  \t?unitIRI  rdf:type qudt:Unit ;\n",
    "    \tqudt:conversionMultiplier\t?conversionMultiplier ;\n",
    "\t\tqudt:hasQuantityKind \t\t?quantityKind ;\n",
    "         qudt:hasDimensionVector\t?hasDimensionVector ;\n",
    "  \tFILTER ((?conversionMultiplier)!=0.0 )\n",
    "    BIND ( IF(?conversionMultiplier = 1.0, True, False)  AS ?isBaseUnit)\n",
    "  \tBIND ( REPLACE(STR(?unitIRI), \"^.*unit/([^/]+).*$\", \"$1\") AS ?unitName)\n",
    "    BIND ( REPLACE(STR(?quantityKind), \"^.*quantitykind/([^/]+).*$\", \"$1\") AS ?quantityName)\n",
    "} \n",
    "ORDER BY ASC (?quantityKind)\n",
    "LIMIT 10000\n",
    "\"\"\")\n",
    "sparql.setReturnFormat(JSON)\n",
    "unit = sparql.query().convert()\n"
   ]
  },
  {
   "cell_type": "code",
   "execution_count": 8,
   "id": "59c3ae98-b543-48c7-b893-c7c32f7b09d2",
   "metadata": {},
   "outputs": [
    {
     "name": "stdout",
     "output_type": "stream",
     "text": [
      "402\n"
     ]
    }
   ],
   "source": [
    "unitDimDict = {}\n",
    "for idx in unit['results']['bindings']:\n",
    "    if idx[setKey]['value'] not in unitDimDict.keys():\n",
    "        unitDimDict[idx[setKey]['value']] = {idx[setValue]['value']: {'Query 2 units'}}\n",
    "\n",
    "print(len(unitDimDict.keys()))\n"
   ]
  },
  {
   "cell_type": "markdown",
   "id": "e9f17bc3-4edc-44bd-916c-d833a8f1c7ee",
   "metadata": {},
   "source": [
    "## Query 3 dimension vectors incl. reference quantityKind, key: dimensions"
   ]
  },
  {
   "cell_type": "code",
   "execution_count": 9,
   "id": "e17a4b33-61cc-4a31-a3c8-a6dd66b0d74d",
   "metadata": {},
   "outputs": [],
   "source": [
    "from SPARQLWrapper import SPARQLWrapper, POST, BASIC, JSON\n",
    "\n",
    "sparql = SPARQLWrapper(\"http://www.qudt.org/fuseki/qudt/sparql\")\n",
    "sparql.setMethod(POST)\n",
    "\n",
    "sparql.setQuery(\"\"\"\n",
    "PREFIX qudt: <http://qudt.org/schema/qudt/>\n",
    "PREFIX rdf: <http://www.w3.org/1999/02/22-rdf-syntax-ns#>\n",
    "\n",
    "SELECT  ?hasDimensionVector ?quantityKind\n",
    "WHERE {\n",
    "    ?hasDimensionVector  rdf:type qudt:QuantityKindDimensionVector_SI ;\n",
    "    qudt:hasReferenceQuantityKind ?quantityKind ;\n",
    "} \n",
    "ORDER BY ASC (?quantityKind)\n",
    "LIMIT 400000\n",
    "\"\"\")\n",
    "sparql.setReturnFormat(JSON)\n",
    "dimension = sparql.query().convert()\n"
   ]
  },
  {
   "cell_type": "code",
   "execution_count": 10,
   "id": "90153790-c0aa-41e6-a37b-4545b8959751",
   "metadata": {},
   "outputs": [
    {
     "name": "stdout",
     "output_type": "stream",
     "text": [
      "130\n"
     ]
    }
   ],
   "source": [
    "dimensionDimDict = {}\n",
    "\n",
    "for idx in dimension['results']['bindings']:\n",
    "    if idx[setKey]['value'] not in dimensionDimDict.keys():\n",
    "        dimensionDimDict[idx[setKey]['value']] = {idx[setValue]['value']: {'Query 3 dimensions'}}\n",
    "\n",
    "    \n",
    "print(len(dimensionDimDict.keys()))\n",
    "#print(dimensionDimDict.values())"
   ]
  },
  {
   "cell_type": "markdown",
   "id": "2f234f2e-7681-4819-ba3b-6d0b9456cc37",
   "metadata": {},
   "source": [
    "## Query 4 all quantities "
   ]
  },
  {
   "cell_type": "code",
   "execution_count": 11,
   "id": "c51efcc3-a20a-4c67-a54f-4d8bac4804f3",
   "metadata": {},
   "outputs": [],
   "source": [
    "from SPARQLWrapper import SPARQLWrapper, POST, BASIC, JSON\n",
    "\n",
    "sparql = SPARQLWrapper(\"http://www.qudt.org/fuseki/qudt/sparql\")\n",
    "sparql.setMethod(POST)\n",
    "\n",
    "sparql.setQuery(\"\"\"\n",
    "PREFIX qudt: <http://qudt.org/schema/qudt/>\n",
    "PREFIX rdf: <http://www.w3.org/1999/02/22-rdf-syntax-ns#>\n",
    "\n",
    "SELECT ?quantityKind \n",
    "WHERE {\n",
    "\t?quantityKind  rdf:type qudt:QuantityKind ;\n",
    "} \n",
    "ORDER BY ASC (?quantityKind)\n",
    "LIMIT 999\n",
    "\"\"\")\n",
    "sparql.setReturnFormat(JSON)\n",
    "quantityKind = sparql.query().convert()"
   ]
  },
  {
   "cell_type": "code",
   "execution_count": 12,
   "id": "6bd3cc56-bdd5-43f6-b451-468086591623",
   "metadata": {},
   "outputs": [
    {
     "name": "stdout",
     "output_type": "stream",
     "text": [
      "861\n"
     ]
    }
   ],
   "source": [
    "quantityKindDict = {}\n",
    "for idx in quantityKind['results']['bindings']:\n",
    "    if idx[setKey]['value'] not in quantityKindDict.keys():\n",
    "        quantityKindDict[idx[setKey]['value']] = {}\n",
    "\n",
    "print(len(quantityKindDict.keys()))\n",
    "#print(quantityKindDimDict.values())"
   ]
  },
  {
   "cell_type": "markdown",
   "id": "44cb7147-425c-463d-9b93-688c8650e364",
   "metadata": {},
   "source": [
    "# Find runaways"
   ]
  },
  {
   "cell_type": "markdown",
   "id": "61870ba9-de45-42b7-8acb-8c730435c452",
   "metadata": {},
   "source": [
    "## determine query 1: runaways from quantityKind"
   ]
  },
  {
   "cell_type": "code",
   "execution_count": 13,
   "id": "afd1d95a-4f18-4c6b-bc53-5c380fbb33b4",
   "metadata": {},
   "outputs": [
    {
     "name": "stdout",
     "output_type": "stream",
     "text": [
      "\n",
      "in units but not in quantityKind\n",
      "23\n",
      "http://qudt.org/vocab/quantitykind/InverseTemperature\n",
      "http://qudt.org/vocab/quantitykind/LinearExpansionCoefficient\n",
      "http://qudt.org/vocab/quantitykind/MassAbsorptionCoefficient\n",
      "http://qudt.org/vocab/quantitykind/MassAmountOfSubstance\n",
      "http://qudt.org/vocab/quantitykind/MassEnergyTransferCoefficient\n",
      "http://qudt.org/vocab/quantitykind/Mobility\n",
      "http://qudt.org/vocab/quantitykind/MolarAbsorptionCoefficient\n",
      "http://qudt.org/vocab/quantitykind/MolarAttenuationCoefficient\n",
      "http://qudt.org/vocab/quantitykind/Permeability\n",
      "http://qudt.org/vocab/quantitykind/PowerAreaPerSolidAngle\n",
      "http://qudt.org/vocab/quantitykind/PressureCoefficient\n",
      "http://qudt.org/vocab/quantitykind/Radiance\n",
      "http://qudt.org/vocab/quantitykind/RelativePressureCoefficient\n",
      "http://qudt.org/vocab/quantitykind/ResidualResistivity\n",
      "http://qudt.org/vocab/quantitykind/Resistivity\n",
      "http://qudt.org/vocab/quantitykind/SoundExposure\n",
      "http://qudt.org/vocab/quantitykind/SpecificAcousticImpedance\n",
      "http://qudt.org/vocab/quantitykind/SpectralAngularCrossSection\n",
      "http://qudt.org/vocab/quantitykind/SpectralCrossSection\n",
      "http://qudt.org/vocab/quantitykind/SurfaceActivityDensity\n",
      "http://qudt.org/vocab/quantitykind/TotalAtomicStoppingPower\n",
      "http://qudt.org/vocab/quantitykind/TotalLinearStoppingPower\n",
      "http://qudt.org/vocab/quantitykind/TotalMassStoppingPower\n",
      "\n",
      "in dimensions but not in quantityKind\n",
      "1\n",
      "http://qudt.org/vocab/quantitykind/VoltageLoss\n",
      "{'http://qudt.org/vocab/dimensionvector/A0E2L0I0M0H0T1D0': {'Query 3 dimensions'}}\n",
      "\n",
      "merged unique runaways in quantityKind\n",
      "24\n"
     ]
    }
   ],
   "source": [
    "print('\\nin units but not in quantityKind')      \n",
    "dimInUnitsNotInQuantityKind = GetRunaways(unitDimDict, quantityKindDimDict, printCount, True, printValues)\n",
    "\n",
    "print('\\nin dimensions but not in quantityKind')    \n",
    "dimInDimensionsNotInQuantityKind = GetRunaways(dimensionDimDict, quantityKindDimDict, printCount, True, True)\n",
    "\n",
    "print('\\nmerged unique runaways in quantityKind')\n",
    "runawaysQuantityKind = MergeRunaways(dimInUnitsNotInQuantityKind, dimInDimensionsNotInQuantityKind, printCount, printKeys, printValues)"
   ]
  },
  {
   "cell_type": "markdown",
   "id": "e9bbbef6-5ed0-4b90-8847-2a0e7ac002bf",
   "metadata": {},
   "source": [
    "## determine query 2: runaways from units"
   ]
  },
  {
   "cell_type": "code",
   "execution_count": 14,
   "id": "786bbc3f-f937-497f-83d9-3f83cfbdbcf6",
   "metadata": {
    "tags": []
   },
   "outputs": [
    {
     "name": "stdout",
     "output_type": "stream",
     "text": [
      "\n",
      "in quantityKind but not in units\n",
      "307\n",
      "\n",
      "in dimensions but not in units\n",
      "9\n",
      "\n",
      "merged unique runaways in units\n",
      "308\n"
     ]
    }
   ],
   "source": [
    "print('\\nin quantityKind but not in units')       \n",
    "dimInQuantityKindNotInUnits = GetRunaways(quantityKindDimDict, unitDimDict, printCount, printKeys, printValues)\n",
    "\n",
    "print('\\nin dimensions but not in units')  \n",
    "dimInDimensionsNotInUnits = GetRunaways(dimensionDimDict, unitDimDict, printCount, printKeys, printValues)\n",
    "\n",
    "print('\\nmerged unique runaways in units')\n",
    "runawaysUnits = MergeRunaways(dimInQuantityKindNotInUnits, dimInDimensionsNotInUnits, printCount, printKeys, printValues)"
   ]
  },
  {
   "cell_type": "markdown",
   "id": "287f47f8-5e4a-46f7-87dd-68c69d3b7b8d",
   "metadata": {},
   "source": [
    "## determine query 3: runaways from dimensions"
   ]
  },
  {
   "cell_type": "code",
   "execution_count": 15,
   "id": "24f77b21-a379-44f0-b0b8-1645a749da09",
   "metadata": {
    "tags": []
   },
   "outputs": [
    {
     "name": "stdout",
     "output_type": "stream",
     "text": [
      "\n",
      "in quantityKind but not in dimensions\n",
      "557\n",
      "\n",
      "in units but not in dimensions\n",
      "281\n",
      "\n",
      "merged unique runaways in dimensions\n",
      "580\n"
     ]
    }
   ],
   "source": [
    "print('\\nin quantityKind but not in dimensions')       \n",
    "dimInQuantityKindNotInDimensions = GetRunaways(quantityKindDimDict, dimensionDimDict, printCount, printKeys, printValues)\n",
    "\n",
    "print('\\nin units but not in dimensions')  \n",
    "dimInUnitsNotInDimensions = GetRunaways(unitDimDict, dimensionDimDict, printCount, printKeys, printValues)\n",
    "\n",
    "print('\\nmerged unique runaways in dimensions')\n",
    "runawaysDimensions = MergeRunaways(dimInQuantityKindNotInDimensions, dimInUnitsNotInDimensions, printCount, printKeys, printValues)"
   ]
  },
  {
   "cell_type": "markdown",
   "id": "1359a2a5-5743-438f-842e-a0ad46aa3bfd",
   "metadata": {},
   "source": [
    "### Find all quantityKind elements whitch have no dimension"
   ]
  },
  {
   "cell_type": "code",
   "execution_count": 42,
   "id": "353ceb25-f5fc-4341-98d1-0c0b806c234b",
   "metadata": {
    "collapsed": true,
    "jupyter": {
     "outputs_hidden": true
    },
    "tags": []
   },
   "outputs": [
    {
     "name": "stdout",
     "output_type": "stream",
     "text": [
      "\n",
      "in quantityKindDict but not in quantityKindDimDict\n",
      "175\n",
      "http://qudt.org/vocab/quantitykind/ActivityThresholds\n",
      "http://qudt.org/vocab/quantitykind/Adaptation\n",
      "http://qudt.org/vocab/quantitykind/AngleOfAttack\n",
      "http://qudt.org/vocab/quantitykind/AngleOfOpticalRotation\n",
      "http://qudt.org/vocab/quantitykind/AngularDistance\n",
      "http://qudt.org/vocab/quantitykind/ApogeeRadius\n",
      "http://qudt.org/vocab/quantitykind/Asset\n",
      "http://qudt.org/vocab/quantitykind/AuditoryThresholds\n",
      "http://qudt.org/vocab/quantitykind/AverageSpecificImpulse\n",
      "http://qudt.org/vocab/quantitykind/BevelGearPitchAngle\n",
      "http://qudt.org/vocab/quantitykind/BraggAngle\n",
      "http://qudt.org/vocab/quantitykind/BucklingFactor\n",
      "http://qudt.org/vocab/quantitykind/CENTER-OF-GRAVITY_X\n",
      "http://qudt.org/vocab/quantitykind/CENTER-OF-GRAVITY_Y\n",
      "http://qudt.org/vocab/quantitykind/CENTER-OF-GRAVITY_Z\n",
      "http://qudt.org/vocab/quantitykind/Capacity\n",
      "http://qudt.org/vocab/quantitykind/ClosestApproachRadius\n",
      "http://qudt.org/vocab/quantitykind/CompressibilityFactor\n",
      "http://qudt.org/vocab/quantitykind/ConvectiveHeatTransfer\n",
      "http://qudt.org/vocab/quantitykind/CrossSectionalArea\n",
      "http://qudt.org/vocab/quantitykind/DELTA-V\n",
      "http://qudt.org/vocab/quantitykind/DebyeAngularFrequency\n",
      "http://qudt.org/vocab/quantitykind/DensityOfStates\n",
      "http://qudt.org/vocab/quantitykind/DensityOfTheExhaustGases\n",
      "http://qudt.org/vocab/quantitykind/EffectiveMultiplicationFactor\n",
      "http://qudt.org/vocab/quantitykind/ElectricalPowerToMassRatio\n",
      "http://qudt.org/vocab/quantitykind/EnergyDensityOfStates\n",
      "http://qudt.org/vocab/quantitykind/ExhaustGasesSpecificHeat\n",
      "http://qudt.org/vocab/quantitykind/ExhaustStreamPower\n",
      "http://qudt.org/vocab/quantitykind/ExitPlaneCrossSectionalArea\n",
      "http://qudt.org/vocab/quantitykind/ExitPlaneTemperature\n",
      "http://qudt.org/vocab/quantitykind/FUEL-BIAS\n",
      "http://qudt.org/vocab/quantitykind/FinalOrCurrentVehicleMass\n",
      "http://qudt.org/vocab/quantitykind/FirstStageMassRatio\n",
      "http://qudt.org/vocab/quantitykind/FissionFuelUtilizationFactor\n",
      "http://qudt.org/vocab/quantitykind/FissionMultiplicationFactor\n",
      "http://qudt.org/vocab/quantitykind/FlightPathAngle\n",
      "http://qudt.org/vocab/quantitykind/FractionalMass_Stage1\n",
      "http://qudt.org/vocab/quantitykind/FractionalMass_Stage2\n",
      "http://qudt.org/vocab/quantitykind/FractionalMass_Stage3\n",
      "http://qudt.org/vocab/quantitykind/FractionallMass_Stages1-3\n",
      "http://qudt.org/vocab/quantitykind/GustatoryThreshold\n",
      "http://qudt.org/vocab/quantitykind/HeartRate\n",
      "http://qudt.org/vocab/quantitykind/HorizontalVelocity\n",
      "http://qudt.org/vocab/quantitykind/InfiniteMultiplicationFactor\n",
      "http://qudt.org/vocab/quantitykind/InitialExpansionRatio\n",
      "http://qudt.org/vocab/quantitykind/InitialVehicleMass\n",
      "http://qudt.org/vocab/quantitykind/InitialVelocity\n",
      "http://qudt.org/vocab/quantitykind/InstantaneousPower\n",
      "http://qudt.org/vocab/quantitykind/InverseTemperature\n",
      "http://qudt.org/vocab/quantitykind/IonCurrent\n",
      "http://qudt.org/vocab/quantitykind/IonicCharge\n",
      "http://qudt.org/vocab/quantitykind/LengthByForce\n",
      "http://qudt.org/vocab/quantitykind/LengthTemperatureTime\n",
      "http://qudt.org/vocab/quantitykind/LiftCoefficient\n",
      "http://qudt.org/vocab/quantitykind/LiftForce\n",
      "http://qudt.org/vocab/quantitykind/LinearElectricCurrent\n",
      "http://qudt.org/vocab/quantitykind/LinearExpansionCoefficient\n",
      "http://qudt.org/vocab/quantitykind/LinkedFlux\n",
      "http://qudt.org/vocab/quantitykind/LorenzCoefficient\n",
      "http://qudt.org/vocab/quantitykind/LossAngle\n",
      "http://qudt.org/vocab/quantitykind/LowerCriticalMagneticFluxDensity\n",
      "http://qudt.org/vocab/quantitykind/LuminousEfficacy\n",
      "http://qudt.org/vocab/quantitykind/LuminousEnergy\n",
      "http://qudt.org/vocab/quantitykind/LuminousFlux\n",
      "http://qudt.org/vocab/quantitykind/MASS-PROPERTY-UNCERTAINTY\n",
      "http://qudt.org/vocab/quantitykind/MacroscopicCrossSection\n",
      "http://qudt.org/vocab/quantitykind/MacroscopicTotalCrossSection\n",
      "http://qudt.org/vocab/quantitykind/MagneticAreaMoment\n",
      "http://qudt.org/vocab/quantitykind/MagneticMoment\n",
      "http://qudt.org/vocab/quantitykind/MagneticPolarization\n",
      "http://qudt.org/vocab/quantitykind/Magnetization\n",
      "http://qudt.org/vocab/quantitykind/MagnetizationField\n",
      "http://qudt.org/vocab/quantitykind/MassAbsorptionCoefficient\n",
      "http://qudt.org/vocab/quantitykind/MassAmountOfSubstance\n",
      "http://qudt.org/vocab/quantitykind/MassAmountOfSubstanceTemperature\n",
      "http://qudt.org/vocab/quantitykind/MassEnergyTransferCoefficient\n",
      "http://qudt.org/vocab/quantitykind/MassOfElectricalPowerSupply\n",
      "http://qudt.org/vocab/quantitykind/MassOfSolidBooster\n",
      "http://qudt.org/vocab/quantitykind/MassOfTheEarth\n",
      "http://qudt.org/vocab/quantitykind/MaximumExpectedOperatingPressure\n",
      "http://qudt.org/vocab/quantitykind/MeanLifetime\n",
      "http://qudt.org/vocab/quantitykind/MechanicalImpedance\n",
      "http://qudt.org/vocab/quantitykind/MechanicalMobility\n",
      "http://qudt.org/vocab/quantitykind/MechanicalSurfaceImpedance\n",
      "http://qudt.org/vocab/quantitykind/MicroCanonicalPartitionFunction\n",
      "http://qudt.org/vocab/quantitykind/MicrobialFormation\n",
      "http://qudt.org/vocab/quantitykind/Mobility\n",
      "http://qudt.org/vocab/quantitykind/ModulusOfAdmittance\n",
      "http://qudt.org/vocab/quantitykind/MolarAbsorptionCoefficient\n",
      "http://qudt.org/vocab/quantitykind/MolarAttenuationCoefficient\n",
      "http://qudt.org/vocab/quantitykind/MolarOpticalRotatoryPower\n",
      "http://qudt.org/vocab/quantitykind/MolecularViscosity\n",
      "http://qudt.org/vocab/quantitykind/MutualInductance\n",
      "http://qudt.org/vocab/quantitykind/NeelTemperature\n",
      "http://qudt.org/vocab/quantitykind/NeutronDiffusionLength\n",
      "http://qudt.org/vocab/quantitykind/NozzleThroatCrossSectionalArea\n",
      "http://qudt.org/vocab/quantitykind/NozzleThroatPressure\n",
      "http://qudt.org/vocab/quantitykind/NozzleWallsThrustReaction\n",
      "http://qudt.org/vocab/quantitykind/OlfactoryThreshold\n",
      "http://qudt.org/vocab/quantitykind/OrbitalAngularMomentumPerUnitMass\n",
      "http://qudt.org/vocab/quantitykind/OrbitalRadialDistance\n",
      "http://qudt.org/vocab/quantitykind/OverRangeDistance\n",
      "http://qudt.org/vocab/quantitykind/PRODUCT-OF-INERTIA\n",
      "http://qudt.org/vocab/quantitykind/PRODUCT-OF-INERTIA_X\n",
      "http://qudt.org/vocab/quantitykind/PRODUCT-OF-INERTIA_Y\n",
      "http://qudt.org/vocab/quantitykind/PRODUCT-OF-INERTIA_Z\n",
      "http://qudt.org/vocab/quantitykind/PayloadMass\n",
      "http://qudt.org/vocab/quantitykind/PayloadRatio\n",
      "http://qudt.org/vocab/quantitykind/PeltierCoefficient\n",
      "http://qudt.org/vocab/quantitykind/Permeability\n",
      "http://qudt.org/vocab/quantitykind/PhaseDifference\n",
      "http://qudt.org/vocab/quantitykind/PhotoThresholdOfAwarenessFunction\n",
      "http://qudt.org/vocab/quantitykind/PolarMomentOfInertia\n",
      "http://qudt.org/vocab/quantitykind/PowerAreaPerSolidAngle\n",
      "http://qudt.org/vocab/quantitykind/PowerPerAreaAngle\n",
      "http://qudt.org/vocab/quantitykind/PressureBurningRateConstant\n",
      "http://qudt.org/vocab/quantitykind/PressureBurningRateIndex\n",
      "http://qudt.org/vocab/quantitykind/PressureCoefficient\n",
      "http://qudt.org/vocab/quantitykind/PropellantMass\n",
      "http://qudt.org/vocab/quantitykind/Radiance\n",
      "http://qudt.org/vocab/quantitykind/RadiativeHeatTransfer\n",
      "http://qudt.org/vocab/quantitykind/ReactorTimeConstant\n",
      "http://qudt.org/vocab/quantitykind/RelativePressureCoefficient\n",
      "http://qudt.org/vocab/quantitykind/RelaxationTIme\n",
      "http://qudt.org/vocab/quantitykind/Reluctance\n",
      "http://qudt.org/vocab/quantitykind/ResidualResistivity\n",
      "http://qudt.org/vocab/quantitykind/Resistivity\n",
      "http://qudt.org/vocab/quantitykind/ResonanceEscapeProbabilityForFission\n",
      "http://qudt.org/vocab/quantitykind/RespiratoryRate\n",
      "http://qudt.org/vocab/quantitykind/ReverberationTime\n",
      "http://qudt.org/vocab/quantitykind/RichardsonConstant\n",
      "http://qudt.org/vocab/quantitykind/RocketAtmosphericTransverseForce\n",
      "http://qudt.org/vocab/quantitykind/SecondMomentOfArea\n",
      "http://qudt.org/vocab/quantitykind/SecondStageMassRatio\n",
      "http://qudt.org/vocab/quantitykind/SeebeckCoefficient\n",
      "http://qudt.org/vocab/quantitykind/SerumOrPlasmaLevel\n",
      "http://qudt.org/vocab/quantitykind/SignalDetectionThreshold\n",
      "http://qudt.org/vocab/quantitykind/SingleStageLauncherMassRatio\n",
      "http://qudt.org/vocab/quantitykind/SoundExposure\n",
      "http://qudt.org/vocab/quantitykind/SourceVoltage\n",
      "http://qudt.org/vocab/quantitykind/SourceVoltageBetweenSubstances\n",
      "http://qudt.org/vocab/quantitykind/SpecificAcousticImpedance\n",
      "http://qudt.org/vocab/quantitykind/SpecificHeatsRatio\n",
      "http://qudt.org/vocab/quantitykind/SpecificOpticalRotatoryPower\n",
      "http://qudt.org/vocab/quantitykind/SpecificThrust\n",
      "http://qudt.org/vocab/quantitykind/SpectralAngularCrossSection\n",
      "http://qudt.org/vocab/quantitykind/SpectralCrossSection\n",
      "http://qudt.org/vocab/quantitykind/SpectralLuminousEfficiency\n",
      "http://qudt.org/vocab/quantitykind/StagePropellantMass\n",
      "http://qudt.org/vocab/quantitykind/StageStructuralMass\n",
      "http://qudt.org/vocab/quantitykind/StructuralEfficiency\n",
      "http://qudt.org/vocab/quantitykind/SuperconductionTransitionTemperature\n",
      "http://qudt.org/vocab/quantitykind/SurfaceActivityDensity\n",
      "http://qudt.org/vocab/quantitykind/Susceptance\n",
      "http://qudt.org/vocab/quantitykind/ThermalUtilizationFactorForFission\n",
      "http://qudt.org/vocab/quantitykind/ThermodynamicCriticalMagneticFluxDensity\n",
      "http://qudt.org/vocab/quantitykind/ThomsonCoefficient\n",
      "http://qudt.org/vocab/quantitykind/ThrustCoefficient\n",
      "http://qudt.org/vocab/quantitykind/ThrustToWeightRatio\n",
      "http://qudt.org/vocab/quantitykind/ThrusterPowerToThrustEfficiency\n",
      "http://qudt.org/vocab/quantitykind/TotalAtomicStoppingPower\n",
      "http://qudt.org/vocab/quantitykind/TotalLinearStoppingPower\n",
      "http://qudt.org/vocab/quantitykind/TotalMassStoppingPower\n",
      "http://qudt.org/vocab/quantitykind/TouchThresholds\n",
      "http://qudt.org/vocab/quantitykind/TrueExhaustVelocity\n",
      "http://qudt.org/vocab/quantitykind/Turbidity\n",
      "http://qudt.org/vocab/quantitykind/UniversalGasConstant\n",
      "http://qudt.org/vocab/quantitykind/UpperCriticalMagneticFluxDensity\n",
      "http://qudt.org/vocab/quantitykind/Viscosity\n",
      "http://qudt.org/vocab/quantitykind/VisionThreshods\n",
      "http://qudt.org/vocab/quantitykind/VoltagePhasor\n",
      "http://qudt.org/vocab/quantitykind/WarmReceptorThreshold\n",
      "http://qudt.org/vocab/quantitykind/WebTime\n",
      "http://qudt.org/vocab/quantitykind/Weight\n"
     ]
    }
   ],
   "source": [
    "print('\\nin quantityKindDict but not in quantityKindDimDict')      \n",
    "quantityKindWithoutDim= GetRunaways(quantityKindDict, quantityKindDimDict, printCount, True, printValues)"
   ]
  },
  {
   "cell_type": "code",
   "execution_count": 17,
   "id": "241a8bbe-1b7b-4ba7-bcaa-09a659291bc5",
   "metadata": {},
   "outputs": [
    {
     "name": "stdout",
     "output_type": "stream",
     "text": [
      "\n",
      "in units but not in quantityKind\n",
      "0\n",
      "\n",
      "in dimensions but not in quantityKind\n",
      "1\n",
      "http://qudt.org/vocab/quantitykind/VoltageLoss\n",
      "{'http://qudt.org/vocab/dimensionvector/A0E2L0I0M0H0T1D0': {'Query 3 dimensions'}}\n",
      "\n",
      "merged unique runaways in quantityKind\n",
      "1\n"
     ]
    }
   ],
   "source": [
    "print('\\nin units but not in quantityKind')      \n",
    "dimInUnitsNotInQuantityKind = GetRunaways(unitDimDict, quantityKindDict, printCount, True, printValues)\n",
    "\n",
    "print('\\nin dimensions but not in quantityKind')    \n",
    "dimInDimensionsNotInQuantityKind = GetRunaways(dimensionDimDict, quantityKindDict, printCount, True, True)\n",
    "\n",
    "print('\\nmerged unique runaways in quantityKind')\n",
    "runawaysQuantityKind = MergeRunaways(dimInUnitsNotInQuantityKind, dimInDimensionsNotInQuantityKind, printCount, printKeys, printValues)"
   ]
  },
  {
   "cell_type": "code",
   "execution_count": null,
   "id": "8a90d242-4cf5-475c-85ee-b66337ec4d15",
   "metadata": {},
   "outputs": [],
   "source": []
  }
 ],
 "metadata": {
  "kernelspec": {
   "display_name": "Python 3",
   "language": "python",
   "name": "python3"
  },
  "language_info": {
   "codemirror_mode": {
    "name": "ipython",
    "version": 3
   },
   "file_extension": ".py",
   "mimetype": "text/x-python",
   "name": "python",
   "nbconvert_exporter": "python",
   "pygments_lexer": "ipython3",
   "version": "3.8.8"
  }
 },
 "nbformat": 4,
 "nbformat_minor": 5
}
