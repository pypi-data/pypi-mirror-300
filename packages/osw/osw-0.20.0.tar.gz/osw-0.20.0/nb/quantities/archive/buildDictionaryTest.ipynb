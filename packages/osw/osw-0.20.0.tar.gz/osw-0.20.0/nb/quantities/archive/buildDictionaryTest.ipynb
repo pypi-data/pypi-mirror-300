{
 "cells": [
  {
   "cell_type": "code",
   "execution_count": 65,
   "id": "ca7b6bcb-9e57-474a-ab6f-0e9e59090f90",
   "metadata": {},
   "outputs": [],
   "source": [
    "from SPARQLWrapper import SPARQLWrapper, POST, BASIC, JSON\n",
    "\n",
    "sparql = SPARQLWrapper(\"http://www.qudt.org/fuseki/qudt/sparql\")\n",
    "sparql.setMethod(POST)\n",
    "\n",
    "sparql.setQuery(\"\"\"\n",
    "PREFIX rdf: <http://www.w3.org/1999/02/22-rdf-syntax-ns#>\n",
    "PREFIX rdfs: <http://www.w3.org/2000/01/rdf-schema#>\n",
    "PREFIX owl: <http://www.w3.org/2002/07/owl#>\n",
    "PREFIX qudt: <http://qudt.org/schema/qudt/>\n",
    "\n",
    "SELECT ?quantityIRI ?quantityName ?isBaseUnit ?hasDimensionVector ?unitIRI ?unitName ?conversionMultiplier ?subQuantities\n",
    "WHERE {\n",
    "  \t?unitIRI  rdf:type qudt:Unit ;\n",
    "    \tqudt:conversionMultiplier\t?conversionMultiplier ;\n",
    "\t\tqudt:hasQuantityKind \t\t?quantityIRI ;\n",
    " \n",
    "  \tFILTER ((?conversionMultiplier)=1.0)\n",
    "    BIND ( IF(?conversionMultiplier = 1.0, True, False)  AS ?isBaseUnit)\n",
    "  \tBIND ( REPLACE(STR(?unitIRI), \"^.*unit/([^/]+).*$\", \"$1\") AS ?unitName)\n",
    "    BIND ( REPLACE(STR(?quantityIRI), \"^.*quantitykind/([^/]+).*$\", \"$1\") AS ?quantityName)\n",
    "  \tOPTIONAL { ?unitIRI qudt:hasDimensionVector\t?hasDimensionVectorIRI ; }\n",
    "  \tBIND (IF (BOUND(?hasDimensionVectorIRI),?hasDimensionVectorIRI, \"undefined\") AS ?hasDimensionVectorRAW)\n",
    "  \tBIND ( REPLACE(STR(?hasDimensionVectorRAW), \"^.*dimensionvector/([^/]+).*$\", \"$1\") AS ?hasDimensionVector)\n",
    "  \tFILTER ((?quantityName=\"EnergyPerArea\")||(?quantityName=\"Activity\"))\n",
    "} \n",
    "ORDER BY ASC (?quantityName)\n",
    "LIMIT 10000\n",
    "\"\"\")\n",
    "sparql.setReturnFormat(JSON)\n",
    "baseUnits = sparql.query().convert()\n",
    "\n",
    "\n",
    "\n",
    "\n"
   ]
  },
  {
   "cell_type": "code",
   "execution_count": 66,
   "id": "988ab9b3-0a45-4dd3-923d-6d5c02946496",
   "metadata": {
    "tags": []
   },
   "outputs": [],
   "source": [
    "from SPARQLWrapper import SPARQLWrapper, POST, BASIC, JSON\n",
    "\n",
    "sparql = SPARQLWrapper(\"http://www.qudt.org/fuseki/qudt/sparql\")\n",
    "sparql.setMethod(POST)\n",
    "\n",
    "sparql.setQuery(\"\"\"\n",
    "PREFIX rdf: <http://www.w3.org/1999/02/22-rdf-syntax-ns#>\n",
    "PREFIX rdfs: <http://www.w3.org/2000/01/rdf-schema#>\n",
    "PREFIX owl: <http://www.w3.org/2002/07/owl#>\n",
    "PREFIX qudt: <http://qudt.org/schema/qudt/>\n",
    "\n",
    "SELECT ?quantityIRI ?quantityName ?isBaseUnit ?hasDimensionVector ?unitIRI ?unitName ?conversionMultiplier \n",
    "WHERE {\n",
    "  \t?unitIRI  rdf:type qudt:Unit ;\n",
    "    \tqudt:conversionMultiplier\t?conversionMultiplier ;\n",
    "\t\tqudt:hasQuantityKind \t\t?quantityIRI ;\n",
    " \n",
    "  \tFILTER ((?conversionMultiplier)!=0.0 && (?conversionMultiplier)!=1.0)\n",
    "    BIND ( IF(?conversionMultiplier = 1.0, True, False)  AS ?isBaseUnit)\n",
    "  \tBIND ( REPLACE(STR(?unitIRI), \"^.*unit/([^/]+).*$\", \"$1\") AS ?unitName)\n",
    "    BIND ( REPLACE(STR(?quantityIRI), \"^.*quantitykind/([^/]+).*$\", \"$1\") AS ?quantityName)\n",
    "  \tOPTIONAL { ?unitIRI qudt:hasDimensionVector\t?hasDimensionVectorIRI ; }\n",
    "  \tBIND (IF (BOUND(?hasDimensionVectorIRI),?hasDimensionVectorIRI, \"undefined\") AS ?hasDimensionVectorRAW)\n",
    "  \tBIND ( REPLACE(STR(?hasDimensionVectorRAW), \"^.*dimensionvector/([^/]+).*$\", \"$1\") AS ?hasDimensionVector)\n",
    "  \tFILTER ((?quantityName=\"EnergyPerArea\")||(?quantityName=\"Activity\"))\n",
    "} \n",
    "ORDER BY ASC (?quantityName)\n",
    "LIMIT 10000\n",
    "\"\"\")\n",
    "sparql.setReturnFormat(JSON)\n",
    "subQuantities = sparql.query().convert()"
   ]
  },
  {
   "cell_type": "code",
   "execution_count": 67,
   "id": "8b2a166a-c09e-4a29-b169-f61aca8fbc45",
   "metadata": {
    "tags": []
   },
   "outputs": [
    {
     "name": "stdout",
     "output_type": "stream",
     "text": [
      "Base Unit:\t Activity \thas  8 subQuantities\n",
      "\n",
      "Base Unit:\t EnergyPerArea \thas  6 subQuantities\n",
      "\n",
      "Base Unit:\t EnergyPerArea \thas  6 subQuantities\n",
      "\n",
      "Base Unit:\t EnergyPerArea \thas  6 subQuantities\n",
      "\n",
      "Base Unit:\t EnergyPerArea \thas  6 subQuantities\n",
      "\n",
      "numOfBaseQuantities:  5\n"
     ]
    }
   ],
   "source": [
    "# erzeuge Array mit Liste von Elementen aller subQuantities einer baseUnit aus Dictionary\n",
    "\n",
    "numOfBaseUnits = 0\n",
    "for baseUnit in baseUnits['results']['bindings']:\n",
    "    baseUnit['subQuantities'] = []\n",
    "    for subQuantity in subQuantities['results']['bindings']:\n",
    "        if (baseUnit['quantityName']['value'] == subQuantity['quantityName']['value']):\n",
    "            baseUnit['subQuantities'].append(subQuantity)      \n",
    "    print('Base Unit:\\t', baseUnit['quantityName']['value'], '\\thas ', len(baseUnit['subQuantities']), 'subQuantities\\n'),\n",
    "    numOfBaseUnits = numOfBaseUnits + 1\n",
    "\n",
    "            \n",
    "\n",
    "    \n",
    "print('numOfBaseQuantities: ', numOfBaseUnits)"
   ]
  },
  {
   "cell_type": "code",
   "execution_count": 68,
   "id": "80eaa39d-590c-4d14-8dd2-2eb969a4da8d",
   "metadata": {},
   "outputs": [
    {
     "name": "stdout",
     "output_type": "stream",
     "text": [
      "{'quantityIRI': {'type': 'uri', 'value': 'http://qudt.org/vocab/quantitykind/EnergyPerArea'}, 'quantityName': {'type': 'literal', 'value': 'EnergyPerArea'}, 'isBaseUnit': {'type': 'literal', 'datatype': 'http://www.w3.org/2001/XMLSchema#boolean', 'value': 'true'}, 'hasDimensionVector': {'type': 'literal', 'value': 'A0E0L0I0M1H0T-2D0'}, 'unitIRI': {'type': 'uri', 'value': 'http://qudt.org/vocab/unit/W-SEC-PER-M2'}, 'unitName': {'type': 'literal', 'value': 'W-SEC-PER-M2'}, 'conversionMultiplier': {'type': 'literal', 'datatype': 'http://www.w3.org/2001/XMLSchema#decimal', 'value': '1.0'}, 'subQuantities': [{'quantityIRI': {'type': 'uri', 'value': 'http://qudt.org/vocab/quantitykind/EnergyPerArea'}, 'quantityName': {'type': 'literal', 'value': 'EnergyPerArea'}, 'isBaseUnit': {'type': 'literal', 'datatype': 'http://www.w3.org/2001/XMLSchema#boolean', 'value': 'false'}, 'hasDimensionVector': {'type': 'literal', 'value': 'A0E0L0I0M1H0T-2D0'}, 'unitIRI': {'type': 'uri', 'value': 'http://qudt.org/vocab/unit/PicoPA-PER-KiloM'}, 'unitName': {'type': 'literal', 'value': 'PicoPA-PER-KiloM'}, 'conversionMultiplier': {'type': 'literal', 'datatype': 'http://www.w3.org/2001/XMLSchema#decimal', 'value': '0.000000000000001'}}, {'quantityIRI': {'type': 'uri', 'value': 'http://qudt.org/vocab/quantitykind/EnergyPerArea'}, 'quantityName': {'type': 'literal', 'value': 'EnergyPerArea'}, 'isBaseUnit': {'type': 'literal', 'datatype': 'http://www.w3.org/2001/XMLSchema#boolean', 'value': 'false'}, 'hasDimensionVector': {'type': 'literal', 'value': 'A0E0L0I0M1H0T-2D0'}, 'unitIRI': {'type': 'uri', 'value': 'http://qudt.org/vocab/unit/KiloCAL-PER-CentiM2'}, 'unitName': {'type': 'literal', 'value': 'KiloCAL-PER-CentiM2'}, 'conversionMultiplier': {'type': 'literal', 'datatype': 'http://www.w3.org/2001/XMLSchema#decimal', 'value': '0.0000004184'}}, {'quantityIRI': {'type': 'uri', 'value': 'http://qudt.org/vocab/quantitykind/EnergyPerArea'}, 'quantityName': {'type': 'literal', 'value': 'EnergyPerArea'}, 'isBaseUnit': {'type': 'literal', 'datatype': 'http://www.w3.org/2001/XMLSchema#boolean', 'value': 'false'}, 'hasDimensionVector': {'type': 'literal', 'value': 'A0E0L0I0M1H0T-2D0'}, 'unitIRI': {'type': 'uri', 'value': 'http://qudt.org/vocab/unit/J-PER-CentiM2'}, 'unitName': {'type': 'literal', 'value': 'J-PER-CentiM2'}, 'conversionMultiplier': {'type': 'literal', 'datatype': 'http://www.w3.org/2001/XMLSchema#decimal', 'value': '10000.0'}}, {'quantityIRI': {'type': 'uri', 'value': 'http://qudt.org/vocab/quantitykind/EnergyPerArea'}, 'quantityName': {'type': 'literal', 'value': 'EnergyPerArea'}, 'isBaseUnit': {'type': 'literal', 'datatype': 'http://www.w3.org/2001/XMLSchema#boolean', 'value': 'false'}, 'hasDimensionVector': {'type': 'literal', 'value': 'A0E0L0I0M1H0T-2D0'}, 'unitIRI': {'type': 'uri', 'value': 'http://qudt.org/vocab/unit/MegaJ-PER-M2'}, 'unitName': {'type': 'literal', 'value': 'MegaJ-PER-M2'}, 'conversionMultiplier': {'type': 'literal', 'datatype': 'http://www.w3.org/2001/XMLSchema#decimal', 'value': '1000000.0'}}, {'quantityIRI': {'type': 'uri', 'value': 'http://qudt.org/vocab/quantitykind/EnergyPerArea'}, 'quantityName': {'type': 'literal', 'value': 'EnergyPerArea'}, 'isBaseUnit': {'type': 'literal', 'datatype': 'http://www.w3.org/2001/XMLSchema#boolean', 'value': 'false'}, 'hasDimensionVector': {'type': 'literal', 'value': 'A0E0L0I0M1H0T-2D0'}, 'unitIRI': {'type': 'uri', 'value': 'http://qudt.org/vocab/unit/BTU_IT-PER-FT2'}, 'unitName': {'type': 'literal', 'value': 'BTU_IT-PER-FT2'}, 'conversionMultiplier': {'type': 'literal', 'datatype': 'http://www.w3.org/2001/XMLSchema#decimal', 'value': '11356.5267'}}, {'quantityIRI': {'type': 'uri', 'value': 'http://qudt.org/vocab/quantitykind/EnergyPerArea'}, 'quantityName': {'type': 'literal', 'value': 'EnergyPerArea'}, 'isBaseUnit': {'type': 'literal', 'datatype': 'http://www.w3.org/2001/XMLSchema#boolean', 'value': 'false'}, 'hasDimensionVector': {'type': 'literal', 'value': 'A0E0L0I0M1H0T-2D0'}, 'unitIRI': {'type': 'uri', 'value': 'http://qudt.org/vocab/unit/FT-LB_F-PER-FT2'}, 'unitName': {'type': 'literal', 'value': 'FT-LB_F-PER-FT2'}, 'conversionMultiplier': {'type': 'literal', 'datatype': 'http://www.w3.org/2001/XMLSchema#decimal', 'value': '14.5939042'}}]}\n"
     ]
    }
   ],
   "source": [
    "print(baseUnit)"
   ]
  },
  {
   "cell_type": "code",
   "execution_count": 13,
   "id": "04080c8f-33d0-4a9d-8c6d-eb63c1973943",
   "metadata": {},
   "outputs": [],
   "source": [
    "from SPARQLWrapper import SPARQLWrapper, POST, BASIC, JSON\n",
    "\n",
    "sparql = SPARQLWrapper(\"http://www.qudt.org/fuseki/qudt/sparql\")\n",
    "sparql.setMethod(POST)\n",
    "\n",
    "sparql.setQuery(\"\"\"\n",
    "PREFIX qudt: <http://qudt.org/schema/qudt/>\n",
    "PREFIX rdf: <http://www.w3.org/1999/02/22-rdf-syntax-ns#>\n",
    "\n",
    "SELECT ?quantityIRI ?hasDimensionVector \n",
    "WHERE {\n",
    "    ?quantityIRI  rdf:type qudt:QuantityKind ;\n",
    "        qudt:hasDimensionVector ?hasDimensionVector ;\n",
    "} \n",
    "LIMIT 999\n",
    "\"\"\")\n",
    "sparql.setReturnFormat(JSON)\n",
    "quantityKind = sparql.query().convert()\n",
    "\n"
   ]
  },
  {
   "cell_type": "code",
   "execution_count": 47,
   "id": "4bde8cdc-9e17-412a-a4ad-54438c9234b8",
   "metadata": {},
   "outputs": [],
   "source": [
    "from SPARQLWrapper import SPARQLWrapper, POST, BASIC, JSON\n",
    "\n",
    "sparql = SPARQLWrapper(\"http://www.qudt.org/fuseki/qudt/sparql\")\n",
    "sparql.setMethod(POST)\n",
    "\n",
    "sparql.setQuery(\"\"\"\n",
    "PREFIX rdf: <http://www.w3.org/1999/02/22-rdf-syntax-ns#>\n",
    "PREFIX rdfs: <http://www.w3.org/2000/01/rdf-schema#>\n",
    "PREFIX owl: <http://www.w3.org/2002/07/owl#>\n",
    "PREFIX qudt: <http://qudt.org/schema/qudt/>\n",
    "\n",
    "SELECT ?quantityIRI ?quantityName ?isBaseUnit ?hasDimensionVector ?unitIRI ?unitName ?conversionMultiplier ?subQuantities\n",
    "WHERE {\n",
    "  \t?unitIRI  rdf:type qudt:Unit ;\n",
    "    \tqudt:conversionMultiplier\t?conversionMultiplier ;\n",
    "\t\tqudt:hasQuantityKind \t\t?quantityIRI ;\n",
    " \n",
    "  \tFILTER ((?conversionMultiplier)!=0.0)\n",
    "    BIND ( IF(?conversionMultiplier = 1.0, True, False)  AS ?isBaseUnit)\n",
    "  \tBIND ( REPLACE(STR(?unitIRI), \"^.*unit/([^/]+).*$\", \"$1\") AS ?unitName)\n",
    "    BIND ( REPLACE(STR(?quantityIRI), \"^.*quantitykind/([^/]+).*$\", \"$1\") AS ?quantityName)\n",
    "  \tOPTIONAL { ?unitIRI qudt:hasDimensionVector\t?hasDimensionVectorIRI ; }\n",
    "  \tBIND (IF (BOUND(?hasDimensionVectorIRI),?hasDimensionVectorIRI, \"undefined\") AS ?hasDimensionVector)\n",
    "  \tBIND ( REPLACE(STR(?hasDimensionVector), \"^.*dimensionvector/([^/]+).*$\", \"$1\") AS ?hasDimensionVectorName)\n",
    "} \n",
    "ORDER BY ASC (?quantityName)\n",
    "LIMIT 10000\n",
    "\"\"\")\n",
    "sparql.setReturnFormat(JSON)\n",
    "quantityKindUnits = sparql.query().convert()"
   ]
  },
  {
   "cell_type": "code",
   "execution_count": 26,
   "id": "ad1018ca-0b08-43c2-913f-08ecc456bf70",
   "metadata": {
    "tags": []
   },
   "outputs": [
    {
     "name": "stdout",
     "output_type": "stream",
     "text": [
      "[{'quantityIRI': {'type': 'uri', 'value': 'http://qudt.org/vocab/quantitykind/Curvature'}, 'hasDimensionVector': {'type': 'uri', 'value': 'http://qudt.org/vocab/dimensionvector/A0E0L-1I0M0H0T0D0'}}, {'quantityIRI': {'type': 'uri', 'value': 'http://qudt.org/vocab/quantitykind/ThermalUtilizationFactor'}, 'hasDimensionVector': {'type': 'uri', 'value': 'http://qudt.org/vocab/dimensionvector/A0E0L0I0M0H0T0D1'}}, {'quantityIRI': {'type': 'uri', 'value': 'http://qudt.org/vocab/quantitykind/Time'}, 'hasDimensionVector': {'type': 'uri', 'value': 'http://qudt.org/vocab/dimensionvector/A0E0L0I0M0H0T1D0'}}, {'quantityIRI': {'type': 'uri', 'value': 'http://qudt.org/vocab/quantitykind/GeneralizedVelocity'}, 'hasDimensionVector': {'type': 'uri', 'value': 'http://qudt.org/vocab/dimensionvector/A0E0L0I0M0H0T0D1'}}, {'quantityIRI': {'type': 'uri', 'value': 'http://qudt.org/vocab/quantitykind/CanonicalPartitionFunction'}, 'hasDimensionVector': {'type': 'uri', 'value': 'http://qudt.org/vocab/dimensionvector/A0E0L0I0M0H0T0D1'}}]\n"
     ]
    }
   ],
   "source": [
    "quantityKindRB = quantityKind['results']['bindings']\n",
    "\n",
    "print(quantityKindRB[0:5])"
   ]
  },
  {
   "cell_type": "code",
   "execution_count": 64,
   "id": "dc0bf4fa-74bc-484f-b794-3cde19305062",
   "metadata": {},
   "outputs": [
    {
     "name": "stdout",
     "output_type": "stream",
     "text": [
      "686\n",
      "37126\n"
     ]
    }
   ],
   "source": [
    "quantityKindCounter = 0\n",
    "quantityCounter = 0\n",
    "\n",
    "dictionary = {}\n",
    "for quantity in quantityKind['results']['bindings']:\n",
    "    dictionary[quantity['quantityIRI']['value']] = {'units': {}}\n",
    "    quantityKindCounter = quantityKindCounter +1\n",
    "    for quantityUnits in quantityKindUnits['results']['bindings']:\n",
    "        if (quantity['hasDimensionVector']['value'] == quantityUnits['hasDimensionVector']['value']):\n",
    "            dictionary[quantity['quantityIRI']['value']]['units'] = quantityUnits\n",
    "            quantityCounter = quantityCounter + 1\n",
    "        \n",
    "print(quantityKindCounter)\n",
    "print(quantityCounter)"
   ]
  },
  {
   "cell_type": "code",
   "execution_count": 42,
   "id": "f309ebb1-0fde-455e-b894-7a84847bee8b",
   "metadata": {
    "collapsed": true,
    "jupyter": {
     "outputs_hidden": true
    },
    "tags": []
   },
   "outputs": [
    {
     "name": "stdout",
     "output_type": "stream",
     "text": [
      "{'http://qudt.org/vocab/quantitykind/Curvature': {}, 'http://qudt.org/vocab/quantitykind/ThermalUtilizationFactor': {}, 'http://qudt.org/vocab/quantitykind/Time': {}, 'http://qudt.org/vocab/quantitykind/GeneralizedVelocity': {}, 'http://qudt.org/vocab/quantitykind/CanonicalPartitionFunction': {}, 'http://qudt.org/vocab/quantitykind/Density': {}, 'http://qudt.org/vocab/quantitykind/ExitPlanePressure': {}, 'http://qudt.org/vocab/quantitykind/IonDensity': {}, 'http://qudt.org/vocab/quantitykind/OsmoticPressure': {}, 'http://qudt.org/vocab/quantitykind/MassieuFunction': {}, 'http://qudt.org/vocab/quantitykind/SpecificEnergyImparted': {}, 'http://qudt.org/vocab/quantitykind/MultiplicationFactor': {}, 'http://qudt.org/vocab/quantitykind/IsothermalCompressibility': {}, 'http://qudt.org/vocab/quantitykind/AcceptorIonizationEnergy': {}, 'http://qudt.org/vocab/quantitykind/LinearIonization': {}, 'http://qudt.org/vocab/quantitykind/SoundExposureLevel': {}, 'http://qudt.org/vocab/quantitykind/SpecificHeatCapacityAtSaturation': {}, 'http://qudt.org/vocab/quantitykind/ExposureRate': {}, 'http://qudt.org/vocab/quantitykind/TimePercentage': {}, 'http://qudt.org/vocab/quantitykind/HeadEndPressure': {}, 'http://qudt.org/vocab/quantitykind/MagnetomotiveForce': {}, 'http://qudt.org/vocab/quantitykind/IntinsicCarrierDensity': {}, 'http://qudt.org/vocab/quantitykind/InverseTimeTemperature': {}, 'http://qudt.org/vocab/quantitykind/ElectricCurrentPerAngle': {}, 'http://qudt.org/vocab/quantitykind/Wavelength': {}, 'http://qudt.org/vocab/quantitykind/RelativeMassDefect': {}, 'http://qudt.org/vocab/quantitykind/NonActivePower': {}, 'http://qudt.org/vocab/quantitykind/Luminance': {}, 'http://qudt.org/vocab/quantitykind/RelativeMassConcentrationOfVapour': {}, 'http://qudt.org/vocab/quantitykind/LuminousIntensity': {}, 'http://qudt.org/vocab/quantitykind/Heat': {}, 'http://qudt.org/vocab/quantitykind/LinearElectricCurrentDensity': {}, 'http://qudt.org/vocab/quantitykind/TotalAngularMomentum': {}, 'http://qudt.org/vocab/quantitykind/IncidenceRate': {}, 'http://qudt.org/vocab/quantitykind/Torque': {}, 'http://qudt.org/vocab/quantitykind/SectionModulus': {}, 'http://qudt.org/vocab/quantitykind/Concentration': {}, 'http://qudt.org/vocab/quantitykind/GROSS-LIFT-OFF-WEIGHT': {}, 'http://qudt.org/vocab/quantitykind/PowerArea': {}, 'http://qudt.org/vocab/quantitykind/AverageVacuumThrust': {}, 'http://qudt.org/vocab/quantitykind/AreaTimeTemperature': {}, 'http://qudt.org/vocab/quantitykind/MassFraction': {}, 'http://qudt.org/vocab/quantitykind/ElectricCharge': {}, 'http://qudt.org/vocab/quantitykind/InverseAmountOfSubstance': {}, 'http://qudt.org/vocab/quantitykind/Width': {}, 'http://qudt.org/vocab/quantitykind/ThermalDiffusionRatio': {}, 'http://qudt.org/vocab/quantitykind/BurgersVector': {}, 'http://qudt.org/vocab/quantitykind/AlphaDisintegrationEnergy': {}, 'http://qudt.org/vocab/quantitykind/MagneticFluxPerUnitLength': {}, 'http://qudt.org/vocab/quantitykind/WorkFunction': {}, 'http://qudt.org/vocab/quantitykind/ConductiveHeatTransferRate': {}, 'http://qudt.org/vocab/quantitykind/SolidAngle': {}, 'http://qudt.org/vocab/quantitykind/MassConcentration': {}, 'http://qudt.org/vocab/quantitykind/LeakageFactor': {}, 'http://qudt.org/vocab/quantitykind/VehicleVelocity': {}, 'http://qudt.org/vocab/quantitykind/MOMENT-OF-INERTIA_Z': {}, 'http://qudt.org/vocab/quantitykind/ForcePerAngle': {}, 'http://qudt.org/vocab/quantitykind/PotentialEnergy': {}, 'http://qudt.org/vocab/quantitykind/LarmorAngularFrequency': {}, 'http://qudt.org/vocab/quantitykind/AreaPerTime': {}, 'http://qudt.org/vocab/quantitykind/Radius': {}, 'http://qudt.org/vocab/quantitykind/LevelWidth': {}, 'http://qudt.org/vocab/quantitykind/Activity': {}, 'http://qudt.org/vocab/quantitykind/VolumeFlowRate': {}, 'http://qudt.org/vocab/quantitykind/SoundEnergyDensity': {}, 'http://qudt.org/vocab/quantitykind/DynamicViscosity': {}, 'http://qudt.org/vocab/quantitykind/LengthTemperature': {}, 'http://qudt.org/vocab/quantitykind/InverseLengthTemperature': {}, 'http://qudt.org/vocab/quantitykind/CubicExpansionCoefficient': {}, 'http://qudt.org/vocab/quantitykind/AuxillaryMagneticField': {}, 'http://qudt.org/vocab/quantitykind/IncidenceProportion': {}, 'http://qudt.org/vocab/quantitykind/ExhaustGasMeanMolecularWeight': {}, 'http://qudt.org/vocab/quantitykind/ForcePerLength': {}, 'http://qudt.org/vocab/quantitykind/NumberOfParticles': {}, 'http://qudt.org/vocab/quantitykind/ElectromagneticPermeabilityRatio': {}, 'http://qudt.org/vocab/quantitykind/CoefficientOfHeatTransfer': {}, 'http://qudt.org/vocab/quantitykind/Non-LeakageProbability': {}, 'http://qudt.org/vocab/quantitykind/DisplacementCurrent': {}, 'http://qudt.org/vocab/quantitykind/MagneticFieldStrength_H': {}, 'http://qudt.org/vocab/quantitykind/ThermalEnergy': {}, 'http://qudt.org/vocab/quantitykind/PhaseSpeedOfSound': {}, 'http://qudt.org/vocab/quantitykind/ReflectanceFactor': {}, 'http://qudt.org/vocab/quantitykind/NeutronNumber': {}, 'http://qudt.org/vocab/quantitykind/ParticlePositionVector': {}, 'http://qudt.org/vocab/quantitykind/NOMINAL-ASCENT-PROPELLANT-MASS': {}, 'http://qudt.org/vocab/quantitykind/ThermalConductivity': {}, 'http://qudt.org/vocab/quantitykind/MolalityOfSolute': {}, 'http://qudt.org/vocab/quantitykind/DisplacementCurrentDensity': {}, 'http://qudt.org/vocab/quantitykind/Conductance': {}, 'http://qudt.org/vocab/quantitykind/VolumicElectromagneticEnergy': {}, 'http://qudt.org/vocab/quantitykind/EnergyFluenceRate': {}, 'http://qudt.org/vocab/quantitykind/MolarEntropy': {}, 'http://qudt.org/vocab/quantitykind/Mass': {}, 'http://qudt.org/vocab/quantitykind/DonorDensity': {}, 'http://qudt.org/vocab/quantitykind/CyclotronAngularFrequency': {}, 'http://qudt.org/vocab/quantitykind/EnergyPerTemperature': {}, 'http://qudt.org/vocab/quantitykind/VolumetricFlux': {}, 'http://qudt.org/vocab/quantitykind/MassRatioOfWaterVapourToDryGas': {}, 'http://qudt.org/vocab/quantitykind/EccentricityOfOrbit': {}, 'http://qudt.org/vocab/quantitykind/LengthMass': {}, 'http://qudt.org/vocab/quantitykind/Prevalence': {}, 'http://qudt.org/vocab/quantitykind/DataRate': {}, 'http://qudt.org/vocab/quantitykind/MolarHeatCapacity': {}, 'http://qudt.org/vocab/quantitykind/PropellantTemperature': {}, 'http://qudt.org/vocab/quantitykind/LengthPerUnitElectricCurrent': {}, 'http://qudt.org/vocab/quantitykind/SpecificEnthalpy': {}, 'http://qudt.org/vocab/quantitykind/Wavenumber': {}, 'http://qudt.org/vocab/quantitykind/SpecificEntropy': {}, 'http://qudt.org/vocab/quantitykind/EvaporativeHeatTransferCoefficient': {}, 'http://qudt.org/vocab/quantitykind/Displacement': {}, 'http://qudt.org/vocab/quantitykind/ElectromotiveForce': {}, 'http://qudt.org/vocab/quantitykind/PressureRatio': {}, 'http://qudt.org/vocab/quantitykind/MolarConductivity': {}, 'http://qudt.org/vocab/quantitykind/MadelungConstant': {}, 'http://qudt.org/vocab/quantitykind/KinematicViscosity': {}, 'http://qudt.org/vocab/quantitykind/MobilityRatio': {}, 'http://qudt.org/vocab/quantitykind/ThermalEfficiency': {}, 'http://qudt.org/vocab/quantitykind/HallCoefficient': {}, 'http://qudt.org/vocab/quantitykind/Slowing-DownArea': {}, 'http://qudt.org/vocab/quantitykind/CharacteristicVelocity': {}, 'http://qudt.org/vocab/quantitykind/EnergyPerMassAmountOfSubstance': {}, 'http://qudt.org/vocab/quantitykind/GeneralizedMomentum': {}, 'http://qudt.org/vocab/quantitykind/ThermalResistance': {}, 'http://qudt.org/vocab/quantitykind/ElectricCurrentPhasor': {}, 'http://qudt.org/vocab/quantitykind/LinearStrain': {}, 'http://qudt.org/vocab/quantitykind/NuclearSpinQuantumNumber': {}, 'http://qudt.org/vocab/quantitykind/LagrangeFunction': {}, 'http://qudt.org/vocab/quantitykind/RelativeAtomicMass': {}, 'http://qudt.org/vocab/quantitykind/VolumePerUnitTime': {}, 'http://qudt.org/vocab/quantitykind/PhotonIntensity': {}, 'http://qudt.org/vocab/quantitykind/ElectricPotential': {}, 'http://qudt.org/vocab/quantitykind/IgnitionIntervalTime': {}, 'http://qudt.org/vocab/quantitykind/TemperatureRatio': {}, 'http://qudt.org/vocab/quantitykind/SpectralRadiantEnergyDensity': {}, 'http://qudt.org/vocab/quantitykind/ElementaryCharge': {}, 'http://qudt.org/vocab/quantitykind/ConductionSpeed': {}, 'http://qudt.org/vocab/quantitykind/DryVolume': {}, 'http://qudt.org/vocab/quantitykind/Strain': {}, 'http://qudt.org/vocab/quantitykind/FermiEnergy': {}, 'http://qudt.org/vocab/quantitykind/PowerPerElectricCharge': {}, 'http://qudt.org/vocab/quantitykind/CurrentLinkage': {}, 'http://qudt.org/vocab/quantitykind/SpeedOfLight': {}, 'http://qudt.org/vocab/quantitykind/LengthMolarEnergy': {}, 'http://qudt.org/vocab/quantitykind/RatioOfSpecificHeatCapacities': {}, 'http://qudt.org/vocab/quantitykind/Incidence': {}, 'http://qudt.org/vocab/quantitykind/ElectricFieldStrength': {}, 'http://qudt.org/vocab/quantitykind/EnergyExpenditure': {}, 'http://qudt.org/vocab/quantitykind/SpecificVolume': {}, 'http://qudt.org/vocab/quantitykind/FundamentalLatticeVector': {}, 'http://qudt.org/vocab/quantitykind/ThermalDiffusionRatioCoefficient': {}, 'http://qudt.org/vocab/quantitykind/TotalIonization': {}, 'http://qudt.org/vocab/quantitykind/AngularMomentumPerAngle': {}, 'http://qudt.org/vocab/quantitykind/CelsiusTemperature': {}, 'http://qudt.org/vocab/quantitykind/InitialNozzleThroatDiameter': {}, 'http://qudt.org/vocab/quantitykind/CartesianCoordinates': {}, 'http://qudt.org/vocab/quantitykind/AmountOfSubstancePerUnitMass': {}, 'http://qudt.org/vocab/quantitykind/CombustionChamberTemperature': {}, 'http://qudt.org/vocab/quantitykind/ParticleFluenceRate': {}, 'http://qudt.org/vocab/quantitykind/MassFractionOfWater': {}, 'http://qudt.org/vocab/quantitykind/Gain': {}, 'http://qudt.org/vocab/quantitykind/QualityFactor': {}, 'http://qudt.org/vocab/quantitykind/BloodGlucoseLevel': {}, 'http://qudt.org/vocab/quantitykind/AngularAcceleration': {}, 'http://qudt.org/vocab/quantitykind/TotalCurrentDensity': {}, 'http://qudt.org/vocab/quantitykind/CONTROL-MASS': {}, 'http://qudt.org/vocab/quantitykind/MagneticTension': {}, 'http://qudt.org/vocab/quantitykind/GravitationalAttraction': {}, 'http://qudt.org/vocab/quantitykind/ElectronRadius': {}, 'http://qudt.org/vocab/quantitykind/ChemicalAffinity': {}, 'http://qudt.org/vocab/quantitykind/LondonPenetrationDepth': {}, 'http://qudt.org/vocab/quantitykind/StructureFactor': {}, 'http://qudt.org/vocab/quantitykind/SoundParticleVelocity': {}, 'http://qudt.org/vocab/quantitykind/Pressure': {}, 'http://qudt.org/vocab/quantitykind/MeanEnergyImparted': {}, 'http://qudt.org/vocab/quantitykind/CartesianArea': {}, 'http://qudt.org/vocab/quantitykind/MassPerAreaTime': {}, 'http://qudt.org/vocab/quantitykind/ElectricChargeLineDensity': {}, 'http://qudt.org/vocab/quantitykind/VolumeStrain': {}, 'http://qudt.org/vocab/quantitykind/AbsorbedDoseRate': {}, 'http://qudt.org/vocab/quantitykind/MomentOfInertia': {}, 'http://qudt.org/vocab/quantitykind/PropellantMeanBulkTemperature': {}, 'http://qudt.org/vocab/quantitykind/FLIGHT-PERFORMANCE-RESERVE-PROPELLANT-MASS': {}, 'http://qudt.org/vocab/quantitykind/AmountOfSubstanceConcentrationOfB': {}, 'http://qudt.org/vocab/quantitykind/SuperconductorEnergyGap': {}, 'http://qudt.org/vocab/quantitykind/IsentropicExponent': {}, 'http://qudt.org/vocab/quantitykind/InformationFlowRate': {}, 'http://qudt.org/vocab/quantitykind/Radiosity': {}, 'http://qudt.org/vocab/quantitykind/TimeAveragedSoundIntensity': {}, 'http://qudt.org/vocab/quantitykind/EnergyPerAreaElectricCharge': {}, 'http://qudt.org/vocab/quantitykind/DoseEquivalent': {}, 'http://qudt.org/vocab/quantitykind/ShearModulus': {}, 'http://qudt.org/vocab/quantitykind/Dissipance': {}, 'http://qudt.org/vocab/quantitykind/AngularWavenumber': {}, 'http://qudt.org/vocab/quantitykind/PathLength': {}, 'http://qudt.org/vocab/quantitykind/MolarAngularMomentum': {}, 'http://qudt.org/vocab/quantitykind/SpinQuantumNumber': {}, 'http://qudt.org/vocab/quantitykind/StochasticProcess': {}, 'http://qudt.org/vocab/quantitykind/Permittivity': {}, 'http://qudt.org/vocab/quantitykind/Half-ValueThickness': {}, 'http://qudt.org/vocab/quantitykind/Slowing-DownDensity': {}, 'http://qudt.org/vocab/quantitykind/ActivityConcentration': {}, 'http://qudt.org/vocab/quantitykind/ElectricConductivity': {}, 'http://qudt.org/vocab/quantitykind/BurnTime': {}, 'http://qudt.org/vocab/quantitykind/EquilibriumPositionVectorOfIon': {}, 'http://qudt.org/vocab/quantitykind/RelativeMassRatioOfVapour': {}, 'http://qudt.org/vocab/quantitykind/ThrustToMassRatio': {}, 'http://qudt.org/vocab/quantitykind/BloodGlucoseLevel_Mass': {}, 'http://qudt.org/vocab/quantitykind/ActivityCoefficient': {}, 'http://qudt.org/vocab/quantitykind/MaximumBeta-ParticleEnergy': {}, 'http://qudt.org/vocab/quantitykind/SoundVolumeVelocity': {}, 'http://qudt.org/vocab/quantitykind/AbsoluteActivity': {}, 'http://qudt.org/vocab/quantitykind/MaxSeaLevelThrust': {}, 'http://qudt.org/vocab/quantitykind/CrossSection': {}, 'http://qudt.org/vocab/quantitykind/MolarFlowRate': {}, 'http://qudt.org/vocab/quantitykind/DebyeTemperature': {}, 'http://qudt.org/vocab/quantitykind/Work': {}, 'http://qudt.org/vocab/quantitykind/VideoFrameRate': {}, 'http://qudt.org/vocab/quantitykind/ElectricChargePerArea': {}, 'http://qudt.org/vocab/quantitykind/Permeance': {}, 'http://qudt.org/vocab/quantitykind/Friction': {}, 'http://qudt.org/vocab/quantitykind/CartesianVolume': {}, 'http://qudt.org/vocab/quantitykind/AmountOfSubstanceFractionOfB': {}, 'http://qudt.org/vocab/quantitykind/RadiantFluence': {}, 'http://qudt.org/vocab/quantitykind/LossFactor': {}, 'http://qudt.org/vocab/quantitykind/AtomicMass': {}, 'http://qudt.org/vocab/quantitykind/ElectricPolarizability': {}, 'http://qudt.org/vocab/quantitykind/GapEnergy': {}, 'http://qudt.org/vocab/quantitykind/ElectricChargeDensity': {}, 'http://qudt.org/vocab/quantitykind/Stress': {}, 'http://qudt.org/vocab/quantitykind/TimeTemperature': {}, 'http://qudt.org/vocab/quantitykind/MeanFreePath': {}, 'http://qudt.org/vocab/quantitykind/SignalStrength': {}, 'http://qudt.org/vocab/quantitykind/AreaThermalExpansion': {}, 'http://qudt.org/vocab/quantitykind/DistanceTraveledDuringBurn': {}, 'http://qudt.org/vocab/quantitykind/MagneticReluctivity': {}, 'http://qudt.org/vocab/quantitykind/TimeSquared': {}, 'http://qudt.org/vocab/quantitykind/EnergyInternal': {}, 'http://qudt.org/vocab/quantitykind/WebTimeAverageThrust': {}, 'http://qudt.org/vocab/quantitykind/PermeabilityRatio': {}, 'http://qudt.org/vocab/quantitykind/Distance': {}, 'http://qudt.org/vocab/quantitykind/ForcePerElectricCharge': {}, 'http://qudt.org/vocab/quantitykind/LinearThermalExpansion': {}, 'http://qudt.org/vocab/quantitykind/ElectronMeanFreePath': {}, 'http://qudt.org/vocab/quantitykind/RadiusOfCurvature': {}, 'http://qudt.org/vocab/quantitykind/Polarizability': {}, 'http://qudt.org/vocab/quantitykind/Irradiance': {}, 'http://qudt.org/vocab/quantitykind/PhotosyntheticPhotonFlux': {}, 'http://qudt.org/vocab/quantitykind/LatticeVector': {}, 'http://qudt.org/vocab/quantitykind/SpecificGibbsEnergy': {}, 'http://qudt.org/vocab/quantitykind/SolidStateDiffusionLength': {}, 'http://qudt.org/vocab/quantitykind/Reflectance': {}, 'http://qudt.org/vocab/quantitykind/EllipticalOrbitPerigeeVelocity': {}, 'http://qudt.org/vocab/quantitykind/HeatCapacity': {}, 'http://qudt.org/vocab/quantitykind/TorquePerAngle': {}, 'http://qudt.org/vocab/quantitykind/Debye-WallerFactor': {}, 'http://qudt.org/vocab/quantitykind/LuminousExposure': {}, 'http://qudt.org/vocab/quantitykind/AmountOfSubstance': {}, 'http://qudt.org/vocab/quantitykind/LinearAcceleration': {}, 'http://qudt.org/vocab/quantitykind/TransmittanceDensity': {}, 'http://qudt.org/vocab/quantitykind/InformationEntropy': {}, 'http://qudt.org/vocab/quantitykind/FirstMomentOfArea': {}, 'http://qudt.org/vocab/quantitykind/MachNumber': {}, 'http://qudt.org/vocab/quantitykind/AverageLogarithmicEnergyDecrement': {}, 'http://qudt.org/vocab/quantitykind/DegreeOfDissociation': {}, 'http://qudt.org/vocab/quantitykind/StaticFriction': {}, 'http://qudt.org/vocab/quantitykind/PropellantBurnRate': {}, 'http://qudt.org/vocab/quantitykind/TemporalSummationFunction': {}, 'http://qudt.org/vocab/quantitykind/GruneisenParameter': {}, 'http://qudt.org/vocab/quantitykind/EffectiveMass': {}, 'http://qudt.org/vocab/quantitykind/SoundReductionIndex': {}, 'http://qudt.org/vocab/quantitykind/Admittance': {}, 'http://qudt.org/vocab/quantitykind/CENTER-OF-MASS': {}, 'http://qudt.org/vocab/quantitykind/ElectronAffinity': {}, 'http://qudt.org/vocab/quantitykind/MassAttenuationCoefficient': {}, 'http://qudt.org/vocab/quantitykind/LinearEnergyTransfer': {}, 'http://qudt.org/vocab/quantitykind/Thrust': {}, 'http://qudt.org/vocab/quantitykind/RestEnergy': {}, 'http://qudt.org/vocab/quantitykind/SpecificImpulseByWeight': {}, 'http://qudt.org/vocab/quantitykind/ExtentOfReaction': {}, 'http://qudt.org/vocab/quantitykind/NucleonNumber': {}, 'http://qudt.org/vocab/quantitykind/AngularCrossSection': {}, 'http://qudt.org/vocab/quantitykind/RestMass': {}, 'http://qudt.org/vocab/quantitykind/FermiTemperature': {}, 'http://qudt.org/vocab/quantitykind/InverseLength': {}, 'http://qudt.org/vocab/quantitykind/AreaRatio': {}, 'http://qudt.org/vocab/quantitykind/CouplingFactor': {}, 'http://qudt.org/vocab/quantitykind/SpecificHelmholtzEnergy': {}, 'http://qudt.org/vocab/quantitykind/Power': {}, 'http://qudt.org/vocab/quantitykind/VoltagePercentage': {}, 'http://qudt.org/vocab/quantitykind/Landau-GinzburgNumber': {}, 'http://qudt.org/vocab/quantitykind/ElectricDipoleMoment': {}, 'http://qudt.org/vocab/quantitykind/MassConcentrationOfWater': {}, 'http://qudt.org/vocab/quantitykind/DensityInCombustionChamber': {}, 'http://qudt.org/vocab/quantitykind/AngularVelocity': {}, 'http://qudt.org/vocab/quantitykind/LinearMomentum': {}, 'http://qudt.org/vocab/quantitykind/RelativeMolecularMass': {}, 'http://qudt.org/vocab/quantitykind/AngularImpulse': {}, 'http://qudt.org/vocab/quantitykind/ElectricChargeSurfaceDensity': {}, 'http://qudt.org/vocab/quantitykind/LuminousFluxPerArea': {}, 'http://qudt.org/vocab/quantitykind/RF-Power': {}, 'http://qudt.org/vocab/quantitykind/SphericalIlluminance': {}, 'http://qudt.org/vocab/quantitykind/FrictionCoefficient': {}, 'http://qudt.org/vocab/quantitykind/EnergyKinetic': {}, 'http://qudt.org/vocab/quantitykind/ColdReceptorThreshold': {}, 'http://qudt.org/vocab/quantitykind/LiquidVolume': {}, 'http://qudt.org/vocab/quantitykind/Compressibility': {}, 'http://qudt.org/vocab/quantitykind/MassRatioOfWaterToDryMatter': {}, 'http://qudt.org/vocab/quantitykind/RadiantIntensity': {}, 'http://qudt.org/vocab/quantitykind/BodyMassIndex': {}, 'http://qudt.org/vocab/quantitykind/CurieTemperature': {}, 'http://qudt.org/vocab/quantitykind/ExchangeIntegral': {}, 'http://qudt.org/vocab/quantitykind/RadiantEmmitance': {}, 'http://qudt.org/vocab/quantitykind/Action': {}, 'http://qudt.org/vocab/quantitykind/EquilibriumConstant': {}, 'http://qudt.org/vocab/quantitykind/Velocity': {}, 'http://qudt.org/vocab/quantitykind/MASS-MARGIN': {}, 'http://qudt.org/vocab/quantitykind/CubicElectricDipoleMomentPerSquareEnergy': {}, 'http://qudt.org/vocab/quantitykind/VerticalVelocity': {}, 'http://qudt.org/vocab/quantitykind/ElectricCurrentPerUnitTemperature': {}, 'http://qudt.org/vocab/quantitykind/Fugacity': {}, 'http://qudt.org/vocab/quantitykind/PressurePercentage': {}, 'http://qudt.org/vocab/quantitykind/CoherenceLength': {}, 'http://qudt.org/vocab/quantitykind/SurfaceTension': {}, 'http://qudt.org/vocab/quantitykind/CatalyticActivity': {}, 'http://qudt.org/vocab/quantitykind/Gravity_API': {}, 'http://qudt.org/vocab/quantitykind/RadiantExposure': {}, 'http://qudt.org/vocab/quantitykind/TemperaturePerTime': {}, 'http://qudt.org/vocab/quantitykind/NapierianAbsorbance': {}, 'http://qudt.org/vocab/quantitykind/Volume': {}, 'http://qudt.org/vocab/quantitykind/SecondPolarMomentOfArea': {}, 'http://qudt.org/vocab/quantitykind/Tension': {}, 'http://qudt.org/vocab/quantitykind/ElectricCurrent': {}, 'http://qudt.org/vocab/quantitykind/MorbidityRate': {}, 'http://qudt.org/vocab/quantitykind/SurfaceCoefficientOfHeatTransfer': {}, 'http://qudt.org/vocab/quantitykind/TemperatureAmountOfSubstance': {}, 'http://qudt.org/vocab/quantitykind/RadialDistance': {}, 'http://qudt.org/vocab/quantitykind/DRY-MASS': {}, 'http://qudt.org/vocab/quantitykind/MASS-GROWTH-ALLOWANCE': {}, 'http://qudt.org/vocab/quantitykind/RelativePermittivity': {}, 'http://qudt.org/vocab/quantitykind/SoundPressure': {}, 'http://qudt.org/vocab/quantitykind/BendingMomentOfForce': {}, 'http://qudt.org/vocab/quantitykind/NeutronYieldPerAbsorption': {}, 'http://qudt.org/vocab/quantitykind/QuarticElectricDipoleMomentPerCubicEnergy': {}, 'http://qudt.org/vocab/quantitykind/AmountOfSubstancePerUnitVolume': {}, 'http://qudt.org/vocab/quantitykind/ElectromagneticPermeability': {}, 'http://qudt.org/vocab/quantitykind/EquilibriumConstantOnConcentrationBasis': {}, 'http://qudt.org/vocab/quantitykind/PowerPerArea': {}, 'http://qudt.org/vocab/quantitykind/NumberDensity': {}, 'http://qudt.org/vocab/quantitykind/MagneticField': {}, 'http://qudt.org/vocab/quantitykind/PlaneAngle': {}, 'http://qudt.org/vocab/quantitykind/ResonanceEnergy': {}, 'http://qudt.org/vocab/quantitykind/BetaDisintegrationEnergy': {}, 'http://qudt.org/vocab/quantitykind/TorquePerLength': {}, 'http://qudt.org/vocab/quantitykind/ChargeNumber': {}, 'http://qudt.org/vocab/quantitykind/MolarVolume': {}, 'http://qudt.org/vocab/quantitykind/Length': {}, 'http://qudt.org/vocab/quantitykind/MassPerArea': {}, 'http://qudt.org/vocab/quantitykind/PrincipalQuantumNumber': {}, 'http://qudt.org/vocab/quantitykind/EllipticalOrbitApogeeVelocity': {}, 'http://qudt.org/vocab/quantitykind/Circulation': {}, 'http://qudt.org/vocab/quantitykind/AcousticImpedance': {}, 'http://qudt.org/vocab/quantitykind/Efficiency': {}, 'http://qudt.org/vocab/quantitykind/SpecificHeatCapacityAtConstantPressure': {}, 'http://qudt.org/vocab/quantitykind/CombinedNonEvaporativeHeatTransferCoefficient': {}, 'http://qudt.org/vocab/quantitykind/RadiantFluenceRate': {}, 'http://qudt.org/vocab/quantitykind/Turns': {}, 'http://qudt.org/vocab/quantitykind/OrbitalAngularMomentumQuantumNumber': {}, 'http://qudt.org/vocab/quantitykind/DiastolicBloodPressure': {}, 'http://qudt.org/vocab/quantitykind/SoundPressureLevel': {}, 'http://qudt.org/vocab/quantitykind/MassPerElectricCharge': {}, 'http://qudt.org/vocab/quantitykind/Speed': {}, 'http://qudt.org/vocab/quantitykind/PowerFactor': {}, 'http://qudt.org/vocab/quantitykind/PropagationCoefficient': {}, 'http://qudt.org/vocab/quantitykind/ElectricFlux': {}, 'http://qudt.org/vocab/quantitykind/Reactivity': {}, 'http://qudt.org/vocab/quantitykind/AmountOfSubstancePerUnitMassPressure': {}, 'http://qudt.org/vocab/quantitykind/Breadth': {}, 'http://qudt.org/vocab/quantitykind/LandeGFactor': {}, 'http://qudt.org/vocab/quantitykind/MassRatio': {}, 'http://qudt.org/vocab/quantitykind/SpecificEnergy': {}, 'http://qudt.org/vocab/quantitykind/LinearAttenuationCoefficient': {}, 'http://qudt.org/vocab/quantitykind/PackingFraction': {}, 'http://qudt.org/vocab/quantitykind/AreaAngle': {}, 'http://qudt.org/vocab/quantitykind/FermiAngularWavenumber': {}, 'http://qudt.org/vocab/quantitykind/Period': {}, 'http://qudt.org/vocab/quantitykind/PositionVector': {}, 'http://qudt.org/vocab/quantitykind/NuclearQuadrupoleMoment': {}, 'http://qudt.org/vocab/quantitykind/StaticFrictionCoefficient': {}, 'http://qudt.org/vocab/quantitykind/MassConcentrationOfWaterVapour': {}, 'http://qudt.org/vocab/quantitykind/AtomScatteringFactor': {}, 'http://qudt.org/vocab/quantitykind/OsmoticCoefficient': {}, 'http://qudt.org/vocab/quantitykind/ParticleSourceDensity': {}, 'http://qudt.org/vocab/quantitykind/NeutronDiffusionCoefficient': {}, 'http://qudt.org/vocab/quantitykind/LinearCompressibility': {}, 'http://qudt.org/vocab/quantitykind/AtomicAttenuationCoefficient': {}, 'http://qudt.org/vocab/quantitykind/EnergyPerSquareMagneticFluxDensity': {}, 'http://qudt.org/vocab/quantitykind/Force': {}, 'http://qudt.org/vocab/quantitykind/MassExcess': {}, 'http://qudt.org/vocab/quantitykind/ThermalInsulance': {}, 'http://qudt.org/vocab/quantitykind/CONTRACT-END-ITEM-SPECIFICATION-MASS': {}, 'http://qudt.org/vocab/quantitykind/OrderOfReflection': {}, 'http://qudt.org/vocab/quantitykind/Flux': {}, 'http://qudt.org/vocab/quantitykind/DynamicFrictionCoefficient': {}, 'http://qudt.org/vocab/quantitykind/ActivePower': {}, 'http://qudt.org/vocab/quantitykind/SpecificActivity': {}, 'http://qudt.org/vocab/quantitykind/PhotosyntheticPhotonFluxDensity': {}, 'http://qudt.org/vocab/quantitykind/VolumetricHeatCapacity': {}, 'http://qudt.org/vocab/quantitykind/StatisticalWeight': {}, 'http://qudt.org/vocab/quantitykind/TemperaturePerMagneticFluxDensity': {}, 'http://qudt.org/vocab/quantitykind/LengthEnergy': {}, 'http://qudt.org/vocab/quantitykind/LinearDensity': {}, 'http://qudt.org/vocab/quantitykind/SoundParticleDisplacement': {}, 'http://qudt.org/vocab/quantitykind/KineticEnergy': {}, 'http://qudt.org/vocab/quantitykind/AreaTime': {}, 'http://qudt.org/vocab/quantitykind/ElectricFluxDensity': {}, 'http://qudt.org/vocab/quantitykind/GroupSpeedOfSound': {}, 'http://qudt.org/vocab/quantitykind/MaxOperatingThrust': {}, 'http://qudt.org/vocab/quantitykind/SquareEnergy': {}, 'http://qudt.org/vocab/quantitykind/Reactance': {}, 'http://qudt.org/vocab/quantitykind/DiffusionArea': {}, 'http://qudt.org/vocab/quantitykind/VisibleRadiantEnergy': {}, 'http://qudt.org/vocab/quantitykind/StrainEnergyDensity': {}, 'http://qudt.org/vocab/quantitykind/EvaporativeHeatTransfer': {}, 'http://qudt.org/vocab/quantitykind/MassNumber': {}, 'http://qudt.org/vocab/quantitykind/CurvatureFromRadius': {}, 'http://qudt.org/vocab/quantitykind/RadiantFlux': {}, 'http://qudt.org/vocab/quantitykind/Long-RangeOrderParameter': {}, 'http://qudt.org/vocab/quantitykind/Refectance': {}, 'http://qudt.org/vocab/quantitykind/ThermalDiffusionFactor': {}, 'http://qudt.org/vocab/quantitykind/Illuminance': {}, 'http://qudt.org/vocab/quantitykind/SpatialSummationFunction': {}, 'http://qudt.org/vocab/quantitykind/AccelerationOfGravity': {}, 'http://qudt.org/vocab/quantitykind/MassDefect': {}, 'http://qudt.org/vocab/quantitykind/RecombinationCoefficient': {}, 'http://qudt.org/vocab/quantitykind/MassTemperature': {}, 'http://qudt.org/vocab/quantitykind/ParticleNumberDensity': {}, 'http://qudt.org/vocab/quantitykind/GeneralizedCoordinate': {}, 'http://qudt.org/vocab/quantitykind/BurnRate': {}, 'http://qudt.org/vocab/quantitykind/MagneticFlux': {}, 'http://qudt.org/vocab/quantitykind/PlanckFunction': {}, 'http://qudt.org/vocab/quantitykind/DewPointTemperature': {}, 'http://qudt.org/vocab/quantitykind/Resistance': {}, 'http://qudt.org/vocab/quantitykind/Temperature': {}, 'http://qudt.org/vocab/quantitykind/VacuumThrust': {}, 'http://qudt.org/vocab/quantitykind/HyperfineStructureQuantumNumber': {}, 'http://qudt.org/vocab/quantitykind/ElectricField': {}, 'http://qudt.org/vocab/quantitykind/QuantumNumber': {}, 'http://qudt.org/vocab/quantitykind/EnergyPerArea': {}, 'http://qudt.org/vocab/quantitykind/MaxExpectedOperatingThrust': {}, 'http://qudt.org/vocab/quantitykind/Dimensionless': {}, 'http://qudt.org/vocab/quantitykind/EquilibriumConstantOnPressureBasis': {}, 'http://qudt.org/vocab/quantitykind/ElectromagneticWavePhaseSpeed': {}, 'http://qudt.org/vocab/quantitykind/RadiantEnergyDensity': {}, 'http://qudt.org/vocab/quantitykind/InverseSquareMass': {}, 'http://qudt.org/vocab/quantitykind/InverseSquareTime': {}, 'http://qudt.org/vocab/quantitykind/Slowing-DownLength': {}, 'http://qudt.org/vocab/quantitykind/DoseEquivalentQualityFactor': {}, 'http://qudt.org/vocab/quantitykind/InverseTime': {}, 'http://qudt.org/vocab/quantitykind/Transmittance': {}, 'http://qudt.org/vocab/quantitykind/WebTimeAveragePressure': {}, 'http://qudt.org/vocab/quantitykind/PhaseCoefficient': {}, 'http://qudt.org/vocab/quantitykind/DiffusionLength': {}, 'http://qudt.org/vocab/quantitykind/GyromagneticRatio': {}, 'http://qudt.org/vocab/quantitykind/PoissonRatio': {}, 'http://qudt.org/vocab/quantitykind/Angle': {}, 'http://qudt.org/vocab/quantitykind/PolarizationField': {}, 'http://qudt.org/vocab/quantitykind/RadianceFactor': {}, 'http://qudt.org/vocab/quantitykind/SpeedOfSound': {}, 'http://qudt.org/vocab/quantitykind/DynamicPressure': {}, 'http://qudt.org/vocab/quantitykind/StandardChemicalPotential': {}, 'http://qudt.org/vocab/quantitykind/PoyntingVector': {}, 'http://qudt.org/vocab/quantitykind/VolumeThermalExpansion': {}, 'http://qudt.org/vocab/quantitykind/InversePressure': {}, 'http://qudt.org/vocab/quantitykind/NuclearRadius': {}, 'http://qudt.org/vocab/quantitykind/InverseVolume': {}, 'http://qudt.org/vocab/quantitykind/NozzleThroatDiameter': {}, 'http://qudt.org/vocab/quantitykind/ReactivePower': {}, 'http://qudt.org/vocab/quantitykind/MassFractionOfDryMatter': {}, 'http://qudt.org/vocab/quantitykind/DebyeAngularWavenumber': {}, 'http://qudt.org/vocab/quantitykind/FissionCoreRadiusToHeightRatio': {}, 'http://qudt.org/vocab/quantitykind/DiffusionCoefficient': {}, 'http://qudt.org/vocab/quantitykind/AttenuationCoefficient': {}, 'http://qudt.org/vocab/quantitykind/HelmholtzEnergy': {}, 'http://qudt.org/vocab/quantitykind/DonorIonizationEnergy': {}, 'http://qudt.org/vocab/quantitykind/DiffusionCoefficientForFluenceRate': {}, 'http://qudt.org/vocab/quantitykind/Thickness': {}, 'http://qudt.org/vocab/quantitykind/AtmosphericPressure': {}, 'http://qudt.org/vocab/quantitykind/AreaTemperature': {}, 'http://qudt.org/vocab/quantitykind/ResonanceEscapeProbability': {}, 'http://qudt.org/vocab/quantitykind/AverageEnergyLossPerElementaryChargeProduced': {}, 'http://qudt.org/vocab/quantitykind/INERT-MASS': {}, 'http://qudt.org/vocab/quantitykind/EnergyDensity': {}, 'http://qudt.org/vocab/quantitykind/StandardGravitationalParameter': {}, 'http://qudt.org/vocab/quantitykind/MeanMassRange': {}, 'http://qudt.org/vocab/quantitykind/StaticPressure': {}, 'http://qudt.org/vocab/quantitykind/SoundPowerLevel': {}, 'http://qudt.org/vocab/quantitykind/PhotonRadiance': {}, 'http://qudt.org/vocab/quantitykind/PowerPerAreaQuarticTemperature': {}, 'http://qudt.org/vocab/quantitykind/DragCoefficient': {}, 'http://qudt.org/vocab/quantitykind/HoleDensity': {}, 'http://qudt.org/vocab/quantitykind/IonicStrength': {}, 'http://qudt.org/vocab/quantitykind/EnergyImparted': {}, 'http://qudt.org/vocab/quantitykind/AmbientPressure': {}, 'http://qudt.org/vocab/quantitykind/ThermalEnergyLength': {}, 'http://qudt.org/vocab/quantitykind/SpecificHeatVolume': {}, 'http://qudt.org/vocab/quantitykind/Height': {}, 'http://qudt.org/vocab/quantitykind/ThermodynamicEnergy': {}, 'http://qudt.org/vocab/quantitykind/ResistancePercentage': {}, 'http://qudt.org/vocab/quantitykind/ElectricSusceptibility': {}, 'http://qudt.org/vocab/quantitykind/KermaRate': {}, 'http://qudt.org/vocab/quantitykind/AreicHeatFlowRate': {}, 'http://qudt.org/vocab/quantitykind/NormalStress': {}, 'http://qudt.org/vocab/quantitykind/IsentropicCompressibility': {}, 'http://qudt.org/vocab/quantitykind/SoundParticleAcceleration': {}, 'http://qudt.org/vocab/quantitykind/MortalityRate': {}, 'http://qudt.org/vocab/quantitykind/ElectricCurrentDensity': {}, 'http://qudt.org/vocab/quantitykind/ThermalResistivity': {}, 'http://qudt.org/vocab/quantitykind/ThermodynamicTemperature': {}, 'http://qudt.org/vocab/quantitykind/RESERVE-MASS': {}, 'http://qudt.org/vocab/quantitykind/DimensionlessRatio': {}, 'http://qudt.org/vocab/quantitykind/ForceMagnitude': {}, 'http://qudt.org/vocab/quantitykind/EarthClosestApproachVehicleVelocity': {}, 'http://qudt.org/vocab/quantitykind/SpecificInternalEnergy': {}, 'http://qudt.org/vocab/quantitykind/GrandCanonicalPartitionFunction': {}, 'http://qudt.org/vocab/quantitykind/Diameter': {}, 'http://qudt.org/vocab/quantitykind/MechanicalEnergy': {}, 'http://qudt.org/vocab/quantitykind/ElectricChargePerAmountOfSubstance': {}, 'http://qudt.org/vocab/quantitykind/SystolicBloodPressure': {}, 'http://qudt.org/vocab/quantitykind/CarrierLifetime': {}, 'http://qudt.org/vocab/quantitykind/LogarithmicFrequencyInterval': {}, 'http://qudt.org/vocab/quantitykind/Entropy': {}, 'http://qudt.org/vocab/quantitykind/PhononMeanFreePath': {}, 'http://qudt.org/vocab/quantitykind/InternalConversionFactor': {}, 'http://qudt.org/vocab/quantitykind/ShearStress': {}, 'http://qudt.org/vocab/quantitykind/ForcePerArea': {}, 'http://qudt.org/vocab/quantitykind/AngularReciprocalLatticeVector': {}, 'http://qudt.org/vocab/quantitykind/SpecificHeatCapacity': {}, 'http://qudt.org/vocab/quantitykind/GFactorOfNucleus': {}, 'http://qudt.org/vocab/quantitykind/Currency': {}, 'http://qudt.org/vocab/quantitykind/ForcePerAreaTime': {}, 'http://qudt.org/vocab/quantitykind/RelativeMassExcess': {}, 'http://qudt.org/vocab/quantitykind/BindingFraction': {}, 'http://qudt.org/vocab/quantitykind/ElectricPower': {}, 'http://qudt.org/vocab/quantitykind/SoundPower': {}, 'http://qudt.org/vocab/quantitykind/MOMENT-OF-INERTIA_Y': {}, 'http://qudt.org/vocab/quantitykind/SpecificHeatCapacityAtConstantVolume': {}, 'http://qudt.org/vocab/quantitykind/HeatFluxDensity': {}, 'http://qudt.org/vocab/quantitykind/RelativePartialPressure': {}, 'http://qudt.org/vocab/quantitykind/ElectronDensity': {}, 'http://qudt.org/vocab/quantitykind/LatticePlaneSpacing': {}, 'http://qudt.org/vocab/quantitykind/IonizationEnergy': {}, 'http://qudt.org/vocab/quantitykind/MolarMass': {}, 'http://qudt.org/vocab/quantitykind/Absorptance': {}, 'http://qudt.org/vocab/quantitykind/InternalEnergy': {}, 'http://qudt.org/vocab/quantitykind/AbsoluteHumidity': {}, 'http://qudt.org/vocab/quantitykind/MassicActivity': {}, 'http://qudt.org/vocab/quantitykind/GibbsEnergy': {}, 'http://qudt.org/vocab/quantitykind/ReactionEnergy': {}, 'http://qudt.org/vocab/quantitykind/Capacitance': {}, 'http://qudt.org/vocab/quantitykind/Inductance': {}, 'http://qudt.org/vocab/quantitykind/HeatFlowRatePerUnitArea': {}, 'http://qudt.org/vocab/quantitykind/ElectromagneticEnergyDensity': {}, 'http://qudt.org/vocab/quantitykind/RelativeHumidity': {}, 'http://qudt.org/vocab/quantitykind/DecayConstant': {}, 'http://qudt.org/vocab/quantitykind/ThermodynamicEntropy': {}, 'http://qudt.org/vocab/quantitykind/ReynoldsNumber': {}, 'http://qudt.org/vocab/quantitykind/RadiantEnergy': {}, 'http://qudt.org/vocab/quantitykind/Momentum': {}, 'http://qudt.org/vocab/quantitykind/RelativeMassDensity': {}, 'http://qudt.org/vocab/quantitykind/DynamicFriction': {}, 'http://qudt.org/vocab/quantitykind/ElectricCurrentPerUnitLength': {}, 'http://qudt.org/vocab/quantitykind/Enthalpy': {}, 'http://qudt.org/vocab/quantitykind/InverseEnergy': {}, 'http://qudt.org/vocab/quantitykind/SpecificImpulseByMass': {}, 'http://qudt.org/vocab/quantitykind/InverseSquareEnergy': {}, 'http://qudt.org/vocab/quantitykind/TotalCurrent': {}, 'http://qudt.org/vocab/quantitykind/ShearStrain': {}, 'http://qudt.org/vocab/quantitykind/AbsorbedDose': {}, 'http://qudt.org/vocab/quantitykind/ElectricChargeVolumeDensity': {}, 'http://qudt.org/vocab/quantitykind/MassPerTime': {}, 'http://qudt.org/vocab/quantitykind/MagneticFluxDensity': {}, 'http://qudt.org/vocab/quantitykind/Acceleration': {}, 'http://qudt.org/vocab/quantitykind/Half-Life': {}, 'http://qudt.org/vocab/quantitykind/LinearAbsorptionCoefficient': {}, 'http://qudt.org/vocab/quantitykind/ModulusOfElasticity': {}, 'http://qudt.org/vocab/quantitykind/MassDensity': {}, 'http://qudt.org/vocab/quantitykind/EnergyLevel': {}, 'http://qudt.org/vocab/quantitykind/ComplexPower': {}, 'http://qudt.org/vocab/quantitykind/TotalAngularMomentumQuantumNumber': {}, 'http://qudt.org/vocab/quantitykind/GeneralizedForce': {}, 'http://qudt.org/vocab/quantitykind/ElectricPotentialDifference': {}, 'http://qudt.org/vocab/quantitykind/MagneticVectorPotential': {}, 'http://qudt.org/vocab/quantitykind/MomentOfForce': {}, 'http://qudt.org/vocab/quantitykind/ExpansionRatio': {}, 'http://qudt.org/vocab/quantitykind/ChemicalPotential': {}, 'http://qudt.org/vocab/quantitykind/LinearVelocity': {}, 'http://qudt.org/vocab/quantitykind/Frequency': {}, 'http://qudt.org/vocab/quantitykind/HamiltonFunction': {}, 'http://qudt.org/vocab/quantitykind/EnergyFluence': {}, 'http://qudt.org/vocab/quantitykind/Coercivity': {}, 'http://qudt.org/vocab/quantitykind/EnergyPerElectricCharge': {}, 'http://qudt.org/vocab/quantitykind/MASS-DELIVERED': {}, 'http://qudt.org/vocab/quantitykind/LuminousEmmitance': {}, 'http://qudt.org/vocab/quantitykind/MagneticSusceptability': {}, 'http://qudt.org/vocab/quantitykind/CharacteristicAcousticImpedance': {}, 'http://qudt.org/vocab/quantitykind/ElectricDisplacement': {}, 'http://qudt.org/vocab/quantitykind/Voltage': {}, 'http://qudt.org/vocab/quantitykind/PREDICTED-MASS': {}, 'http://qudt.org/vocab/quantitykind/Emissivity': {}, 'http://qudt.org/vocab/quantitykind/SpecificImpulse': {}, 'http://qudt.org/vocab/quantitykind/PartialPressure': {}, 'http://qudt.org/vocab/quantitykind/HeatFlowRate': {}, 'http://qudt.org/vocab/quantitykind/ElectricDisplacementField': {}, 'http://qudt.org/vocab/quantitykind/ApparentPower': {}, 'http://qudt.org/vocab/quantitykind/MassFlowRate': {}, 'http://qudt.org/vocab/quantitykind/MigrationArea': {}, 'http://qudt.org/vocab/quantitykind/SpecificHeatPressure': {}, 'http://qudt.org/vocab/quantitykind/BulkModulus': {}, 'http://qudt.org/vocab/quantitykind/TotalPressure': {}, 'http://qudt.org/vocab/quantitykind/ModulusOfImpedance': {}, 'http://qudt.org/vocab/quantitykind/ParticleCurrent': {}, 'http://qudt.org/vocab/quantitykind/LengthPercentage': {}, 'http://qudt.org/vocab/quantitykind/Depth': {}, 'http://qudt.org/vocab/quantitykind/SurfaceDensity': {}, 'http://qudt.org/vocab/quantitykind/Short-RangeOrderParameter': {}, 'http://qudt.org/vocab/quantitykind/ElectricCurrentPerUnitEnergy': {}, 'http://qudt.org/vocab/quantitykind/InversePermittivity': {}, 'http://qudt.org/vocab/quantitykind/TARGET-BOGIE-MASS': {}, 'http://qudt.org/vocab/quantitykind/Impedance': {}, 'http://qudt.org/vocab/quantitykind/EffectiveExhaustVelocity': {}, 'http://qudt.org/vocab/quantitykind/MaximumOperatingPressure': {}, 'http://qudt.org/vocab/quantitykind/ScalarMagneticPotential': {}, 'http://qudt.org/vocab/quantitykind/HeatCapacityRatio': {}, 'http://qudt.org/vocab/quantitykind/Area': {}, 'http://qudt.org/vocab/quantitykind/Kerma': {}, 'http://qudt.org/vocab/quantitykind/AtomicCharge': {}, 'http://qudt.org/vocab/quantitykind/RefractiveIndex': {}, 'http://qudt.org/vocab/quantitykind/ActionTime': {}, 'http://qudt.org/vocab/quantitykind/DisplacementVectorOfIon': {}, 'http://qudt.org/vocab/quantitykind/SoundIntensity': {}, 'http://qudt.org/vocab/quantitykind/ThermalDiffusivity': {}, 'http://qudt.org/vocab/quantitykind/Energy': {}, 'http://qudt.org/vocab/quantitykind/Exposure': {}, 'http://qudt.org/vocab/quantitykind/DragForce': {}, 'http://qudt.org/vocab/quantitykind/MolarEnergy': {}, 'http://qudt.org/vocab/quantitykind/ElectricPropulsionPropellantMass': {}, 'http://qudt.org/vocab/quantitykind/ElectrolyticConductivity': {}, 'http://qudt.org/vocab/quantitykind/FastFissionFactor': {}, 'http://qudt.org/vocab/quantitykind/Vorticity': {}, 'http://qudt.org/vocab/quantitykind/MagneticQuantumNumber': {}, 'http://qudt.org/vocab/quantitykind/ElectricChargePerMass': {}, 'http://qudt.org/vocab/quantitykind/StandardAbsoluteActivity': {}, 'http://qudt.org/vocab/quantitykind/MolecularConcentration': {}, 'http://qudt.org/vocab/quantitykind/ElectricPolarization': {}, 'http://qudt.org/vocab/quantitykind/AngularFrequency': {}, 'http://qudt.org/vocab/quantitykind/ElectricChargeLinearDensity': {}, 'http://qudt.org/vocab/quantitykind/EinsteinTransitionProbability': {}, 'http://qudt.org/vocab/quantitykind/WaterHorsepower': {}, 'http://qudt.org/vocab/quantitykind/AtomicNumber': {}, 'http://qudt.org/vocab/quantitykind/IonTransportNumber': {}, 'http://qudt.org/vocab/quantitykind/Conductivity': {}, 'http://qudt.org/vocab/quantitykind/SecondAxialMomentOfArea': {}, 'http://qudt.org/vocab/quantitykind/FundamentalReciprocalLatticeVector': {}, 'http://qudt.org/vocab/quantitykind/InverseMagneticFlux': {}, 'http://qudt.org/vocab/quantitykind/NeutronYieldPerFission': {}, 'http://qudt.org/vocab/quantitykind/StoichiometricNumber': {}, 'http://qudt.org/vocab/quantitykind/ActiveEnergy': {}, 'http://qudt.org/vocab/quantitykind/MeanLinearRange': {}, 'http://qudt.org/vocab/quantitykind/MolecularMass': {}, 'http://qudt.org/vocab/quantitykind/TotalCrossSection': {}, 'http://qudt.org/vocab/quantitykind/Altitude': {}, 'http://qudt.org/vocab/quantitykind/MigrationLength': {}, 'http://qudt.org/vocab/quantitykind/AcceptorDensity': {}, 'http://qudt.org/vocab/quantitykind/EquivalentAbsorptionArea': {}, 'http://qudt.org/vocab/quantitykind/MomentumPerAngle': {}, 'http://qudt.org/vocab/quantitykind/ElectricQuadrupoleMoment': {}, 'http://qudt.org/vocab/quantitykind/AverageHeadEndPressure': {}, 'http://qudt.org/vocab/quantitykind/Lethargy': {}, 'http://qudt.org/vocab/quantitykind/MagneticDipoleMoment': {}, 'http://qudt.org/vocab/quantitykind/Spin': {}, 'http://qudt.org/vocab/quantitykind/MoleFraction': {}, 'http://qudt.org/vocab/quantitykind/ParticleFluence': {}, 'http://qudt.org/vocab/quantitykind/VolumeFraction': {}, 'http://qudt.org/vocab/quantitykind/ThermalConductance': {}, 'http://qudt.org/vocab/quantitykind/AngularMomentum': {}, 'http://qudt.org/vocab/quantitykind/MassPerLength': {}}\n"
     ]
    }
   ],
   "source": []
  },
  {
   "cell_type": "markdown",
   "id": "6d180706-f466-4a33-a800-fa5df12f5df9",
   "metadata": {},
   "source": [
    "## syntax test for dictionaries"
   ]
  },
  {
   "cell_type": "code",
   "execution_count": 52,
   "id": "f90fa761-4ff9-4ba6-838c-2ab4aade802b",
   "metadata": {},
   "outputs": [],
   "source": [
    "testdict = {'bla1': {'units': {}}}"
   ]
  },
  {
   "cell_type": "code",
   "execution_count": 53,
   "id": "627620d7-8dc4-414a-b4e9-5f8b174cc7d5",
   "metadata": {},
   "outputs": [
    {
     "name": "stdout",
     "output_type": "stream",
     "text": [
      "{'units': {}}\n"
     ]
    }
   ],
   "source": [
    "print(testdict['bla1'])"
   ]
  },
  {
   "cell_type": "code",
   "execution_count": 59,
   "id": "7eb74b32-c39c-4d19-b997-3e56868cfdca",
   "metadata": {},
   "outputs": [],
   "source": [
    "testdict['bla1']['units'] = {'http': 'm'}, {'https':'s'}"
   ]
  },
  {
   "cell_type": "code",
   "execution_count": 60,
   "id": "1a6a95ea-a791-4ff1-9048-e56b764d33fb",
   "metadata": {},
   "outputs": [
    {
     "name": "stdout",
     "output_type": "stream",
     "text": [
      "{'units': ({'http': 'm'}, {'https': 's'})}\n"
     ]
    }
   ],
   "source": [
    "print(testdict['bla1'])"
   ]
  },
  {
   "cell_type": "code",
   "execution_count": 62,
   "id": "30f95e61-85b8-4feb-9fd7-5a5344adead6",
   "metadata": {},
   "outputs": [
    {
     "name": "stdout",
     "output_type": "stream",
     "text": [
      "({'http': 'm'}, {'https': 's'})\n"
     ]
    }
   ],
   "source": [
    "print(testdict['bla1']['units'])"
   ]
  },
  {
   "cell_type": "code",
   "execution_count": 63,
   "id": "70075546-920d-488d-8b8c-46efdf8b48f7",
   "metadata": {},
   "outputs": [
    {
     "name": "stdout",
     "output_type": "stream",
     "text": [
      "{'http': 'm'}\n",
      "{'https': 's'}\n"
     ]
    }
   ],
   "source": [
    "for test in testdict['bla1']['units']:\n",
    "    print(test)"
   ]
  },
  {
   "cell_type": "code",
   "execution_count": null,
   "id": "3aec41fb-35e1-4e4b-9fe0-b41fb14ed686",
   "metadata": {},
   "outputs": [],
   "source": []
  }
 ],
 "metadata": {
  "kernelspec": {
   "display_name": "Python 3.8 (XPython)",
   "language": "python",
   "name": "xpython"
  },
  "language_info": {
   "file_extension": ".py",
   "mimetype": "text/x-python",
   "name": "python",
   "version": "3.8.8"
  }
 },
 "nbformat": 4,
 "nbformat_minor": 5
}
