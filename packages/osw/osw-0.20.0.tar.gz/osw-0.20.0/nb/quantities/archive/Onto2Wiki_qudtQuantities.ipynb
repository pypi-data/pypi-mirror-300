{
 "cells": [
  {
   "cell_type": "markdown",
   "id": "8a9e8c18-c039-4596-b7ab-b7ebdd7c0fd6",
   "metadata": {},
   "source": [
    "## Idea:\n",
    "    ## Quantity definitions\n",
    "        ### Query all quantities\n",
    "        ###Query all applicable units of each quantity\n",
    "        ###Query all conversionMultipliers of each unit to determine the base unit\n",
    "    ##Quantity hierarchy:\n",
    "        ###use attribute skos:broader => points to super-quantity (only available for some quantites) \n",
    "        ###cluster quantities according to hasDimensionVector: one or multiple cluster members may be super-quantities, need manual analysis\n",
    "        \n",
    "Overview: http://www.qudt.org/doc/DOC_VOCAB-QUANTITY-KINDS.html\n",
    "Sparql-Endpoint: http://www.qudt.org/fuseki/dataset.html?tab=query&ds=/qudt"
   ]
  },
  {
   "cell_type": "code",
   "execution_count": 4,
   "id": "775bfced-c97f-48b3-bde8-42ea0053a2bc",
   "metadata": {},
   "outputs": [
    {
     "ename": "KeyError",
     "evalue": "'result'",
     "output_type": "error",
     "traceback": [
      "\u001b[0;31m---------------------------------------------------------------------------\u001b[0m",
      "\u001b[0;31mKeyError\u001b[0m                                  Traceback (most recent call last)",
      "\u001b[0;32m<ipython-input-4-f07c44f6d986>\u001b[0m in \u001b[0;36m<module>\u001b[0;34m\u001b[0m\n\u001b[1;32m     18\u001b[0m \u001b[0;31m#print(results)\u001b[0m\u001b[0;34m\u001b[0m\u001b[0;34m\u001b[0m\u001b[0;34m\u001b[0m\u001b[0m\n\u001b[1;32m     19\u001b[0m \u001b[0;32mfor\u001b[0m \u001b[0mresult\u001b[0m \u001b[0;32min\u001b[0m \u001b[0mresults\u001b[0m\u001b[0;34m[\u001b[0m\u001b[0;34m\"results\"\u001b[0m\u001b[0;34m]\u001b[0m\u001b[0;34m[\u001b[0m\u001b[0;34m\"bindings\"\u001b[0m\u001b[0;34m]\u001b[0m\u001b[0;34m:\u001b[0m\u001b[0;34m\u001b[0m\u001b[0;34m\u001b[0m\u001b[0m\n\u001b[0;32m---> 20\u001b[0;31m     \u001b[0mprint\u001b[0m\u001b[0;34m(\u001b[0m\u001b[0mresult\u001b[0m\u001b[0;34m[\u001b[0m\u001b[0;34m\"result\"\u001b[0m\u001b[0;34m]\u001b[0m\u001b[0;34m[\u001b[0m\u001b[0;34m\"value\"\u001b[0m\u001b[0;34m]\u001b[0m\u001b[0;34m)\u001b[0m\u001b[0;34m\u001b[0m\u001b[0;34m\u001b[0m\u001b[0m\n\u001b[0m\u001b[1;32m     21\u001b[0m \u001b[0;34m\u001b[0m\u001b[0m\n\u001b[1;32m     22\u001b[0m \u001b[0mprint\u001b[0m\u001b[0;34m(\u001b[0m\u001b[0;34m'---------------------------'\u001b[0m\u001b[0;34m)\u001b[0m\u001b[0;34m\u001b[0m\u001b[0;34m\u001b[0m\u001b[0m\n",
      "\u001b[0;31mKeyError\u001b[0m: 'result'"
     ]
    }
   ],
   "source": [
    "from SPARQLWrapper import SPARQLWrapper, POST, BASIC, JSON\n",
    "\n",
    "sparql = SPARQLWrapper(\"http://www.qudt.org/fuseki/qudt/sparql\")\n",
    "sparql.setMethod(POST)\n",
    "\n",
    "sparql.setQuery(\"\"\"\n",
    "    PREFIX qudt: <http://qudt.org/schema/qudt/>\n",
    "    PREFIX rdf: <http://www.w3.org/1999/02/22-rdf-syntax-ns#>\n",
    "\n",
    "    SELECT ?subject\n",
    "    WHERE {\n",
    "      ?subject  rdf:type qudt:QuantityKind.\n",
    "    } \n",
    "    LIMIT 999\n",
    "\"\"\")\n",
    "sparql.setReturnFormat(JSON)\n",
    "results = sparql.query().convert()\n",
    "#print(results)\n",
    "for result in results[\"results\"][\"bindings\"]:\n",
    "    print(result[\"result\"][\"value\"])\n",
    "\n",
    "print('---------------------------')"
   ]
  },
  {
   "cell_type": "code",
   "execution_count": null,
   "id": "e2940293-c24a-4ded-8c5b-5656336ad0f0",
   "metadata": {},
   "outputs": [],
   "source": [
    "#print(results)\n",
    "for result in results[\"results\"][\"bindings\"]:\n",
    "    print(result[\"subject\"][\"value\"])\n",
    "    \n",
    "    "
   ]
  },
  {
   "cell_type": "code",
   "execution_count": null,
   "id": "7e191b2d-cd1d-489c-b863-75ddbd83e426",
   "metadata": {},
   "outputs": [],
   "source": [
    "results"
   ]
  },
  {
   "cell_type": "code",
   "execution_count": 7,
   "id": "3633472b-5349-4e1a-ae51-23f56a7eebb4",
   "metadata": {},
   "outputs": [
    {
     "name": "stdout",
     "output_type": "stream",
     "text": [
      "{'head': {'vars': ['applicableUnit']}, 'results': {'bindings': [{'applicableUnit': {'type': 'uri', 'value': 'http://qudt.org/vocab/unit/CFU'}}]}}\n"
     ]
    }
   ],
   "source": [
    "sparql.setQuery(\"\"\"\n",
    "    PREFIX qudt: <http://qudt.org/schema/qudt/>\n",
    "    PREFIX rdf: <http://www.w3.org/1999/02/22-rdf-syntax-ns#>\n",
    "\n",
    "    SELECT ?applicableUnit\n",
    "    WHERE {\n",
    "      <http://qudt.org/vocab/quantitykind/MicrobialFormation> qudt:applicableUnit ?applicableUnit.\n",
    "    } \n",
    "    LIMIT 999\n",
    "\"\"\")\n",
    "sparql.setReturnFormat(JSON)\n",
    "results = sparql.query().convert()\n",
    "print(results)"
   ]
  },
  {
   "cell_type": "code",
   "execution_count": 9,
   "id": "c4554719-e513-4562-9e4a-3308617af899",
   "metadata": {},
   "outputs": [
    {
     "name": "stdout",
     "output_type": "stream",
     "text": [
      "{'head': {'vars': ['conversionMultiplier']}, 'results': {'bindings': [{'conversionMultiplier': {'type': 'literal', 'datatype': 'http://www.w3.org/2001/XMLSchema#decimal', 'value': '4184.0'}}]}}\n"
     ]
    }
   ],
   "source": [
    "sparql.setQuery(\"\"\"\n",
    "    PREFIX qudt: <http://qudt.org/schema/qudt/>\n",
    "    PREFIX rdf: <http://www.w3.org/1999/02/22-rdf-syntax-ns#>\n",
    "\n",
    "    SELECT ?conversionMultiplier\n",
    "    WHERE {\n",
    "      <http://qudt.org/vocab/unit/KiloCAL> qudt:conversionMultiplier ?conversionMultiplier.\n",
    "    } \n",
    "    LIMIT 999\n",
    "\"\"\")\n",
    "sparql.setReturnFormat(JSON)\n",
    "results = sparql.query().convert()\n",
    "print(results)"
   ]
  },
  {
   "cell_type": "code",
   "execution_count": null,
   "id": "489e2803-1ecc-4a09-b424-4e4062b41c70",
   "metadata": {},
   "outputs": [],
   "source": []
  }
 ],
 "metadata": {
  "kernelspec": {
   "display_name": "Python 3",
   "language": "python",
   "name": "python3"
  },
  "language_info": {
   "codemirror_mode": {
    "name": "ipython",
    "version": 3
   },
   "file_extension": ".py",
   "mimetype": "text/x-python",
   "name": "python",
   "nbconvert_exporter": "python",
   "pygments_lexer": "ipython3",
   "version": "3.8.8"
  }
 },
 "nbformat": 4,
 "nbformat_minor": 5
}
