{
 "cells": [
  {
   "cell_type": "markdown",
   "id": "8a9e8c18-c039-4596-b7ab-b7ebdd7c0fd6",
   "metadata": {
    "tags": []
   },
   "source": [
    "# Idea\n",
    "---\n",
    "1. [x] Quantity definitions:\n",
    "    1. [x] Query all quantities\n",
    "    2. [x] Query all applicable units of each quantity\n",
    "    3. [x] Query all conversionMultipliers of each unit to determine the base unit  \n",
    "        \n",
    "2. [] Quantity hierarchy:\n",
    "    1. [x] use attribute skos:broader => points to super-quantity (only available for some quantites) \n",
    "    2. [] cluster quantities according to hasDimensionVector: one or multiple cluster members may be super-quantities, need manual analysis\n",
    "   \n",
    "Overview: http://www.qudt.org/doc/DOC_VOCAB-QUANTITY-KINDS.html  \n",
    "Sparql-Endpoint: http://www.qudt.org/fuseki/dataset.html?tab=query&ds=/qudt \n",
    "***"
   ]
  },
  {
   "cell_type": "markdown",
   "id": "14bd1f70-6ee1-4094-9b29-e66e6dd541f6",
   "metadata": {
    "tags": []
   },
   "source": [
    "## 1. Quantity definitions"
   ]
  },
  {
   "cell_type": "markdown",
   "id": "f4d4845f-57c1-4d89-88e0-e2383017929e",
   "metadata": {
    "tags": []
   },
   "source": [
    "### A. Query all quantities"
   ]
  },
  {
   "cell_type": "code",
   "execution_count": null,
   "id": "775bfced-c97f-48b3-bde8-42ea0053a2bc",
   "metadata": {
    "tags": []
   },
   "outputs": [],
   "source": [
    "from SPARQLWrapper import SPARQLWrapper, POST, BASIC, JSON\n",
    "\n",
    "sparql = SPARQLWrapper(\"http://www.qudt.org/fuseki/qudt/sparql\")\n",
    "sparql.setMethod(POST)\n",
    "\n",
    "sparql.setQuery(\"\"\"\n",
    "    PREFIX qudt: <http://qudt.org/schema/qudt/>\n",
    "    PREFIX rdf: <http://www.w3.org/1999/02/22-rdf-syntax-ns#>\n",
    "\n",
    "    SELECT ?subject\n",
    "    WHERE {\n",
    "      ?subject  rdf:type qudt:QuantityKind.\n",
    "    } \n",
    "    LIMIT 999\n",
    "\"\"\")\n",
    "sparql.setReturnFormat(JSON)\n",
    "#print(sparql.query())\n",
    "quantityKind = sparql.query().convert()\n",
    "\n"
   ]
  },
  {
   "cell_type": "markdown",
   "id": "db9ef778-8f86-4186-9f13-f2042df90457",
   "metadata": {
    "tags": []
   },
   "source": [
    "***show data results***"
   ]
  },
  {
   "cell_type": "code",
   "execution_count": null,
   "id": "7a004fdf-bbfe-49bc-8a16-ed54c76ec70a",
   "metadata": {
    "tags": []
   },
   "outputs": [],
   "source": [
    "for uri in quantityKind[\"results\"][\"bindings\"]:\n",
    "    print(uri)"
   ]
  },
  {
   "cell_type": "code",
   "execution_count": null,
   "id": "e2940293-c24a-4ded-8c5b-5656336ad0f0",
   "metadata": {
    "tags": []
   },
   "outputs": [],
   "source": [
    "a=0\n",
    "\n",
    "for uri in quantityKind[\"results\"][\"bindings\"]:\n",
    "    #print(uri[\"subject\"][\"value\"])\n",
    "    a=a+1\n",
    "\n",
    "print(a)"
   ]
  },
  {
   "cell_type": "markdown",
   "id": "8e2849fd-a75d-4164-9885-fcb8395cc4b3",
   "metadata": {},
   "source": [
    "***init nested dictionary, set URI of quantities as KEY & empty dictionary as value***"
   ]
  },
  {
   "cell_type": "code",
   "execution_count": null,
   "id": "c9401082-9630-49de-a55a-1c7f70868ce0",
   "metadata": {
    "jupyter": {
     "source_hidden": true
    },
    "tags": []
   },
   "outputs": [],
   "source": [
    "# initializing dictionary\n",
    "QuantityDictionary = {}\n",
    "\n",
    "for uri in quantityKind[\"results\"][\"bindings\"]:\n",
    "    QuantityDictionary[uri[\"subject\"][\"value\"]] = {}\n",
    "\n",
    "# print whole dictionary \n",
    "print(QuantityDictionary)\n",
    "#for quantity in QuantityDictionary:\n",
    "#    print(quantity)\n",
    "\n",
    "# Getting first key in dictionary\n",
    "key1 = list(QuantityDictionary.keys())[0]\n",
    "\n",
    "# printing initial key\n",
    "print(\"The first key of dictionary is : \" + key1)\n",
    "\n",
    "res2 = list(QuantityDictionary.keys())[1]\n",
    "\n",
    "# printing initial key\n",
    "print(\"The 2nd key of dictionary is : \" + res2)\n"
   ]
  },
  {
   "cell_type": "code",
   "execution_count": null,
   "id": "4b4e926f-b41b-4d88-bac5-a2e14408b06f",
   "metadata": {
    "jupyter": {
     "source_hidden": true
    },
    "tags": []
   },
   "outputs": [],
   "source": [
    "# update main dictionary with input\n",
    "QuantityDictionary2 = {}\n",
    "\n",
    "for uri in quantityKind[\"results\"][\"bindings\"]:\n",
    "    QuantityDictionary2[uri[\"subject\"][\"value\"]] = {}\n",
    "\n",
    "TestDict = {'val1','val2'}\n",
    "TestDict2 = {'val3','val4'}\n",
    "print(key1)\n",
    "QuantityDictionary2.update({key1: TestDict})\n",
    "#print(QuantityDictionary2)\n",
    "\n",
    "for upd in QuantityDictionary2:\n",
    "    #print(upd)\n",
    "    QuantityDictionary2.update({upd: TestDict})\n",
    "#car.update({\"color\": \"White\"})\n",
    "#print(car) \n",
    "#print(QuantityDictionary2)\n",
    "print(QuantityDictionary2.items())"
   ]
  },
  {
   "cell_type": "markdown",
   "id": "5fe61563-1dc8-4f1a-baa8-823d3e416023",
   "metadata": {},
   "source": [
    "### B. Query all applicable units of each quantity"
   ]
  },
  {
   "cell_type": "markdown",
   "id": "b0df0e8a-42ed-4557-b84c-8d7ce5ba30d6",
   "metadata": {
    "tags": []
   },
   "source": [
    "***show applicalbe units of one quantity***"
   ]
  },
  {
   "cell_type": "code",
   "execution_count": null,
   "id": "3633472b-5349-4e1a-ae51-23f56a7eebb4",
   "metadata": {
    "tags": []
   },
   "outputs": [],
   "source": [
    "sparql.setQuery(\"\"\"\n",
    "    PREFIX qudt: <http://qudt.org/schema/qudt/>\n",
    "    PREFIX rdf: <http://www.w3.org/1999/02/22-rdf-syntax-ns#>\n",
    "\n",
    "    SELECT ?applicableUnit\n",
    "    WHERE {\n",
    "      <http://qudt.org/vocab/quantitykind/Time> qudt:applicableUnit ?applicableUnit.\n",
    "    } \n",
    "    LIMIT 999\n",
    "\"\"\")\n",
    "sparql.setReturnFormat(JSON)\n",
    "applicableUnitTest = sparql.query().convert()\n",
    "print(applicableUnitTest)"
   ]
  },
  {
   "cell_type": "code",
   "execution_count": null,
   "id": "fe24c416-ac18-4562-9ca4-21d7de9df026",
   "metadata": {
    "tags": []
   },
   "outputs": [],
   "source": [
    "#print(results)\n",
    "b=0\n",
    "\n",
    "for uri in applicableUnitTest[\"results\"][\"bindings\"]:\n",
    "    print(uri[\"applicableUnit\"][\"value\"])\n",
    "    b=b+1\n",
    "    \n"
   ]
  },
  {
   "cell_type": "code",
   "execution_count": null,
   "id": "d310403b-96ed-4ff3-9001-096995f47c47",
   "metadata": {
    "tags": []
   },
   "outputs": [],
   "source": [
    "# Anzahl applicableUnit's\n",
    "print(b)"
   ]
  },
  {
   "cell_type": "markdown",
   "id": "ea51698f-4b36-45c1-b0fb-c28756ce6295",
   "metadata": {
    "tags": []
   },
   "source": [
    "***example f string format for individual uri query***"
   ]
  },
  {
   "cell_type": "code",
   "execution_count": null,
   "id": "b60a7940-eec0-4414-a035-2e246a963e56",
   "metadata": {
    "tags": []
   },
   "outputs": [],
   "source": [
    "# test 1: build query to compare right format\n",
    "testURI1 =\"\"\"\n",
    "    PREFIX qudt: <http://qudt.org/schema/qudt/>\n",
    "    PREFIX rdf: <http://www.w3.org/1999/02/22-rdf-syntax-ns#>\n",
    "\n",
    "    SELECT ?applicableUnit\n",
    "    WHERE {\n",
    "      <http://qudt.org/vocab/quantitykind/MicrobialFormation> qudt:applicableUnit ?applicableUnit.\n",
    "    } \n",
    "    LIMIT 999\n",
    "\"\"\"\n",
    "test1 = testURI1\n",
    "print(test1)\n",
    "\n",
    "# test 2:  getting the query string via uri variable from dictionary\n",
    "testURI2 = str(list(QuantityDictionary.keys())[0])\n",
    "s = f\"\"\"\n",
    "    PREFIX qudt: <http://qudt.org/schema/qudt/>\n",
    "    PREFIX rdf: <http://www.w3.org/1999/02/22-rdf-syntax-ns#>\n",
    "\n",
    "    SELECT ?applicableUnit\n",
    "    WHERE {{\n",
    "      <{testURI2}> qudt:applicableUnit ?applicableUnit.\n",
    "    }} \n",
    "    LIMIT 999\n",
    "\"\"\"\n",
    "test2 = f'{s}'\n",
    "print(test2)\n",
    "\n",
    "# compare result\n",
    "if test1==test2:\n",
    "    print('f string build successfully')\n",
    "else: \n",
    "    print('error')\n",
    "    "
   ]
  },
  {
   "cell_type": "markdown",
   "id": "06fc7d61-0c36-481a-b682-71b04b5e737b",
   "metadata": {},
   "source": [
    "***define function to query of individual applicableUnit depending on its URI by f string & build dictionary***"
   ]
  },
  {
   "cell_type": "code",
   "execution_count": null,
   "id": "601bff4d-7194-42a9-8c36-b080291331d9",
   "metadata": {
    "jupyter": {
     "source_hidden": true
    },
    "tags": []
   },
   "outputs": [],
   "source": [
    "quantitiyURI = 'http://qudt.org/vocab/quantitykind/Time'\n",
    "\n",
    "sparql.setQuery(f\"\"\"\n",
    "    PREFIX qudt: <http://qudt.org/schema/qudt/>\n",
    "    PREFIX rdf: <http://www.w3.org/1999/02/22-rdf-syntax-ns#>\n",
    "\n",
    "    SELECT ?applicableUnit\n",
    "    WHERE {{\n",
    "      <{quantitiyURI}> qudt:applicableUnit ?applicableUnit.\n",
    "    }} \n",
    "    LIMIT 999\n",
    "\"\"\")\n",
    "sparql.setReturnFormat(JSON)\n",
    "applicableUnits = sparql.query().convert()\n",
    "print(applicableUnits)"
   ]
  },
  {
   "cell_type": "code",
   "execution_count": null,
   "id": "f7f85b55-3302-4192-9a09-6bc369b83a29",
   "metadata": {
    "tags": []
   },
   "outputs": [],
   "source": [
    "def GetApplicableUnits(quantitiyURI):\n",
    "    sparql.setQuery(f\"\"\"\n",
    "        PREFIX qudt: <http://qudt.org/schema/qudt/>\n",
    "        PREFIX rdf: <http://www.w3.org/1999/02/22-rdf-syntax-ns#>\n",
    "\n",
    "        SELECT ?applicableUnit\n",
    "        WHERE {{\n",
    "          <{quantitiyURI}> qudt:applicableUnit ?applicableUnit.\n",
    "        }} \n",
    "        LIMIT 999\n",
    "    \"\"\")\n",
    "    sparql.setReturnFormat(JSON)\n",
    "    applicableUnitsRaw = sparql.query().convert()\n",
    "\n",
    "    ApplicableUnitsDictionary = {}\n",
    "    for unit in applicableUnitsRaw[\"results\"][\"bindings\"]:\n",
    "        ApplicableUnitsDictionary[unit[\"applicableUnit\"][\"value\"]] = {}\n",
    "\n",
    "    return ApplicableUnitsDictionary\n",
    "    \n"
   ]
  },
  {
   "cell_type": "markdown",
   "id": "83f58272-bbdc-4a62-ac14-87f329a6bbf0",
   "metadata": {},
   "source": [
    "***define function to query of individual applicableUnit depending on its URI by f string & build list***"
   ]
  },
  {
   "cell_type": "code",
   "execution_count": null,
   "id": "d04613af-64a2-4d41-84ee-ff7bbf3d8dd4",
   "metadata": {},
   "outputs": [],
   "source": [
    "def GetApplicableUnitsList(quantitiyURI):\n",
    "    sparql.setQuery(f\"\"\"\n",
    "        PREFIX qudt: <http://qudt.org/schema/qudt/>\n",
    "        PREFIX rdf: <http://www.w3.org/1999/02/22-rdf-syntax-ns#>\n",
    "\n",
    "        SELECT ?applicableUnit\n",
    "        WHERE {{\n",
    "          <{quantitiyURI}> qudt:applicableUnit ?applicableUnit.\n",
    "        }} \n",
    "        LIMIT 999\n",
    "    \"\"\")\n",
    "    sparql.setReturnFormat(JSON)\n",
    "    applicableUnitsRaw = sparql.query().convert()\n",
    "    #print(applicableUnits)\n",
    "    ApplicableUnitsList = []\n",
    "    for unit in applicableUnitsRaw[\"results\"][\"bindings\"]:\n",
    "        ApplicableUnitsList.append([unit[\"applicableUnit\"][\"value\"]])\n",
    "        #print(ApplicableUnitsDictionary)\n",
    "    return ApplicableUnitsList"
   ]
  },
  {
   "cell_type": "markdown",
   "id": "48b2fccf-fe30-4be2-a190-6c20c336f77e",
   "metadata": {},
   "source": [
    "***update QuantityDictionary***"
   ]
  },
  {
   "cell_type": "code",
   "execution_count": null,
   "id": "2b3f7748-8cda-4676-b3d4-5de1e5a47ca0",
   "metadata": {},
   "outputs": [],
   "source": [
    "# fill with applicable units TAKES A FEW MINUTES\n",
    "for key in QuantityDictionary:\n",
    "    QuantityDictionary.update({key: GetApplicableUnits(key)})"
   ]
  },
  {
   "cell_type": "code",
   "execution_count": null,
   "id": "c20d15f3-9a04-42d2-bbae-fc892b4ab2d7",
   "metadata": {
    "tags": []
   },
   "outputs": [],
   "source": [
    "#print(QuantityDictionary)\n",
    "#print(list(QuantityDictionary.values())[6].values())\n",
    "#print(list(QuantityDictionary.values())[6].keys())"
   ]
  },
  {
   "cell_type": "code",
   "execution_count": null,
   "id": "00913e4e-c38a-4e6d-a19c-d333c48c1963",
   "metadata": {},
   "outputs": [],
   "source": [
    "# test do update another key value instance\n",
    "for key in QuantityDictionary:\n",
    "    QuantityDictionary.update({key: 'description'})\n",
    "    \n"
   ]
  },
  {
   "cell_type": "code",
   "execution_count": null,
   "id": "60f2f1e0-5c26-41f8-979e-78b0adb93b85",
   "metadata": {
    "tags": []
   },
   "outputs": [],
   "source": [
    "print(QuantityDictionary)"
   ]
  },
  {
   "cell_type": "markdown",
   "id": "f2c8b696-9873-4096-bcfc-1029ee5e874d",
   "metadata": {},
   "source": [
    "## Überlegungen Dictionary Aufbau"
   ]
  },
  {
   "cell_type": "code",
   "execution_count": null,
   "id": "97df89b8-4e6f-4edd-96ab-697a21846baa",
   "metadata": {},
   "outputs": [],
   "source": [
    "\n",
    "Quantity1 = {\n",
    "    'quantityKind': [\n",
    "        {'URI': 'http://qudt.org/vocab/quantitykind/Time', 'quantityName': 'Time', 'isSiUnit': True}\n",
    "    ],\n",
    "    'applicableUnits': [\n",
    "        {'URI': 'http://qudt.org/vocab/unit/SEC', 'unitName': 'second', 'conversionMultiplier': 1, 'isBaseUnit': True},\n",
    "        {'URI': 'http://qudt.org/vocab/unit/MilliPA-SEC-PER-BAR', 'unitName': 'second', 'conversionMultiplier': 1, 'baseUnit': False}\n",
    "    ]\n",
    "} \n",
    "print(Quantity1.keys()) \n",
    "    \n",
    "Quantity2 = {\n",
    "    'quantityKind': {'URI': 'http://qudt.org/vocab/quantitykind/Time', 'quantityName': 'Time', 'isSiUnit': True}\n",
    "    ,\n",
    "    'applicableUnits': [\n",
    "        {'URI': 'http://qudt.org/vocab/unit/SEC', 'unitName': 'second', 'conversionMultiplier': 1, 'isBaseUnit': True},\n",
    "        {'URI': 'http://qudt.org/vocab/unit/MilliPA-SEC-PER-BAR', 'unitName': 'second', 'conversionMultiplier': 1, 'baseUnit': False}\n",
    "    ]\n",
    "} \n",
    "print(Quantity2.keys()) \n",
    "Quantities = {\n",
    "    'Quantity1': Quantity1,\n",
    "    'Quantity2': Quantity2\n",
    "}\n",
    "#print(Quantity1.keys())\n",
    "#print(Quantity1.values())\n",
    "print(Quantities.values())"
   ]
  },
  {
   "cell_type": "code",
   "execution_count": null,
   "id": "c2acf6f0-81d1-48e7-b08a-5a97b155ff0b",
   "metadata": {},
   "outputs": [],
   "source": [
    "# option 1: array of nested objects\n",
    "DictionaryArray = []\n",
    "QuantityInArray = {\n",
    "    'quantityKind': {'URI': 'http://qudt.org/vocab/quantitykind/Time', 'quantityName': 'Time', 'isSiUnit': True},\n",
    "    'applicableUnits': [\n",
    "        {'URI': 'http://qudt.org/vocab/unit/SEC', 'unitName': 'second', 'conversionMultiplier': 1, 'isBaseUnit': True},\n",
    "        {'URI': 'http://qudt.org/vocab/unit/MilliPA-SEC-PER-BAR', 'unitName': 'second', 'conversionMultiplier': 1, 'baseUnit': False}\n",
    "    ]\n",
    "} \n",
    "# --> fill array with quantities"
   ]
  },
  {
   "cell_type": "code",
   "execution_count": null,
   "id": "7dd2bb7a-a54b-457c-9fa4-cd6068d6b3e0",
   "metadata": {},
   "outputs": [],
   "source": [
    "# option 2: nestet object of nested objects with unit array of objects\n",
    "QuantitiesDict = {\n",
    "    'quantityKind': { \n",
    "        'ontology_iri': 'http://qudt.org/vocab/quantitykind/Mass',\n",
    "        'description': 'In physics, mass, more specifically inertial mass, can be defined as a quantitative measure of an objects resistance to acceleration',\n",
    "        'main_unit': 'kg',\n",
    "        'isSiUnit': True,\n",
    "        'applicableUnits': [\n",
    "            {'ontology_iri': 'http://qudt.org/vocab/unit/GM', 'unit': 'g', 'factor': 1000, 'isBaseUnit': False},\n",
    "            {'ontology_iri': 'http://qudt.org/vocab/unit/MilliGM', 'unit': 'mg', 'factor': 0.001, 'isBaseUnit': False},\n",
    "        ]\n",
    "    }\n",
    "}\n"
   ]
  },
  {
   "cell_type": "markdown",
   "id": "3a3b341f-0d24-46b0-99ed-fe228f02cd2d",
   "metadata": {},
   "source": [
    "***show data results of one query***"
   ]
  },
  {
   "cell_type": "code",
   "execution_count": null,
   "id": "ed7391b5-fd46-425f-a7f0-2feff0e53d29",
   "metadata": {
    "tags": []
   },
   "outputs": [],
   "source": [
    "for uri in quantityKind[\"results\"][\"bindings\"]:\n",
    "    print(uri[\"subject\"][\"value\"])"
   ]
  },
  {
   "cell_type": "code",
   "execution_count": null,
   "id": "75463a34-623d-4354-a0c0-c91da3688021",
   "metadata": {
    "tags": []
   },
   "outputs": [],
   "source": [
    "b=0\n",
    "\n",
    "for unit in applicableUnits[\"results\"][\"bindings\"]:\n",
    "    print(unit[\"applicableUnit\"][\"value\"])\n",
    "    b=b+1\n"
   ]
  },
  {
   "cell_type": "markdown",
   "id": "c74c121f-e8a8-4428-b75f-70d0761c6dd3",
   "metadata": {},
   "source": [
    "***store unit data of one quantity into class***"
   ]
  },
  {
   "cell_type": "markdown",
   "id": "4ef4b30e-03e4-4d32-aeb0-fb05eb68af39",
   "metadata": {},
   "source": [
    "## C. Query all conversionMultipliers of each unit to determine the base unit"
   ]
  },
  {
   "cell_type": "code",
   "execution_count": null,
   "id": "c4554719-e513-4562-9e4a-3308617af899",
   "metadata": {},
   "outputs": [],
   "source": [
    "sparql.setQuery(\"\"\"\n",
    "    PREFIX qudt: <http://qudt.org/schema/qudt/>\n",
    "    PREFIX rdf: <http://www.w3.org/1999/02/22-rdf-syntax-ns#>\n",
    "\n",
    "    SELECT ?conversionMultiplier ?ucumCode\n",
    "    WHERE {\n",
    "        <http://qudt.org/vocab/unit/MilliPA-SEC-PER-BAR> qudt:conversionMultiplier ?conversionMultiplier.\n",
    "        <http://qudt.org/vocab/unit/MilliPA-SEC-PER-BAR> qudt:ucumCode ?ucumCode.\n",
    "    } \n",
    "    LIMIT 999\n",
    "\"\"\")\n",
    "sparql.setReturnFormat(JSON)\n",
    "quantityKind = sparql.query().convert()\n",
    "#print(sparql.query())\n",
    "print(quantityKind)"
   ]
  },
  {
   "cell_type": "code",
   "execution_count": null,
   "id": "489e2803-1ecc-4a09-b424-4e4062b41c70",
   "metadata": {},
   "outputs": [],
   "source": []
  }
 ],
 "metadata": {
  "kernelspec": {
   "display_name": "Python 3",
   "language": "python",
   "name": "python3"
  },
  "language_info": {
   "codemirror_mode": {
    "name": "ipython",
    "version": 3
   },
   "file_extension": ".py",
   "mimetype": "text/x-python",
   "name": "python",
   "nbconvert_exporter": "python",
   "pygments_lexer": "ipython3",
   "version": "3.8.8"
  }
 },
 "nbformat": 4,
 "nbformat_minor": 5
}
