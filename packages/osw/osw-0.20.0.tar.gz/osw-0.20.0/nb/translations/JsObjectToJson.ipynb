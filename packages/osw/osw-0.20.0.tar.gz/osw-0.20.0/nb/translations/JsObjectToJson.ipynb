{
 "cells": [
  {
   "cell_type": "code",
   "execution_count": 5,
   "id": "f6f4c1e1-1847-4a7c-b38c-2bb9b5d996b2",
   "metadata": {},
   "outputs": [],
   "source": [
    "\n",
    "//import en from './targets/luckysheet/en';\n",
    "var lang = 'en'\n",
    "var fs = require('fs')\n",
    "require('./targets/luckysheet/' + lang + '.js');\n",
    "//console.log(JSON.stringify(en.functionlist[0], null, 4))\n",
    "fs.writeFile('./targets/luckysheet/' + lang + '.json', JSON.stringify(en, null, 4), err => {if (err) {console.error(err); return;}});"
   ]
  },
  {
   "cell_type": "code",
   "execution_count": null,
   "id": "97af4c6f-332c-473a-b787-fdb16736a78a",
   "metadata": {},
   "outputs": [],
   "source": []
  }
 ],
 "metadata": {
  "kernelspec": {
   "display_name": "Javascript (Node.js)",
   "language": "javascript",
   "name": "javascript"
  },
  "language_info": {
   "file_extension": ".js",
   "mimetype": "application/javascript",
   "name": "javascript",
   "version": "12.4.0"
  }
 },
 "nbformat": 4,
 "nbformat_minor": 5
}
