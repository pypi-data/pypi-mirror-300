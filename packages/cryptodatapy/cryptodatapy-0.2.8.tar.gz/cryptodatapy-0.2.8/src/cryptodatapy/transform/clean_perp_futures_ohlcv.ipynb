{
 "cells": [
  {
   "cell_type": "code",
   "execution_count": 1,
   "id": "9fea9fae",
   "metadata": {},
   "outputs": [
    {
     "name": "stderr",
     "output_type": "stream",
     "text": [
      "fatal: bad revision 'HEAD'\n",
      "Importing plotly failed. Interactive plots will not work.\n"
     ]
    }
   ],
   "source": [
    "import pandas as pd\n",
    "import numpy as np\n",
    "\n",
    "from cryptodatapy.extract.datarequest import DataRequest\n",
    "from cryptodatapy.extract.getdata import GetData\n",
    "from cryptodatapy.transform.od import OutlierDetection\n",
    "from cryptodatapy.transform.impute import Impute\n",
    "from cryptodatapy.transform.filter import Filter\n",
    "from cryptodatapy.transform.clean import CleanData, stitch_dataframes\n",
    "from cryptodatapy.transform.impute import Impute"
   ]
  },
  {
   "cell_type": "code",
   "execution_count": 2,
   "id": "3cbdeffc",
   "metadata": {},
   "outputs": [],
   "source": [
    "# get all Binance perp futures tickers\n",
    "data_req = DataRequest(source='ccxt')\n",
    "perp_tickers = GetData(data_req).get_meta(method='get_markets_info', exch='binanceusdm', as_list=True)"
   ]
  },
  {
   "cell_type": "code",
   "execution_count": 3,
   "id": "3d084cf7",
   "metadata": {},
   "outputs": [
    {
     "data": {
      "text/plain": [
       "341"
      ]
     },
     "execution_count": 3,
     "metadata": {},
     "output_type": "execute_result"
    }
   ],
   "source": [
    "len(perp_tickers)"
   ]
  },
  {
   "cell_type": "code",
   "execution_count": 4,
   "id": "27b6ed3c",
   "metadata": {},
   "outputs": [
    {
     "data": {
      "text/plain": [
       "['BTC/USDT:USDT',\n",
       " 'ETH/USDT:USDT',\n",
       " 'BCH/USDT:USDT',\n",
       " 'XRP/USDT:USDT',\n",
       " 'EOS/USDT:USDT',\n",
       " 'LTC/USDT:USDT',\n",
       " 'TRX/USDT:USDT',\n",
       " 'ETC/USDT:USDT',\n",
       " 'LINK/USDT:USDT',\n",
       " 'XLM/USDT:USDT',\n",
       " 'ADA/USDT:USDT',\n",
       " 'XMR/USDT:USDT',\n",
       " 'DASH/USDT:USDT',\n",
       " 'ZEC/USDT:USDT',\n",
       " 'XTZ/USDT:USDT',\n",
       " 'BNB/USDT:USDT',\n",
       " 'ATOM/USDT:USDT',\n",
       " 'ONT/USDT:USDT',\n",
       " 'IOTA/USDT:USDT',\n",
       " 'BAT/USDT:USDT',\n",
       " 'VET/USDT:USDT',\n",
       " 'NEO/USDT:USDT',\n",
       " 'QTUM/USDT:USDT',\n",
       " 'IOST/USDT:USDT',\n",
       " 'THETA/USDT:USDT',\n",
       " 'ALGO/USDT:USDT',\n",
       " 'ZIL/USDT:USDT',\n",
       " 'KNC/USDT:USDT',\n",
       " 'ZRX/USDT:USDT',\n",
       " 'COMP/USDT:USDT',\n",
       " 'OMG/USDT:USDT',\n",
       " 'DOGE/USDT:USDT',\n",
       " 'SXP/USDT:USDT',\n",
       " 'KAVA/USDT:USDT',\n",
       " 'BAND/USDT:USDT',\n",
       " 'RLC/USDT:USDT',\n",
       " 'WAVES/USDT:USDT',\n",
       " 'MKR/USDT:USDT',\n",
       " 'SNX/USDT:USDT',\n",
       " 'DOT/USDT:USDT',\n",
       " 'DEFI/USDT:USDT',\n",
       " 'YFI/USDT:USDT',\n",
       " 'BAL/USDT:USDT',\n",
       " 'CRV/USDT:USDT',\n",
       " 'TRB/USDT:USDT',\n",
       " 'RUNE/USDT:USDT',\n",
       " 'SUSHI/USDT:USDT',\n",
       " 'EGLD/USDT:USDT',\n",
       " 'SOL/USDT:USDT',\n",
       " 'ICX/USDT:USDT',\n",
       " 'STORJ/USDT:USDT',\n",
       " 'BLZ/USDT:USDT',\n",
       " 'UNI/USDT:USDT',\n",
       " 'AVAX/USDT:USDT',\n",
       " 'FTM/USDT:USDT',\n",
       " 'ENJ/USDT:USDT',\n",
       " 'FLM/USDT:USDT',\n",
       " 'REN/USDT:USDT',\n",
       " 'KSM/USDT:USDT',\n",
       " 'NEAR/USDT:USDT',\n",
       " 'AAVE/USDT:USDT',\n",
       " 'FIL/USDT:USDT',\n",
       " 'RSR/USDT:USDT',\n",
       " 'LRC/USDT:USDT',\n",
       " 'OCEAN/USDT:USDT',\n",
       " 'CVC/USDT:USDT',\n",
       " 'BEL/USDT:USDT',\n",
       " 'CTK/USDT:USDT',\n",
       " 'AXS/USDT:USDT',\n",
       " 'ALPHA/USDT:USDT',\n",
       " 'ZEN/USDT:USDT',\n",
       " 'SKL/USDT:USDT',\n",
       " 'GRT/USDT:USDT',\n",
       " '1INCH/USDT:USDT',\n",
       " 'CHZ/USDT:USDT',\n",
       " 'SAND/USDT:USDT',\n",
       " 'ANKR/USDT:USDT',\n",
       " 'LIT/USDT:USDT',\n",
       " 'UNFI/USDT:USDT',\n",
       " 'REEF/USDT:USDT',\n",
       " 'RVN/USDT:USDT',\n",
       " 'SFP/USDT:USDT',\n",
       " 'XEM/USDT:USDT',\n",
       " 'BTCST/USDT:USDT',\n",
       " 'COTI/USDT:USDT',\n",
       " 'CHR/USDT:USDT',\n",
       " 'MANA/USDT:USDT',\n",
       " 'ALICE/USDT:USDT',\n",
       " 'HBAR/USDT:USDT',\n",
       " 'ONE/USDT:USDT',\n",
       " 'LINA/USDT:USDT',\n",
       " 'STMX/USDT:USDT',\n",
       " 'DENT/USDT:USDT',\n",
       " 'CELR/USDT:USDT',\n",
       " 'HOT/USDT:USDT',\n",
       " 'MTL/USDT:USDT',\n",
       " 'OGN/USDT:USDT',\n",
       " 'NKN/USDT:USDT',\n",
       " 'SC/USDT:USDT',\n",
       " 'DGB/USDT:USDT',\n",
       " '1000SHIB/USDT:USDT',\n",
       " 'BAKE/USDT:USDT',\n",
       " 'GTC/USDT:USDT',\n",
       " 'BTCDOM/USDT:USDT',\n",
       " 'IOTX/USDT:USDT',\n",
       " 'RAY/USDT:USDT',\n",
       " 'C98/USDT:USDT',\n",
       " 'MASK/USDT:USDT',\n",
       " 'ATA/USDT:USDT',\n",
       " 'DYDX/USDT:USDT',\n",
       " '1000XEC/USDT:USDT',\n",
       " 'GALA/USDT:USDT',\n",
       " 'CELO/USDT:USDT',\n",
       " 'AR/USDT:USDT',\n",
       " 'KLAY/USDT:USDT',\n",
       " 'ARPA/USDT:USDT',\n",
       " 'CTSI/USDT:USDT',\n",
       " 'LPT/USDT:USDT',\n",
       " 'ENS/USDT:USDT',\n",
       " 'PEOPLE/USDT:USDT',\n",
       " 'ROSE/USDT:USDT',\n",
       " 'DUSK/USDT:USDT',\n",
       " 'FLOW/USDT:USDT',\n",
       " 'IMX/USDT:USDT',\n",
       " 'API3/USDT:USDT',\n",
       " 'GMT/USDT:USDT',\n",
       " 'APE/USDT:USDT',\n",
       " 'WOO/USDT:USDT',\n",
       " 'FTT/USDT:USDT',\n",
       " 'JASMY/USDT:USDT',\n",
       " 'DAR/USDT:USDT',\n",
       " 'OP/USDT:USDT',\n",
       " 'INJ/USDT:USDT',\n",
       " 'STG/USDT:USDT',\n",
       " 'SPELL/USDT:USDT',\n",
       " '1000LUNC/USDT:USDT',\n",
       " 'LUNA2/USDT:USDT',\n",
       " 'LDO/USDT:USDT',\n",
       " 'CVX/USDT:USDT',\n",
       " 'ICP/USDT:USDT',\n",
       " 'APT/USDT:USDT',\n",
       " 'QNT/USDT:USDT',\n",
       " 'FET/USDT:USDT',\n",
       " 'FXS/USDT:USDT',\n",
       " 'HOOK/USDT:USDT',\n",
       " 'MAGIC/USDT:USDT',\n",
       " 'T/USDT:USDT',\n",
       " 'HIGH/USDT:USDT',\n",
       " 'MINA/USDT:USDT',\n",
       " 'ASTR/USDT:USDT',\n",
       " 'AGIX/USDT:USDT',\n",
       " 'PHB/USDT:USDT',\n",
       " 'GMX/USDT:USDT',\n",
       " 'CFX/USDT:USDT',\n",
       " 'STX/USDT:USDT',\n",
       " 'BNX/USDT:USDT',\n",
       " 'ACH/USDT:USDT',\n",
       " 'SSV/USDT:USDT',\n",
       " 'CKB/USDT:USDT',\n",
       " 'PERP/USDT:USDT',\n",
       " 'TRU/USDT:USDT',\n",
       " 'LQTY/USDT:USDT',\n",
       " 'USDC/USDT:USDT',\n",
       " 'ID/USDT:USDT',\n",
       " 'ARB/USDT:USDT',\n",
       " 'JOE/USDT:USDT',\n",
       " 'TLM/USDT:USDT',\n",
       " 'AMB/USDT:USDT',\n",
       " 'LEVER/USDT:USDT',\n",
       " 'RDNT/USDT:USDT',\n",
       " 'HFT/USDT:USDT',\n",
       " 'XVS/USDT:USDT',\n",
       " 'ETH/BTC:BTC',\n",
       " 'BLUR/USDT:USDT',\n",
       " 'EDU/USDT:USDT',\n",
       " 'IDEX/USDT:USDT',\n",
       " 'SUI/USDT:USDT',\n",
       " '1000PEPE/USDT:USDT',\n",
       " '1000FLOKI/USDT:USDT',\n",
       " 'UMA/USDT:USDT',\n",
       " 'RAD/USDT:USDT',\n",
       " 'KEY/USDT:USDT',\n",
       " 'COMBO/USDT:USDT',\n",
       " 'NMR/USDT:USDT',\n",
       " 'MAV/USDT:USDT',\n",
       " 'MDT/USDT:USDT',\n",
       " 'XVG/USDT:USDT',\n",
       " 'WLD/USDT:USDT',\n",
       " 'PENDLE/USDT:USDT',\n",
       " 'ARKM/USDT:USDT',\n",
       " 'AGLD/USDT:USDT',\n",
       " 'YGG/USDT:USDT',\n",
       " 'DODOX/USDT:USDT',\n",
       " 'BNT/USDT:USDT',\n",
       " 'OXT/USDT:USDT',\n",
       " 'SEI/USDT:USDT',\n",
       " 'CYBER/USDT:USDT',\n",
       " 'HIFI/USDT:USDT',\n",
       " 'ARK/USDT:USDT',\n",
       " 'GLMR/USDT:USDT',\n",
       " 'BICO/USDT:USDT',\n",
       " 'STRAX/USDT:USDT',\n",
       " 'LOOM/USDT:USDT',\n",
       " 'BIGTIME/USDT:USDT',\n",
       " 'BOND/USDT:USDT',\n",
       " 'ORBS/USDT:USDT',\n",
       " 'STPT/USDT:USDT',\n",
       " 'WAXP/USDT:USDT',\n",
       " 'BSV/USDT:USDT',\n",
       " 'RIF/USDT:USDT',\n",
       " 'POLYX/USDT:USDT',\n",
       " 'GAS/USDT:USDT',\n",
       " 'POWR/USDT:USDT',\n",
       " 'SLP/USDT:USDT',\n",
       " 'TIA/USDT:USDT',\n",
       " 'SNT/USDT:USDT',\n",
       " 'CAKE/USDT:USDT',\n",
       " 'MEME/USDT:USDT',\n",
       " 'TWT/USDT:USDT',\n",
       " 'TOKEN/USDT:USDT',\n",
       " 'ORDI/USDT:USDT',\n",
       " 'STEEM/USDT:USDT',\n",
       " 'BADGER/USDT:USDT',\n",
       " 'ILV/USDT:USDT',\n",
       " 'NTRN/USDT:USDT',\n",
       " 'KAS/USDT:USDT',\n",
       " 'BEAMX/USDT:USDT',\n",
       " '1000BONK/USDT:USDT',\n",
       " 'PYTH/USDT:USDT',\n",
       " 'SUPER/USDT:USDT',\n",
       " 'USTC/USDT:USDT',\n",
       " 'ONG/USDT:USDT',\n",
       " 'ETHW/USDT:USDT',\n",
       " 'JTO/USDT:USDT',\n",
       " '1000SATS/USDT:USDT',\n",
       " 'AUCTION/USDT:USDT',\n",
       " '1000RATS/USDT:USDT',\n",
       " 'ACE/USDT:USDT',\n",
       " 'MOVR/USDT:USDT',\n",
       " 'NFP/USDT:USDT',\n",
       " 'BTC/USDC:USDC',\n",
       " 'ETH/USDC:USDC',\n",
       " 'BNB/USDC:USDC',\n",
       " 'SOL/USDC:USDC',\n",
       " 'XRP/USDC:USDC',\n",
       " 'AI/USDT:USDT',\n",
       " 'XAI/USDT:USDT',\n",
       " 'DOGE/USDC:USDC',\n",
       " 'WIF/USDT:USDT',\n",
       " 'MANTA/USDT:USDT',\n",
       " 'ONDO/USDT:USDT',\n",
       " 'LSK/USDT:USDT',\n",
       " 'ALT/USDT:USDT',\n",
       " 'JUP/USDT:USDT',\n",
       " 'ZETA/USDT:USDT',\n",
       " 'RONIN/USDT:USDT',\n",
       " 'DYM/USDT:USDT',\n",
       " 'SUI/USDC:USDC',\n",
       " 'OM/USDT:USDT',\n",
       " 'LINK/USDC:USDC',\n",
       " 'PIXEL/USDT:USDT',\n",
       " 'STRK/USDT:USDT',\n",
       " 'MAVIA/USDT:USDT',\n",
       " 'ORDI/USDC:USDC',\n",
       " 'GLM/USDT:USDT',\n",
       " 'PORTAL/USDT:USDT',\n",
       " 'TON/USDT:USDT',\n",
       " 'AXL/USDT:USDT',\n",
       " 'MYRO/USDT:USDT',\n",
       " '1000PEPE/USDC:USDC',\n",
       " 'METIS/USDT:USDT',\n",
       " 'AEVO/USDT:USDT',\n",
       " 'WLD/USDC:USDC',\n",
       " 'VANRY/USDT:USDT',\n",
       " 'BOME/USDT:USDT',\n",
       " 'ETHFI/USDT:USDT',\n",
       " 'AVAX/USDC:USDC',\n",
       " '1000SHIB/USDC:USDC',\n",
       " 'BTC/USDT:USDT-240927',\n",
       " 'ETH/USDT:USDT-240927',\n",
       " 'ENA/USDT:USDT',\n",
       " 'W/USDT:USDT',\n",
       " 'WIF/USDC:USDC',\n",
       " 'BCH/USDC:USDC',\n",
       " 'TNSR/USDT:USDT',\n",
       " 'SAGA/USDT:USDT',\n",
       " 'LTC/USDC:USDC',\n",
       " 'NEAR/USDC:USDC',\n",
       " 'TAO/USDT:USDT',\n",
       " 'OMNI/USDT:USDT',\n",
       " 'ARB/USDC:USDC',\n",
       " 'NEO/USDC:USDC',\n",
       " 'FIL/USDC:USDC',\n",
       " 'TIA/USDC:USDC',\n",
       " 'BOME/USDC:USDC',\n",
       " 'REZ/USDT:USDT',\n",
       " 'ENA/USDC:USDC',\n",
       " 'ETHFI/USDC:USDC',\n",
       " '1000BONK/USDC:USDC',\n",
       " 'BB/USDT:USDT',\n",
       " 'NOT/USDT:USDT',\n",
       " 'TURBO/USDT:USDT',\n",
       " 'IO/USDT:USDT',\n",
       " 'ZK/USDT:USDT',\n",
       " 'MEW/USDT:USDT',\n",
       " 'LISTA/USDT:USDT',\n",
       " 'ZRO/USDT:USDT',\n",
       " 'BTC/USDT:USDT-241227',\n",
       " 'ETH/USDT:USDT-241227',\n",
       " 'CRV/USDC:USDC',\n",
       " 'RENDER/USDT:USDT',\n",
       " 'BANANA/USDT:USDT',\n",
       " 'RARE/USDT:USDT',\n",
       " 'G/USDT:USDT',\n",
       " 'SYN/USDT:USDT',\n",
       " 'SYS/USDT:USDT',\n",
       " 'VOXEL/USDT:USDT',\n",
       " 'BRETT/USDT:USDT',\n",
       " 'ALPACA/USDT:USDT',\n",
       " 'POPCAT/USDT:USDT',\n",
       " 'SUN/USDT:USDT',\n",
       " 'VIDT/USDT:USDT',\n",
       " 'NULS/USDT:USDT',\n",
       " 'DOGS/USDT:USDT',\n",
       " 'MBOX/USDT:USDT',\n",
       " 'CHESS/USDT:USDT',\n",
       " 'FLUX/USDT:USDT',\n",
       " 'BSW/USDT:USDT',\n",
       " 'QUICK/USDT:USDT',\n",
       " 'NEIROETH/USDT:USDT',\n",
       " 'RPL/USDT:USDT',\n",
       " 'AERGO/USDT:USDT',\n",
       " 'POL/USDT:USDT',\n",
       " 'UXLINK/USDT:USDT',\n",
       " '1MBABYDOGE/USDT:USDT',\n",
       " 'NEIRO/USDT:USDT',\n",
       " 'KDA/USDT:USDT',\n",
       " 'FIDA/USDT:USDT',\n",
       " 'FIO/USDT:USDT',\n",
       " 'CATI/USDT:USDT',\n",
       " 'GHST/USDT:USDT']"
      ]
     },
     "execution_count": 4,
     "metadata": {},
     "output_type": "execute_result"
    }
   ],
   "source": [
    "perp_tickers"
   ]
  },
  {
   "cell_type": "code",
   "execution_count": 5,
   "id": "5e796745",
   "metadata": {},
   "outputs": [
    {
     "data": {
      "text/plain": [
       "True"
      ]
     },
     "execution_count": 5,
     "metadata": {},
     "output_type": "execute_result"
    }
   ],
   "source": [
    "'BTCST/USDT:USDT' in perp_tickers"
   ]
  },
  {
   "cell_type": "code",
   "execution_count": 6,
   "id": "fcb74458",
   "metadata": {},
   "outputs": [],
   "source": [
    "# get Binance spot tickers\n",
    "data_req = DataRequest(source='ccxt')\n",
    "spot_tickers = GetData(data_req).get_meta(method='get_markets_info', exch='binance', as_list=True)"
   ]
  },
  {
   "cell_type": "code",
   "execution_count": 7,
   "id": "85c99716",
   "metadata": {},
   "outputs": [
    {
     "data": {
      "text/plain": [
       "3147"
      ]
     },
     "execution_count": 7,
     "metadata": {},
     "output_type": "execute_result"
    }
   ],
   "source": [
    "len(spot_tickers)"
   ]
  },
  {
   "cell_type": "code",
   "execution_count": 8,
   "id": "4b86fa0d",
   "metadata": {},
   "outputs": [
    {
     "data": {
      "text/plain": [
       "True"
      ]
     },
     "execution_count": 8,
     "metadata": {},
     "output_type": "execute_result"
    }
   ],
   "source": [
    "'BTCST/USDT:USDT' in spot_tickers"
   ]
  },
  {
   "cell_type": "code",
   "execution_count": 9,
   "id": "7962f7e5",
   "metadata": {},
   "outputs": [],
   "source": [
    "# find intersecting tickers\n",
    "binance_tickers = [ticker for ticker in perp_tickers if ticker in spot_tickers]"
   ]
  },
  {
   "cell_type": "code",
   "execution_count": 10,
   "id": "877811c1",
   "metadata": {},
   "outputs": [
    {
     "data": {
      "text/plain": [
       "341"
      ]
     },
     "execution_count": 10,
     "metadata": {},
     "output_type": "execute_result"
    }
   ],
   "source": [
    "# number of tickers\n",
    "len(binance_tickers)"
   ]
  },
  {
   "cell_type": "code",
   "execution_count": 11,
   "id": "ef415480-a980-47a1-8ad7-7555603ebcf3",
   "metadata": {},
   "outputs": [
    {
     "data": {
      "text/plain": [
       "['BTC/USDT:USDT',\n",
       " 'ETH/USDT:USDT',\n",
       " 'BCH/USDT:USDT',\n",
       " 'XRP/USDT:USDT',\n",
       " 'EOS/USDT:USDT',\n",
       " 'LTC/USDT:USDT',\n",
       " 'TRX/USDT:USDT',\n",
       " 'ETC/USDT:USDT',\n",
       " 'LINK/USDT:USDT',\n",
       " 'XLM/USDT:USDT',\n",
       " 'ADA/USDT:USDT',\n",
       " 'XMR/USDT:USDT',\n",
       " 'DASH/USDT:USDT',\n",
       " 'ZEC/USDT:USDT',\n",
       " 'XTZ/USDT:USDT',\n",
       " 'BNB/USDT:USDT',\n",
       " 'ATOM/USDT:USDT',\n",
       " 'ONT/USDT:USDT',\n",
       " 'IOTA/USDT:USDT',\n",
       " 'BAT/USDT:USDT',\n",
       " 'VET/USDT:USDT',\n",
       " 'NEO/USDT:USDT',\n",
       " 'QTUM/USDT:USDT',\n",
       " 'IOST/USDT:USDT',\n",
       " 'THETA/USDT:USDT',\n",
       " 'ALGO/USDT:USDT',\n",
       " 'ZIL/USDT:USDT',\n",
       " 'KNC/USDT:USDT',\n",
       " 'ZRX/USDT:USDT',\n",
       " 'COMP/USDT:USDT',\n",
       " 'OMG/USDT:USDT',\n",
       " 'DOGE/USDT:USDT',\n",
       " 'SXP/USDT:USDT',\n",
       " 'KAVA/USDT:USDT',\n",
       " 'BAND/USDT:USDT',\n",
       " 'RLC/USDT:USDT',\n",
       " 'WAVES/USDT:USDT',\n",
       " 'MKR/USDT:USDT',\n",
       " 'SNX/USDT:USDT',\n",
       " 'DOT/USDT:USDT',\n",
       " 'DEFI/USDT:USDT',\n",
       " 'YFI/USDT:USDT',\n",
       " 'BAL/USDT:USDT',\n",
       " 'CRV/USDT:USDT',\n",
       " 'TRB/USDT:USDT',\n",
       " 'RUNE/USDT:USDT',\n",
       " 'SUSHI/USDT:USDT',\n",
       " 'EGLD/USDT:USDT',\n",
       " 'SOL/USDT:USDT',\n",
       " 'ICX/USDT:USDT',\n",
       " 'STORJ/USDT:USDT',\n",
       " 'BLZ/USDT:USDT',\n",
       " 'UNI/USDT:USDT',\n",
       " 'AVAX/USDT:USDT',\n",
       " 'FTM/USDT:USDT',\n",
       " 'ENJ/USDT:USDT',\n",
       " 'FLM/USDT:USDT',\n",
       " 'REN/USDT:USDT',\n",
       " 'KSM/USDT:USDT',\n",
       " 'NEAR/USDT:USDT',\n",
       " 'AAVE/USDT:USDT',\n",
       " 'FIL/USDT:USDT',\n",
       " 'RSR/USDT:USDT',\n",
       " 'LRC/USDT:USDT',\n",
       " 'OCEAN/USDT:USDT',\n",
       " 'CVC/USDT:USDT',\n",
       " 'BEL/USDT:USDT',\n",
       " 'CTK/USDT:USDT',\n",
       " 'AXS/USDT:USDT',\n",
       " 'ALPHA/USDT:USDT',\n",
       " 'ZEN/USDT:USDT',\n",
       " 'SKL/USDT:USDT',\n",
       " 'GRT/USDT:USDT',\n",
       " '1INCH/USDT:USDT',\n",
       " 'CHZ/USDT:USDT',\n",
       " 'SAND/USDT:USDT',\n",
       " 'ANKR/USDT:USDT',\n",
       " 'LIT/USDT:USDT',\n",
       " 'UNFI/USDT:USDT',\n",
       " 'REEF/USDT:USDT',\n",
       " 'RVN/USDT:USDT',\n",
       " 'SFP/USDT:USDT',\n",
       " 'XEM/USDT:USDT',\n",
       " 'BTCST/USDT:USDT',\n",
       " 'COTI/USDT:USDT',\n",
       " 'CHR/USDT:USDT',\n",
       " 'MANA/USDT:USDT',\n",
       " 'ALICE/USDT:USDT',\n",
       " 'HBAR/USDT:USDT',\n",
       " 'ONE/USDT:USDT',\n",
       " 'LINA/USDT:USDT',\n",
       " 'STMX/USDT:USDT',\n",
       " 'DENT/USDT:USDT',\n",
       " 'CELR/USDT:USDT',\n",
       " 'HOT/USDT:USDT',\n",
       " 'MTL/USDT:USDT',\n",
       " 'OGN/USDT:USDT',\n",
       " 'NKN/USDT:USDT',\n",
       " 'SC/USDT:USDT',\n",
       " 'DGB/USDT:USDT',\n",
       " '1000SHIB/USDT:USDT',\n",
       " 'BAKE/USDT:USDT',\n",
       " 'GTC/USDT:USDT',\n",
       " 'BTCDOM/USDT:USDT',\n",
       " 'IOTX/USDT:USDT',\n",
       " 'RAY/USDT:USDT',\n",
       " 'C98/USDT:USDT',\n",
       " 'MASK/USDT:USDT',\n",
       " 'ATA/USDT:USDT',\n",
       " 'DYDX/USDT:USDT',\n",
       " '1000XEC/USDT:USDT',\n",
       " 'GALA/USDT:USDT',\n",
       " 'CELO/USDT:USDT',\n",
       " 'AR/USDT:USDT',\n",
       " 'KLAY/USDT:USDT',\n",
       " 'ARPA/USDT:USDT',\n",
       " 'CTSI/USDT:USDT',\n",
       " 'LPT/USDT:USDT',\n",
       " 'ENS/USDT:USDT',\n",
       " 'PEOPLE/USDT:USDT',\n",
       " 'ROSE/USDT:USDT',\n",
       " 'DUSK/USDT:USDT',\n",
       " 'FLOW/USDT:USDT',\n",
       " 'IMX/USDT:USDT',\n",
       " 'API3/USDT:USDT',\n",
       " 'GMT/USDT:USDT',\n",
       " 'APE/USDT:USDT',\n",
       " 'WOO/USDT:USDT',\n",
       " 'FTT/USDT:USDT',\n",
       " 'JASMY/USDT:USDT',\n",
       " 'DAR/USDT:USDT',\n",
       " 'OP/USDT:USDT',\n",
       " 'INJ/USDT:USDT',\n",
       " 'STG/USDT:USDT',\n",
       " 'SPELL/USDT:USDT',\n",
       " '1000LUNC/USDT:USDT',\n",
       " 'LUNA2/USDT:USDT',\n",
       " 'LDO/USDT:USDT',\n",
       " 'CVX/USDT:USDT',\n",
       " 'ICP/USDT:USDT',\n",
       " 'APT/USDT:USDT',\n",
       " 'QNT/USDT:USDT',\n",
       " 'FET/USDT:USDT',\n",
       " 'FXS/USDT:USDT',\n",
       " 'HOOK/USDT:USDT',\n",
       " 'MAGIC/USDT:USDT',\n",
       " 'T/USDT:USDT',\n",
       " 'HIGH/USDT:USDT',\n",
       " 'MINA/USDT:USDT',\n",
       " 'ASTR/USDT:USDT',\n",
       " 'AGIX/USDT:USDT',\n",
       " 'PHB/USDT:USDT',\n",
       " 'GMX/USDT:USDT',\n",
       " 'CFX/USDT:USDT',\n",
       " 'STX/USDT:USDT',\n",
       " 'BNX/USDT:USDT',\n",
       " 'ACH/USDT:USDT',\n",
       " 'SSV/USDT:USDT',\n",
       " 'CKB/USDT:USDT',\n",
       " 'PERP/USDT:USDT',\n",
       " 'TRU/USDT:USDT',\n",
       " 'LQTY/USDT:USDT',\n",
       " 'USDC/USDT:USDT',\n",
       " 'ID/USDT:USDT',\n",
       " 'ARB/USDT:USDT',\n",
       " 'JOE/USDT:USDT',\n",
       " 'TLM/USDT:USDT',\n",
       " 'AMB/USDT:USDT',\n",
       " 'LEVER/USDT:USDT',\n",
       " 'RDNT/USDT:USDT',\n",
       " 'HFT/USDT:USDT',\n",
       " 'XVS/USDT:USDT',\n",
       " 'ETH/BTC:BTC',\n",
       " 'BLUR/USDT:USDT',\n",
       " 'EDU/USDT:USDT',\n",
       " 'IDEX/USDT:USDT',\n",
       " 'SUI/USDT:USDT',\n",
       " '1000PEPE/USDT:USDT',\n",
       " '1000FLOKI/USDT:USDT',\n",
       " 'UMA/USDT:USDT',\n",
       " 'RAD/USDT:USDT',\n",
       " 'KEY/USDT:USDT',\n",
       " 'COMBO/USDT:USDT',\n",
       " 'NMR/USDT:USDT',\n",
       " 'MAV/USDT:USDT',\n",
       " 'MDT/USDT:USDT',\n",
       " 'XVG/USDT:USDT',\n",
       " 'WLD/USDT:USDT',\n",
       " 'PENDLE/USDT:USDT',\n",
       " 'ARKM/USDT:USDT',\n",
       " 'AGLD/USDT:USDT',\n",
       " 'YGG/USDT:USDT',\n",
       " 'DODOX/USDT:USDT',\n",
       " 'BNT/USDT:USDT',\n",
       " 'OXT/USDT:USDT',\n",
       " 'SEI/USDT:USDT',\n",
       " 'CYBER/USDT:USDT',\n",
       " 'HIFI/USDT:USDT',\n",
       " 'ARK/USDT:USDT',\n",
       " 'GLMR/USDT:USDT',\n",
       " 'BICO/USDT:USDT',\n",
       " 'STRAX/USDT:USDT',\n",
       " 'LOOM/USDT:USDT',\n",
       " 'BIGTIME/USDT:USDT',\n",
       " 'BOND/USDT:USDT',\n",
       " 'ORBS/USDT:USDT',\n",
       " 'STPT/USDT:USDT',\n",
       " 'WAXP/USDT:USDT',\n",
       " 'BSV/USDT:USDT',\n",
       " 'RIF/USDT:USDT',\n",
       " 'POLYX/USDT:USDT',\n",
       " 'GAS/USDT:USDT',\n",
       " 'POWR/USDT:USDT',\n",
       " 'SLP/USDT:USDT',\n",
       " 'TIA/USDT:USDT',\n",
       " 'SNT/USDT:USDT',\n",
       " 'CAKE/USDT:USDT',\n",
       " 'MEME/USDT:USDT',\n",
       " 'TWT/USDT:USDT',\n",
       " 'TOKEN/USDT:USDT',\n",
       " 'ORDI/USDT:USDT',\n",
       " 'STEEM/USDT:USDT',\n",
       " 'BADGER/USDT:USDT',\n",
       " 'ILV/USDT:USDT',\n",
       " 'NTRN/USDT:USDT',\n",
       " 'KAS/USDT:USDT',\n",
       " 'BEAMX/USDT:USDT',\n",
       " '1000BONK/USDT:USDT',\n",
       " 'PYTH/USDT:USDT',\n",
       " 'SUPER/USDT:USDT',\n",
       " 'USTC/USDT:USDT',\n",
       " 'ONG/USDT:USDT',\n",
       " 'ETHW/USDT:USDT',\n",
       " 'JTO/USDT:USDT',\n",
       " '1000SATS/USDT:USDT',\n",
       " 'AUCTION/USDT:USDT',\n",
       " '1000RATS/USDT:USDT',\n",
       " 'ACE/USDT:USDT',\n",
       " 'MOVR/USDT:USDT',\n",
       " 'NFP/USDT:USDT',\n",
       " 'BTC/USDC:USDC',\n",
       " 'ETH/USDC:USDC',\n",
       " 'BNB/USDC:USDC',\n",
       " 'SOL/USDC:USDC',\n",
       " 'XRP/USDC:USDC',\n",
       " 'AI/USDT:USDT',\n",
       " 'XAI/USDT:USDT',\n",
       " 'DOGE/USDC:USDC',\n",
       " 'WIF/USDT:USDT',\n",
       " 'MANTA/USDT:USDT',\n",
       " 'ONDO/USDT:USDT',\n",
       " 'LSK/USDT:USDT',\n",
       " 'ALT/USDT:USDT',\n",
       " 'JUP/USDT:USDT',\n",
       " 'ZETA/USDT:USDT',\n",
       " 'RONIN/USDT:USDT',\n",
       " 'DYM/USDT:USDT',\n",
       " 'SUI/USDC:USDC',\n",
       " 'OM/USDT:USDT',\n",
       " 'LINK/USDC:USDC',\n",
       " 'PIXEL/USDT:USDT',\n",
       " 'STRK/USDT:USDT',\n",
       " 'MAVIA/USDT:USDT',\n",
       " 'ORDI/USDC:USDC',\n",
       " 'GLM/USDT:USDT',\n",
       " 'PORTAL/USDT:USDT',\n",
       " 'TON/USDT:USDT',\n",
       " 'AXL/USDT:USDT',\n",
       " 'MYRO/USDT:USDT',\n",
       " '1000PEPE/USDC:USDC',\n",
       " 'METIS/USDT:USDT',\n",
       " 'AEVO/USDT:USDT',\n",
       " 'WLD/USDC:USDC',\n",
       " 'VANRY/USDT:USDT',\n",
       " 'BOME/USDT:USDT',\n",
       " 'ETHFI/USDT:USDT',\n",
       " 'AVAX/USDC:USDC',\n",
       " '1000SHIB/USDC:USDC',\n",
       " 'BTC/USDT:USDT-240927',\n",
       " 'ETH/USDT:USDT-240927',\n",
       " 'ENA/USDT:USDT',\n",
       " 'W/USDT:USDT',\n",
       " 'WIF/USDC:USDC',\n",
       " 'BCH/USDC:USDC',\n",
       " 'TNSR/USDT:USDT',\n",
       " 'SAGA/USDT:USDT',\n",
       " 'LTC/USDC:USDC',\n",
       " 'NEAR/USDC:USDC',\n",
       " 'TAO/USDT:USDT',\n",
       " 'OMNI/USDT:USDT',\n",
       " 'ARB/USDC:USDC',\n",
       " 'NEO/USDC:USDC',\n",
       " 'FIL/USDC:USDC',\n",
       " 'TIA/USDC:USDC',\n",
       " 'BOME/USDC:USDC',\n",
       " 'REZ/USDT:USDT',\n",
       " 'ENA/USDC:USDC',\n",
       " 'ETHFI/USDC:USDC',\n",
       " '1000BONK/USDC:USDC',\n",
       " 'BB/USDT:USDT',\n",
       " 'NOT/USDT:USDT',\n",
       " 'TURBO/USDT:USDT',\n",
       " 'IO/USDT:USDT',\n",
       " 'ZK/USDT:USDT',\n",
       " 'MEW/USDT:USDT',\n",
       " 'LISTA/USDT:USDT',\n",
       " 'ZRO/USDT:USDT',\n",
       " 'BTC/USDT:USDT-241227',\n",
       " 'ETH/USDT:USDT-241227',\n",
       " 'CRV/USDC:USDC',\n",
       " 'RENDER/USDT:USDT',\n",
       " 'BANANA/USDT:USDT',\n",
       " 'RARE/USDT:USDT',\n",
       " 'G/USDT:USDT',\n",
       " 'SYN/USDT:USDT',\n",
       " 'SYS/USDT:USDT',\n",
       " 'VOXEL/USDT:USDT',\n",
       " 'BRETT/USDT:USDT',\n",
       " 'ALPACA/USDT:USDT',\n",
       " 'POPCAT/USDT:USDT',\n",
       " 'SUN/USDT:USDT',\n",
       " 'VIDT/USDT:USDT',\n",
       " 'NULS/USDT:USDT',\n",
       " 'DOGS/USDT:USDT',\n",
       " 'MBOX/USDT:USDT',\n",
       " 'CHESS/USDT:USDT',\n",
       " 'FLUX/USDT:USDT',\n",
       " 'BSW/USDT:USDT',\n",
       " 'QUICK/USDT:USDT',\n",
       " 'NEIROETH/USDT:USDT',\n",
       " 'RPL/USDT:USDT',\n",
       " 'AERGO/USDT:USDT',\n",
       " 'POL/USDT:USDT',\n",
       " 'UXLINK/USDT:USDT',\n",
       " '1MBABYDOGE/USDT:USDT',\n",
       " 'NEIRO/USDT:USDT',\n",
       " 'KDA/USDT:USDT',\n",
       " 'FIDA/USDT:USDT',\n",
       " 'FIO/USDT:USDT',\n",
       " 'CATI/USDT:USDT',\n",
       " 'GHST/USDT:USDT']"
      ]
     },
     "execution_count": 11,
     "metadata": {},
     "output_type": "execute_result"
    }
   ],
   "source": [
    "binance_tickers"
   ]
  },
  {
   "cell_type": "code",
   "execution_count": 12,
   "id": "4ef7a85b",
   "metadata": {},
   "outputs": [
    {
     "data": {
      "text/plain": [
       "True"
      ]
     },
     "execution_count": 12,
     "metadata": {},
     "output_type": "execute_result"
    }
   ],
   "source": [
    "'BTCST/USDT:USDT' in binance_tickers"
   ]
  },
  {
   "cell_type": "code",
   "execution_count": 13,
   "id": "fe425163",
   "metadata": {},
   "outputs": [],
   "source": [
    "## # get cryptocompare tickers\n",
    "data_req = DataRequest(source='cryptocompare')\n",
    "cc_tickers = GetData(data_req).get_meta(method='get_assets_info', as_list=True)"
   ]
  },
  {
   "cell_type": "code",
   "execution_count": 14,
   "id": "9c63cd43",
   "metadata": {},
   "outputs": [
    {
     "data": {
      "text/plain": [
       "True"
      ]
     },
     "execution_count": 14,
     "metadata": {},
     "output_type": "execute_result"
    }
   ],
   "source": [
    "'BTCST' in cc_tickers"
   ]
  },
  {
   "cell_type": "code",
   "execution_count": 15,
   "id": "165053db",
   "metadata": {},
   "outputs": [],
   "source": [
    "# keep only USDT ticker\n",
    "bin_tickers = []\n",
    "for ticker in binance_tickers:\n",
    "    if '/' in ticker and ticker.split('/')[1] == 'USDT:USDT':\n",
    "        bin_tickers.append(ticker.split('/')[0])"
   ]
  },
  {
   "cell_type": "code",
   "execution_count": 16,
   "id": "ea69d661",
   "metadata": {},
   "outputs": [
    {
     "data": {
      "text/plain": [
       "310"
      ]
     },
     "execution_count": 16,
     "metadata": {},
     "output_type": "execute_result"
    }
   ],
   "source": [
    "len(bin_tickers)"
   ]
  },
  {
   "cell_type": "code",
   "execution_count": 17,
   "id": "c93e487a",
   "metadata": {},
   "outputs": [
    {
     "data": {
      "text/plain": [
       "True"
      ]
     },
     "execution_count": 17,
     "metadata": {},
     "output_type": "execute_result"
    }
   ],
   "source": [
    "'BTCST' in bin_tickers"
   ]
  },
  {
   "cell_type": "code",
   "execution_count": 18,
   "id": "3c8ce79e",
   "metadata": {},
   "outputs": [
    {
     "data": {
      "text/plain": [
       "['BTC',\n",
       " 'ETH',\n",
       " 'BCH',\n",
       " 'XRP',\n",
       " 'EOS',\n",
       " 'LTC',\n",
       " 'TRX',\n",
       " 'ETC',\n",
       " 'LINK',\n",
       " 'XLM',\n",
       " 'ADA',\n",
       " 'XMR',\n",
       " 'DASH',\n",
       " 'ZEC',\n",
       " 'XTZ',\n",
       " 'BNB',\n",
       " 'ATOM',\n",
       " 'ONT',\n",
       " 'IOTA',\n",
       " 'BAT',\n",
       " 'VET',\n",
       " 'NEO',\n",
       " 'QTUM',\n",
       " 'IOST',\n",
       " 'THETA',\n",
       " 'ALGO',\n",
       " 'ZIL',\n",
       " 'KNC',\n",
       " 'ZRX',\n",
       " 'COMP',\n",
       " 'OMG',\n",
       " 'DOGE',\n",
       " 'SXP',\n",
       " 'KAVA',\n",
       " 'BAND',\n",
       " 'RLC',\n",
       " 'WAVES',\n",
       " 'MKR',\n",
       " 'SNX',\n",
       " 'DOT',\n",
       " 'DEFI',\n",
       " 'YFI',\n",
       " 'BAL',\n",
       " 'CRV',\n",
       " 'TRB',\n",
       " 'RUNE',\n",
       " 'SUSHI',\n",
       " 'EGLD',\n",
       " 'SOL',\n",
       " 'ICX',\n",
       " 'STORJ',\n",
       " 'BLZ',\n",
       " 'UNI',\n",
       " 'AVAX',\n",
       " 'FTM',\n",
       " 'ENJ',\n",
       " 'FLM',\n",
       " 'REN',\n",
       " 'KSM',\n",
       " 'NEAR',\n",
       " 'AAVE',\n",
       " 'FIL',\n",
       " 'RSR',\n",
       " 'LRC',\n",
       " 'OCEAN',\n",
       " 'CVC',\n",
       " 'BEL',\n",
       " 'CTK',\n",
       " 'AXS',\n",
       " 'ALPHA',\n",
       " 'ZEN',\n",
       " 'SKL',\n",
       " 'GRT',\n",
       " '1INCH',\n",
       " 'CHZ',\n",
       " 'SAND',\n",
       " 'ANKR',\n",
       " 'LIT',\n",
       " 'UNFI',\n",
       " 'REEF',\n",
       " 'RVN',\n",
       " 'SFP',\n",
       " 'XEM',\n",
       " 'BTCST',\n",
       " 'COTI',\n",
       " 'CHR',\n",
       " 'MANA',\n",
       " 'ALICE',\n",
       " 'HBAR',\n",
       " 'ONE',\n",
       " 'LINA',\n",
       " 'STMX',\n",
       " 'DENT',\n",
       " 'CELR',\n",
       " 'HOT',\n",
       " 'MTL',\n",
       " 'OGN',\n",
       " 'NKN',\n",
       " 'SC',\n",
       " 'DGB',\n",
       " '1000SHIB',\n",
       " 'BAKE',\n",
       " 'GTC',\n",
       " 'BTCDOM',\n",
       " 'IOTX',\n",
       " 'RAY',\n",
       " 'C98',\n",
       " 'MASK',\n",
       " 'ATA',\n",
       " 'DYDX',\n",
       " '1000XEC',\n",
       " 'GALA',\n",
       " 'CELO',\n",
       " 'AR',\n",
       " 'KLAY',\n",
       " 'ARPA',\n",
       " 'CTSI',\n",
       " 'LPT',\n",
       " 'ENS',\n",
       " 'PEOPLE',\n",
       " 'ROSE',\n",
       " 'DUSK',\n",
       " 'FLOW',\n",
       " 'IMX',\n",
       " 'API3',\n",
       " 'GMT',\n",
       " 'APE',\n",
       " 'WOO',\n",
       " 'FTT',\n",
       " 'JASMY',\n",
       " 'DAR',\n",
       " 'OP',\n",
       " 'INJ',\n",
       " 'STG',\n",
       " 'SPELL',\n",
       " '1000LUNC',\n",
       " 'LUNA2',\n",
       " 'LDO',\n",
       " 'CVX',\n",
       " 'ICP',\n",
       " 'APT',\n",
       " 'QNT',\n",
       " 'FET',\n",
       " 'FXS',\n",
       " 'HOOK',\n",
       " 'MAGIC',\n",
       " 'T',\n",
       " 'HIGH',\n",
       " 'MINA',\n",
       " 'ASTR',\n",
       " 'AGIX',\n",
       " 'PHB',\n",
       " 'GMX',\n",
       " 'CFX',\n",
       " 'STX',\n",
       " 'BNX',\n",
       " 'ACH',\n",
       " 'SSV',\n",
       " 'CKB',\n",
       " 'PERP',\n",
       " 'TRU',\n",
       " 'LQTY',\n",
       " 'USDC',\n",
       " 'ID',\n",
       " 'ARB',\n",
       " 'JOE',\n",
       " 'TLM',\n",
       " 'AMB',\n",
       " 'LEVER',\n",
       " 'RDNT',\n",
       " 'HFT',\n",
       " 'XVS',\n",
       " 'BLUR',\n",
       " 'EDU',\n",
       " 'IDEX',\n",
       " 'SUI',\n",
       " '1000PEPE',\n",
       " '1000FLOKI',\n",
       " 'UMA',\n",
       " 'RAD',\n",
       " 'KEY',\n",
       " 'COMBO',\n",
       " 'NMR',\n",
       " 'MAV',\n",
       " 'MDT',\n",
       " 'XVG',\n",
       " 'WLD',\n",
       " 'PENDLE',\n",
       " 'ARKM',\n",
       " 'AGLD',\n",
       " 'YGG',\n",
       " 'DODOX',\n",
       " 'BNT',\n",
       " 'OXT',\n",
       " 'SEI',\n",
       " 'CYBER',\n",
       " 'HIFI',\n",
       " 'ARK',\n",
       " 'GLMR',\n",
       " 'BICO',\n",
       " 'STRAX',\n",
       " 'LOOM',\n",
       " 'BIGTIME',\n",
       " 'BOND',\n",
       " 'ORBS',\n",
       " 'STPT',\n",
       " 'WAXP',\n",
       " 'BSV',\n",
       " 'RIF',\n",
       " 'POLYX',\n",
       " 'GAS',\n",
       " 'POWR',\n",
       " 'SLP',\n",
       " 'TIA',\n",
       " 'SNT',\n",
       " 'CAKE',\n",
       " 'MEME',\n",
       " 'TWT',\n",
       " 'TOKEN',\n",
       " 'ORDI',\n",
       " 'STEEM',\n",
       " 'BADGER',\n",
       " 'ILV',\n",
       " 'NTRN',\n",
       " 'KAS',\n",
       " 'BEAMX',\n",
       " '1000BONK',\n",
       " 'PYTH',\n",
       " 'SUPER',\n",
       " 'USTC',\n",
       " 'ONG',\n",
       " 'ETHW',\n",
       " 'JTO',\n",
       " '1000SATS',\n",
       " 'AUCTION',\n",
       " '1000RATS',\n",
       " 'ACE',\n",
       " 'MOVR',\n",
       " 'NFP',\n",
       " 'AI',\n",
       " 'XAI',\n",
       " 'WIF',\n",
       " 'MANTA',\n",
       " 'ONDO',\n",
       " 'LSK',\n",
       " 'ALT',\n",
       " 'JUP',\n",
       " 'ZETA',\n",
       " 'RONIN',\n",
       " 'DYM',\n",
       " 'OM',\n",
       " 'PIXEL',\n",
       " 'STRK',\n",
       " 'MAVIA',\n",
       " 'GLM',\n",
       " 'PORTAL',\n",
       " 'TON',\n",
       " 'AXL',\n",
       " 'MYRO',\n",
       " 'METIS',\n",
       " 'AEVO',\n",
       " 'VANRY',\n",
       " 'BOME',\n",
       " 'ETHFI',\n",
       " 'ENA',\n",
       " 'W',\n",
       " 'TNSR',\n",
       " 'SAGA',\n",
       " 'TAO',\n",
       " 'OMNI',\n",
       " 'REZ',\n",
       " 'BB',\n",
       " 'NOT',\n",
       " 'TURBO',\n",
       " 'IO',\n",
       " 'ZK',\n",
       " 'MEW',\n",
       " 'LISTA',\n",
       " 'ZRO',\n",
       " 'RENDER',\n",
       " 'BANANA',\n",
       " 'RARE',\n",
       " 'G',\n",
       " 'SYN',\n",
       " 'SYS',\n",
       " 'VOXEL',\n",
       " 'BRETT',\n",
       " 'ALPACA',\n",
       " 'POPCAT',\n",
       " 'SUN',\n",
       " 'VIDT',\n",
       " 'NULS',\n",
       " 'DOGS',\n",
       " 'MBOX',\n",
       " 'CHESS',\n",
       " 'FLUX',\n",
       " 'BSW',\n",
       " 'QUICK',\n",
       " 'NEIROETH',\n",
       " 'RPL',\n",
       " 'AERGO',\n",
       " 'POL',\n",
       " 'UXLINK',\n",
       " '1MBABYDOGE',\n",
       " 'NEIRO',\n",
       " 'KDA',\n",
       " 'FIDA',\n",
       " 'FIO',\n",
       " 'CATI',\n",
       " 'GHST']"
      ]
     },
     "execution_count": 18,
     "metadata": {},
     "output_type": "execute_result"
    }
   ],
   "source": [
    "bin_tickers"
   ]
  },
  {
   "cell_type": "code",
   "execution_count": 19,
   "id": "d6cf8a4c",
   "metadata": {},
   "outputs": [],
   "source": [
    "# usdt tickers\n",
    "usdt_tickers = [ticker.split('/')[0] for ticker in binance_tickers if '/'in ticker and ticker.split('/')[1] == 'USDT:USDT']"
   ]
  },
  {
   "cell_type": "code",
   "execution_count": 20,
   "id": "11ec0e6d",
   "metadata": {},
   "outputs": [
    {
     "data": {
      "text/plain": [
       "310"
      ]
     },
     "execution_count": 20,
     "metadata": {},
     "output_type": "execute_result"
    }
   ],
   "source": [
    "len(usdt_tickers)"
   ]
  },
  {
   "cell_type": "code",
   "execution_count": 21,
   "id": "633f7a3e",
   "metadata": {},
   "outputs": [],
   "source": [
    "# intersecting tickers\n",
    "tickers = [ticker for ticker in usdt_tickers if ticker in cc_tickers]"
   ]
  },
  {
   "cell_type": "code",
   "execution_count": 22,
   "id": "30337a71",
   "metadata": {},
   "outputs": [
    {
     "data": {
      "text/plain": [
       "297"
      ]
     },
     "execution_count": 22,
     "metadata": {},
     "output_type": "execute_result"
    }
   ],
   "source": [
    "len(tickers)"
   ]
  },
  {
   "cell_type": "code",
   "execution_count": 23,
   "id": "7bb3b25f",
   "metadata": {},
   "outputs": [
    {
     "data": {
      "text/plain": [
       "True"
      ]
     },
     "execution_count": 23,
     "metadata": {},
     "output_type": "execute_result"
    }
   ],
   "source": [
    "'USDC' in tickers"
   ]
  },
  {
   "cell_type": "code",
   "execution_count": 24,
   "id": "a8e7f96e-107c-4d13-bf2e-ad967e1cd498",
   "metadata": {},
   "outputs": [],
   "source": [
    "tickers.remove('USDC')"
   ]
  },
  {
   "cell_type": "code",
   "execution_count": 25,
   "id": "6fb552cc",
   "metadata": {},
   "outputs": [],
   "source": [
    "for tick in tickers:\n",
    "    if tick[:3] == 'USD':\n",
    "        print(tick)"
   ]
  },
  {
   "cell_type": "code",
   "execution_count": 26,
   "id": "4d353f30-2fb2-4e3f-ac8d-e74379622a7d",
   "metadata": {},
   "outputs": [
    {
     "data": {
      "text/plain": [
       "['BTC', 'ETH', 'BCH', 'XRP', 'EOS', 'LTC', 'TRX', 'ETC', 'LINK', 'XLM']"
      ]
     },
     "execution_count": 26,
     "metadata": {},
     "output_type": "execute_result"
    }
   ],
   "source": [
    "tickers[:10]"
   ]
  },
  {
   "cell_type": "markdown",
   "id": "f80eb97d",
   "metadata": {},
   "source": [
    "### Binance Perp Futures"
   ]
  },
  {
   "cell_type": "code",
   "execution_count": 54,
   "id": "49b09508",
   "metadata": {},
   "outputs": [],
   "source": [
    "# pull daily OHLC and funding rates for perp futures on Binance USDM exchange\n",
    "data_req = DataRequest(source='ccxt',\n",
    "                       start_date='2024-09-20',\n",
    "                       end_date='2024-09-21',\n",
    "                       tickers=['btc', 'eth', 'sol'],\n",
    "                       fields=['open', 'high', 'low', 'close', 'volume', 'funding_rate'], \n",
    "                       mkt_type='perpetual_future', \n",
    "                       freq='d')"
   ]
  },
  {
   "cell_type": "code",
   "execution_count": 55,
   "id": "6ac9365b",
   "metadata": {},
   "outputs": [
    {
     "name": "stderr",
     "output_type": "stream",
     "text": [
      "WARNING:root:Missing recent funding rate data for BTC/USDT:USDT.\n",
      "WARNING:root:Missing recent funding rate data for ETH/USDT:USDT.\n",
      "WARNING:root:Missing recent funding rate data for SOL/USDT:USDT.\n"
     ]
    }
   ],
   "source": [
    "df1 = GetData(data_req).get_series()"
   ]
  },
  {
   "cell_type": "code",
   "execution_count": 56,
   "id": "f76e0fc1-466c-4ab6-b1dc-d3f4c1fe0266",
   "metadata": {},
   "outputs": [
    {
     "data": {
      "text/html": [
       "<div>\n",
       "<style scoped>\n",
       "    .dataframe tbody tr th:only-of-type {\n",
       "        vertical-align: middle;\n",
       "    }\n",
       "\n",
       "    .dataframe tbody tr th {\n",
       "        vertical-align: top;\n",
       "    }\n",
       "\n",
       "    .dataframe thead th {\n",
       "        text-align: right;\n",
       "    }\n",
       "</style>\n",
       "<table border=\"1\" class=\"dataframe\">\n",
       "  <thead>\n",
       "    <tr style=\"text-align: right;\">\n",
       "      <th></th>\n",
       "      <th></th>\n",
       "      <th>open</th>\n",
       "      <th>high</th>\n",
       "      <th>low</th>\n",
       "      <th>close</th>\n",
       "      <th>volume</th>\n",
       "      <th>funding_rate</th>\n",
       "    </tr>\n",
       "    <tr>\n",
       "      <th>date</th>\n",
       "      <th>ticker</th>\n",
       "      <th></th>\n",
       "      <th></th>\n",
       "      <th></th>\n",
       "      <th></th>\n",
       "      <th></th>\n",
       "      <th></th>\n",
       "    </tr>\n",
       "  </thead>\n",
       "  <tbody>\n",
       "    <tr>\n",
       "      <th rowspan=\"3\" valign=\"top\">2024-09-20</th>\n",
       "      <th>BTC</th>\n",
       "      <td>62926.9</td>\n",
       "      <td>64126.7</td>\n",
       "      <td>62320.0</td>\n",
       "      <td>63175.7</td>\n",
       "      <td>257172.835</td>\n",
       "      <td>0.000186</td>\n",
       "    </tr>\n",
       "    <tr>\n",
       "      <th>ETH</th>\n",
       "      <td>2464.55</td>\n",
       "      <td>2572.18</td>\n",
       "      <td>2436.11</td>\n",
       "      <td>2560.29</td>\n",
       "      <td>3062258.119</td>\n",
       "      <td>0.000397</td>\n",
       "    </tr>\n",
       "    <tr>\n",
       "      <th>SOL</th>\n",
       "      <td>142.819</td>\n",
       "      <td>152.5</td>\n",
       "      <td>141.131</td>\n",
       "      <td>146.627</td>\n",
       "      <td>24866257.0</td>\n",
       "      <td>0.0004</td>\n",
       "    </tr>\n",
       "    <tr>\n",
       "      <th rowspan=\"3\" valign=\"top\">2024-09-21</th>\n",
       "      <th>BTC</th>\n",
       "      <td>63175.8</td>\n",
       "      <td>63546.9</td>\n",
       "      <td>62714.2</td>\n",
       "      <td>63320.6</td>\n",
       "      <td>78248.362</td>\n",
       "      <td>&lt;NA&gt;</td>\n",
       "    </tr>\n",
       "    <tr>\n",
       "      <th>ETH</th>\n",
       "      <td>2560.3</td>\n",
       "      <td>2623.85</td>\n",
       "      <td>2527.69</td>\n",
       "      <td>2611.4</td>\n",
       "      <td>1505216.371</td>\n",
       "      <td>&lt;NA&gt;</td>\n",
       "    </tr>\n",
       "    <tr>\n",
       "      <th>SOL</th>\n",
       "      <td>146.626</td>\n",
       "      <td>149.775</td>\n",
       "      <td>144.54</td>\n",
       "      <td>149.372</td>\n",
       "      <td>9408301.0</td>\n",
       "      <td>&lt;NA&gt;</td>\n",
       "    </tr>\n",
       "  </tbody>\n",
       "</table>\n",
       "</div>"
      ],
      "text/plain": [
       "                      open     high      low    close       volume  \\\n",
       "date       ticker                                                    \n",
       "2024-09-20 BTC     62926.9  64126.7  62320.0  63175.7   257172.835   \n",
       "           ETH     2464.55  2572.18  2436.11  2560.29  3062258.119   \n",
       "           SOL     142.819    152.5  141.131  146.627   24866257.0   \n",
       "2024-09-21 BTC     63175.8  63546.9  62714.2  63320.6    78248.362   \n",
       "           ETH      2560.3  2623.85  2527.69   2611.4  1505216.371   \n",
       "           SOL     146.626  149.775   144.54  149.372    9408301.0   \n",
       "\n",
       "                   funding_rate  \n",
       "date       ticker                \n",
       "2024-09-20 BTC         0.000186  \n",
       "           ETH         0.000397  \n",
       "           SOL           0.0004  \n",
       "2024-09-21 BTC             <NA>  \n",
       "           ETH             <NA>  \n",
       "           SOL             <NA>  "
      ]
     },
     "execution_count": 56,
     "metadata": {},
     "output_type": "execute_result"
    }
   ],
   "source": [
    "df1"
   ]
  },
  {
   "cell_type": "code",
   "execution_count": null,
   "id": "afea6653-5a1c-40fc-93f3-b6dbfc8314a8",
   "metadata": {},
   "outputs": [],
   "source": []
  },
  {
   "cell_type": "code",
   "execution_count": null,
   "id": "3fd4e919-8ade-4ead-995a-0217a2bedff3",
   "metadata": {},
   "outputs": [],
   "source": []
  },
  {
   "cell_type": "code",
   "execution_count": null,
   "id": "81efee63-3c0e-4d30-8573-b80b6019b014",
   "metadata": {},
   "outputs": [],
   "source": []
  },
  {
   "cell_type": "code",
   "execution_count": null,
   "id": "f736db5a-f9a4-4de8-ac1e-692005f19623",
   "metadata": {},
   "outputs": [],
   "source": []
  },
  {
   "cell_type": "code",
   "execution_count": null,
   "id": "dbb49934-8a6c-4b28-9b9b-66e31752948c",
   "metadata": {},
   "outputs": [],
   "source": []
  },
  {
   "cell_type": "code",
   "execution_count": 29,
   "id": "98a425b2",
   "metadata": {},
   "outputs": [],
   "source": [
    "# # df1.to_csv('binance_perp_futures.csv')\n",
    "# df1 = pd.read_csv('../../../../factorlab/notebooks/binance_perp_futures.csv', index_col=['date', 'ticker'], parse_dates=['date'])"
   ]
  },
  {
   "cell_type": "code",
   "execution_count": 30,
   "id": "0e04da4a",
   "metadata": {},
   "outputs": [
    {
     "data": {
      "text/html": [
       "<div>\n",
       "<style scoped>\n",
       "    .dataframe tbody tr th:only-of-type {\n",
       "        vertical-align: middle;\n",
       "    }\n",
       "\n",
       "    .dataframe tbody tr th {\n",
       "        vertical-align: top;\n",
       "    }\n",
       "\n",
       "    .dataframe thead th {\n",
       "        text-align: right;\n",
       "    }\n",
       "</style>\n",
       "<table border=\"1\" class=\"dataframe\">\n",
       "  <thead>\n",
       "    <tr style=\"text-align: right;\">\n",
       "      <th></th>\n",
       "      <th></th>\n",
       "      <th>open</th>\n",
       "      <th>high</th>\n",
       "      <th>low</th>\n",
       "      <th>close</th>\n",
       "      <th>volume</th>\n",
       "      <th>funding_rate</th>\n",
       "    </tr>\n",
       "    <tr>\n",
       "      <th>date</th>\n",
       "      <th>ticker</th>\n",
       "      <th></th>\n",
       "      <th></th>\n",
       "      <th></th>\n",
       "      <th></th>\n",
       "      <th></th>\n",
       "      <th></th>\n",
       "    </tr>\n",
       "  </thead>\n",
       "  <tbody>\n",
       "    <tr>\n",
       "      <th>2019-09-08</th>\n",
       "      <th>BTC</th>\n",
       "      <td>10000.0</td>\n",
       "      <td>10412.65</td>\n",
       "      <td>10000.0</td>\n",
       "      <td>10391.63</td>\n",
       "      <td>3096.291</td>\n",
       "      <td>&lt;NA&gt;</td>\n",
       "    </tr>\n",
       "    <tr>\n",
       "      <th>2019-09-09</th>\n",
       "      <th>BTC</th>\n",
       "      <td>10316.62</td>\n",
       "      <td>10475.54</td>\n",
       "      <td>10077.22</td>\n",
       "      <td>10307.0</td>\n",
       "      <td>14824.373</td>\n",
       "      <td>&lt;NA&gt;</td>\n",
       "    </tr>\n",
       "    <tr>\n",
       "      <th>2019-09-10</th>\n",
       "      <th>BTC</th>\n",
       "      <td>10307.0</td>\n",
       "      <td>10382.97</td>\n",
       "      <td>9940.87</td>\n",
       "      <td>10102.02</td>\n",
       "      <td>9068.955</td>\n",
       "      <td>0.0002</td>\n",
       "    </tr>\n",
       "    <tr>\n",
       "      <th>2019-09-11</th>\n",
       "      <th>BTC</th>\n",
       "      <td>10094.27</td>\n",
       "      <td>10293.11</td>\n",
       "      <td>9884.31</td>\n",
       "      <td>10159.55</td>\n",
       "      <td>10897.922</td>\n",
       "      <td>0.0003</td>\n",
       "    </tr>\n",
       "    <tr>\n",
       "      <th>2019-09-12</th>\n",
       "      <th>BTC</th>\n",
       "      <td>10163.06</td>\n",
       "      <td>10450.13</td>\n",
       "      <td>10042.12</td>\n",
       "      <td>10415.13</td>\n",
       "      <td>15609.634</td>\n",
       "      <td>0.0003</td>\n",
       "    </tr>\n",
       "  </tbody>\n",
       "</table>\n",
       "</div>"
      ],
      "text/plain": [
       "                       open      high       low     close     volume  \\\n",
       "date       ticker                                                      \n",
       "2019-09-08 BTC      10000.0  10412.65   10000.0  10391.63   3096.291   \n",
       "2019-09-09 BTC     10316.62  10475.54  10077.22   10307.0  14824.373   \n",
       "2019-09-10 BTC      10307.0  10382.97   9940.87  10102.02   9068.955   \n",
       "2019-09-11 BTC     10094.27  10293.11   9884.31  10159.55  10897.922   \n",
       "2019-09-12 BTC     10163.06  10450.13  10042.12  10415.13  15609.634   \n",
       "\n",
       "                   funding_rate  \n",
       "date       ticker                \n",
       "2019-09-08 BTC             <NA>  \n",
       "2019-09-09 BTC             <NA>  \n",
       "2019-09-10 BTC           0.0002  \n",
       "2019-09-11 BTC           0.0003  \n",
       "2019-09-12 BTC           0.0003  "
      ]
     },
     "execution_count": 30,
     "metadata": {},
     "output_type": "execute_result"
    }
   ],
   "source": [
    "df1.head()"
   ]
  },
  {
   "cell_type": "code",
   "execution_count": 32,
   "id": "9bf4c202-f352-4bc8-9e22-5ce3b77fe72b",
   "metadata": {},
   "outputs": [
    {
     "data": {
      "text/plain": [
       "(288,)"
      ]
     },
     "execution_count": 32,
     "metadata": {},
     "output_type": "execute_result"
    }
   ],
   "source": [
    "df1.index.get_level_values(1).unique().shape"
   ]
  },
  {
   "cell_type": "markdown",
   "id": "32f15191",
   "metadata": {},
   "source": [
    "### Binance Spot"
   ]
  },
  {
   "cell_type": "code",
   "execution_count": 33,
   "id": "83e9e466",
   "metadata": {},
   "outputs": [],
   "source": [
    "# pull OHLC from Binance\n",
    "data_req = DataRequest(source='ccxt',\n",
    "                       tickers=tickers, \n",
    "                       fields=['open', 'high', 'low', 'close', 'volume'], \n",
    "                       freq='d')"
   ]
  },
  {
   "cell_type": "code",
   "execution_count": 34,
   "id": "82d4bbc7",
   "metadata": {},
   "outputs": [
    {
     "name": "stderr",
     "output_type": "stream",
     "text": [
      "WARNING:root:Missing recent OHLCV data for XMR/USDT.\n",
      "WARNING:root:Missing recent OHLCV data for OMG/USDT.\n",
      "WARNING:root:Missing recent OHLCV data for WAVES/USDT.\n",
      "WARNING:root:Missing recent OHLCV data for OCEAN/USDT.\n",
      "WARNING:root:Missing recent OHLCV data for REEF/USDT.\n",
      "WARNING:root:Missing recent OHLCV data for XEM/USDT.\n",
      "WARNING:root:Missing recent OHLCV data for BTCST/USDT.\n",
      "WARNING:root:Missing recent OHLCV data for AGIX/USDT.\n",
      "WARNING:root:Missing recent OHLCV data for FRONT/USDT.\n",
      "WARNING:root:Missing recent OHLCV data for LOOM/USDT.\n",
      "WARNING:root:Missing recent OHLCV data for BOND/USDT.\n",
      "WARNING:root:Missing recent OHLCV data for BSV/USDT.\n"
     ]
    }
   ],
   "source": [
    "df2 = GetData(data_req).get_series()"
   ]
  },
  {
   "cell_type": "code",
   "execution_count": 35,
   "id": "4f63eb21",
   "metadata": {},
   "outputs": [],
   "source": [
    "# # df2.to_csv('binance_spot.csv')\n",
    "# df2 = pd.read_csv('../../../../factorlab/notebooks/binance_spot.csv', index_col=['date', 'ticker'], parse_dates=['date'])"
   ]
  },
  {
   "cell_type": "code",
   "execution_count": 36,
   "id": "ce8929c1",
   "metadata": {},
   "outputs": [
    {
     "data": {
      "text/html": [
       "<div>\n",
       "<style scoped>\n",
       "    .dataframe tbody tr th:only-of-type {\n",
       "        vertical-align: middle;\n",
       "    }\n",
       "\n",
       "    .dataframe tbody tr th {\n",
       "        vertical-align: top;\n",
       "    }\n",
       "\n",
       "    .dataframe thead th {\n",
       "        text-align: right;\n",
       "    }\n",
       "</style>\n",
       "<table border=\"1\" class=\"dataframe\">\n",
       "  <thead>\n",
       "    <tr style=\"text-align: right;\">\n",
       "      <th></th>\n",
       "      <th></th>\n",
       "      <th>open</th>\n",
       "      <th>high</th>\n",
       "      <th>low</th>\n",
       "      <th>close</th>\n",
       "      <th>volume</th>\n",
       "    </tr>\n",
       "    <tr>\n",
       "      <th>date</th>\n",
       "      <th>ticker</th>\n",
       "      <th></th>\n",
       "      <th></th>\n",
       "      <th></th>\n",
       "      <th></th>\n",
       "      <th></th>\n",
       "    </tr>\n",
       "  </thead>\n",
       "  <tbody>\n",
       "    <tr>\n",
       "      <th rowspan=\"2\" valign=\"top\">2017-08-17</th>\n",
       "      <th>BTC</th>\n",
       "      <td>4261.48</td>\n",
       "      <td>4485.39</td>\n",
       "      <td>4200.74</td>\n",
       "      <td>4285.08</td>\n",
       "      <td>795.150377</td>\n",
       "    </tr>\n",
       "    <tr>\n",
       "      <th>ETH</th>\n",
       "      <td>301.13</td>\n",
       "      <td>312.18</td>\n",
       "      <td>298.0</td>\n",
       "      <td>302.0</td>\n",
       "      <td>7030.71034</td>\n",
       "    </tr>\n",
       "    <tr>\n",
       "      <th rowspan=\"2\" valign=\"top\">2017-08-18</th>\n",
       "      <th>BTC</th>\n",
       "      <td>4285.08</td>\n",
       "      <td>4371.52</td>\n",
       "      <td>3938.77</td>\n",
       "      <td>4108.37</td>\n",
       "      <td>1199.888264</td>\n",
       "    </tr>\n",
       "    <tr>\n",
       "      <th>ETH</th>\n",
       "      <td>302.0</td>\n",
       "      <td>311.79</td>\n",
       "      <td>283.94</td>\n",
       "      <td>293.96</td>\n",
       "      <td>9537.84646</td>\n",
       "    </tr>\n",
       "    <tr>\n",
       "      <th>2017-08-19</th>\n",
       "      <th>BTC</th>\n",
       "      <td>4108.37</td>\n",
       "      <td>4184.69</td>\n",
       "      <td>3850.0</td>\n",
       "      <td>4139.98</td>\n",
       "      <td>381.309763</td>\n",
       "    </tr>\n",
       "  </tbody>\n",
       "</table>\n",
       "</div>"
      ],
      "text/plain": [
       "                      open     high      low    close       volume\n",
       "date       ticker                                                 \n",
       "2017-08-17 BTC     4261.48  4485.39  4200.74  4285.08   795.150377\n",
       "           ETH      301.13   312.18    298.0    302.0   7030.71034\n",
       "2017-08-18 BTC     4285.08  4371.52  3938.77  4108.37  1199.888264\n",
       "           ETH       302.0   311.79   283.94   293.96   9537.84646\n",
       "2017-08-19 BTC     4108.37  4184.69   3850.0  4139.98   381.309763"
      ]
     },
     "execution_count": 36,
     "metadata": {},
     "output_type": "execute_result"
    }
   ],
   "source": [
    "df2.head()"
   ]
  },
  {
   "cell_type": "code",
   "execution_count": 37,
   "id": "35b3d731-2a0f-4ec2-9444-f79d5cb7e680",
   "metadata": {},
   "outputs": [
    {
     "data": {
      "text/plain": [
       "(288,)"
      ]
     },
     "execution_count": 37,
     "metadata": {},
     "output_type": "execute_result"
    }
   ],
   "source": [
    "df2.index.get_level_values(1).unique().shape"
   ]
  },
  {
   "cell_type": "markdown",
   "id": "05f93b91",
   "metadata": {},
   "source": [
    "### CryptoCompare - Historical Prices"
   ]
  },
  {
   "cell_type": "code",
   "execution_count": 38,
   "id": "7f14d874",
   "metadata": {},
   "outputs": [],
   "source": [
    "# pull OHLC from CryptoCompare\n",
    "data_req = DataRequest(source='cryptocompare',\n",
    "                       tickers=tickers, \n",
    "                       fields=['open', 'high', 'low', 'close', 'volume'], \n",
    "                       freq='d')"
   ]
  },
  {
   "cell_type": "code",
   "execution_count": 39,
   "id": "3a8708d3",
   "metadata": {},
   "outputs": [],
   "source": [
    "df3 = GetData(data_req).get_series()"
   ]
  },
  {
   "cell_type": "code",
   "execution_count": 40,
   "id": "aa265538",
   "metadata": {},
   "outputs": [],
   "source": [
    "# # df3.to_csv('cc_spot.csv')\n",
    "# df3 = pd.read_csv('../../../../factorlab/notebooks/cc_spot.csv', index_col=['date', 'ticker'], parse_dates=['date'])"
   ]
  },
  {
   "cell_type": "code",
   "execution_count": 41,
   "id": "17274df7",
   "metadata": {},
   "outputs": [
    {
     "data": {
      "text/html": [
       "<div>\n",
       "<style scoped>\n",
       "    .dataframe tbody tr th:only-of-type {\n",
       "        vertical-align: middle;\n",
       "    }\n",
       "\n",
       "    .dataframe tbody tr th {\n",
       "        vertical-align: top;\n",
       "    }\n",
       "\n",
       "    .dataframe thead th {\n",
       "        text-align: right;\n",
       "    }\n",
       "</style>\n",
       "<table border=\"1\" class=\"dataframe\">\n",
       "  <thead>\n",
       "    <tr style=\"text-align: right;\">\n",
       "      <th></th>\n",
       "      <th></th>\n",
       "      <th>open</th>\n",
       "      <th>high</th>\n",
       "      <th>low</th>\n",
       "      <th>close</th>\n",
       "      <th>volume</th>\n",
       "    </tr>\n",
       "    <tr>\n",
       "      <th>date</th>\n",
       "      <th>ticker</th>\n",
       "      <th></th>\n",
       "      <th></th>\n",
       "      <th></th>\n",
       "      <th></th>\n",
       "      <th></th>\n",
       "    </tr>\n",
       "  </thead>\n",
       "  <tbody>\n",
       "    <tr>\n",
       "      <th>2010-07-17</th>\n",
       "      <th>BTC</th>\n",
       "      <td>0.04951</td>\n",
       "      <td>0.04951</td>\n",
       "      <td>0.04951</td>\n",
       "      <td>0.04951</td>\n",
       "      <td>20.0</td>\n",
       "    </tr>\n",
       "    <tr>\n",
       "      <th>2010-07-18</th>\n",
       "      <th>BTC</th>\n",
       "      <td>0.04951</td>\n",
       "      <td>0.08585</td>\n",
       "      <td>0.04951</td>\n",
       "      <td>0.08584</td>\n",
       "      <td>75.01</td>\n",
       "    </tr>\n",
       "    <tr>\n",
       "      <th>2010-07-19</th>\n",
       "      <th>BTC</th>\n",
       "      <td>0.08584</td>\n",
       "      <td>0.09307</td>\n",
       "      <td>0.07723</td>\n",
       "      <td>0.0808</td>\n",
       "      <td>574.0</td>\n",
       "    </tr>\n",
       "    <tr>\n",
       "      <th>2010-07-20</th>\n",
       "      <th>BTC</th>\n",
       "      <td>0.0808</td>\n",
       "      <td>0.08181</td>\n",
       "      <td>0.07426</td>\n",
       "      <td>0.07474</td>\n",
       "      <td>262.0</td>\n",
       "    </tr>\n",
       "    <tr>\n",
       "      <th>2010-07-21</th>\n",
       "      <th>BTC</th>\n",
       "      <td>0.07474</td>\n",
       "      <td>0.07921</td>\n",
       "      <td>0.06634</td>\n",
       "      <td>0.07921</td>\n",
       "      <td>575.0</td>\n",
       "    </tr>\n",
       "  </tbody>\n",
       "</table>\n",
       "</div>"
      ],
      "text/plain": [
       "                      open     high      low    close  volume\n",
       "date       ticker                                            \n",
       "2010-07-17 BTC     0.04951  0.04951  0.04951  0.04951    20.0\n",
       "2010-07-18 BTC     0.04951  0.08585  0.04951  0.08584   75.01\n",
       "2010-07-19 BTC     0.08584  0.09307  0.07723   0.0808   574.0\n",
       "2010-07-20 BTC      0.0808  0.08181  0.07426  0.07474   262.0\n",
       "2010-07-21 BTC     0.07474  0.07921  0.06634  0.07921   575.0"
      ]
     },
     "execution_count": 41,
     "metadata": {},
     "output_type": "execute_result"
    }
   ],
   "source": [
    "df3.head()"
   ]
  },
  {
   "cell_type": "code",
   "execution_count": 42,
   "id": "4d8c7b38-4c3d-4c97-8f8d-34fb88c29229",
   "metadata": {},
   "outputs": [
    {
     "data": {
      "text/plain": [
       "(285,)"
      ]
     },
     "execution_count": 42,
     "metadata": {},
     "output_type": "execute_result"
    }
   ],
   "source": [
    "df3.index.get_level_values(1).unique().shape"
   ]
  },
  {
   "cell_type": "markdown",
   "id": "5664e968",
   "metadata": {},
   "source": [
    "### Clean Data"
   ]
  },
  {
   "cell_type": "code",
   "execution_count": 43,
   "id": "f5ee4f6d",
   "metadata": {},
   "outputs": [],
   "source": [
    "df = stitch_dataframes([df1, df2, df3])\n",
    "df.funding_rate = df.funding_rate.fillna(0)"
   ]
  },
  {
   "cell_type": "code",
   "execution_count": 44,
   "id": "0f41592e",
   "metadata": {},
   "outputs": [],
   "source": [
    "df.to_csv('../../../../factorlab/notebooks/crypto_historical_ohlcv_daily.csv')"
   ]
  },
  {
   "cell_type": "code",
   "execution_count": 45,
   "id": "723834e6-9895-4b03-9fd8-5db1b274b3b7",
   "metadata": {},
   "outputs": [
    {
     "data": {
      "text/html": [
       "<div>\n",
       "<style scoped>\n",
       "    .dataframe tbody tr th:only-of-type {\n",
       "        vertical-align: middle;\n",
       "    }\n",
       "\n",
       "    .dataframe tbody tr th {\n",
       "        vertical-align: top;\n",
       "    }\n",
       "\n",
       "    .dataframe thead th {\n",
       "        text-align: right;\n",
       "    }\n",
       "</style>\n",
       "<table border=\"1\" class=\"dataframe\">\n",
       "  <thead>\n",
       "    <tr style=\"text-align: right;\">\n",
       "      <th></th>\n",
       "      <th></th>\n",
       "      <th>open</th>\n",
       "      <th>high</th>\n",
       "      <th>low</th>\n",
       "      <th>close</th>\n",
       "      <th>volume</th>\n",
       "      <th>funding_rate</th>\n",
       "    </tr>\n",
       "    <tr>\n",
       "      <th>date</th>\n",
       "      <th>ticker</th>\n",
       "      <th></th>\n",
       "      <th></th>\n",
       "      <th></th>\n",
       "      <th></th>\n",
       "      <th></th>\n",
       "      <th></th>\n",
       "    </tr>\n",
       "  </thead>\n",
       "  <tbody>\n",
       "    <tr>\n",
       "      <th>2010-07-17</th>\n",
       "      <th>BTC</th>\n",
       "      <td>0.04951</td>\n",
       "      <td>0.04951</td>\n",
       "      <td>0.04951</td>\n",
       "      <td>0.04951</td>\n",
       "      <td>20.0</td>\n",
       "      <td>0.0</td>\n",
       "    </tr>\n",
       "    <tr>\n",
       "      <th>2010-07-18</th>\n",
       "      <th>BTC</th>\n",
       "      <td>0.04951</td>\n",
       "      <td>0.08585</td>\n",
       "      <td>0.04951</td>\n",
       "      <td>0.08584</td>\n",
       "      <td>75.01</td>\n",
       "      <td>0.0</td>\n",
       "    </tr>\n",
       "    <tr>\n",
       "      <th>2010-07-19</th>\n",
       "      <th>BTC</th>\n",
       "      <td>0.08584</td>\n",
       "      <td>0.09307</td>\n",
       "      <td>0.07723</td>\n",
       "      <td>0.0808</td>\n",
       "      <td>574.0</td>\n",
       "      <td>0.0</td>\n",
       "    </tr>\n",
       "    <tr>\n",
       "      <th>2010-07-20</th>\n",
       "      <th>BTC</th>\n",
       "      <td>0.0808</td>\n",
       "      <td>0.08181</td>\n",
       "      <td>0.07426</td>\n",
       "      <td>0.07474</td>\n",
       "      <td>262.0</td>\n",
       "      <td>0.0</td>\n",
       "    </tr>\n",
       "    <tr>\n",
       "      <th>2010-07-21</th>\n",
       "      <th>BTC</th>\n",
       "      <td>0.07474</td>\n",
       "      <td>0.07921</td>\n",
       "      <td>0.06634</td>\n",
       "      <td>0.07921</td>\n",
       "      <td>575.0</td>\n",
       "      <td>0.0</td>\n",
       "    </tr>\n",
       "    <tr>\n",
       "      <th>...</th>\n",
       "      <th>...</th>\n",
       "      <td>...</td>\n",
       "      <td>...</td>\n",
       "      <td>...</td>\n",
       "      <td>...</td>\n",
       "      <td>...</td>\n",
       "      <td>...</td>\n",
       "    </tr>\n",
       "    <tr>\n",
       "      <th rowspan=\"5\" valign=\"top\">2024-09-06</th>\n",
       "      <th>ZETA</th>\n",
       "      <td>0.4343</td>\n",
       "      <td>0.4545</td>\n",
       "      <td>0.4269</td>\n",
       "      <td>0.4388</td>\n",
       "      <td>20690742.0</td>\n",
       "      <td>0.00025</td>\n",
       "    </tr>\n",
       "    <tr>\n",
       "      <th>ZIL</th>\n",
       "      <td>0.01299</td>\n",
       "      <td>0.01334</td>\n",
       "      <td>0.0127</td>\n",
       "      <td>0.01292</td>\n",
       "      <td>411662123.0</td>\n",
       "      <td>-0.000186</td>\n",
       "    </tr>\n",
       "    <tr>\n",
       "      <th>ZK</th>\n",
       "      <td>0.10044</td>\n",
       "      <td>0.10767</td>\n",
       "      <td>0.09803</td>\n",
       "      <td>0.10304</td>\n",
       "      <td>274057919.0</td>\n",
       "      <td>0.000216</td>\n",
       "    </tr>\n",
       "    <tr>\n",
       "      <th>ZRO</th>\n",
       "      <td>3.222</td>\n",
       "      <td>3.363</td>\n",
       "      <td>3.147</td>\n",
       "      <td>3.244</td>\n",
       "      <td>26496347.5</td>\n",
       "      <td>0.000067</td>\n",
       "    </tr>\n",
       "    <tr>\n",
       "      <th>ZRX</th>\n",
       "      <td>0.2714</td>\n",
       "      <td>0.2764</td>\n",
       "      <td>0.2639</td>\n",
       "      <td>0.2685</td>\n",
       "      <td>11356228.7</td>\n",
       "      <td>0.000016</td>\n",
       "    </tr>\n",
       "  </tbody>\n",
       "</table>\n",
       "<p>427203 rows × 6 columns</p>\n",
       "</div>"
      ],
      "text/plain": [
       "                      open     high      low    close       volume  \\\n",
       "date       ticker                                                    \n",
       "2010-07-17 BTC     0.04951  0.04951  0.04951  0.04951         20.0   \n",
       "2010-07-18 BTC     0.04951  0.08585  0.04951  0.08584        75.01   \n",
       "2010-07-19 BTC     0.08584  0.09307  0.07723   0.0808        574.0   \n",
       "2010-07-20 BTC      0.0808  0.08181  0.07426  0.07474        262.0   \n",
       "2010-07-21 BTC     0.07474  0.07921  0.06634  0.07921        575.0   \n",
       "...                    ...      ...      ...      ...          ...   \n",
       "2024-09-06 ZETA     0.4343   0.4545   0.4269   0.4388   20690742.0   \n",
       "           ZIL     0.01299  0.01334   0.0127  0.01292  411662123.0   \n",
       "           ZK      0.10044  0.10767  0.09803  0.10304  274057919.0   \n",
       "           ZRO       3.222    3.363    3.147    3.244   26496347.5   \n",
       "           ZRX      0.2714   0.2764   0.2639   0.2685   11356228.7   \n",
       "\n",
       "                   funding_rate  \n",
       "date       ticker                \n",
       "2010-07-17 BTC              0.0  \n",
       "2010-07-18 BTC              0.0  \n",
       "2010-07-19 BTC              0.0  \n",
       "2010-07-20 BTC              0.0  \n",
       "2010-07-21 BTC              0.0  \n",
       "...                         ...  \n",
       "2024-09-06 ZETA         0.00025  \n",
       "           ZIL        -0.000186  \n",
       "           ZK          0.000216  \n",
       "           ZRO         0.000067  \n",
       "           ZRX         0.000016  \n",
       "\n",
       "[427203 rows x 6 columns]"
      ]
     },
     "execution_count": 45,
     "metadata": {},
     "output_type": "execute_result"
    }
   ],
   "source": [
    "df"
   ]
  },
  {
   "cell_type": "code",
   "execution_count": 46,
   "id": "dc40b220-11ae-4983-898d-8e4bd18ea87f",
   "metadata": {},
   "outputs": [
    {
     "data": {
      "text/plain": [
       "(288,)"
      ]
     },
     "execution_count": 46,
     "metadata": {},
     "output_type": "execute_result"
    }
   ],
   "source": [
    "df.index.get_level_values(1).unique().shape"
   ]
  },
  {
   "cell_type": "code",
   "execution_count": null,
   "id": "8ff79a6a-7075-4a51-a4cd-34512351db8e",
   "metadata": {},
   "outputs": [],
   "source": []
  },
  {
   "cell_type": "code",
   "execution_count": null,
   "id": "d04bbb33",
   "metadata": {},
   "outputs": [],
   "source": [
    "df = pd.read_csv('../../../../factorlab/notebooks/binance_historical_ohlcv_daily.csv', \n",
    "                 index_col=['date', 'ticker'],\n",
    "                 parse_dates=['date']\n",
    "                )"
   ]
  },
  {
   "cell_type": "code",
   "execution_count": null,
   "id": "cbe07c91",
   "metadata": {},
   "outputs": [],
   "source": [
    "df.head()"
   ]
  },
  {
   "cell_type": "code",
   "execution_count": null,
   "id": "cef46007",
   "metadata": {},
   "outputs": [],
   "source": [
    "df.index.get_level_values(1).unique()"
   ]
  },
  {
   "cell_type": "code",
   "execution_count": null,
   "id": "9f8a899f",
   "metadata": {},
   "outputs": [],
   "source": [
    "clean = CleanData(df)"
   ]
  },
  {
   "cell_type": "code",
   "execution_count": null,
   "id": "29e1b955",
   "metadata": {},
   "outputs": [],
   "source": [
    "clean.filter_delisted_tickers()"
   ]
  },
  {
   "cell_type": "code",
   "execution_count": null,
   "id": "9315f178",
   "metadata": {},
   "outputs": [],
   "source": [
    "# clean.filter_tickers(['USDC'])"
   ]
  },
  {
   "cell_type": "code",
   "execution_count": null,
   "id": "88ee52ec",
   "metadata": {},
   "outputs": [],
   "source": [
    "clean.filtered_tickers"
   ]
  },
  {
   "cell_type": "code",
   "execution_count": null,
   "id": "e4693e52",
   "metadata": {},
   "outputs": [],
   "source": [
    "clean.filter_outliers(od_method='mad', excl_cols=['volume', 'funding_rate'], thresh_val=10)"
   ]
  },
  {
   "cell_type": "code",
   "execution_count": null,
   "id": "311ee6ed",
   "metadata": {},
   "outputs": [],
   "source": [
    "clean.df"
   ]
  },
  {
   "cell_type": "code",
   "execution_count": null,
   "id": "83caa2c6",
   "metadata": {},
   "outputs": [],
   "source": [
    "clean.repair_outliers(imp_method='fcst')"
   ]
  },
  {
   "cell_type": "code",
   "execution_count": null,
   "id": "f4c21352",
   "metadata": {},
   "outputs": [],
   "source": [
    "clean.df"
   ]
  },
  {
   "cell_type": "code",
   "execution_count": null,
   "id": "66b3d8d2",
   "metadata": {},
   "outputs": [],
   "source": [
    "clean.filter_avg_trading_val(thresh_val=500000)"
   ]
  },
  {
   "cell_type": "code",
   "execution_count": null,
   "id": "b7f23056",
   "metadata": {},
   "outputs": [],
   "source": [
    "clean.df"
   ]
  },
  {
   "cell_type": "code",
   "execution_count": null,
   "id": "b5ac345d",
   "metadata": {},
   "outputs": [],
   "source": [
    "clean.filtered_tickers"
   ]
  },
  {
   "cell_type": "code",
   "execution_count": null,
   "id": "6d36d4ce",
   "metadata": {},
   "outputs": [],
   "source": [
    "clean.filter_missing_vals_gaps(gap_window=7)"
   ]
  },
  {
   "cell_type": "code",
   "execution_count": null,
   "id": "7fe432d5",
   "metadata": {},
   "outputs": [],
   "source": [
    "clean.filtered_tickers"
   ]
  },
  {
   "cell_type": "code",
   "execution_count": null,
   "id": "f7cbdbae",
   "metadata": {},
   "outputs": [],
   "source": [
    "clean.filter_min_nobs(ts_obs=1000, cs_obs=5)"
   ]
  },
  {
   "cell_type": "code",
   "execution_count": null,
   "id": "0f5656f1",
   "metadata": {},
   "outputs": [],
   "source": [
    "len(clean.filtered_tickers)"
   ]
  },
  {
   "cell_type": "code",
   "execution_count": null,
   "id": "b747a897",
   "metadata": {},
   "outputs": [],
   "source": [
    "clean.filtered_tickers"
   ]
  },
  {
   "cell_type": "code",
   "execution_count": null,
   "id": "f13d9f1f",
   "metadata": {},
   "outputs": [],
   "source": [
    "clean.df"
   ]
  },
  {
   "cell_type": "code",
   "execution_count": null,
   "id": "edfe227e",
   "metadata": {},
   "outputs": [],
   "source": [
    "'TRX' in clean.df.index.get_level_values(1).unique()"
   ]
  },
  {
   "cell_type": "code",
   "execution_count": null,
   "id": "51134773",
   "metadata": {},
   "outputs": [],
   "source": [
    "clean.summary.close"
   ]
  },
  {
   "cell_type": "code",
   "execution_count": null,
   "id": "a8feb8b6",
   "metadata": {},
   "outputs": [],
   "source": [
    "clean.df.index.get_level_values(1).unique()"
   ]
  },
  {
   "cell_type": "code",
   "execution_count": null,
   "id": "54b818cd",
   "metadata": {},
   "outputs": [],
   "source": [
    "clean.df.dropna(how='all').to_csv('../../../../factorlab/notebooks/binance_historical_ohlcv_daily.csv')"
   ]
  },
  {
   "cell_type": "code",
   "execution_count": null,
   "id": "f6a79f46",
   "metadata": {},
   "outputs": [],
   "source": []
  },
  {
   "cell_type": "code",
   "execution_count": null,
   "id": "f7156f13",
   "metadata": {},
   "outputs": [],
   "source": []
  },
  {
   "cell_type": "code",
   "execution_count": null,
   "id": "29632aa4",
   "metadata": {},
   "outputs": [],
   "source": []
  },
  {
   "cell_type": "code",
   "execution_count": null,
   "id": "a9b1764c",
   "metadata": {},
   "outputs": [],
   "source": [
    "# # clean data\n",
    "# clean_df = clean.filter_delisted_tickers().\\\n",
    "#                          filter_outliers(od_method='mad', excl_cols=['volume', 'funding_rate'], thresh_val=10).\\\n",
    "#                          repair_outliers(imp_method='fcst').\\\n",
    "#                          filter_avg_trading_val(thresh_val=1000000).\\\n",
    "#                          filter_missing_vals_gaps().\\\n",
    "#                          filter_min_nobs(ts_obs=1500, cs_obs=10).\\\n",
    "#                          get(attr='df').dropna(how='all')"
   ]
  },
  {
   "cell_type": "code",
   "execution_count": null,
   "id": "572d7a2e",
   "metadata": {},
   "outputs": [],
   "source": []
  },
  {
   "cell_type": "code",
   "execution_count": null,
   "id": "99857595",
   "metadata": {},
   "outputs": [],
   "source": [
    "clean.df.dropna(how='all').to_parquet('s3://factorlab-data/binance_historical_ohlcv_daily.parquet')"
   ]
  },
  {
   "cell_type": "code",
   "execution_count": null,
   "id": "8a962fa7",
   "metadata": {},
   "outputs": [],
   "source": []
  },
  {
   "cell_type": "code",
   "execution_count": null,
   "id": "b8fa525d",
   "metadata": {},
   "outputs": [],
   "source": []
  },
  {
   "cell_type": "code",
   "execution_count": null,
   "id": "da953cbf",
   "metadata": {},
   "outputs": [],
   "source": []
  }
 ],
 "metadata": {
  "kernelspec": {
   "display_name": "cryptodatapy",
   "language": "python",
   "name": "cryptodatapy"
  },
  "language_info": {
   "codemirror_mode": {
    "name": "ipython",
    "version": 3
   },
   "file_extension": ".py",
   "mimetype": "text/x-python",
   "name": "python",
   "nbconvert_exporter": "python",
   "pygments_lexer": "ipython3",
   "version": "3.9.12"
  }
 },
 "nbformat": 4,
 "nbformat_minor": 5
}
