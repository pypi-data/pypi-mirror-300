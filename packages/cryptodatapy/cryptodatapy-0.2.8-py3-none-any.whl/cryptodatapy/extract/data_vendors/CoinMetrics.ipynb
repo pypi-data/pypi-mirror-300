{
 "cells": [
  {
   "cell_type": "code",
   "execution_count": 17,
   "id": "282304eb-92f6-43e8-be3a-6e31e26a8315",
   "metadata": {},
   "outputs": [],
   "source": [
    "from datetime import datetime\n",
    "import pandas as pd\n",
    "import requests\n",
    "\n",
    "from cryptodatapy.extract.data_vendors.coinmetrics_api import CoinMetrics\n",
    "from cryptodatapy.extract.datarequest import DataRequest\n",
    "from cryptodatapy.transform.convertparams import ConvertParams"
   ]
  },
  {
   "cell_type": "code",
   "execution_count": 18,
   "id": "703eb00b-7d1d-43f5-a608-0dae2a2faba9",
   "metadata": {},
   "outputs": [],
   "source": [
    "cm = CoinMetrics()"
   ]
  },
  {
   "cell_type": "code",
   "execution_count": 19,
   "id": "b179708e-6b2f-46e8-9e19-d4e6c9d17bca",
   "metadata": {},
   "outputs": [],
   "source": [
    "cm_fields = ['add_act',\n",
    " 'add_act_sent',\n",
    " 'add_act_rec',\n",
    " 'add_pos_bal',\n",
    " 'tx_count',\n",
    " 'tx_rate',\n",
    " 'tx_bytes_mean',\n",
    " 'tx_fee_mean',\n",
    " 'tx_fee_mean_usd',\n",
    " 'tfr_count',\n",
    " 'tfr_val',\n",
    " 'tfr_val_usd',\n",
    " 'tfr_val_mean',\n",
    " 'tfr_val_mean_usd',\n",
    " 'nvt_ratio_adj',\n",
    " 'nvt_ratio_90dma',\n",
    " 'nvt_ratio_ff',\n",
    " 'nvt_ratio_ff_90dma',\n",
    " 'velocity_1y',\n",
    " 'utxo',\n",
    " 'hashrate',\n",
    " 'diff_last',\n",
    " 'diff_mean',\n",
    " 'block_height',\n",
    " 'block_size_mean',\n",
    " 'block_time_mean',\n",
    " 'miner_rev',\n",
    " 'miner_rev_usd',\n",
    " 'miner_rev_fees ',\n",
    " 'miner_rev_fees_usd',\n",
    " 'miner_rev_total_usd',\n",
    " 'supply_circ',\n",
    " 'supply_ff',\n",
    " 'issuance',\n",
    " 'supply_act_pct_1y',\n",
    " 'sopr']"
   ]
  },
  {
   "cell_type": "code",
   "execution_count": 20,
   "id": "6e674d24-988d-43da-bfa1-681293944ea1",
   "metadata": {},
   "outputs": [],
   "source": [
    "data_req =  DataRequest(tickers=['btc', 'eth', 'sol'], fields=cm_fields)"
   ]
  },
  {
   "cell_type": "code",
   "execution_count": 21,
   "id": "a3a22516-a990-43ae-a742-4dae6df797cd",
   "metadata": {},
   "outputs": [],
   "source": [
    "cm_data_req = ConvertParams(data_req).to_coinmetrics()"
   ]
  },
  {
   "cell_type": "code",
   "execution_count": 22,
   "id": "822f4804-5daa-431a-a90b-b5fa9bb6f2b3",
   "metadata": {},
   "outputs": [
    {
     "data": {
      "text/plain": [
       "{'tickers': ['btc', 'eth', 'sol'],\n",
       " 'freq': '1d',\n",
       " 'quote_ccy': 'usdt',\n",
       " 'exch': 'binance',\n",
       " 'ctys': None,\n",
       " 'mkt_type': 'spot',\n",
       " 'mkts': ['binance-btc-usdt-spot',\n",
       "  'binance-eth-usdt-spot',\n",
       "  'binance-sol-usdt-spot'],\n",
       " 'start_date': None,\n",
       " 'end_date': None,\n",
       " 'fields': ['AdrActCnt',\n",
       "  'AdrActSentCnt',\n",
       "  'AdrActRecCnt',\n",
       "  'AdrBalCnt',\n",
       "  'TxCnt',\n",
       "  'TxCntSec',\n",
       "  'TxMeanByte',\n",
       "  'FeeMeanNtv',\n",
       "  'FeeMeanUSD',\n",
       "  'TxTfrCnt',\n",
       "  'TxTfrValNtv',\n",
       "  'TxTfrValUSD',\n",
       "  'TxTfrValMeanNtv',\n",
       "  'TxTfrValMeanUSD',\n",
       "  'NVTAdj',\n",
       "  'NVTAdj90',\n",
       "  'NVTAdjFF',\n",
       "  'NVTAdjFF90',\n",
       "  'VelCur1yr',\n",
       "  'UTXOCnt',\n",
       "  'HashRate',\n",
       "  'DiffLast',\n",
       "  'DiffMean',\n",
       "  'BlkHgt',\n",
       "  'BlkSizeMeanByte',\n",
       "  'BlkIntMean',\n",
       "  'RevNtv',\n",
       "  'RevUSD',\n",
       "  'FeeTotNtv',\n",
       "  'FeeTotUSD',\n",
       "  'RevAllTimeUSD',\n",
       "  'SplyCur',\n",
       "  'SplyFF',\n",
       "  'IssTotNtv',\n",
       "  'SplyActPct1yr',\n",
       "  'SOPR'],\n",
       " 'tz': 'UTC',\n",
       " 'inst': 'grayscale',\n",
       " 'cat': 'crypto',\n",
       " 'trials': 3,\n",
       " 'pause': 0.1,\n",
       " 'source_tickers': None,\n",
       " 'source_freq': None,\n",
       " 'source_fields': None}"
      ]
     },
     "execution_count": 22,
     "metadata": {},
     "output_type": "execute_result"
    }
   ],
   "source": [
    "cm_data_req"
   ]
  },
  {
   "cell_type": "code",
   "execution_count": 23,
   "id": "59da43fe-39fa-468c-a98a-e62d2a0a36df",
   "metadata": {},
   "outputs": [
    {
     "data": {
      "text/html": [
       "<div>\n",
       "<style scoped>\n",
       "    .dataframe tbody tr th:only-of-type {\n",
       "        vertical-align: middle;\n",
       "    }\n",
       "\n",
       "    .dataframe tbody tr th {\n",
       "        vertical-align: top;\n",
       "    }\n",
       "\n",
       "    .dataframe thead th {\n",
       "        text-align: right;\n",
       "    }\n",
       "</style>\n",
       "<table border=\"1\" class=\"dataframe\">\n",
       "  <thead>\n",
       "    <tr style=\"text-align: right;\">\n",
       "      <th></th>\n",
       "      <th>full_name</th>\n",
       "      <th>description</th>\n",
       "      <th>category</th>\n",
       "      <th>subcategory</th>\n",
       "      <th>unit</th>\n",
       "      <th>data_type</th>\n",
       "      <th>type</th>\n",
       "      <th>frequencies</th>\n",
       "      <th>display_name</th>\n",
       "      <th>reviewable</th>\n",
       "    </tr>\n",
       "    <tr>\n",
       "      <th>fields</th>\n",
       "      <th></th>\n",
       "      <th></th>\n",
       "      <th></th>\n",
       "      <th></th>\n",
       "      <th></th>\n",
       "      <th></th>\n",
       "      <th></th>\n",
       "      <th></th>\n",
       "      <th></th>\n",
       "      <th></th>\n",
       "    </tr>\n",
       "  </thead>\n",
       "  <tbody>\n",
       "    <tr>\n",
       "      <th>AdrActCnt</th>\n",
       "      <td>Addresses, active, count</td>\n",
       "      <td>The sum count of unique addresses that were ac...</td>\n",
       "      <td>Addresses</td>\n",
       "      <td>Active</td>\n",
       "      <td>Addresses</td>\n",
       "      <td>bigint</td>\n",
       "      <td>Sum</td>\n",
       "      <td>[{'frequency': '1d', 'assets': ['1inch', 'aave...</td>\n",
       "      <td>Active Addr Cnt</td>\n",
       "      <td>NaN</td>\n",
       "    </tr>\n",
       "    <tr>\n",
       "      <th>AdrBal1in100KCnt</th>\n",
       "      <td>Addresses, with balance, greater than 1in100K,...</td>\n",
       "      <td>The sum count of unique addresses holding at l...</td>\n",
       "      <td>Addresses</td>\n",
       "      <td>Balance</td>\n",
       "      <td>Addresses</td>\n",
       "      <td>bigint</td>\n",
       "      <td>Sum</td>\n",
       "      <td>[{'frequency': '1d', 'assets': ['1inch', 'aave...</td>\n",
       "      <td>Addr Cnt with ≥ .001% Supply</td>\n",
       "      <td>NaN</td>\n",
       "    </tr>\n",
       "    <tr>\n",
       "      <th>AdrBal1in100MCnt</th>\n",
       "      <td>Addresses, with balance, greater than 1in100M,...</td>\n",
       "      <td>The sum count of unique addresses holding at l...</td>\n",
       "      <td>Addresses</td>\n",
       "      <td>Balance</td>\n",
       "      <td>Addresses</td>\n",
       "      <td>bigint</td>\n",
       "      <td>Sum</td>\n",
       "      <td>[{'frequency': '1d', 'assets': ['1inch', 'aave...</td>\n",
       "      <td>Addr Cnt with ≥ .000001% Supply</td>\n",
       "      <td>NaN</td>\n",
       "    </tr>\n",
       "    <tr>\n",
       "      <th>AdrBal1in10BCnt</th>\n",
       "      <td>Addresses, with balance, greater than 1in10B, ...</td>\n",
       "      <td>The sum count of unique addresses holding at l...</td>\n",
       "      <td>Addresses</td>\n",
       "      <td>Balance</td>\n",
       "      <td>Addresses</td>\n",
       "      <td>bigint</td>\n",
       "      <td>Sum</td>\n",
       "      <td>[{'frequency': '1d', 'assets': ['1inch', 'aave...</td>\n",
       "      <td>Addr Cnt with ≥ .00000001% Supply</td>\n",
       "      <td>NaN</td>\n",
       "    </tr>\n",
       "    <tr>\n",
       "      <th>AdrBal1in10KCnt</th>\n",
       "      <td>Addresses, with balance, greater than 1in10K, ...</td>\n",
       "      <td>The sum count of unique addresses holding at l...</td>\n",
       "      <td>Addresses</td>\n",
       "      <td>Balance</td>\n",
       "      <td>Addresses</td>\n",
       "      <td>bigint</td>\n",
       "      <td>Sum</td>\n",
       "      <td>[{'frequency': '1d', 'assets': ['1inch', 'aave...</td>\n",
       "      <td>Addr Cnt with ≥ .01% Supply</td>\n",
       "      <td>NaN</td>\n",
       "    </tr>\n",
       "    <tr>\n",
       "      <th>...</th>\n",
       "      <td>...</td>\n",
       "      <td>...</td>\n",
       "      <td>...</td>\n",
       "      <td>...</td>\n",
       "      <td>...</td>\n",
       "      <td>...</td>\n",
       "      <td>...</td>\n",
       "      <td>...</td>\n",
       "      <td>...</td>\n",
       "      <td>...</td>\n",
       "    </tr>\n",
       "    <tr>\n",
       "      <th>VelCur1yr</th>\n",
       "      <td>Velocity, current supply, 1yr</td>\n",
       "      <td>The ratio of the value transferred (i.e., the ...</td>\n",
       "      <td>Transactions</td>\n",
       "      <td>Velocity</td>\n",
       "      <td>Dimensionless</td>\n",
       "      <td>decimal</td>\n",
       "      <td>Ratio</td>\n",
       "      <td>[{'frequency': '1d', 'assets': ['1inch', 'aave...</td>\n",
       "      <td>1 Year Current Supply Velocity</td>\n",
       "      <td>NaN</td>\n",
       "    </tr>\n",
       "    <tr>\n",
       "      <th>VtyDayRet180d</th>\n",
       "      <td>Volatility, daily returns, 180d</td>\n",
       "      <td>The 180D volatility, measured as the standard ...</td>\n",
       "      <td>Market</td>\n",
       "      <td>Volatility</td>\n",
       "      <td>Dimensionless</td>\n",
       "      <td>decimal</td>\n",
       "      <td>Ratio</td>\n",
       "      <td>[{'frequency': '1d', 'assets': ['1inch', 'aave...</td>\n",
       "      <td>180 Day Volatility</td>\n",
       "      <td>NaN</td>\n",
       "    </tr>\n",
       "    <tr>\n",
       "      <th>VtyDayRet30d</th>\n",
       "      <td>Volatility, daily returns, 30d</td>\n",
       "      <td>The 30D volatility, measured as the standard d...</td>\n",
       "      <td>Market</td>\n",
       "      <td>Volatility</td>\n",
       "      <td>Dimensionless</td>\n",
       "      <td>decimal</td>\n",
       "      <td>Ratio</td>\n",
       "      <td>[{'frequency': '1d', 'assets': ['1inch', 'aave...</td>\n",
       "      <td>30 Day Volatility</td>\n",
       "      <td>NaN</td>\n",
       "    </tr>\n",
       "    <tr>\n",
       "      <th>principal_market_price_usd</th>\n",
       "      <td>Principal Market Price, USD</td>\n",
       "      <td>The price of an asset quoted in U.S. dollars d...</td>\n",
       "      <td>Market</td>\n",
       "      <td>Price</td>\n",
       "      <td>USD</td>\n",
       "      <td>decimal</td>\n",
       "      <td>N/A</td>\n",
       "      <td>[{'frequency': '1s', 'assets': ['1cat', '1inch...</td>\n",
       "      <td>Principal Market Price</td>\n",
       "      <td>NaN</td>\n",
       "    </tr>\n",
       "    <tr>\n",
       "      <th>principal_market_usd</th>\n",
       "      <td>Principal Market, USD</td>\n",
       "      <td>The asset's principal market, the market with ...</td>\n",
       "      <td>Market</td>\n",
       "      <td>Price</td>\n",
       "      <td>USD</td>\n",
       "      <td>text</td>\n",
       "      <td>N/A</td>\n",
       "      <td>[{'frequency': '1s', 'assets': ['1cat', '1inch...</td>\n",
       "      <td>Principal Market</td>\n",
       "      <td>NaN</td>\n",
       "    </tr>\n",
       "  </tbody>\n",
       "</table>\n",
       "<p>154 rows × 10 columns</p>\n",
       "</div>"
      ],
      "text/plain": [
       "                                                                    full_name  \\\n",
       "fields                                                                          \n",
       "AdrActCnt                                            Addresses, active, count   \n",
       "AdrBal1in100KCnt            Addresses, with balance, greater than 1in100K,...   \n",
       "AdrBal1in100MCnt            Addresses, with balance, greater than 1in100M,...   \n",
       "AdrBal1in10BCnt             Addresses, with balance, greater than 1in10B, ...   \n",
       "AdrBal1in10KCnt             Addresses, with balance, greater than 1in10K, ...   \n",
       "...                                                                       ...   \n",
       "VelCur1yr                                       Velocity, current supply, 1yr   \n",
       "VtyDayRet180d                                 Volatility, daily returns, 180d   \n",
       "VtyDayRet30d                                   Volatility, daily returns, 30d   \n",
       "principal_market_price_usd                        Principal Market Price, USD   \n",
       "principal_market_usd                                    Principal Market, USD   \n",
       "\n",
       "                                                                  description  \\\n",
       "fields                                                                          \n",
       "AdrActCnt                   The sum count of unique addresses that were ac...   \n",
       "AdrBal1in100KCnt            The sum count of unique addresses holding at l...   \n",
       "AdrBal1in100MCnt            The sum count of unique addresses holding at l...   \n",
       "AdrBal1in10BCnt             The sum count of unique addresses holding at l...   \n",
       "AdrBal1in10KCnt             The sum count of unique addresses holding at l...   \n",
       "...                                                                       ...   \n",
       "VelCur1yr                   The ratio of the value transferred (i.e., the ...   \n",
       "VtyDayRet180d               The 180D volatility, measured as the standard ...   \n",
       "VtyDayRet30d                The 30D volatility, measured as the standard d...   \n",
       "principal_market_price_usd  The price of an asset quoted in U.S. dollars d...   \n",
       "principal_market_usd        The asset's principal market, the market with ...   \n",
       "\n",
       "                                category subcategory           unit data_type  \\\n",
       "fields                                                                          \n",
       "AdrActCnt                      Addresses      Active      Addresses    bigint   \n",
       "AdrBal1in100KCnt               Addresses     Balance      Addresses    bigint   \n",
       "AdrBal1in100MCnt               Addresses     Balance      Addresses    bigint   \n",
       "AdrBal1in10BCnt                Addresses     Balance      Addresses    bigint   \n",
       "AdrBal1in10KCnt                Addresses     Balance      Addresses    bigint   \n",
       "...                                  ...         ...            ...       ...   \n",
       "VelCur1yr                   Transactions    Velocity  Dimensionless   decimal   \n",
       "VtyDayRet180d                     Market  Volatility  Dimensionless   decimal   \n",
       "VtyDayRet30d                      Market  Volatility  Dimensionless   decimal   \n",
       "principal_market_price_usd        Market       Price            USD   decimal   \n",
       "principal_market_usd              Market       Price            USD      text   \n",
       "\n",
       "                             type  \\\n",
       "fields                              \n",
       "AdrActCnt                     Sum   \n",
       "AdrBal1in100KCnt              Sum   \n",
       "AdrBal1in100MCnt              Sum   \n",
       "AdrBal1in10BCnt               Sum   \n",
       "AdrBal1in10KCnt               Sum   \n",
       "...                           ...   \n",
       "VelCur1yr                   Ratio   \n",
       "VtyDayRet180d               Ratio   \n",
       "VtyDayRet30d                Ratio   \n",
       "principal_market_price_usd    N/A   \n",
       "principal_market_usd          N/A   \n",
       "\n",
       "                                                                  frequencies  \\\n",
       "fields                                                                          \n",
       "AdrActCnt                   [{'frequency': '1d', 'assets': ['1inch', 'aave...   \n",
       "AdrBal1in100KCnt            [{'frequency': '1d', 'assets': ['1inch', 'aave...   \n",
       "AdrBal1in100MCnt            [{'frequency': '1d', 'assets': ['1inch', 'aave...   \n",
       "AdrBal1in10BCnt             [{'frequency': '1d', 'assets': ['1inch', 'aave...   \n",
       "AdrBal1in10KCnt             [{'frequency': '1d', 'assets': ['1inch', 'aave...   \n",
       "...                                                                       ...   \n",
       "VelCur1yr                   [{'frequency': '1d', 'assets': ['1inch', 'aave...   \n",
       "VtyDayRet180d               [{'frequency': '1d', 'assets': ['1inch', 'aave...   \n",
       "VtyDayRet30d                [{'frequency': '1d', 'assets': ['1inch', 'aave...   \n",
       "principal_market_price_usd  [{'frequency': '1s', 'assets': ['1cat', '1inch...   \n",
       "principal_market_usd        [{'frequency': '1s', 'assets': ['1cat', '1inch...   \n",
       "\n",
       "                                                 display_name reviewable  \n",
       "fields                                                                    \n",
       "AdrActCnt                                     Active Addr Cnt        NaN  \n",
       "AdrBal1in100KCnt                 Addr Cnt with ≥ .001% Supply        NaN  \n",
       "AdrBal1in100MCnt              Addr Cnt with ≥ .000001% Supply        NaN  \n",
       "AdrBal1in10BCnt             Addr Cnt with ≥ .00000001% Supply        NaN  \n",
       "AdrBal1in10KCnt                   Addr Cnt with ≥ .01% Supply        NaN  \n",
       "...                                                       ...        ...  \n",
       "VelCur1yr                      1 Year Current Supply Velocity        NaN  \n",
       "VtyDayRet180d                              180 Day Volatility        NaN  \n",
       "VtyDayRet30d                                30 Day Volatility        NaN  \n",
       "principal_market_price_usd             Principal Market Price        NaN  \n",
       "principal_market_usd                         Principal Market        NaN  \n",
       "\n",
       "[154 rows x 10 columns]"
      ]
     },
     "execution_count": 23,
     "metadata": {},
     "output_type": "execute_result"
    }
   ],
   "source": [
    "cm.get_fields_info()"
   ]
  },
  {
   "cell_type": "code",
   "execution_count": 24,
   "id": "ca1d4fae-2227-4cae-a4ac-174b0a0ceb14",
   "metadata": {},
   "outputs": [],
   "source": [
    "# fields dict\n",
    "fields_dict = {}\n",
    "for field in cm_data_req['fields']:\n",
    "    if field in cm.fields.index:\n",
    "        df = cm.fields.loc[field]  # get fields metadata\n",
    "        # add to dict\n",
    "        fields_dict[field] = df[\"frequencies\"][0][\"assets\"]"
   ]
  },
  {
   "cell_type": "code",
   "execution_count": 26,
   "id": "a94e5537-e847-4f58-aabf-4604ee08d1fe",
   "metadata": {},
   "outputs": [],
   "source": [
    "# asset list\n",
    "asset_list = list(set.intersection(*(set(val) for val in fields_dict.values())))"
   ]
  },
  {
   "cell_type": "code",
   "execution_count": 27,
   "id": "191bf3dd-b766-40d9-8c52-900ac7233d44",
   "metadata": {},
   "outputs": [
    {
     "data": {
      "text/plain": [
       "['doge', 'dash', 'ltc', 'btg', 'bsv', 'vtc', 'etc', 'bch', 'zec', 'eth', 'btc']"
      ]
     },
     "execution_count": 27,
     "metadata": {},
     "output_type": "execute_result"
    }
   ],
   "source": [
    "asset_list"
   ]
  },
  {
   "cell_type": "code",
   "execution_count": 28,
   "id": "5acd527a-5113-411e-bc25-a3c33b24724a",
   "metadata": {},
   "outputs": [
    {
     "data": {
      "text/plain": [
       "['doge', 'dash', 'ltc', 'btg', 'bsv', 'vtc', 'etc', 'bch', 'zec', 'eth', 'btc']"
      ]
     },
     "execution_count": 28,
     "metadata": {},
     "output_type": "execute_result"
    }
   ],
   "source": [
    "cm.get_onchain_tickers_list(data_req)"
   ]
  },
  {
   "cell_type": "code",
   "execution_count": null,
   "id": "7f6309f8-690f-45ae-a41a-a9c5cc82f809",
   "metadata": {},
   "outputs": [],
   "source": []
  },
  {
   "cell_type": "code",
   "execution_count": null,
   "id": "53468fdc-5d37-4c48-acbd-f8bb25c7a1f9",
   "metadata": {},
   "outputs": [],
   "source": []
  },
  {
   "cell_type": "code",
   "execution_count": null,
   "id": "d117171b-f7b2-4369-a2cc-b451a5520dee",
   "metadata": {},
   "outputs": [],
   "source": []
  },
  {
   "cell_type": "code",
   "execution_count": null,
   "id": "d37dbda3-e270-445a-9880-515defc5bc89",
   "metadata": {},
   "outputs": [],
   "source": [
    "cm.get_onchain(data_req)"
   ]
  },
  {
   "cell_type": "code",
   "execution_count": null,
   "id": "43882b56-d405-42cd-b4bd-dc1b5b86c74d",
   "metadata": {},
   "outputs": [],
   "source": [
    "params = {\n",
    "    'assets': 'sol',\n",
    "    # 'metrics': ','.join(cm_fields),\n",
    "    'metrics': ['AdrActCnt'],\n",
    "    # 'frequency': cm_data_req['freq'],\n",
    "    # 'start_time': cm_data_req[\"start_date\"],\n",
    "    # 'end_time': cm_data_req[\"end_date\"],\n",
    "    'pretty': True,\n",
    "    'page_size': 10000,\n",
    "    'ignore_forbidden_errors': False,\n",
    "    'ignore_unsupported_errors': False\n",
    "}\n"
   ]
  },
  {
   "cell_type": "code",
   "execution_count": null,
   "id": "d82baeab-53eb-4e82-b0b6-937d2832de39",
   "metadata": {},
   "outputs": [],
   "source": [
    "test = cm.req_data(data_type='/timeseries/asset-metrics', params=params)"
   ]
  },
  {
   "cell_type": "code",
   "execution_count": null,
   "id": "4ec273ff-4c92-499f-be68-58f5efe6c083",
   "metadata": {},
   "outputs": [],
   "source": [
    "test"
   ]
  },
  {
   "cell_type": "code",
   "execution_count": null,
   "id": "d5819a1e-c516-485a-8ee2-8b47a8285cf2",
   "metadata": {},
   "outputs": [],
   "source": [
    "url = cm.base_url + '/timeseries/asset-metrics'"
   ]
  },
  {
   "cell_type": "code",
   "execution_count": null,
   "id": "1de1c783-03f3-46f2-85a5-b3ad15158994",
   "metadata": {},
   "outputs": [],
   "source": [
    "response = requests.get(url, params=params)"
   ]
  },
  {
   "cell_type": "code",
   "execution_count": null,
   "id": "ad3e9ecc-ab04-4c78-8348-a6fcef7c028d",
   "metadata": {},
   "outputs": [],
   "source": [
    "response.status_code"
   ]
  },
  {
   "cell_type": "code",
   "execution_count": null,
   "id": "bd2715bb-f41c-41ad-8d0b-f69f99f28413",
   "metadata": {},
   "outputs": [],
   "source": []
  },
  {
   "cell_type": "code",
   "execution_count": null,
   "id": "f98462f3-2165-49b7-913a-41b52e3a0a61",
   "metadata": {},
   "outputs": [],
   "source": []
  },
  {
   "cell_type": "code",
   "execution_count": null,
   "id": "a9d46f95-262d-4c78-9743-6c9a89546457",
   "metadata": {},
   "outputs": [],
   "source": [
    "test = cm.get_onchain(data_req)"
   ]
  },
  {
   "cell_type": "code",
   "execution_count": null,
   "id": "383a2d6b-8b09-492a-9d36-d022ae59e50a",
   "metadata": {},
   "outputs": [],
   "source": [
    "test"
   ]
  },
  {
   "cell_type": "code",
   "execution_count": null,
   "id": "f1277788-5678-47ac-94ec-77cabcdd42c1",
   "metadata": {},
   "outputs": [],
   "source": []
  },
  {
   "cell_type": "code",
   "execution_count": null,
   "id": "766a3491-bb09-47d7-8aa5-40cc3725de71",
   "metadata": {},
   "outputs": [],
   "source": []
  },
  {
   "cell_type": "code",
   "execution_count": null,
   "id": "565ab686-2df2-4b0f-8717-a72fe60192f4",
   "metadata": {},
   "outputs": [],
   "source": []
  },
  {
   "cell_type": "code",
   "execution_count": null,
   "id": "cfe69a68-899c-4369-9cc3-191025d74fde",
   "metadata": {},
   "outputs": [],
   "source": []
  },
  {
   "cell_type": "code",
   "execution_count": null,
   "id": "fbe2ff25-8f9c-48f2-a683-8f7254963b1c",
   "metadata": {},
   "outputs": [],
   "source": []
  },
  {
   "cell_type": "code",
   "execution_count": null,
   "id": "5e158ea0-b0e4-4be0-80d2-c0afc2bf650b",
   "metadata": {},
   "outputs": [],
   "source": []
  }
 ],
 "metadata": {
  "kernelspec": {
   "display_name": "Python [conda env:cryptodatapy]",
   "language": "python",
   "name": "conda-env-cryptodatapy-py"
  },
  "language_info": {
   "codemirror_mode": {
    "name": "ipython",
    "version": 3
   },
   "file_extension": ".py",
   "mimetype": "text/x-python",
   "name": "python",
   "nbconvert_exporter": "python",
   "pygments_lexer": "ipython3",
   "version": "3.9.12"
  }
 },
 "nbformat": 4,
 "nbformat_minor": 5
}
