{
 "cells": [
  {
   "cell_type": "code",
   "execution_count": null,
   "metadata": {},
   "outputs": [],
   "source": [
    "import datetime\n",
    "\n",
    "from obspy import UTCDateTime\n",
    "from tonik import Storage\n",
    "import numpy as np\n",
    "\n",
    "from zizou.autoencoder import AutoEncoder"
   ]
  },
  {
   "cell_type": "markdown",
   "metadata": {},
   "source": [
    "## What is an Auto-Encoder and why using one?"
   ]
  },
  {
   "cell_type": "markdown",
   "metadata": {},
   "source": [
    "## Train the Auto-Encoder"
   ]
  },
  {
   "cell_type": "code",
   "execution_count": null,
   "metadata": {},
   "outputs": [],
   "source": [
    "config = \"\"\"\n",
    "autoencoder: \n",
    "    layers: [2000,500,200,6]\n",
    "    epochs: 1\n",
    "    patience: 5\n",
    "\"\"\"\n",
    "model = AutoEncoder(config)"
   ]
  },
  {
   "cell_type": "code",
   "execution_count": null,
   "metadata": {},
   "outputs": [],
   "source": [
    "# -- Create the Feature Request\n",
    "starttime = datetime.datetime(2024, 5, 1)\n",
    "endtime = datetime.datetime(2024, 6, 1)\n",
    "sg = Storage('Whakaari', '/tmp/vumt/features',\n",
    "                  starttime=starttime, endtime=endtime)\n",
    "store = sg.get_substore('WIZ', '10', 'HHZ')\n",
    "\n",
    "# -- Train the Auto-Encoder and save the model (this might take a while)\n",
    "classifications = model.fit_transform(store)\n",
    "store.save(classifications)\n",
    "# model.save(feature_req.sitedir)\n",
    "print(store.path)"
   ]
  },
  {
   "cell_type": "code",
   "execution_count": null,
   "metadata": {},
   "outputs": [],
   "source": [
    "store('autoencoder').plot()"
   ]
  }
 ],
 "metadata": {
  "kernelspec": {
   "display_name": "vumt",
   "language": "python",
   "name": "python3"
  },
  "language_info": {
   "codemirror_mode": {
    "name": "ipython",
    "version": 3
   },
   "file_extension": ".py",
   "mimetype": "text/x-python",
   "name": "python",
   "nbconvert_exporter": "python",
   "pygments_lexer": "ipython3",
   "version": "3.9.19"
  }
 },
 "nbformat": 4,
 "nbformat_minor": 2
}
